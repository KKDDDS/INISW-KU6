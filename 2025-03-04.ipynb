{
 "cells": [
  {
   "cell_type": "code",
   "execution_count": 9,
   "id": "89d67e21-9b28-400e-a73b-a42b6c4c02ed",
   "metadata": {},
   "outputs": [],
   "source": [
    "a = 1"
   ]
  },
  {
   "cell_type": "code",
   "execution_count": 2,
   "id": "f3e89f99-fa01-47e9-b295-a3b307c1f537",
   "metadata": {},
   "outputs": [],
   "source": [
    "b = lambda t: t+1"
   ]
  },
  {
   "cell_type": "code",
   "execution_count": 3,
   "id": "52ad61e3-14e6-42fe-9c9a-7f05505af84e",
   "metadata": {},
   "outputs": [
    {
     "data": {
      "text/plain": [
       "'<lambda>'"
      ]
     },
     "execution_count": 3,
     "metadata": {},
     "output_type": "execute_result"
    }
   ],
   "source": [
    "b.__name__"
   ]
  },
  {
   "cell_type": "code",
   "execution_count": 4,
   "id": "1a9e163a-1246-468f-afe6-dfc5997f5242",
   "metadata": {},
   "outputs": [
    {
     "ename": "AttributeError",
     "evalue": "'int' object has no attribute '__name__'",
     "output_type": "error",
     "traceback": [
      "\u001b[1;31m---------------------------------------------------------------------------\u001b[0m",
      "\u001b[1;31mAttributeError\u001b[0m                            Traceback (most recent call last)",
      "Cell \u001b[1;32mIn[4], line 1\u001b[0m\n\u001b[1;32m----> 1\u001b[0m \u001b[43ma\u001b[49m\u001b[38;5;241;43m.\u001b[39;49m\u001b[38;5;18;43m__name__\u001b[39;49m\n",
      "\u001b[1;31mAttributeError\u001b[0m: 'int' object has no attribute '__name__'"
     ]
    }
   ],
   "source": [
    "a.__name__"
   ]
  },
  {
   "cell_type": "code",
   "execution_count": 10,
   "id": "6311e139-5a25-4fa1-9bd2-d179b7c03430",
   "metadata": {},
   "outputs": [
    {
     "data": {
      "text/plain": [
       "int"
      ]
     },
     "execution_count": 10,
     "metadata": {},
     "output_type": "execute_result"
    }
   ],
   "source": [
    "type(a)"
   ]
  },
  {
   "cell_type": "code",
   "execution_count": 5,
   "id": "bd426048-f6be-4925-8d38-d203056d04be",
   "metadata": {},
   "outputs": [
    {
     "name": "stdout",
     "output_type": "stream",
     "text": [
      "<function <lambda> at 0x00000276A0C0CB80>\n"
     ]
    }
   ],
   "source": [
    "print(b)"
   ]
  },
  {
   "cell_type": "code",
   "execution_count": 11,
   "id": "d4a19943-181d-48ec-a80e-fbf0e4c6fa58",
   "metadata": {},
   "outputs": [],
   "source": [
    "class A:\n",
    "  def x(this):\n",
    "    print('a')"
   ]
  },
  {
   "cell_type": "code",
   "execution_count": 12,
   "id": "7d8eddb5-764a-4436-8ca3-d43a1aef1c33",
   "metadata": {},
   "outputs": [
    {
     "name": "stdout",
     "output_type": "stream",
     "text": [
      "<class '__main__.A'>\n"
     ]
    }
   ],
   "source": [
    "print(A)"
   ]
  },
  {
   "cell_type": "code",
   "execution_count": 13,
   "id": "d4422cf9-4ab0-4719-a797-35ead0620dc0",
   "metadata": {},
   "outputs": [
    {
     "data": {
      "text/plain": [
       "<__main__.A at 0x2ef6a7fb1c0>"
      ]
     },
     "execution_count": 13,
     "metadata": {},
     "output_type": "execute_result"
    }
   ],
   "source": [
    "A()"
   ]
  },
  {
   "cell_type": "code",
   "execution_count": 15,
   "id": "b73bdf72-509d-49a0-be63-fc808f3903ca",
   "metadata": {},
   "outputs": [
    {
     "name": "stdout",
     "output_type": "stream",
     "text": [
      "a\n"
     ]
    }
   ],
   "source": [
    "A().x()"
   ]
  },
  {
   "cell_type": "code",
   "execution_count": 16,
   "id": "cfa7d735-4063-4fd9-89a9-e15f23a7ee14",
   "metadata": {},
   "outputs": [],
   "source": [
    "import sys"
   ]
  },
  {
   "cell_type": "code",
   "execution_count": 17,
   "id": "f79a1f53-eda4-4a51-b8d6-114961a87c75",
   "metadata": {},
   "outputs": [
    {
     "data": {
      "text/plain": [
       "9223372036854775807"
      ]
     },
     "execution_count": 17,
     "metadata": {},
     "output_type": "execute_result"
    }
   ],
   "source": [
    "sys.maxsize"
   ]
  },
  {
   "cell_type": "code",
   "execution_count": 18,
   "id": "872bbb10-62a4-4040-992e-9c5b3f887d35",
   "metadata": {},
   "outputs": [],
   "source": [
    "#아무리 큰 숫자가 들어와도 에러가 뜨지 않고, 자체적으로 메모리를 할당해 연산을 해결"
   ]
  },
  {
   "cell_type": "code",
   "execution_count": 19,
   "id": "e58d693c-d3d9-45ed-8320-ccc901f9ed5b",
   "metadata": {},
   "outputs": [],
   "source": [
    "b = 1."
   ]
  },
  {
   "cell_type": "code",
   "execution_count": 20,
   "id": "916c0132-eec2-4de3-96d2-5ded36b08239",
   "metadata": {},
   "outputs": [
    {
     "data": {
      "text/plain": [
       "float"
      ]
     },
     "execution_count": 20,
     "metadata": {},
     "output_type": "execute_result"
    }
   ],
   "source": [
    "type(b)"
   ]
  },
  {
   "cell_type": "code",
   "execution_count": 21,
   "id": "fae1441f-933d-4c2e-9640-9161fc6e748f",
   "metadata": {},
   "outputs": [
    {
     "data": {
      "text/plain": [
       "sys.float_info(max=1.7976931348623157e+308, max_exp=1024, max_10_exp=308, min=2.2250738585072014e-308, min_exp=-1021, min_10_exp=-307, dig=15, mant_dig=53, epsilon=2.220446049250313e-16, radix=2, rounds=1)"
      ]
     },
     "execution_count": 21,
     "metadata": {},
     "output_type": "execute_result"
    }
   ],
   "source": [
    "sys.float_info"
   ]
  },
  {
   "cell_type": "code",
   "execution_count": 24,
   "id": "5e6fa3cd-9635-4bdb-afcd-6be193377387",
   "metadata": {},
   "outputs": [],
   "source": [
    "ans = float('inf')"
   ]
  },
  {
   "cell_type": "code",
   "execution_count": 25,
   "id": "b9836330-387c-4c73-be35-0d6fadb52c37",
   "metadata": {},
   "outputs": [
    {
     "name": "stdout",
     "output_type": "stream",
     "text": [
      "inf\n"
     ]
    }
   ],
   "source": [
    "print(ans)"
   ]
  },
  {
   "cell_type": "code",
   "execution_count": 35,
   "id": "80901096-bcfb-4bbd-aaaa-52d3c7905e64",
   "metadata": {},
   "outputs": [
    {
     "data": {
      "text/plain": [
       "True"
      ]
     },
     "execution_count": 35,
     "metadata": {},
     "output_type": "execute_result"
    }
   ],
   "source": [
    "a == a+1"
   ]
  },
  {
   "cell_type": "code",
   "execution_count": 36,
   "id": "64bd648e-1776-489a-bb0a-54abb039d6fa",
   "metadata": {},
   "outputs": [],
   "source": [
    "a = 1000"
   ]
  },
  {
   "cell_type": "code",
   "execution_count": 37,
   "id": "7b54914e-4f0d-4c27-a5ff-bb823d6fa89e",
   "metadata": {},
   "outputs": [],
   "source": [
    "b = 1e3"
   ]
  },
  {
   "cell_type": "code",
   "execution_count": 38,
   "id": "7b05379c-f422-4936-8771-5f644327f239",
   "metadata": {},
   "outputs": [
    {
     "data": {
      "text/plain": [
       "1000.0"
      ]
     },
     "execution_count": 38,
     "metadata": {},
     "output_type": "execute_result"
    }
   ],
   "source": [
    "b"
   ]
  },
  {
   "cell_type": "code",
   "execution_count": 44,
   "id": "9d02c456-dd37-4f31-b353-f47573f8451f",
   "metadata": {},
   "outputs": [
    {
     "data": {
      "text/plain": [
       "0.30000000000000004"
      ]
     },
     "execution_count": 44,
     "metadata": {},
     "output_type": "execute_result"
    }
   ],
   "source": [
    "0.1 + 0.1 + 0.1"
   ]
  },
  {
   "cell_type": "code",
   "execution_count": 47,
   "id": "65e06ccd-1ffa-49cd-be72-0f626c7f4302",
   "metadata": {},
   "outputs": [],
   "source": [
    "#복소수\n",
    "a = 3 + 4j"
   ]
  },
  {
   "cell_type": "code",
   "execution_count": 48,
   "id": "5b3513e1-9ba6-40c5-889f-c0bd7ff3177a",
   "metadata": {},
   "outputs": [
    {
     "data": {
      "text/plain": [
       "complex"
      ]
     },
     "execution_count": 48,
     "metadata": {},
     "output_type": "execute_result"
    }
   ],
   "source": [
    "type(a)"
   ]
  },
  {
   "cell_type": "code",
   "execution_count": 50,
   "id": "60fec79a-a756-4e92-8328-e9091806f628",
   "metadata": {},
   "outputs": [],
   "source": [
    "# 참거짓\n",
    "a = True"
   ]
  },
  {
   "cell_type": "code",
   "execution_count": 51,
   "id": "dbf5fdcf-830e-4c79-9685-5c622f7dcc76",
   "metadata": {},
   "outputs": [
    {
     "data": {
      "text/plain": [
       "True"
      ]
     },
     "execution_count": 51,
     "metadata": {},
     "output_type": "execute_result"
    }
   ],
   "source": [
    "a"
   ]
  },
  {
   "cell_type": "code",
   "execution_count": 52,
   "id": "7a806241-fe09-4f7d-855f-9dcf3cd0e84a",
   "metadata": {},
   "outputs": [
    {
     "data": {
      "text/plain": [
       "bool"
      ]
     },
     "execution_count": 52,
     "metadata": {},
     "output_type": "execute_result"
    }
   ],
   "source": [
    "type(a)"
   ]
  },
  {
   "cell_type": "code",
   "execution_count": 55,
   "id": "71b893fa-eb1a-49c0-af11-cf01fa2ced6c",
   "metadata": {},
   "outputs": [
    {
     "name": "stdout",
     "output_type": "stream",
     "text": [
      "The Zen of Python, by Tim Peters\n",
      "\n",
      "Beautiful is better than ugly.\n",
      "Explicit is better than implicit.\n",
      "Simple is better than complex.\n",
      "Complex is better than complicated.\n",
      "Flat is better than nested.\n",
      "Sparse is better than dense.\n",
      "Readability counts.\n",
      "Special cases aren't special enough to break the rules.\n",
      "Although practicality beats purity.\n",
      "Errors should never pass silently.\n",
      "Unless explicitly silenced.\n",
      "In the face of ambiguity, refuse the temptation to guess.\n",
      "There should be one-- and preferably only one --obvious way to do it.\n",
      "Although that way may not be obvious at first unless you're Dutch.\n",
      "Now is better than never.\n",
      "Although never is often better than *right* now.\n",
      "If the implementation is hard to explain, it's a bad idea.\n",
      "If the implementation is easy to explain, it may be a good idea.\n",
      "Namespaces are one honking great idea -- let's do more of those!\n"
     ]
    }
   ],
   "source": [
    "import this"
   ]
  },
  {
   "cell_type": "code",
   "execution_count": 56,
   "id": "88bcf803-5af8-4d0b-b261-3a1de34d6829",
   "metadata": {},
   "outputs": [
    {
     "data": {
      "text/plain": [
       "100000"
      ]
     },
     "execution_count": 56,
     "metadata": {},
     "output_type": "execute_result"
    }
   ],
   "source": [
    "100_000"
   ]
  },
  {
   "cell_type": "code",
   "execution_count": 57,
   "id": "4eab2cf9-eccd-42a7-94bb-08bb55c22286",
   "metadata": {},
   "outputs": [
    {
     "data": {
      "text/plain": [
       "100000"
      ]
     },
     "execution_count": 57,
     "metadata": {},
     "output_type": "execute_result"
    }
   ],
   "source": [
    "1000_00"
   ]
  },
  {
   "cell_type": "code",
   "execution_count": 60,
   "id": "77d7d21b-f832-4f3e-a92d-241580ff2552",
   "metadata": {},
   "outputs": [],
   "source": [
    "#쪼갤 수 있는 단위: container -> len"
   ]
  },
  {
   "cell_type": "code",
   "execution_count": 61,
   "id": "f2cc727b-a0b2-418a-afa8-9428245d41e2",
   "metadata": {},
   "outputs": [],
   "source": [
    "import tensorflow as tf"
   ]
  },
  {
   "cell_type": "code",
   "execution_count": 64,
   "id": "b8e894c1-3611-4a34-86bf-446ce3c95af2",
   "metadata": {},
   "outputs": [],
   "source": [
    "b = tf.constant([1,2,3.])"
   ]
  },
  {
   "cell_type": "code",
   "execution_count": 65,
   "id": "ac753e3b-9189-430b-aa74-6b2a33941c4b",
   "metadata": {},
   "outputs": [
    {
     "data": {
      "text/plain": [
       "<tf.Tensor: shape=(3,), dtype=float32, numpy=array([1., 2., 3.], dtype=float32)>"
      ]
     },
     "execution_count": 65,
     "metadata": {},
     "output_type": "execute_result"
    }
   ],
   "source": [
    "b"
   ]
  },
  {
   "cell_type": "code",
   "execution_count": 66,
   "id": "c8790141-14b4-4134-a6f9-13848b21e478",
   "metadata": {},
   "outputs": [],
   "source": [
    "a = '문근영'"
   ]
  },
  {
   "cell_type": "code",
   "execution_count": 67,
   "id": "78d99368-8f45-4fbf-84dd-ea083482f0c7",
   "metadata": {},
   "outputs": [
    {
     "data": {
      "text/plain": [
       "str"
      ]
     },
     "execution_count": 67,
     "metadata": {},
     "output_type": "execute_result"
    }
   ],
   "source": [
    "type(a)"
   ]
  },
  {
   "cell_type": "code",
   "execution_count": 73,
   "id": "4c23c5d5-b13d-4fe5-a168-5499ad945e5d",
   "metadata": {},
   "outputs": [],
   "source": [
    "b = b'a'"
   ]
  },
  {
   "cell_type": "code",
   "execution_count": 75,
   "id": "f74b1ee8-0d57-4a8d-a190-219e2870440c",
   "metadata": {},
   "outputs": [],
   "source": [
    "c = bytearray(b'abc')"
   ]
  },
  {
   "cell_type": "code",
   "execution_count": 76,
   "id": "ada5ea2d-53d0-4cae-a887-150c13fc5371",
   "metadata": {},
   "outputs": [
    {
     "name": "stdout",
     "output_type": "stream",
     "text": [
      "bytearray(b'abc')\n"
     ]
    }
   ],
   "source": [
    "print(c)"
   ]
  },
  {
   "cell_type": "code",
   "execution_count": 77,
   "id": "b78b4033-a00a-4dc4-9f8b-264ec7edbb13",
   "metadata": {},
   "outputs": [
    {
     "data": {
      "text/plain": [
       "memoryview"
      ]
     },
     "execution_count": 77,
     "metadata": {},
     "output_type": "execute_result"
    }
   ],
   "source": [
    "memoryview"
   ]
  },
  {
   "cell_type": "code",
   "execution_count": 80,
   "id": "a5b7253e-ae6c-4ac9-8088-4b72089ec600",
   "metadata": {},
   "outputs": [
    {
     "data": {
      "text/plain": [
       "2.1"
      ]
     },
     "execution_count": 80,
     "metadata": {},
     "output_type": "execute_result"
    }
   ],
   "source": [
    "1+ 1.1\n",
    "#내부적으로 coercion이 제공돼 타입을 자동 변환해준다."
   ]
  },
  {
   "cell_type": "code",
   "execution_count": 82,
   "id": "7c6a7e0e-313e-4a7f-8948-326f36329db6",
   "metadata": {},
   "outputs": [
    {
     "data": {
      "text/plain": [
       "(1, 2, 9)"
      ]
     },
     "execution_count": 82,
     "metadata": {},
     "output_type": "execute_result"
    }
   ],
   "source": [
    "1,2,3*3\n",
    "#연산자 우선순위로 곱하기가 먼저 됨"
   ]
  },
  {
   "cell_type": "code",
   "execution_count": 83,
   "id": "a33ad514-8264-4d9b-819f-23848011a6c7",
   "metadata": {},
   "outputs": [
    {
     "name": "stdout",
     "output_type": "stream",
     "text": [
      "1\n",
      "2\n",
      "3\n",
      "4\n"
     ]
    }
   ],
   "source": [
    "for i in 1,2,3,4:\n",
    "    print(i)"
   ]
  },
  {
   "cell_type": "code",
   "execution_count": 84,
   "id": "2e6a8cd9-60cc-49e5-9a2e-5e71a96c2861",
   "metadata": {},
   "outputs": [],
   "source": [
    "a = b = 1"
   ]
  },
  {
   "cell_type": "code",
   "execution_count": 94,
   "id": "4df766e1-e771-46bf-8b64-1b64d0645be5",
   "metadata": {},
   "outputs": [],
   "source": [
    "a = b = [1,2,3,4]"
   ]
  },
  {
   "cell_type": "code",
   "execution_count": 95,
   "id": "fd5e615f-0e65-4d2b-b00a-1a7ab4337705",
   "metadata": {},
   "outputs": [],
   "source": [
    "a.append(4)"
   ]
  },
  {
   "cell_type": "code",
   "execution_count": 96,
   "id": "9dcbcd60-f05b-4aae-b445-4e0b509637b9",
   "metadata": {},
   "outputs": [
    {
     "data": {
      "text/plain": [
       "[1, 2, 3, 4, 4]"
      ]
     },
     "execution_count": 96,
     "metadata": {},
     "output_type": "execute_result"
    }
   ],
   "source": [
    "b"
   ]
  },
  {
   "cell_type": "code",
   "execution_count": 98,
   "id": "149e4222-883b-45a3-a657-616d58bec6e8",
   "metadata": {},
   "outputs": [],
   "source": [
    "a, b= 1, 2\n",
    "#1, 2 는 튜플로 바뀌기 떄문에"
   ]
  },
  {
   "cell_type": "code",
   "execution_count": 100,
   "id": "cc2b4be4-15bc-4a8c-830f-f455e04ae48c",
   "metadata": {},
   "outputs": [
    {
     "ename": "ValueError",
     "evalue": "too many values to unpack (expected 3)",
     "output_type": "error",
     "traceback": [
      "\u001b[1;31m---------------------------------------------------------------------------\u001b[0m",
      "\u001b[1;31mValueError\u001b[0m                                Traceback (most recent call last)",
      "Cell \u001b[1;32mIn[100], line 2\u001b[0m\n\u001b[0;32m      1\u001b[0m \u001b[38;5;66;03m#언팩\u001b[39;00m\n\u001b[1;32m----> 2\u001b[0m a, b, c \u001b[38;5;241m=\u001b[39m \u001b[38;5;241m1\u001b[39m, \u001b[38;5;241m2\u001b[39m, \u001b[38;5;241m3\u001b[39m, \u001b[38;5;241m4\u001b[39m\n",
      "\u001b[1;31mValueError\u001b[0m: too many values to unpack (expected 3)"
     ]
    }
   ],
   "source": [
    "#언팩\n",
    "a, b, c = 1, 2, 3, 4"
   ]
  },
  {
   "cell_type": "code",
   "execution_count": 101,
   "id": "cdb6f19d-349f-4589-8003-5cc4b11bbbcc",
   "metadata": {},
   "outputs": [],
   "source": [
    "a, b, *c = 1, 2, 3, 4"
   ]
  },
  {
   "cell_type": "code",
   "execution_count": 102,
   "id": "d383b86d-ca8e-4f63-a9b7-279ce52777b0",
   "metadata": {},
   "outputs": [
    {
     "data": {
      "text/plain": [
       "[3, 4]"
      ]
     },
     "execution_count": 102,
     "metadata": {},
     "output_type": "execute_result"
    }
   ],
   "source": [
    "c\n",
    "#*는 나머지를 다 가짐"
   ]
  },
  {
   "cell_type": "code",
   "execution_count": 108,
   "id": "3f57940c-2b1c-415a-b50e-178c929d039e",
   "metadata": {},
   "outputs": [],
   "source": [
    "#순서를 정의한대로 그대로 들어감\n",
    "a = {'b':1, 'a':3, 'b':7}"
   ]
  },
  {
   "cell_type": "code",
   "execution_count": 109,
   "id": "0628a851-4319-46c2-b8a8-46de70ed5367",
   "metadata": {},
   "outputs": [
    {
     "data": {
      "text/plain": [
       "{'b': 7, 'a': 3}"
      ]
     },
     "execution_count": 109,
     "metadata": {},
     "output_type": "execute_result"
    }
   ],
   "source": [
    "a"
   ]
  },
  {
   "cell_type": "code",
   "execution_count": 110,
   "id": "0e41dba1-5823-4ad9-a332-53ec7a6061a6",
   "metadata": {},
   "outputs": [
    {
     "data": {
      "text/plain": [
       "dict_keys(['b', 'a'])"
      ]
     },
     "execution_count": 110,
     "metadata": {},
     "output_type": "execute_result"
    }
   ],
   "source": [
    "a.keys()"
   ]
  },
  {
   "cell_type": "code",
   "execution_count": 111,
   "id": "cb44a82a-a107-468b-a439-dee00be8e443",
   "metadata": {},
   "outputs": [
    {
     "data": {
      "text/plain": [
       "dict_values([7, 3])"
      ]
     },
     "execution_count": 111,
     "metadata": {},
     "output_type": "execute_result"
    }
   ],
   "source": [
    "a.values()"
   ]
  },
  {
   "cell_type": "code",
   "execution_count": 113,
   "id": "34553dda-8809-4643-ae2a-ba65ae8f1aef",
   "metadata": {},
   "outputs": [],
   "source": [
    "a = 1\n",
    "b = 2"
   ]
  },
  {
   "cell_type": "code",
   "execution_count": 118,
   "id": "79704a98-313b-437d-ac78-71c1a711ecc6",
   "metadata": {},
   "outputs": [],
   "source": [
    "a = 1,2,3\n",
    "b = 2,3"
   ]
  },
  {
   "cell_type": "code",
   "execution_count": 119,
   "id": "85a3b206-e467-4409-818b-ea37b79d7c20",
   "metadata": {},
   "outputs": [
    {
     "data": {
      "text/plain": [
       "False"
      ]
     },
     "execution_count": 119,
     "metadata": {},
     "output_type": "execute_result"
    }
   ],
   "source": [
    "a > b"
   ]
  },
  {
   "cell_type": "code",
   "execution_count": 120,
   "id": "62d84d78-c048-49dd-9aa2-cc4f5a0970e0",
   "metadata": {},
   "outputs": [
    {
     "data": {
      "text/plain": [
       "True"
      ]
     },
     "execution_count": 120,
     "metadata": {},
     "output_type": "execute_result"
    }
   ],
   "source": [
    "'a'>'Aa'"
   ]
  },
  {
   "cell_type": "code",
   "execution_count": 124,
   "id": "94514934-64df-42ff-95e1-be93bada709f",
   "metadata": {},
   "outputs": [
    {
     "name": "stdout",
     "output_type": "stream",
     "text": [
      "a\n"
     ]
    }
   ],
   "source": [
    "if [1, 2,]:\n",
    "    print('a')\n",
    "else:\n",
    "    print('b')"
   ]
  },
  {
   "cell_type": "code",
   "execution_count": 126,
   "id": "a7744191-c302-405d-bb3f-e99ce5318e68",
   "metadata": {},
   "outputs": [
    {
     "data": {
      "text/plain": [
       "0"
      ]
     },
     "execution_count": 126,
     "metadata": {},
     "output_type": "execute_result"
    }
   ],
   "source": [
    "int()"
   ]
  },
  {
   "cell_type": "code",
   "execution_count": 127,
   "id": "1162adf1-3eaf-41ec-a2ac-272d900a9ef9",
   "metadata": {},
   "outputs": [],
   "source": [
    "a = list()"
   ]
  },
  {
   "cell_type": "code",
   "execution_count": 129,
   "id": "90229115-095c-41d2-a7f9-a6ccc70bf2b6",
   "metadata": {},
   "outputs": [
    {
     "name": "stdout",
     "output_type": "stream",
     "text": [
      "b\n"
     ]
    }
   ],
   "source": [
    "if a:\n",
    "    print('a')\n",
    "else:\n",
    "    print('b')"
   ]
  },
  {
   "cell_type": "code",
   "execution_count": 132,
   "id": "61c2fb4f-71d0-4c99-b448-61d188ca5c45",
   "metadata": {},
   "outputs": [
    {
     "name": "stdout",
     "output_type": "stream",
     "text": [
      "5\n"
     ]
    }
   ],
   "source": [
    "b = 3 if a else 5\n",
    "print(b)"
   ]
  },
  {
   "cell_type": "code",
   "execution_count": 134,
   "id": "4bda2100-5fe1-4267-a1c9-2d93082135b8",
   "metadata": {},
   "outputs": [],
   "source": [
    "# EAFP 예외를 처리해라 (python은 연산량이 많기 떄문)\n",
    "# 에러를 발생시켜 무한루프 발생 제지"
   ]
  },
  {
   "cell_type": "code",
   "execution_count": 135,
   "id": "91f63141-8ce2-410d-a8f7-5f7b0b1b6832",
   "metadata": {},
   "outputs": [],
   "source": [
    "a = 3\n",
    "assert a == 3"
   ]
  },
  {
   "cell_type": "code",
   "execution_count": 139,
   "id": "508c1a8b-a824-485c-8574-fde8b8151670",
   "metadata": {},
   "outputs": [
    {
     "ename": "AssertionError",
     "evalue": "error",
     "output_type": "error",
     "traceback": [
      "\u001b[1;31m---------------------------------------------------------------------------\u001b[0m",
      "\u001b[1;31mAssertionError\u001b[0m                            Traceback (most recent call last)",
      "Cell \u001b[1;32mIn[139], line 1\u001b[0m\n\u001b[1;32m----> 1\u001b[0m \u001b[38;5;28;01massert\u001b[39;00m a \u001b[38;5;241m==\u001b[39m \u001b[38;5;241m4\u001b[39m, \u001b[38;5;124m'\u001b[39m\u001b[38;5;124merror\u001b[39m\u001b[38;5;124m'\u001b[39m\n",
      "\u001b[1;31mAssertionError\u001b[0m: error"
     ]
    }
   ],
   "source": [
    "assert a == 4, 'error'"
   ]
  },
  {
   "cell_type": "code",
   "execution_count": 144,
   "id": "7404f870-f867-4b66-8b5d-43b7861129b8",
   "metadata": {},
   "outputs": [
    {
     "ename": "Exception",
     "evalue": "",
     "output_type": "error",
     "traceback": [
      "\u001b[1;31m---------------------------------------------------------------------------\u001b[0m",
      "\u001b[1;31mException\u001b[0m                                 Traceback (most recent call last)",
      "Cell \u001b[1;32mIn[144], line 1\u001b[0m\n\u001b[1;32m----> 1\u001b[0m \u001b[38;5;28;01mraise\u001b[39;00m(\u001b[38;5;167;01mException\u001b[39;00m)\n",
      "\u001b[1;31mException\u001b[0m: "
     ]
    }
   ],
   "source": [
    "raise(Exception)"
   ]
  },
  {
   "cell_type": "code",
   "execution_count": 148,
   "id": "7fa018fe-c09a-4b05-8aa4-90c8746ac397",
   "metadata": {},
   "outputs": [
    {
     "name": "stdout",
     "output_type": "stream",
     "text": [
      "1\n",
      "2\n",
      "3\n"
     ]
    }
   ],
   "source": [
    "for i in 1,2,3:\n",
    "    print(i)\n",
    "    if i==3:\n",
    "        break\n",
    "else: #반복이 완벽이 돌았다는 것을 확인해줌\n",
    "    print('abc')"
   ]
  },
  {
   "cell_type": "code",
   "execution_count": 154,
   "id": "bef29fcc-a9f0-4e46-a3fc-41738392daaf",
   "metadata": {},
   "outputs": [
    {
     "name": "stdout",
     "output_type": "stream",
     "text": [
      "b\n"
     ]
    }
   ],
   "source": [
    "try:\n",
    "    1/2 #1/0 시 a 출력\n",
    "except:\n",
    "    print('a')\n",
    "else:\n",
    "    print('b')"
   ]
  },
  {
   "cell_type": "code",
   "execution_count": 155,
   "id": "42c9efef-84e2-40d2-a7cf-f5ba8ffa8087",
   "metadata": {},
   "outputs": [
    {
     "name": "stdout",
     "output_type": "stream",
     "text": [
      "b\n",
      "c\n"
     ]
    }
   ],
   "source": [
    "try:\n",
    "    1/2 #1/0 시 a 출력\n",
    "except:\n",
    "    print('a')\n",
    "else:\n",
    "    print('b')\n",
    "finally:\n",
    "    print('c')"
   ]
  },
  {
   "cell_type": "code",
   "execution_count": null,
   "id": "5d132f28-71cd-4c5c-93d8-2e65173eee8e",
   "metadata": {},
   "outputs": [],
   "source": []
  }
 ],
 "metadata": {
  "kernelspec": {
   "display_name": "Python 3 (ipykernel)",
   "language": "python",
   "name": "python3"
  },
  "language_info": {
   "codemirror_mode": {
    "name": "ipython",
    "version": 3
   },
   "file_extension": ".py",
   "mimetype": "text/x-python",
   "name": "python",
   "nbconvert_exporter": "python",
   "pygments_lexer": "ipython3",
   "version": "3.10.4"
  }
 },
 "nbformat": 4,
 "nbformat_minor": 5
}
