{
 "cells": [
  {
   "cell_type": "code",
   "execution_count": 1,
   "id": "0fa264ab-ab0e-4dc6-9615-ed9e333b032c",
   "metadata": {},
   "outputs": [
    {
     "name": "stdout",
     "output_type": "stream",
     "text": [
      "a\n"
     ]
    }
   ],
   "source": [
    "a = 1\n",
    "if a:\n",
    "    print('a')"
   ]
  },
  {
   "cell_type": "code",
   "execution_count": 13,
   "id": "f232019e-8541-4036-a7fa-2307334b8522",
   "metadata": {},
   "outputs": [
    {
     "data": {
      "text/plain": [
       "2"
      ]
     },
     "execution_count": 13,
     "metadata": {},
     "output_type": "execute_result"
    }
   ],
   "source": [
    "#colon이 없으니 simple statement\n",
    "#식=값=object\n",
    "#oop: 객체 지향 프로그래밍\n",
    "a = 1\n",
    "a = b = 1\n",
    "a, b = 1, 2\n",
    "a, *b = 1,2,3\n",
    "a += 1\n",
    "++a"
   ]
  },
  {
   "cell_type": "code",
   "execution_count": 14,
   "id": "9ddb01ca-2697-43c2-85bb-415b1fa74102",
   "metadata": {},
   "outputs": [
    {
     "data": {
      "text/plain": [
       "2"
      ]
     },
     "execution_count": 14,
     "metadata": {},
     "output_type": "execute_result"
    }
   ],
   "source": [
    "--a"
   ]
  },
  {
   "cell_type": "code",
   "execution_count": 15,
   "id": "ddb49d77-cc1a-4eba-8da8-783886ca8612",
   "metadata": {},
   "outputs": [
    {
     "data": {
      "text/plain": [
       "-2"
      ]
     },
     "execution_count": 15,
     "metadata": {},
     "output_type": "execute_result"
    }
   ],
   "source": [
    "+-a"
   ]
  },
  {
   "cell_type": "code",
   "execution_count": 16,
   "id": "0b613571-fbea-46d1-80e1-db0b0d046501",
   "metadata": {},
   "outputs": [],
   "source": [
    "# 연산자의 기능을 바꿔줌: Operator overloading"
   ]
  },
  {
   "cell_type": "code",
   "execution_count": 17,
   "id": "433333fa-d9f3-4b92-a861-13baa5c502d5",
   "metadata": {},
   "outputs": [],
   "source": [
    "import tensorflow as tf"
   ]
  },
  {
   "cell_type": "code",
   "execution_count": 18,
   "id": "043613ac-82b6-4b0a-8e9d-9c00eef94199",
   "metadata": {},
   "outputs": [],
   "source": [
    "a = tf.constant([1,2,3])\n",
    "b = tf.constant([1,2,3])"
   ]
  },
  {
   "cell_type": "code",
   "execution_count": 19,
   "id": "9dd45640-0c02-42ad-8030-4438e0182487",
   "metadata": {},
   "outputs": [
    {
     "data": {
      "text/plain": [
       "<tf.Tensor: shape=(), dtype=int32, numpy=1>"
      ]
     },
     "execution_count": 19,
     "metadata": {},
     "output_type": "execute_result"
    }
   ],
   "source": [
    "a[0]"
   ]
  },
  {
   "cell_type": "code",
   "execution_count": 22,
   "id": "033c88b4-fdd7-4aa6-b7ac-a63e37a7e6df",
   "metadata": {},
   "outputs": [
    {
     "data": {
      "text/plain": [
       "<tf.Tensor: shape=(3,), dtype=int32, numpy=array([2, 4, 6])>"
      ]
     },
     "execution_count": 22,
     "metadata": {},
     "output_type": "execute_result"
    }
   ],
   "source": [
    "# Operator overloading\n",
    "a+b"
   ]
  },
  {
   "cell_type": "code",
   "execution_count": 20,
   "id": "68160398-e93d-4dab-ac68-c18fb63aa9a8",
   "metadata": {},
   "outputs": [
    {
     "data": {
      "text/plain": [
       "[1, 2, 3, 1, 2, 3]"
      ]
     },
     "execution_count": 20,
     "metadata": {},
     "output_type": "execute_result"
    }
   ],
   "source": [
    "[1,2,3]+[1,2,3]"
   ]
  },
  {
   "cell_type": "code",
   "execution_count": 23,
   "id": "1436389f-b908-48d1-97c1-c92c80e95674",
   "metadata": {},
   "outputs": [
    {
     "name": "stdout",
     "output_type": "stream",
     "text": [
      "b\n"
     ]
    }
   ],
   "source": [
    "# 값이 없음\n",
    "a = None\n",
    "if a:\n",
    "    print('a')\n",
    "else:\n",
    "    print('b')"
   ]
  },
  {
   "cell_type": "code",
   "execution_count": 25,
   "id": "f9be554f-a3e6-4cdb-bdf6-f924996f5d4a",
   "metadata": {},
   "outputs": [
    {
     "data": {
      "text/plain": [
       "'b'"
      ]
     },
     "execution_count": 25,
     "metadata": {},
     "output_type": "execute_result"
    }
   ],
   "source": [
    "'a' if a else 'b'"
   ]
  },
  {
   "cell_type": "code",
   "execution_count": 26,
   "id": "215a6201-86ec-468b-b56d-60c8b40cc72f",
   "metadata": {},
   "outputs": [
    {
     "name": "stdout",
     "output_type": "stream",
     "text": [
      "b\n"
     ]
    }
   ],
   "source": [
    "x = print('a') if a else print('b')"
   ]
  },
  {
   "cell_type": "code",
   "execution_count": 27,
   "id": "527c037f-e285-4829-a98a-1a9e5fd0b19b",
   "metadata": {},
   "outputs": [],
   "source": [
    "x"
   ]
  },
  {
   "cell_type": "markdown",
   "id": "2aa2c1ec-827a-4175-b566-5f3e59df554a",
   "metadata": {},
   "source": [
    "# 함수"
   ]
  },
  {
   "cell_type": "code",
   "execution_count": 35,
   "id": "9285c3c9-6cd2-46c3-9e53-170aaee19a29",
   "metadata": {},
   "outputs": [],
   "source": [
    "def x():\n",
    "    print('a')"
   ]
  },
  {
   "cell_type": "code",
   "execution_count": 36,
   "id": "bd4b3669-7660-4f4e-a3da-8c99120499fa",
   "metadata": {},
   "outputs": [
    {
     "data": {
      "text/plain": [
       "<function __main__.x()>"
      ]
     },
     "execution_count": 36,
     "metadata": {},
     "output_type": "execute_result"
    }
   ],
   "source": [
    "x"
   ]
  },
  {
   "cell_type": "code",
   "execution_count": 29,
   "id": "b8f2c4e4-cb53-4b91-ba10-34b200160253",
   "metadata": {},
   "outputs": [],
   "source": [
    "x = 3"
   ]
  },
  {
   "cell_type": "code",
   "execution_count": 31,
   "id": "1761ed80-02ac-4780-9aa3-a111c5b3395a",
   "metadata": {},
   "outputs": [
    {
     "data": {
      "text/plain": [
       "3"
      ]
     },
     "execution_count": 31,
     "metadata": {},
     "output_type": "execute_result"
    }
   ],
   "source": [
    "# x는 함수가 아니고 변수로 설정\n",
    "x"
   ]
  },
  {
   "cell_type": "code",
   "execution_count": 32,
   "id": "08ec4118-f490-40b1-a231-64b7fc9145e6",
   "metadata": {},
   "outputs": [],
   "source": [
    "print = 3"
   ]
  },
  {
   "cell_type": "code",
   "execution_count": 33,
   "id": "3db83ea4-8db6-492d-b55c-cc648f66c0d5",
   "metadata": {},
   "outputs": [
    {
     "data": {
      "text/plain": [
       "3"
      ]
     },
     "execution_count": 33,
     "metadata": {},
     "output_type": "execute_result"
    }
   ],
   "source": [
    "print"
   ]
  },
  {
   "cell_type": "code",
   "execution_count": 37,
   "id": "74f84322-ecca-445b-96cb-2b049e3711a0",
   "metadata": {},
   "outputs": [],
   "source": [
    "del print"
   ]
  },
  {
   "cell_type": "code",
   "execution_count": 38,
   "id": "c6806c29-cd05-4faf-9d36-27c25a6982b6",
   "metadata": {},
   "outputs": [],
   "source": [
    "def sun(x): #x: parameter\n",
    "    print(x)"
   ]
  },
  {
   "cell_type": "code",
   "execution_count": 41,
   "id": "fedb4534-8d48-437b-b7ee-f84ef6705819",
   "metadata": {},
   "outputs": [
    {
     "name": "stdout",
     "output_type": "stream",
     "text": [
      "3\n"
     ]
    }
   ],
   "source": [
    "sun(3) #call, call할때 집어넣는 변수:argument"
   ]
  },
  {
   "cell_type": "code",
   "execution_count": 42,
   "id": "8316a8f4-729d-4b5d-80d6-6dc84e2b7d62",
   "metadata": {},
   "outputs": [
    {
     "data": {
      "text/plain": [
       "<function __main__.sun(x)>"
      ]
     },
     "execution_count": 42,
     "metadata": {},
     "output_type": "execute_result"
    }
   ],
   "source": [
    "sun"
   ]
  },
  {
   "cell_type": "code",
   "execution_count": 61,
   "id": "22a7541e-67df-4207-ac42-40418144c6f4",
   "metadata": {},
   "outputs": [],
   "source": [
    "def moon1(a, /, b):\n",
    "    print(a+b)"
   ]
  },
  {
   "cell_type": "code",
   "execution_count": 62,
   "id": "cd693e24-5c5d-491e-b50c-fc405d336964",
   "metadata": {},
   "outputs": [
    {
     "name": "stdout",
     "output_type": "stream",
     "text": [
      "7\n"
     ]
    }
   ],
   "source": [
    "moon1(3,4)"
   ]
  },
  {
   "cell_type": "code",
   "execution_count": 65,
   "id": "a04df68d-b132-40c9-9697-2edc322db5d7",
   "metadata": {},
   "outputs": [
    {
     "ename": "TypeError",
     "evalue": "moon1() got some positional-only arguments passed as keyword arguments: 'a'",
     "output_type": "error",
     "traceback": [
      "\u001b[1;31m---------------------------------------------------------------------------\u001b[0m",
      "\u001b[1;31mTypeError\u001b[0m                                 Traceback (most recent call last)",
      "Cell \u001b[1;32mIn[65], line 2\u001b[0m\n\u001b[0;32m      1\u001b[0m \u001b[38;5;66;03m#슬래시 앞은 무조건 포지셔널 방식만을 써야함.\u001b[39;00m\n\u001b[1;32m----> 2\u001b[0m \u001b[43mmoon1\u001b[49m\u001b[43m(\u001b[49m\u001b[38;5;241;43m3\u001b[39;49m\u001b[43m,\u001b[49m\u001b[43m \u001b[49m\u001b[43ma\u001b[49m\u001b[38;5;241;43m=\u001b[39;49m\u001b[38;5;241;43m4\u001b[39;49m\u001b[43m)\u001b[49m\n",
      "\u001b[1;31mTypeError\u001b[0m: moon1() got some positional-only arguments passed as keyword arguments: 'a'"
     ]
    }
   ],
   "source": [
    "#슬래시 앞은 무조건 포지셔널 방식만을 써야함.\n",
    "moon1(3, a=4)"
   ]
  },
  {
   "cell_type": "code",
   "execution_count": 64,
   "id": "75ef048c-6984-48b8-b839-d1151f58374d",
   "metadata": {},
   "outputs": [
    {
     "name": "stdout",
     "output_type": "stream",
     "text": [
      "7\n"
     ]
    }
   ],
   "source": [
    "moon1(3,b=4)"
   ]
  },
  {
   "cell_type": "code",
   "execution_count": 67,
   "id": "2bf26eb4-79e0-4bbd-93fd-bb8639bbf0de",
   "metadata": {},
   "outputs": [
    {
     "data": {
      "text/plain": [
       "3"
      ]
     },
     "execution_count": 67,
     "metadata": {},
     "output_type": "execute_result"
    }
   ],
   "source": [
    "#len(obj, /)\n",
    "len([1,2,3])"
   ]
  },
  {
   "cell_type": "code",
   "execution_count": 68,
   "id": "2c26f08e-8e1c-48d5-8a04-f1bbb2ff7654",
   "metadata": {},
   "outputs": [],
   "source": [
    "def moon2(a, *, b):\n",
    "    print(a+b)"
   ]
  },
  {
   "cell_type": "code",
   "execution_count": 71,
   "id": "105c25ad-5a73-417c-a3db-f63f8fb3e50d",
   "metadata": {},
   "outputs": [
    {
     "ename": "TypeError",
     "evalue": "moon2() takes 1 positional argument but 2 were given",
     "output_type": "error",
     "traceback": [
      "\u001b[1;31m---------------------------------------------------------------------------\u001b[0m",
      "\u001b[1;31mTypeError\u001b[0m                                 Traceback (most recent call last)",
      "Cell \u001b[1;32mIn[71], line 2\u001b[0m\n\u001b[0;32m      1\u001b[0m \u001b[38;5;66;03m# * 뒤에는 무조건 키워드 방식만을 써야함\u001b[39;00m\n\u001b[1;32m----> 2\u001b[0m \u001b[43mmoon2\u001b[49m\u001b[43m(\u001b[49m\u001b[38;5;241;43m3\u001b[39;49m\u001b[43m,\u001b[49m\u001b[38;5;241;43m4\u001b[39;49m\u001b[43m)\u001b[49m\n",
      "\u001b[1;31mTypeError\u001b[0m: moon2() takes 1 positional argument but 2 were given"
     ]
    }
   ],
   "source": [
    "# * 뒤에는 무조건 키워드 방식만을 써야함\n",
    "moon2(3,4)"
   ]
  },
  {
   "cell_type": "code",
   "execution_count": 70,
   "id": "0181c57b-1491-4ca5-882e-8ec9851d8e5d",
   "metadata": {},
   "outputs": [
    {
     "name": "stdout",
     "output_type": "stream",
     "text": [
      "7\n"
     ]
    }
   ],
   "source": [
    "moon2(3, b=4)"
   ]
  },
  {
   "cell_type": "code",
   "execution_count": 45,
   "id": "62ead98e-9111-40e2-bf1f-19e68c186a0d",
   "metadata": {},
   "outputs": [
    {
     "ename": "TypeError",
     "evalue": "sun() takes 1 positional argument but 2 were given",
     "output_type": "error",
     "traceback": [
      "\u001b[1;31m---------------------------------------------------------------------------\u001b[0m",
      "\u001b[1;31mTypeError\u001b[0m                                 Traceback (most recent call last)",
      "Cell \u001b[1;32mIn[45], line 1\u001b[0m\n\u001b[1;32m----> 1\u001b[0m \u001b[43msun\u001b[49m\u001b[43m(\u001b[49m\u001b[38;5;241;43m1\u001b[39;49m\u001b[43m,\u001b[49m\u001b[43m \u001b[49m\u001b[38;5;241;43m2\u001b[39;49m\u001b[43m)\u001b[49m\n",
      "\u001b[1;31mTypeError\u001b[0m: sun() takes 1 positional argument but 2 were given"
     ]
    }
   ],
   "source": [
    "sun(1, 2)"
   ]
  },
  {
   "cell_type": "code",
   "execution_count": 51,
   "id": "21a63bd5-78dd-4b15-bf55-9f93f7c2568f",
   "metadata": {},
   "outputs": [],
   "source": [
    "def sun2(x,y):\n",
    "    print(x+y)"
   ]
  },
  {
   "cell_type": "code",
   "execution_count": 52,
   "id": "b71d141b-3896-4554-a012-708f10f03198",
   "metadata": {},
   "outputs": [
    {
     "name": "stdout",
     "output_type": "stream",
     "text": [
      "3\n"
     ]
    }
   ],
   "source": [
    "sun2(1,2)"
   ]
  },
  {
   "cell_type": "code",
   "execution_count": 53,
   "id": "feb98bb0-a719-46a1-87aa-b494efe300da",
   "metadata": {},
   "outputs": [
    {
     "ename": "TypeError",
     "evalue": "sun2() missing 1 required positional argument: 'y'",
     "output_type": "error",
     "traceback": [
      "\u001b[1;31m---------------------------------------------------------------------------\u001b[0m",
      "\u001b[1;31mTypeError\u001b[0m                                 Traceback (most recent call last)",
      "Cell \u001b[1;32mIn[53], line 1\u001b[0m\n\u001b[1;32m----> 1\u001b[0m \u001b[43msun2\u001b[49m\u001b[43m(\u001b[49m\u001b[38;5;241;43m1\u001b[39;49m\u001b[43m)\u001b[49m\n",
      "\u001b[1;31mTypeError\u001b[0m: sun2() missing 1 required positional argument: 'y'"
     ]
    }
   ],
   "source": [
    "sun2(1)"
   ]
  },
  {
   "cell_type": "code",
   "execution_count": 54,
   "id": "a87f88d3-ca15-4ba9-a58c-92f66af94c74",
   "metadata": {},
   "outputs": [
    {
     "name": "stdout",
     "output_type": "stream",
     "text": [
      "4\n"
     ]
    }
   ],
   "source": [
    "sun2(x=3,y=1)"
   ]
  },
  {
   "cell_type": "code",
   "execution_count": 55,
   "id": "c2d89a19-8b8b-4e3d-a94e-3f0df8c9c3d2",
   "metadata": {},
   "outputs": [
    {
     "name": "stdout",
     "output_type": "stream",
     "text": [
      "4\n"
     ]
    }
   ],
   "source": [
    "sun2(y=1, x=3)"
   ]
  },
  {
   "cell_type": "code",
   "execution_count": 56,
   "id": "77213330-af51-4eb2-af0f-56acde1a2891",
   "metadata": {},
   "outputs": [
    {
     "ename": "TypeError",
     "evalue": "sun2() got an unexpected keyword argument 'z'",
     "output_type": "error",
     "traceback": [
      "\u001b[1;31m---------------------------------------------------------------------------\u001b[0m",
      "\u001b[1;31mTypeError\u001b[0m                                 Traceback (most recent call last)",
      "Cell \u001b[1;32mIn[56], line 1\u001b[0m\n\u001b[1;32m----> 1\u001b[0m \u001b[43msun2\u001b[49m\u001b[43m(\u001b[49m\u001b[43mz\u001b[49m\u001b[38;5;241;43m=\u001b[39;49m\u001b[38;5;241;43m3\u001b[39;49m\u001b[43m)\u001b[49m\n",
      "\u001b[1;31mTypeError\u001b[0m: sun2() got an unexpected keyword argument 'z'"
     ]
    }
   ],
   "source": [
    "sun2(z=3)"
   ]
  },
  {
   "cell_type": "code",
   "execution_count": 57,
   "id": "e856564f-63d0-4c03-9882-29d9789c4dd0",
   "metadata": {},
   "outputs": [],
   "source": [
    "def sun3(x,y,z):\n",
    "    print(x+y+z)"
   ]
  },
  {
   "cell_type": "code",
   "execution_count": 58,
   "id": "eef9f885-5c63-487f-9d38-845a5bac3d02",
   "metadata": {},
   "outputs": [
    {
     "name": "stdout",
     "output_type": "stream",
     "text": [
      "10\n"
     ]
    }
   ],
   "source": [
    "sun3(3,z=4,y=3)"
   ]
  },
  {
   "cell_type": "code",
   "execution_count": 60,
   "id": "794fb1ed-0c63-4f8d-ad6c-e143bdaca044",
   "metadata": {},
   "outputs": [
    {
     "ename": "SyntaxError",
     "evalue": "positional argument follows keyword argument (1629820399.py, line 2)",
     "output_type": "error",
     "traceback": [
      "\u001b[1;36m  Cell \u001b[1;32mIn[60], line 2\u001b[1;36m\u001b[0m\n\u001b[1;33m    sun3(3,y=4,4)\u001b[0m\n\u001b[1;37m                ^\u001b[0m\n\u001b[1;31mSyntaxError\u001b[0m\u001b[1;31m:\u001b[0m positional argument follows keyword argument\n"
     ]
    }
   ],
   "source": [
    "#keyword 방식을 한번 사용했으면 그 이후부터는 계속 keyword를 써야함\n",
    "sun3(3,y=4,4)"
   ]
  },
  {
   "cell_type": "code",
   "execution_count": 117,
   "id": "b5a2ad2a-13ad-4abd-b1ac-ba639295da38",
   "metadata": {},
   "outputs": [],
   "source": [
    "# 파라미터 방식\n",
    "def a(*b):\n",
    "    print(b)"
   ]
  },
  {
   "cell_type": "code",
   "execution_count": 118,
   "id": "770c140e-f079-4d82-9ab1-b7e4c5bf7f4c",
   "metadata": {},
   "outputs": [
    {
     "name": "stdout",
     "output_type": "stream",
     "text": [
      "()\n"
     ]
    }
   ],
   "source": [
    "a()"
   ]
  },
  {
   "cell_type": "code",
   "execution_count": 119,
   "id": "f030175b-4fe8-4950-a4bd-47fd67476899",
   "metadata": {},
   "outputs": [
    {
     "name": "stdout",
     "output_type": "stream",
     "text": [
      "(3, 4)\n"
     ]
    }
   ],
   "source": [
    "a(3, 4)"
   ]
  },
  {
   "cell_type": "code",
   "execution_count": 88,
   "id": "bfd1de95-2945-4ce6-9df4-f64f8f047f3d",
   "metadata": {},
   "outputs": [],
   "source": [
    "# 키워드 argument 방식\n",
    "def aa(**b):\n",
    "    print(b)"
   ]
  },
  {
   "cell_type": "code",
   "execution_count": 89,
   "id": "34fb92bd-b656-40fa-bf56-3b910641f7ed",
   "metadata": {},
   "outputs": [],
   "source": [
    "def aaa(*a, **aa):\n",
    "    print('a')"
   ]
  },
  {
   "cell_type": "code",
   "execution_count": 76,
   "id": "1a2d3276-c3ec-418e-9670-9213b86440b1",
   "metadata": {},
   "outputs": [
    {
     "name": "stdout",
     "output_type": "stream",
     "text": [
      "{}\n"
     ]
    }
   ],
   "source": [
    "aa()"
   ]
  },
  {
   "cell_type": "code",
   "execution_count": 77,
   "id": "46a4d5c1-d3d7-4473-84d9-aebabce583db",
   "metadata": {},
   "outputs": [
    {
     "name": "stdout",
     "output_type": "stream",
     "text": [
      "{'a': 1}\n"
     ]
    }
   ],
   "source": [
    "aa(a=1)"
   ]
  },
  {
   "cell_type": "code",
   "execution_count": 78,
   "id": "915c7fad-6a5b-4d28-8d74-77bc428af3cd",
   "metadata": {},
   "outputs": [
    {
     "name": "stdout",
     "output_type": "stream",
     "text": [
      "{'a': 1, 'b': 2}\n"
     ]
    }
   ],
   "source": [
    "aa(a=1, b=2)"
   ]
  },
  {
   "cell_type": "code",
   "execution_count": 91,
   "id": "324f3b32-f38f-41e1-bc0f-1688e4aa6260",
   "metadata": {},
   "outputs": [
    {
     "ename": "TypeError",
     "evalue": "int() can't convert non-string with explicit base",
     "output_type": "error",
     "traceback": [
      "\u001b[1;31m---------------------------------------------------------------------------\u001b[0m",
      "\u001b[1;31mTypeError\u001b[0m                                 Traceback (most recent call last)",
      "Cell \u001b[1;32mIn[91], line 2\u001b[0m\n\u001b[0;32m      1\u001b[0m \u001b[38;5;66;03m#int(self,/,*args,**kwargs)\u001b[39;00m\n\u001b[1;32m----> 2\u001b[0m \u001b[38;5;28;43mint\u001b[39;49m\u001b[43m(\u001b[49m\u001b[38;5;241;43m3\u001b[39;49m\u001b[43m,\u001b[49m\u001b[43m \u001b[49m\u001b[43mbase\u001b[49m\u001b[38;5;241;43m=\u001b[39;49m\u001b[38;5;241;43m2\u001b[39;49m\u001b[43m)\u001b[49m\n",
      "\u001b[1;31mTypeError\u001b[0m: int() can't convert non-string with explicit base"
     ]
    }
   ],
   "source": [
    "#int(self,/,*args,**kwargs)\n",
    "int(3, base=2)"
   ]
  },
  {
   "cell_type": "code",
   "execution_count": 3,
   "id": "20acc892-7f3f-4451-84a8-20d9f9b4d709",
   "metadata": {},
   "outputs": [
    {
     "name": "stdout",
     "output_type": "stream",
     "text": [
      "Requirement already satisfied: numpy==1.23 in c:\\users\\user\\appdata\\local\\programs\\python\\python310\\lib\\site-packages (1.23.0)\n",
      "Requirement already satisfied: matplotlib in c:\\users\\user\\appdata\\local\\programs\\python\\python310\\lib\\site-packages (3.10.1)\n",
      "Requirement already satisfied: contourpy>=1.0.1 in c:\\users\\user\\appdata\\local\\programs\\python\\python310\\lib\\site-packages (from matplotlib) (1.3.1)\n",
      "Requirement already satisfied: cycler>=0.10 in c:\\users\\user\\appdata\\local\\programs\\python\\python310\\lib\\site-packages (from matplotlib) (0.12.1)\n",
      "Requirement already satisfied: fonttools>=4.22.0 in c:\\users\\user\\appdata\\local\\programs\\python\\python310\\lib\\site-packages (from matplotlib) (4.56.0)\n",
      "Requirement already satisfied: kiwisolver>=1.3.1 in c:\\users\\user\\appdata\\local\\programs\\python\\python310\\lib\\site-packages (from matplotlib) (1.4.8)\n",
      "Requirement already satisfied: packaging>=20.0 in c:\\users\\user\\appdata\\roaming\\python\\python310\\site-packages (from matplotlib) (22.0)\n",
      "Requirement already satisfied: pillow>=8 in c:\\users\\user\\appdata\\local\\programs\\python\\python310\\lib\\site-packages (from matplotlib) (9.1.1)\n",
      "Requirement already satisfied: pyparsing>=2.3.1 in c:\\users\\user\\appdata\\local\\programs\\python\\python310\\lib\\site-packages (from matplotlib) (3.2.1)\n",
      "Requirement already satisfied: python-dateutil>=2.7 in c:\\users\\user\\appdata\\roaming\\python\\python310\\site-packages (from matplotlib) (2.8.2)\n",
      "Requirement already satisfied: six>=1.5 in c:\\users\\user\\appdata\\roaming\\python\\python310\\site-packages (from python-dateutil>=2.7->matplotlib) (1.16.0)\n"
     ]
    }
   ],
   "source": [
    "!pip install numpy==1.23 matplotlib"
   ]
  },
  {
   "cell_type": "code",
   "execution_count": 4,
   "id": "c1420a7e-5b7f-4924-9215-028c733572ea",
   "metadata": {
    "scrolled": true
   },
   "outputs": [],
   "source": [
    "import matplotlib.pyplot as plt\n"
   ]
  },
  {
   "cell_type": "code",
   "execution_count": 5,
   "id": "a05e055a-fc37-41b8-a2c4-8e25b6864677",
   "metadata": {},
   "outputs": [
    {
     "data": {
      "text/plain": [
       "<BarContainer object of 3 artists>"
      ]
     },
     "execution_count": 5,
     "metadata": {},
     "output_type": "execute_result"
    },
    {
     "data": {
      "image/png": "[encoded data removed]",
      "text/plain": [
       "<Figure size 640x480 with 1 Axes>"
      ]
     },
     "metadata": {},
     "output_type": "display_data"
    }
   ],
   "source": [
    "plt.bar([1,2,3],[2,3,4],0.3,color='pink')"
   ]
  },
  {
   "cell_type": "code",
   "execution_count": 6,
   "id": "fc1a9677-8d69-447f-a48f-b62edf8c2997",
   "metadata": {},
   "outputs": [
    {
     "data": {
      "text/plain": [
       "(array([2., 0., 0., 0., 0., 2., 0., 0., 0., 2.]),\n",
       " array([1. , 1.2, 1.4, 1.6, 1.8, 2. , 2.2, 2.4, 2.6, 2.8, 3. ]),\n",
       " [<matplotlib.patches.Polygon at 0x2ae51ff69b0>])"
      ]
     },
     "execution_count": 6,
     "metadata": {},
     "output_type": "execute_result"
    },
    {
     "data": {
      "image/png": "[encoded data removed]",
      "text/plain": [
       "<Figure size 640x480 with 1 Axes>"
      ]
     },
     "metadata": {},
     "output_type": "display_data"
    }
   ],
   "source": [
    "plt.hist([1,2,1,3,2,3], histtype='step')"
   ]
  },
  {
   "cell_type": "code",
   "execution_count": 121,
   "id": "5a7ce011-86e1-474b-b397-28295b1b32f5",
   "metadata": {},
   "outputs": [
    {
     "data": {
      "text/plain": [
       "6"
      ]
     },
     "execution_count": 121,
     "metadata": {},
     "output_type": "execute_result"
    }
   ],
   "source": [
    "sum([1,2,3])"
   ]
  },
  {
   "cell_type": "code",
   "execution_count": 132,
   "id": "d72bf048-995b-4b98-adf1-c341a53c3f00",
   "metadata": {},
   "outputs": [],
   "source": [
    "def average(*a): #파라미터\n",
    "    return sum(*a)/len(*a) #argument 앞 *를 쓰면 unpacking해줌"
   ]
  },
  {
   "cell_type": "code",
   "execution_count": 133,
   "id": "b22b07dd-6960-4d72-bcf6-d4c9a260668f",
   "metadata": {},
   "outputs": [
    {
     "data": {
      "text/plain": [
       "3.0"
      ]
     },
     "execution_count": 133,
     "metadata": {},
     "output_type": "execute_result"
    }
   ],
   "source": [
    "average([2,3,4])"
   ]
  },
  {
   "cell_type": "code",
   "execution_count": 124,
   "id": "a3086ae2-8cfe-49fa-abf5-78f4f4ee4c48",
   "metadata": {},
   "outputs": [],
   "source": [
    "x = [1,2,3]"
   ]
  },
  {
   "cell_type": "code",
   "execution_count": 125,
   "id": "189a7a6c-8c2a-4a93-85d3-c421dbb85ce2",
   "metadata": {},
   "outputs": [],
   "source": [
    "def a(*b):\n",
    "    print(b)"
   ]
  },
  {
   "cell_type": "code",
   "execution_count": 126,
   "id": "e2321f34-4dc8-4cdd-aef1-cf3638e1edf6",
   "metadata": {},
   "outputs": [
    {
     "name": "stdout",
     "output_type": "stream",
     "text": [
      "([1, 2, 3],)\n"
     ]
    }
   ],
   "source": [
    "a(x)"
   ]
  },
  {
   "cell_type": "code",
   "execution_count": 127,
   "id": "c8522b5c-41d3-4160-956a-7138ba000d6d",
   "metadata": {},
   "outputs": [
    {
     "name": "stdout",
     "output_type": "stream",
     "text": [
      "(1, 2, 3)\n"
     ]
    }
   ],
   "source": [
    "a(*x)"
   ]
  },
  {
   "cell_type": "code",
   "execution_count": 7,
   "id": "4950fdf0-fc69-4e2c-9284-27f67d43084b",
   "metadata": {},
   "outputs": [],
   "source": [
    "def aa(**bb): #딕셔너리 요구\n",
    "    print(bb)"
   ]
  },
  {
   "cell_type": "code",
   "execution_count": 8,
   "id": "03994e2f-328c-4fa5-b2da-e782e4cb806d",
   "metadata": {},
   "outputs": [],
   "source": [
    "xx = {'a':1, 'b':2}"
   ]
  },
  {
   "cell_type": "code",
   "execution_count": 9,
   "id": "83b701ab-99d4-4e82-9a3f-0ea19af3ea0e",
   "metadata": {
    "scrolled": true
   },
   "outputs": [
    {
     "ename": "TypeError",
     "evalue": "aa() takes 0 positional arguments but 1 was given",
     "output_type": "error",
     "traceback": [
      "\u001b[1;31m---------------------------------------------------------------------------\u001b[0m",
      "\u001b[1;31mTypeError\u001b[0m                                 Traceback (most recent call last)",
      "Cell \u001b[1;32mIn[9], line 1\u001b[0m\n\u001b[1;32m----> 1\u001b[0m \u001b[43maa\u001b[49m\u001b[43m(\u001b[49m\u001b[43mxx\u001b[49m\u001b[43m)\u001b[49m\n",
      "\u001b[1;31mTypeError\u001b[0m: aa() takes 0 positional arguments but 1 was given"
     ]
    }
   ],
   "source": [
    "aa(xx)"
   ]
  },
  {
   "cell_type": "code",
   "execution_count": 10,
   "id": "95163f3c-bb76-4db2-a26e-e92bd47515c1",
   "metadata": {},
   "outputs": [
    {
     "name": "stdout",
     "output_type": "stream",
     "text": [
      "{'a': 1, 'b': 2}\n"
     ]
    }
   ],
   "source": [
    "aa(**xx)"
   ]
  },
  {
   "cell_type": "code",
   "execution_count": 11,
   "id": "d047454d-40d8-47dc-8d80-e57041690187",
   "metadata": {},
   "outputs": [
    {
     "ename": "TypeError",
     "evalue": "aa() takes 0 positional arguments but 2 were given",
     "output_type": "error",
     "traceback": [
      "\u001b[1;31m---------------------------------------------------------------------------\u001b[0m",
      "\u001b[1;31mTypeError\u001b[0m                                 Traceback (most recent call last)",
      "Cell \u001b[1;32mIn[11], line 1\u001b[0m\n\u001b[1;32m----> 1\u001b[0m \u001b[43maa\u001b[49m\u001b[43m(\u001b[49m\u001b[38;5;241;43m*\u001b[39;49m\u001b[43mxx\u001b[49m\u001b[43m)\u001b[49m\n",
      "\u001b[1;31mTypeError\u001b[0m: aa() takes 0 positional arguments but 2 were given"
     ]
    }
   ],
   "source": [
    "aa(*xx)"
   ]
  },
  {
   "cell_type": "code",
   "execution_count": 12,
   "id": "2024015e-2c2e-48b6-be0f-8ae775d2b3e4",
   "metadata": {},
   "outputs": [],
   "source": [
    "def b(*a): #키만 뽑아서 언팩킹 가능\n",
    "    print(a)"
   ]
  },
  {
   "cell_type": "code",
   "execution_count": 13,
   "id": "939034cc-1868-4184-8ec6-f6b72d63936a",
   "metadata": {},
   "outputs": [
    {
     "name": "stdout",
     "output_type": "stream",
     "text": [
      "('a', 'b')\n"
     ]
    }
   ],
   "source": [
    "b(*xx)"
   ]
  },
  {
   "cell_type": "code",
   "execution_count": 14,
   "id": "3248ac47-4748-4039-918c-4e1b0a093058",
   "metadata": {},
   "outputs": [],
   "source": [
    "t = {'a':1, 'b':2}\n",
    "s = {'a':3, 'b':2}"
   ]
  },
  {
   "cell_type": "code",
   "execution_count": 15,
   "id": "278ab451-bd55-459f-8a78-4b14f94d53a8",
   "metadata": {},
   "outputs": [
    {
     "data": {
      "text/plain": [
       "{'a': 3, 'b': 2}"
      ]
     },
     "execution_count": 15,
     "metadata": {},
     "output_type": "execute_result"
    }
   ],
   "source": [
    "{**t, **s}"
   ]
  },
  {
   "cell_type": "code",
   "execution_count": 16,
   "id": "86cc977a-e0ef-4119-be72-b12214afd48e",
   "metadata": {},
   "outputs": [],
   "source": [
    "def t():\n",
    "    return 1"
   ]
  },
  {
   "cell_type": "code",
   "execution_count": 17,
   "id": "fa10ee42-7cc9-40fd-b6c6-0e09070397df",
   "metadata": {},
   "outputs": [
    {
     "data": {
      "text/plain": [
       "1"
      ]
     },
     "execution_count": 17,
     "metadata": {},
     "output_type": "execute_result"
    }
   ],
   "source": [
    "t()"
   ]
  },
  {
   "cell_type": "code",
   "execution_count": 22,
   "id": "9b4b50f3-41a1-421f-a7d5-4f8b751821ef",
   "metadata": {},
   "outputs": [],
   "source": [
    "def tt():\n",
    "    print('tt')\n",
    "    # return None 을 자동적으로 추가해줌"
   ]
  },
  {
   "cell_type": "code",
   "execution_count": 34,
   "id": "7c29eb7e-990d-480c-9697-bbdc46035215",
   "metadata": {},
   "outputs": [
    {
     "name": "stdout",
     "output_type": "stream",
     "text": [
      "tt\n"
     ]
    }
   ],
   "source": [
    "a = tt()"
   ]
  },
  {
   "cell_type": "code",
   "execution_count": 35,
   "id": "cd9c1a09-7108-4f2b-bc95-7e2b0bc292dc",
   "metadata": {},
   "outputs": [],
   "source": [
    "a"
   ]
  },
  {
   "cell_type": "code",
   "execution_count": 36,
   "id": "98942d2d-de6b-4195-b166-811c4820bce7",
   "metadata": {},
   "outputs": [],
   "source": [
    "def ttt():\n",
    "    return 'tt'"
   ]
  },
  {
   "cell_type": "code",
   "execution_count": 37,
   "id": "4ef732e1-30d6-497c-8e91-e7804e9da649",
   "metadata": {},
   "outputs": [],
   "source": [
    "b = ttt()"
   ]
  },
  {
   "cell_type": "code",
   "execution_count": 38,
   "id": "7837cd02-dadc-4554-818f-189abcd8ba8e",
   "metadata": {},
   "outputs": [
    {
     "data": {
      "text/plain": [
       "'tt'"
      ]
     },
     "execution_count": 38,
     "metadata": {},
     "output_type": "execute_result"
    }
   ],
   "source": [
    "b"
   ]
  },
  {
   "cell_type": "code",
   "execution_count": 39,
   "id": "f591d1a8-737a-4dd6-aee1-82a403f13009",
   "metadata": {},
   "outputs": [],
   "source": [
    "a = [1,2,3]"
   ]
  },
  {
   "cell_type": "code",
   "execution_count": 40,
   "id": "2eb8c8bd-442b-4994-9df7-4f87eb8998b5",
   "metadata": {},
   "outputs": [],
   "source": [
    "a.append(4) #함수에 return값이 없어도 남의 것을 바꿀 수 있음"
   ]
  },
  {
   "cell_type": "code",
   "execution_count": 41,
   "id": "deb57b81-4742-4ff8-8fab-aa8c2c9a7c0d",
   "metadata": {},
   "outputs": [
    {
     "data": {
      "text/plain": [
       "[1, 2, 3, 4]"
      ]
     },
     "execution_count": 41,
     "metadata": {},
     "output_type": "execute_result"
    }
   ],
   "source": [
    "a"
   ]
  },
  {
   "cell_type": "code",
   "execution_count": 42,
   "id": "942e6b7b-68fa-410d-afbd-b1f9f1d1d70c",
   "metadata": {},
   "outputs": [
    {
     "data": {
      "text/plain": [
       "12"
      ]
     },
     "execution_count": 42,
     "metadata": {},
     "output_type": "execute_result"
    }
   ],
   "source": [
    "# *\n",
    "3*4"
   ]
  },
  {
   "cell_type": "code",
   "execution_count": 44,
   "id": "596d38b4-12bd-46cd-b91b-04aceb20492f",
   "metadata": {},
   "outputs": [
    {
     "data": {
      "text/plain": [
       "13.529999999999998"
      ]
     },
     "execution_count": 44,
     "metadata": {},
     "output_type": "execute_result"
    }
   ],
   "source": [
    "3.3 * 4.1"
   ]
  },
  {
   "cell_type": "code",
   "execution_count": 45,
   "id": "4c775dfe-bb93-46e1-a7a7-90ff6248ecf0",
   "metadata": {},
   "outputs": [
    {
     "data": {
      "text/plain": [
       "81"
      ]
     },
     "execution_count": 45,
     "metadata": {},
     "output_type": "execute_result"
    }
   ],
   "source": [
    "3 ** 4"
   ]
  },
  {
   "cell_type": "code",
   "execution_count": 46,
   "id": "114d738b-a51f-4b0e-a98f-2d8f2e732bc2",
   "metadata": {},
   "outputs": [
    {
     "data": {
      "text/plain": [
       "0.012345679012345678"
      ]
     },
     "execution_count": 46,
     "metadata": {},
     "output_type": "execute_result"
    }
   ],
   "source": [
    "3 ** (-4)"
   ]
  },
  {
   "cell_type": "code",
   "execution_count": 58,
   "id": "e5968f11-d28e-45a0-aa4d-cc33b96e072c",
   "metadata": {},
   "outputs": [
    {
     "data": {
      "text/plain": [
       "'abcabcabc'"
      ]
     },
     "execution_count": 58,
     "metadata": {},
     "output_type": "execute_result"
    }
   ],
   "source": [
    "3 * 'abc'"
   ]
  },
  {
   "cell_type": "code",
   "execution_count": 47,
   "id": "fdccc952-c855-4914-85c1-46cc8503c883",
   "metadata": {},
   "outputs": [
    {
     "data": {
      "text/plain": [
       "0.75"
      ]
     },
     "execution_count": 47,
     "metadata": {},
     "output_type": "execute_result"
    }
   ],
   "source": [
    "3 / 4"
   ]
  },
  {
   "cell_type": "code",
   "execution_count": 48,
   "id": "835d718a-8052-4c20-b2b0-7b03b0ead615",
   "metadata": {},
   "outputs": [
    {
     "data": {
      "text/plain": [
       "0"
      ]
     },
     "execution_count": 48,
     "metadata": {},
     "output_type": "execute_result"
    }
   ],
   "source": [
    "3//4"
   ]
  },
  {
   "cell_type": "code",
   "execution_count": 49,
   "id": "c8311b74-d0f8-4bff-89e6-012c732d23fc",
   "metadata": {},
   "outputs": [
    {
     "data": {
      "text/plain": [
       "3"
      ]
     },
     "execution_count": 49,
     "metadata": {},
     "output_type": "execute_result"
    }
   ],
   "source": [
    "3 % 4"
   ]
  },
  {
   "cell_type": "code",
   "execution_count": 55,
   "id": "7443846b-0cc8-4cf1-b8c2-0dc372aa0e34",
   "metadata": {},
   "outputs": [
    {
     "data": {
      "text/plain": [
       "-0.75"
      ]
     },
     "execution_count": 55,
     "metadata": {},
     "output_type": "execute_result"
    }
   ],
   "source": [
    "3 / -4 #-1+0.25"
   ]
  },
  {
   "cell_type": "code",
   "execution_count": 56,
   "id": "3e15c0c7-b1eb-4283-bbdf-9edc524d034f",
   "metadata": {},
   "outputs": [
    {
     "data": {
      "text/plain": [
       "-1"
      ]
     },
     "execution_count": 56,
     "metadata": {},
     "output_type": "execute_result"
    }
   ],
   "source": [
    "3 // -4"
   ]
  },
  {
   "cell_type": "code",
   "execution_count": 52,
   "id": "32242aa1-a660-4558-8703-fae662c6d6b3",
   "metadata": {},
   "outputs": [
    {
     "data": {
      "text/plain": [
       "-1"
      ]
     },
     "execution_count": 52,
     "metadata": {},
     "output_type": "execute_result"
    }
   ],
   "source": [
    "3 % -4"
   ]
  },
  {
   "cell_type": "code",
   "execution_count": 53,
   "id": "dbe90241-9060-4fc0-a6c2-78770a601ad3",
   "metadata": {},
   "outputs": [
    {
     "data": {
      "text/plain": [
       "-1"
      ]
     },
     "execution_count": 53,
     "metadata": {},
     "output_type": "execute_result"
    }
   ],
   "source": [
    "-3 // 4"
   ]
  },
  {
   "cell_type": "code",
   "execution_count": 54,
   "id": "c7a6084f-d946-419d-8399-f487aed1d141",
   "metadata": {},
   "outputs": [
    {
     "data": {
      "text/plain": [
       "1"
      ]
     },
     "execution_count": 54,
     "metadata": {},
     "output_type": "execute_result"
    }
   ],
   "source": [
    "-3 % 4"
   ]
  },
  {
   "cell_type": "markdown",
   "id": "f2e09061-c039-40a5-80cb-fd366e5c6c89",
   "metadata": {},
   "source": [
    "# mutable"
   ]
  },
  {
   "cell_type": "code",
   "execution_count": 59,
   "id": "8ec7c3b5-54d3-4126-a646-f50ffda4ea0d",
   "metadata": {},
   "outputs": [
    {
     "data": {
      "text/plain": [
       "2947778061312"
      ]
     },
     "execution_count": 59,
     "metadata": {},
     "output_type": "execute_result"
    }
   ],
   "source": [
    "id(a)"
   ]
  },
  {
   "cell_type": "code",
   "execution_count": 60,
   "id": "8a2e19ea-0270-4c50-bd1f-bdeb404af169",
   "metadata": {},
   "outputs": [],
   "source": [
    "a = [1,2,3]"
   ]
  },
  {
   "cell_type": "code",
   "execution_count": 61,
   "id": "983dd662-dbdf-4dd5-a274-1b9e1037bfc6",
   "metadata": {},
   "outputs": [
    {
     "data": {
      "text/plain": [
       "2947719175232"
      ]
     },
     "execution_count": 61,
     "metadata": {},
     "output_type": "execute_result"
    }
   ],
   "source": [
    "id(a)"
   ]
  },
  {
   "cell_type": "code",
   "execution_count": 62,
   "id": "7d49c15b-655d-4e0f-8db1-33106261ea62",
   "metadata": {},
   "outputs": [],
   "source": [
    "a.append(4)"
   ]
  },
  {
   "cell_type": "code",
   "execution_count": 63,
   "id": "4b6966f9-c2ab-40f4-b6b8-c8ec9e38e827",
   "metadata": {},
   "outputs": [
    {
     "data": {
      "text/plain": [
       "[1, 2, 3, 4]"
      ]
     },
     "execution_count": 63,
     "metadata": {},
     "output_type": "execute_result"
    }
   ],
   "source": [
    "a"
   ]
  },
  {
   "cell_type": "code",
   "execution_count": 64,
   "id": "63c87d14-e8a2-4c06-a599-a943b6cee925",
   "metadata": {},
   "outputs": [
    {
     "data": {
      "text/plain": [
       "2947719175232"
      ]
     },
     "execution_count": 64,
     "metadata": {},
     "output_type": "execute_result"
    }
   ],
   "source": [
    "id(a)"
   ]
  },
  {
   "cell_type": "code",
   "execution_count": 65,
   "id": "1ca2f621-13f6-4a1f-880a-21ad11df151f",
   "metadata": {},
   "outputs": [],
   "source": [
    "a = (1,2,3)"
   ]
  },
  {
   "cell_type": "code",
   "execution_count": 66,
   "id": "eb094e43-a2ac-4272-967b-33c16ba22ba7",
   "metadata": {},
   "outputs": [],
   "source": [
    "a = (1,2,3,4)"
   ]
  },
  {
   "cell_type": "code",
   "execution_count": 67,
   "id": "ff56bd6d-1bf2-4e62-b830-d10433655ec4",
   "metadata": {},
   "outputs": [],
   "source": [
    "a = [1,2,3]"
   ]
  },
  {
   "cell_type": "code",
   "execution_count": 68,
   "id": "d7d22bd6-0803-456f-9970-ced65a3b6383",
   "metadata": {},
   "outputs": [],
   "source": [
    "a.append(4)"
   ]
  },
  {
   "cell_type": "code",
   "execution_count": 69,
   "id": "75203611-0b32-4e63-8e73-74085ca4bc96",
   "metadata": {},
   "outputs": [],
   "source": [
    "b = a.append(4)"
   ]
  },
  {
   "cell_type": "code",
   "execution_count": 71,
   "id": "03332f17-5d39-4bc4-af08-a039483c6190",
   "metadata": {},
   "outputs": [],
   "source": [
    "# 1\n",
    "# return 없음. 대신 자기 자신 변화\n",
    "# return 있음. 자기 자신 변화\n",
    "# return 있음. 자기 자신 변화 (X)"
   ]
  },
  {
   "cell_type": "code",
   "execution_count": 87,
   "id": "de00ead4-c915-41f9-9bbc-16c5870ec01d",
   "metadata": {},
   "outputs": [],
   "source": [
    "a = [1,2,3]"
   ]
  },
  {
   "cell_type": "code",
   "execution_count": 88,
   "id": "239f79c2-7859-4bab-9420-47174412ba61",
   "metadata": {},
   "outputs": [],
   "source": [
    "a.append(4) #return 없음. 자기 자신 변화"
   ]
  },
  {
   "cell_type": "code",
   "execution_count": 89,
   "id": "4a03cc77-9032-4b58-9a56-0a47bfb2a7d7",
   "metadata": {},
   "outputs": [
    {
     "data": {
      "text/plain": [
       "[1, 2, 3, 4]"
      ]
     },
     "execution_count": 89,
     "metadata": {},
     "output_type": "execute_result"
    }
   ],
   "source": [
    "a"
   ]
  },
  {
   "cell_type": "code",
   "execution_count": 90,
   "id": "a4805a72-ff83-4e80-b634-0980f74c6d1f",
   "metadata": {},
   "outputs": [
    {
     "data": {
      "text/plain": [
       "4"
      ]
     },
     "execution_count": 90,
     "metadata": {},
     "output_type": "execute_result"
    }
   ],
   "source": [
    "a.pop() #return 있음, 자기 자신 변화"
   ]
  },
  {
   "cell_type": "code",
   "execution_count": 91,
   "id": "7ec55bfe-2231-46f5-acde-4541d776f9ee",
   "metadata": {},
   "outputs": [
    {
     "data": {
      "text/plain": [
       "[1, 2, 3]"
      ]
     },
     "execution_count": 91,
     "metadata": {},
     "output_type": "execute_result"
    }
   ],
   "source": [
    "a"
   ]
  },
  {
   "cell_type": "code",
   "execution_count": 92,
   "id": "4f12dbc0-239c-45ee-9e96-fd2c9ca53ddc",
   "metadata": {},
   "outputs": [
    {
     "data": {
      "text/plain": [
       "0"
      ]
     },
     "execution_count": 92,
     "metadata": {},
     "output_type": "execute_result"
    }
   ],
   "source": [
    "a.index(1) # return 있음. 자기 자신 변화 (X)"
   ]
  },
  {
   "cell_type": "code",
   "execution_count": 93,
   "id": "dbdbb393-e4a7-4765-b487-63b6d4823b0e",
   "metadata": {},
   "outputs": [
    {
     "data": {
      "text/plain": [
       "[1, 2, 3]"
      ]
     },
     "execution_count": 93,
     "metadata": {},
     "output_type": "execute_result"
    }
   ],
   "source": [
    "a"
   ]
  },
  {
   "cell_type": "code",
   "execution_count": 95,
   "id": "d2a84948-d49d-42e6-a486-25e045c722c9",
   "metadata": {},
   "outputs": [],
   "source": [
    "# tuple <> list\n",
    "# bytes <> bytearray\n",
    "# set <> frozenset\n",
    "#       dict\n",
    "#       array"
   ]
  },
  {
   "cell_type": "code",
   "execution_count": 96,
   "id": "771a4054-3bb4-4f31-a80b-6f522a0a1c51",
   "metadata": {},
   "outputs": [
    {
     "data": {
      "text/plain": [
       "[1, 2, 3]"
      ]
     },
     "execution_count": 96,
     "metadata": {},
     "output_type": "execute_result"
    }
   ],
   "source": [
    "# mutable\n",
    "a = b = [1,2]\n",
    "a.append(3)\n",
    "b"
   ]
  },
  {
   "cell_type": "code",
   "execution_count": 97,
   "id": "75103ffd-c78d-411f-8cf3-7ecf440c61c9",
   "metadata": {},
   "outputs": [],
   "source": [
    "a = [1,2]"
   ]
  },
  {
   "cell_type": "code",
   "execution_count": 112,
   "id": "af5517b5-0cf6-4f4b-9c3c-f02dedc80806",
   "metadata": {},
   "outputs": [],
   "source": [
    "b = a #mutable"
   ]
  },
  {
   "cell_type": "code",
   "execution_count": 99,
   "id": "c4a390bc-4665-4566-ac15-03d5bac320f6",
   "metadata": {},
   "outputs": [],
   "source": [
    "b.append(3)"
   ]
  },
  {
   "cell_type": "code",
   "execution_count": 100,
   "id": "112e10bf-c910-4393-a01f-d349c521c920",
   "metadata": {},
   "outputs": [
    {
     "data": {
      "text/plain": [
       "[1, 2, 3]"
      ]
     },
     "execution_count": 100,
     "metadata": {},
     "output_type": "execute_result"
    }
   ],
   "source": [
    "a"
   ]
  },
  {
   "cell_type": "code",
   "execution_count": 101,
   "id": "3b4e8d85-2aac-4793-977c-a13a9800ca43",
   "metadata": {},
   "outputs": [],
   "source": [
    "a = [1,2]"
   ]
  },
  {
   "cell_type": "code",
   "execution_count": 111,
   "id": "05fa7635-2391-400c-b741-f4b47793f6f6",
   "metadata": {},
   "outputs": [],
   "source": [
    "b = a[:] #immutable"
   ]
  },
  {
   "cell_type": "code",
   "execution_count": 103,
   "id": "6e31c397-936e-4978-a07a-f21dfec72876",
   "metadata": {},
   "outputs": [],
   "source": [
    "b.append(3)"
   ]
  },
  {
   "cell_type": "code",
   "execution_count": 104,
   "id": "8c6c8d9f-f6f6-45db-b99d-8b5ae492ccd0",
   "metadata": {},
   "outputs": [
    {
     "data": {
      "text/plain": [
       "[1, 2]"
      ]
     },
     "execution_count": 104,
     "metadata": {},
     "output_type": "execute_result"
    }
   ],
   "source": [
    "a"
   ]
  },
  {
   "cell_type": "code",
   "execution_count": 106,
   "id": "e98c3caa-a0be-47aa-b883-a81a0d71831f",
   "metadata": {},
   "outputs": [],
   "source": [
    "b = a.copy()"
   ]
  },
  {
   "cell_type": "code",
   "execution_count": 107,
   "id": "6e9ebf78-cafa-44a5-a5db-8653d467c679",
   "metadata": {},
   "outputs": [],
   "source": [
    "b.append(3)"
   ]
  },
  {
   "cell_type": "code",
   "execution_count": 110,
   "id": "f4680ffc-bde2-4f43-b282-4e502364b6ae",
   "metadata": {},
   "outputs": [
    {
     "data": {
      "text/plain": [
       "[1, 2]"
      ]
     },
     "execution_count": 110,
     "metadata": {},
     "output_type": "execute_result"
    }
   ],
   "source": [
    "a"
   ]
  },
  {
   "cell_type": "code",
   "execution_count": null,
   "id": "b792dff7-7cf0-4058-b3f2-cfbf7fe5dc55",
   "metadata": {},
   "outputs": [],
   "source": []
  },
  {
   "cell_type": "code",
   "execution_count": null,
   "id": "6210772a-7a42-411f-9a35-dcab1edb26eb",
   "metadata": {},
   "outputs": [],
   "source": []
  }
 ],
 "metadata": {
  "kernelspec": {
   "display_name": "Python 3 (ipykernel)",
   "language": "python",
   "name": "python3"
  },
  "language_info": {
   "codemirror_mode": {
    "name": "ipython",
    "version": 3
   },
   "file_extension": ".py",
   "mimetype": "text/x-python",
   "name": "python",
   "nbconvert_exporter": "python",
   "pygments_lexer": "ipython3",
   "version": "3.10.4"
  }
 },
 "nbformat": 4,
 "nbformat_minor": 5
}
