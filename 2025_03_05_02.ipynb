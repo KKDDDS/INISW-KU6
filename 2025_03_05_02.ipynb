{
 "cells": [
  {
   "cell_type": "code",
   "execution_count": 1,
   "id": "9101b6f0-3081-4946-9846-bece45119477",
   "metadata": {},
   "outputs": [],
   "source": [
    "# LEGB"
   ]
  },
  {
   "cell_type": "code",
   "execution_count": 2,
   "id": "8729da4e-dddd-4b73-92b4-7e0e5136a25a",
   "metadata": {},
   "outputs": [],
   "source": [
    "def x():\n",
    "    return a"
   ]
  },
  {
   "cell_type": "code",
   "execution_count": 3,
   "id": "01e998ff-50a8-410f-bcc7-603036655c65",
   "metadata": {},
   "outputs": [
    {
     "ename": "NameError",
     "evalue": "name 'a' is not defined",
     "output_type": "error",
     "traceback": [
      "\u001b[1;31m---------------------------------------------------------------------------\u001b[0m",
      "\u001b[1;31mNameError\u001b[0m                                 Traceback (most recent call last)",
      "Cell \u001b[1;32mIn[3], line 1\u001b[0m\n\u001b[1;32m----> 1\u001b[0m \u001b[43mx\u001b[49m\u001b[43m(\u001b[49m\u001b[43m)\u001b[49m\n",
      "Cell \u001b[1;32mIn[2], line 2\u001b[0m, in \u001b[0;36mx\u001b[1;34m()\u001b[0m\n\u001b[0;32m      1\u001b[0m \u001b[38;5;28;01mdef\u001b[39;00m \u001b[38;5;21mx\u001b[39m():\n\u001b[1;32m----> 2\u001b[0m     \u001b[38;5;28;01mreturn\u001b[39;00m \u001b[43ma\u001b[49m\n",
      "\u001b[1;31mNameError\u001b[0m: name 'a' is not defined"
     ]
    }
   ],
   "source": [
    "x()"
   ]
  },
  {
   "cell_type": "code",
   "execution_count": 4,
   "id": "5e7244b2-2e3d-44c2-8091-314965a9d653",
   "metadata": {},
   "outputs": [],
   "source": [
    "a = 1"
   ]
  },
  {
   "cell_type": "code",
   "execution_count": 5,
   "id": "4117a4eb-d771-4178-8a90-e245ac783e9f",
   "metadata": {},
   "outputs": [
    {
     "data": {
      "text/plain": [
       "1"
      ]
     },
     "execution_count": 5,
     "metadata": {},
     "output_type": "execute_result"
    }
   ],
   "source": [
    "x()"
   ]
  },
  {
   "cell_type": "code",
   "execution_count": 6,
   "id": "b92a4b24-e3fb-45bd-958b-4aa8aab10ad8",
   "metadata": {},
   "outputs": [],
   "source": [
    "a = 2"
   ]
  },
  {
   "cell_type": "code",
   "execution_count": 7,
   "id": "d6958921-68e9-48cf-8063-3e7f9ddda061",
   "metadata": {},
   "outputs": [
    {
     "data": {
      "text/plain": [
       "2"
      ]
     },
     "execution_count": 7,
     "metadata": {},
     "output_type": "execute_result"
    }
   ],
   "source": [
    "x()"
   ]
  },
  {
   "cell_type": "code",
   "execution_count": 17,
   "id": "0ad164dd-9c26-4298-8afa-32513a8d6191",
   "metadata": {},
   "outputs": [],
   "source": [
    "a = 3\n",
    "def y():\n",
    "    a = 1 # local variable\n",
    "    return a"
   ]
  },
  {
   "cell_type": "code",
   "execution_count": 18,
   "id": "b7f65d8d-74d5-4882-90b3-7fd2d9a1e86d",
   "metadata": {},
   "outputs": [
    {
     "data": {
      "text/plain": [
       "1"
      ]
     },
     "execution_count": 18,
     "metadata": {},
     "output_type": "execute_result"
    }
   ],
   "source": [
    "y() #local 먼저 찾는다"
   ]
  },
  {
   "cell_type": "code",
   "execution_count": 19,
   "id": "65fadbc0-51ed-4df9-9e7d-e10f6054185f",
   "metadata": {},
   "outputs": [
    {
     "name": "stdout",
     "output_type": "stream",
     "text": [
      "Variable   Type        Data/Info\n",
      "--------------------------------\n",
      "a          int         3\n",
      "x          function    <function x at 0x0000020FA1878820>\n",
      "y          function    <function y at 0x0000020FA17A3BE0>\n"
     ]
    }
   ],
   "source": [
    "%whos"
   ]
  },
  {
   "cell_type": "code",
   "execution_count": 20,
   "id": "449d2299-4a63-41be-96c9-8909f42ce16d",
   "metadata": {},
   "outputs": [
    {
     "data": {
      "text/plain": [
       "{'__name__': '__main__',\n",
       " '__doc__': 'Automatically created module for IPython interactive environment',\n",
       " '__package__': None,\n",
       " '__loader__': None,\n",
       " '__spec__': None,\n",
       " '__builtin__': <module 'builtins' (built-in)>,\n",
       " '__builtins__': <module 'builtins' (built-in)>,\n",
       " '_ih': ['',\n",
       "  '# LEGB',\n",
       "  'def x():\\n    return a',\n",
       "  'x()',\n",
       "  'a = 1',\n",
       "  'x()',\n",
       "  'a = 2',\n",
       "  'x()',\n",
       "  'a = 3\\ndef y():\\n    # a = 1 # local variable\\n    return a',\n",
       "  'y()',\n",
       "  'a = 3\\ndef y():\\n    a = 1 # local variable\\n    return a',\n",
       "  'y()',\n",
       "  'y() #local 먼저 찾는다',\n",
       "  'a = 3\\ndef y():\\n    global a\\n    a = 1 # local variable\\n    return a',\n",
       "  'y() #local 먼저 찾는다',\n",
       "  'a = 3\\ndef y():\\n    global a\\n    return a',\n",
       "  'y() #local 먼저 찾는다',\n",
       "  'a = 3\\ndef y():\\n    a = 1 # local variable\\n    return a',\n",
       "  'y() #local 먼저 찾는다',\n",
       "  \"get_ipython().run_line_magic('whos', '')\",\n",
       "  'globals()'],\n",
       " '_oh': {5: 1, 7: 2, 9: 3, 11: 1, 12: 1, 14: 1, 16: 3, 18: 1},\n",
       " '_dh': [WindowsPath('C:/Users/USER/Desktop/고려대학교 지능정보 SW아카데미/중급프로그래밍')],\n",
       " 'In': ['',\n",
       "  '# LEGB',\n",
       "  'def x():\\n    return a',\n",
       "  'x()',\n",
       "  'a = 1',\n",
       "  'x()',\n",
       "  'a = 2',\n",
       "  'x()',\n",
       "  'a = 3\\ndef y():\\n    # a = 1 # local variable\\n    return a',\n",
       "  'y()',\n",
       "  'a = 3\\ndef y():\\n    a = 1 # local variable\\n    return a',\n",
       "  'y()',\n",
       "  'y() #local 먼저 찾는다',\n",
       "  'a = 3\\ndef y():\\n    global a\\n    a = 1 # local variable\\n    return a',\n",
       "  'y() #local 먼저 찾는다',\n",
       "  'a = 3\\ndef y():\\n    global a\\n    return a',\n",
       "  'y() #local 먼저 찾는다',\n",
       "  'a = 3\\ndef y():\\n    a = 1 # local variable\\n    return a',\n",
       "  'y() #local 먼저 찾는다',\n",
       "  \"get_ipython().run_line_magic('whos', '')\",\n",
       "  'globals()'],\n",
       " 'Out': {5: 1, 7: 2, 9: 3, 11: 1, 12: 1, 14: 1, 16: 3, 18: 1},\n",
       " 'get_ipython': <bound method InteractiveShell.get_ipython of <ipykernel.zmqshell.ZMQInteractiveShell object at 0x0000020FA1818400>>,\n",
       " 'exit': <IPython.core.autocall.ZMQExitAutocall at 0x20fa18189d0>,\n",
       " 'quit': <IPython.core.autocall.ZMQExitAutocall at 0x20fa18189d0>,\n",
       " 'open': <function io.open(file, mode='r', buffering=-1, encoding=None, errors=None, newline=None, closefd=True, opener=None)>,\n",
       " '_': 1,\n",
       " '__': 3,\n",
       " '___': 1,\n",
       " '_i': '%whos',\n",
       " '_ii': 'y() #local 먼저 찾는다',\n",
       " '_iii': 'a = 3\\ndef y():\\n    a = 1 # local variable\\n    return a',\n",
       " '_i1': '# LEGB',\n",
       " '_i2': 'def x():\\n    return a',\n",
       " 'x': <function __main__.x()>,\n",
       " '_i3': 'x()',\n",
       " '_i4': 'a = 1',\n",
       " 'a': 3,\n",
       " '_i5': 'x()',\n",
       " '_5': 1,\n",
       " '_i6': 'a = 2',\n",
       " '_i7': 'x()',\n",
       " '_7': 2,\n",
       " '_i8': 'a = 3\\ndef y():\\n    # a = 1 # local variable\\n    return a',\n",
       " 'y': <function __main__.y()>,\n",
       " '_i9': 'y()',\n",
       " '_9': 3,\n",
       " '_i10': 'a = 3\\ndef y():\\n    a = 1 # local variable\\n    return a',\n",
       " '_i11': 'y()',\n",
       " '_11': 1,\n",
       " '_i12': 'y() #local 먼저 찾는다',\n",
       " '_12': 1,\n",
       " '_i13': 'a = 3\\ndef y():\\n    global a\\n    a = 1 # local variable\\n    return a',\n",
       " '_i14': 'y() #local 먼저 찾는다',\n",
       " '_14': 1,\n",
       " '_i15': 'a = 3\\ndef y():\\n    global a\\n    return a',\n",
       " '_i16': 'y() #local 먼저 찾는다',\n",
       " '_16': 3,\n",
       " '_i17': 'a = 3\\ndef y():\\n    a = 1 # local variable\\n    return a',\n",
       " '_i18': 'y() #local 먼저 찾는다',\n",
       " '_18': 1,\n",
       " '_i19': '%whos',\n",
       " '_i20': 'globals()'}"
      ]
     },
     "execution_count": 20,
     "metadata": {},
     "output_type": "execute_result"
    }
   ],
   "source": [
    "globals()"
   ]
  },
  {
   "cell_type": "code",
   "execution_count": 30,
   "id": "1d54acf8-dea2-4350-9da3-86e137962fea",
   "metadata": {},
   "outputs": [],
   "source": [
    "print = 1"
   ]
  },
  {
   "cell_type": "code",
   "execution_count": 31,
   "id": "27782848-cdeb-4519-8d09-bf0bf0f415a3",
   "metadata": {},
   "outputs": [
    {
     "ename": "TypeError",
     "evalue": "'int' object is not callable",
     "output_type": "error",
     "traceback": [
      "\u001b[1;31m---------------------------------------------------------------------------\u001b[0m",
      "\u001b[1;31mTypeError\u001b[0m                                 Traceback (most recent call last)",
      "Cell \u001b[1;32mIn[31], line 1\u001b[0m\n\u001b[1;32m----> 1\u001b[0m \u001b[38;5;28;43mprint\u001b[39;49m\u001b[43m(\u001b[49m\u001b[38;5;241;43m1\u001b[39;49m\u001b[43m)\u001b[49m\n",
      "\u001b[1;31mTypeError\u001b[0m: 'int' object is not callable"
     ]
    }
   ],
   "source": [
    "print(1)"
   ]
  },
  {
   "cell_type": "code",
   "execution_count": 32,
   "id": "ca4ecaad-257b-47b7-8d09-d7345570d73c",
   "metadata": {},
   "outputs": [],
   "source": [
    "del print #del(print) #deligate"
   ]
  },
  {
   "cell_type": "code",
   "execution_count": 33,
   "id": "5a2fb8b2-70fc-452e-ad84-237c22415190",
   "metadata": {},
   "outputs": [
    {
     "name": "stdout",
     "output_type": "stream",
     "text": [
      "1\n"
     ]
    }
   ],
   "source": [
    "print(1)"
   ]
  },
  {
   "cell_type": "code",
   "execution_count": 25,
   "id": "45af5113-1b02-4a3f-b25d-cbb5bdea13bf",
   "metadata": {},
   "outputs": [],
   "source": [
    "import builtins"
   ]
  },
  {
   "cell_type": "code",
   "execution_count": 22,
   "id": "a73f54c5-3d80-4005-92db-01f13e4de4f0",
   "metadata": {},
   "outputs": [
    {
     "data": {
      "text/plain": [
       "['ArithmeticError',\n",
       " 'AssertionError',\n",
       " 'AttributeError',\n",
       " 'BaseException',\n",
       " 'BlockingIOError',\n",
       " 'BrokenPipeError',\n",
       " 'BufferError',\n",
       " 'BytesWarning',\n",
       " 'ChildProcessError',\n",
       " 'ConnectionAbortedError',\n",
       " 'ConnectionError',\n",
       " 'ConnectionRefusedError',\n",
       " 'ConnectionResetError',\n",
       " 'DeprecationWarning',\n",
       " 'EOFError',\n",
       " 'Ellipsis',\n",
       " 'EncodingWarning',\n",
       " 'EnvironmentError',\n",
       " 'Exception',\n",
       " 'False',\n",
       " 'FileExistsError',\n",
       " 'FileNotFoundError',\n",
       " 'FloatingPointError',\n",
       " 'FutureWarning',\n",
       " 'GeneratorExit',\n",
       " 'IOError',\n",
       " 'ImportError',\n",
       " 'ImportWarning',\n",
       " 'IndentationError',\n",
       " 'IndexError',\n",
       " 'InterruptedError',\n",
       " 'IsADirectoryError',\n",
       " 'KeyError',\n",
       " 'KeyboardInterrupt',\n",
       " 'LookupError',\n",
       " 'MemoryError',\n",
       " 'ModuleNotFoundError',\n",
       " 'NameError',\n",
       " 'None',\n",
       " 'NotADirectoryError',\n",
       " 'NotImplemented',\n",
       " 'NotImplementedError',\n",
       " 'OSError',\n",
       " 'OverflowError',\n",
       " 'PendingDeprecationWarning',\n",
       " 'PermissionError',\n",
       " 'ProcessLookupError',\n",
       " 'RecursionError',\n",
       " 'ReferenceError',\n",
       " 'ResourceWarning',\n",
       " 'RuntimeError',\n",
       " 'RuntimeWarning',\n",
       " 'StopAsyncIteration',\n",
       " 'StopIteration',\n",
       " 'SyntaxError',\n",
       " 'SyntaxWarning',\n",
       " 'SystemError',\n",
       " 'SystemExit',\n",
       " 'TabError',\n",
       " 'TimeoutError',\n",
       " 'True',\n",
       " 'TypeError',\n",
       " 'UnboundLocalError',\n",
       " 'UnicodeDecodeError',\n",
       " 'UnicodeEncodeError',\n",
       " 'UnicodeError',\n",
       " 'UnicodeTranslateError',\n",
       " 'UnicodeWarning',\n",
       " 'UserWarning',\n",
       " 'ValueError',\n",
       " 'Warning',\n",
       " 'WindowsError',\n",
       " 'ZeroDivisionError',\n",
       " '__IPYTHON__',\n",
       " '__build_class__',\n",
       " '__debug__',\n",
       " '__doc__',\n",
       " '__import__',\n",
       " '__loader__',\n",
       " '__name__',\n",
       " '__package__',\n",
       " '__spec__',\n",
       " 'abs',\n",
       " 'aiter',\n",
       " 'all',\n",
       " 'anext',\n",
       " 'any',\n",
       " 'ascii',\n",
       " 'bin',\n",
       " 'bool',\n",
       " 'breakpoint',\n",
       " 'bytearray',\n",
       " 'bytes',\n",
       " 'callable',\n",
       " 'chr',\n",
       " 'classmethod',\n",
       " 'compile',\n",
       " 'complex',\n",
       " 'copyright',\n",
       " 'credits',\n",
       " 'delattr',\n",
       " 'dict',\n",
       " 'dir',\n",
       " 'display',\n",
       " 'divmod',\n",
       " 'enumerate',\n",
       " 'eval',\n",
       " 'exec',\n",
       " 'execfile',\n",
       " 'filter',\n",
       " 'float',\n",
       " 'format',\n",
       " 'frozenset',\n",
       " 'get_ipython',\n",
       " 'getattr',\n",
       " 'globals',\n",
       " 'hasattr',\n",
       " 'hash',\n",
       " 'help',\n",
       " 'hex',\n",
       " 'id',\n",
       " 'input',\n",
       " 'int',\n",
       " 'isinstance',\n",
       " 'issubclass',\n",
       " 'iter',\n",
       " 'len',\n",
       " 'license',\n",
       " 'list',\n",
       " 'locals',\n",
       " 'map',\n",
       " 'max',\n",
       " 'memoryview',\n",
       " 'min',\n",
       " 'next',\n",
       " 'object',\n",
       " 'oct',\n",
       " 'open',\n",
       " 'ord',\n",
       " 'pow',\n",
       " 'print',\n",
       " 'property',\n",
       " 'range',\n",
       " 'repr',\n",
       " 'reversed',\n",
       " 'round',\n",
       " 'runfile',\n",
       " 'set',\n",
       " 'setattr',\n",
       " 'slice',\n",
       " 'sorted',\n",
       " 'staticmethod',\n",
       " 'str',\n",
       " 'sum',\n",
       " 'super',\n",
       " 'tuple',\n",
       " 'type',\n",
       " 'vars',\n",
       " 'zip']"
      ]
     },
     "execution_count": 22,
     "metadata": {},
     "output_type": "execute_result"
    }
   ],
   "source": [
    "dir(builtins)"
   ]
  },
  {
   "cell_type": "code",
   "execution_count": 40,
   "id": "2ce27e76-3a41-48d0-a023-a53423d9970d",
   "metadata": {},
   "outputs": [],
   "source": [
    "def t():\n",
    "    sss = 1"
   ]
  },
  {
   "cell_type": "code",
   "execution_count": 41,
   "id": "83d36bf0-8775-4013-a79e-bdf12d2b07aa",
   "metadata": {},
   "outputs": [
    {
     "ename": "NameError",
     "evalue": "name 'sss' is not defined",
     "output_type": "error",
     "traceback": [
      "\u001b[1;31m---------------------------------------------------------------------------\u001b[0m",
      "\u001b[1;31mNameError\u001b[0m                                 Traceback (most recent call last)",
      "Cell \u001b[1;32mIn[41], line 1\u001b[0m\n\u001b[1;32m----> 1\u001b[0m \u001b[43msss\u001b[49m\n",
      "\u001b[1;31mNameError\u001b[0m: name 'sss' is not defined"
     ]
    }
   ],
   "source": [
    "sss"
   ]
  },
  {
   "cell_type": "code",
   "execution_count": null,
   "id": "c9f6e89c-0575-4add-b7da-5d74bb3312f7",
   "metadata": {},
   "outputs": [],
   "source": []
  }
 ],
 "metadata": {
  "kernelspec": {
   "display_name": "Python 3 (ipykernel)",
   "language": "python",
   "name": "python3"
  },
  "language_info": {
   "codemirror_mode": {
    "name": "ipython",
    "version": 3
   },
   "file_extension": ".py",
   "mimetype": "text/x-python",
   "name": "python",
   "nbconvert_exporter": "python",
   "pygments_lexer": "ipython3",
   "version": "3.10.4"
  }
 },
 "nbformat": 4,
 "nbformat_minor": 5
}
