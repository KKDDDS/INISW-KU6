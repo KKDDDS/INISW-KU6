{
 "cells": [
  {
   "cell_type": "code",
   "execution_count": 1,
   "id": "48f22c23-09ed-405d-a4f7-afb5310c4173",
   "metadata": {},
   "outputs": [],
   "source": [
    "#for while\n",
    "#for: python에 최적화 됨\n",
    "#while: 무한루프일때만 더 성능이 좋음"
   ]
  },
  {
   "cell_type": "code",
   "execution_count": 8,
   "id": "8b48526a-ee62-441c-964c-020427d32540",
   "metadata": {},
   "outputs": [
    {
     "name": "stdout",
     "output_type": "stream",
     "text": [
      "0\n",
      "1\n",
      "2\n",
      "4\n",
      "5\n",
      "6\n",
      "7\n",
      "8\n",
      "9\n",
      "a\n"
     ]
    }
   ],
   "source": [
    "for i in range(10):\n",
    "    if i==3:\n",
    "        continue\n",
    "    print(i)\n",
    "else:\n",
    "    print('a')"
   ]
  },
  {
   "cell_type": "code",
   "execution_count": 13,
   "id": "2a4c06e7-094f-4e76-8995-c737f8d5f39f",
   "metadata": {},
   "outputs": [
    {
     "name": "stdin",
     "output_type": "stream",
     "text": [
      " a\n"
     ]
    }
   ],
   "source": [
    "a = input()"
   ]
  },
  {
   "cell_type": "code",
   "execution_count": 14,
   "id": "4d56d2ca-ba54-4a51-ba22-5d2a9dc0f240",
   "metadata": {},
   "outputs": [
    {
     "name": "stdin",
     "output_type": "stream",
     "text": [
      " f\n"
     ]
    }
   ],
   "source": [
    "try:\n",
    "    b = int(a) + 3\n",
    "except:\n",
    "    a = input()"
   ]
  },
  {
   "cell_type": "code",
   "execution_count": 3,
   "id": "814e7925-6093-4a05-a32c-ddcc224502ae",
   "metadata": {},
   "outputs": [
    {
     "name": "stdin",
     "output_type": "stream",
     "text": [
      " a\n",
      " v\n",
      " v\n",
      " 3\n"
     ]
    }
   ],
   "source": [
    "while True:\n",
    "    try:\n",
    "        a = input()\n",
    "        b = int(a) + 3\n",
    "    except:\n",
    "        continue\n",
    "    else:\n",
    "        break\n",
    "else:\n",
    "    print(b)"
   ]
  },
  {
   "cell_type": "markdown",
   "id": "03548de7-fe01-4cc1-aa8e-67bb6e842582",
   "metadata": {},
   "source": [
    "## **accumulation pattern**"
   ]
  },
  {
   "cell_type": "code",
   "execution_count": null,
   "id": "6baf88bc-a555-4f36-9423-4bb40fe4e064",
   "metadata": {},
   "outputs": [],
   "source": [
    "moon o가 몇개인가요?"
   ]
  },
  {
   "cell_type": "code",
   "execution_count": 7,
   "id": "ff07a7c7-574b-40ab-8e4e-b0463aa8e3e7",
   "metadata": {},
   "outputs": [],
   "source": [
    "temp = 0\n",
    "for i in 'moon':\n",
    "    if i == 'o':\n",
    "        temp += 1"
   ]
  },
  {
   "cell_type": "code",
   "execution_count": 8,
   "id": "54274e66-5420-49a3-bd4d-5ce8f325edf6",
   "metadata": {},
   "outputs": [
    {
     "data": {
      "text/plain": [
       "2"
      ]
     },
     "execution_count": 8,
     "metadata": {},
     "output_type": "execute_result"
    }
   ],
   "source": [
    "temp"
   ]
  },
  {
   "cell_type": "markdown",
   "id": "5775eb84-ac3d-482c-8301-5af0854ce3ba",
   "metadata": {},
   "source": [
    "# 수학함수 기반"
   ]
  },
  {
   "cell_type": "code",
   "execution_count": 9,
   "id": "00156088-e505-4398-9b41-ff2e4b298727",
   "metadata": {},
   "outputs": [],
   "source": [
    "def x():\n",
    "    return 1"
   ]
  },
  {
   "cell_type": "code",
   "execution_count": null,
   "id": "4e8e7ac3-830b-40f1-999c-86dd1bcea60b",
   "metadata": {},
   "outputs": [],
   "source": [
    "value = type + data"
   ]
  },
  {
   "cell_type": "code",
   "execution_count": 11,
   "id": "dbcf240d-e1e5-49d2-8b65-439065398b0d",
   "metadata": {},
   "outputs": [],
   "source": [
    "a = print #파이썬에서 함수는 first class function 이기 떄문에..."
   ]
  },
  {
   "cell_type": "code",
   "execution_count": 12,
   "id": "106473d6-315e-4616-ac12-4a566763c0ce",
   "metadata": {},
   "outputs": [
    {
     "name": "stdout",
     "output_type": "stream",
     "text": [
      "sun\n"
     ]
    }
   ],
   "source": [
    "a('sun')"
   ]
  },
  {
   "cell_type": "code",
   "execution_count": 21,
   "id": "df26ffd7-555e-47d0-8997-1af2eba7c53e",
   "metadata": {},
   "outputs": [],
   "source": [
    "d  = [x if x%2==0 else '' for x in range(1,11)]"
   ]
  },
  {
   "cell_type": "code",
   "execution_count": 22,
   "id": "57284bc4-5594-4783-88b1-25b4d8f7854c",
   "metadata": {},
   "outputs": [
    {
     "data": {
      "text/plain": [
       "['', 2, '', 4, '', 6, '', 8, '', 10]"
      ]
     },
     "execution_count": 22,
     "metadata": {},
     "output_type": "execute_result"
    }
   ],
   "source": [
    "d"
   ]
  },
  {
   "cell_type": "code",
   "execution_count": 48,
   "id": "d367ad84-5708-4573-8b52-becae770f695",
   "metadata": {},
   "outputs": [],
   "source": [
    "d = list(map(lambda x: x ** 2, range(5)))"
   ]
  },
  {
   "cell_type": "code",
   "execution_count": 59,
   "id": "521f571f-91f9-4ac9-80a2-f85450789599",
   "metadata": {},
   "outputs": [
    {
     "data": {
      "text/plain": [
       "<map at 0x1dd82ee3a90>"
      ]
     },
     "execution_count": 59,
     "metadata": {},
     "output_type": "execute_result"
    }
   ],
   "source": [
    "map(lambda x: x ** 2, range(5))"
   ]
  },
  {
   "cell_type": "code",
   "execution_count": 49,
   "id": "f4e00971-a93e-4461-8419-f899023a627e",
   "metadata": {},
   "outputs": [
    {
     "name": "stdout",
     "output_type": "stream",
     "text": [
      "[0, 1, 4, 9, 16]\n"
     ]
    }
   ],
   "source": [
    "print(d)"
   ]
  },
  {
   "cell_type": "code",
   "execution_count": 35,
   "id": "40758fe7-c7a4-45e4-8ddd-95cc25c0873d",
   "metadata": {},
   "outputs": [
    {
     "name": "stdout",
     "output_type": "stream",
     "text": [
      "216 ms ± 1.8 ms per loop (mean ± std. dev. of 7 runs, 10 loops each)\n"
     ]
    }
   ],
   "source": [
    "%%timeit\n",
    "temp = []\n",
    "for i in range(1000000):\n",
    "    temp.append(i)"
   ]
  },
  {
   "cell_type": "code",
   "execution_count": 36,
   "id": "48238d7b-2ff0-4b75-b947-99923db95851",
   "metadata": {},
   "outputs": [
    {
     "name": "stdout",
     "output_type": "stream",
     "text": [
      "145 ms ± 1.03 ms per loop (mean ± std. dev. of 7 runs, 10 loops each)\n"
     ]
    }
   ],
   "source": [
    "%timeit [i for i in range(1000000)]"
   ]
  },
  {
   "cell_type": "code",
   "execution_count": 50,
   "id": "5a449cd7-24b3-41b1-a08c-4272540e9547",
   "metadata": {},
   "outputs": [
    {
     "data": {
      "text/plain": [
       "{1, 2, 3, 4, 5, 6, 7, 8, 9, 10}"
      ]
     },
     "execution_count": 50,
     "metadata": {},
     "output_type": "execute_result"
    }
   ],
   "source": [
    "{x for x in range(1, 11)}"
   ]
  },
  {
   "cell_type": "code",
   "execution_count": 51,
   "id": "bff051de-ade0-4125-bcc3-415b669cc3ef",
   "metadata": {},
   "outputs": [
    {
     "data": {
      "text/plain": [
       "{1: 1, 2: 2, 3: 3, 4: 4, 5: 5, 6: 6, 7: 7, 8: 8, 9: 9, 10: 10}"
      ]
     },
     "execution_count": 51,
     "metadata": {},
     "output_type": "execute_result"
    }
   ],
   "source": [
    "{x:x for x in range(1, 11)}"
   ]
  },
  {
   "cell_type": "code",
   "execution_count": 55,
   "id": "bbef66f1-d4d8-4359-98fc-5661ed54b5c8",
   "metadata": {},
   "outputs": [
    {
     "data": {
      "text/plain": [
       "<generator object <genexpr> at 0x000001DD82F45700>"
      ]
     },
     "execution_count": 55,
     "metadata": {},
     "output_type": "execute_result"
    }
   ],
   "source": [
    "(x for x in range(1,11))"
   ]
  },
  {
   "cell_type": "code",
   "execution_count": null,
   "id": "9fac10f3-1185-48ed-a7b4-42ae0415294b",
   "metadata": {},
   "outputs": [],
   "source": []
  }
 ],
 "metadata": {
  "kernelspec": {
   "display_name": "Python 3 (ipykernel)",
   "language": "python",
   "name": "python3"
  },
  "language_info": {
   "codemirror_mode": {
    "name": "ipython",
    "version": 3
   },
   "file_extension": ".py",
   "mimetype": "text/x-python",
   "name": "python",
   "nbconvert_exporter": "python",
   "pygments_lexer": "ipython3",
   "version": "3.10.4"
  }
 },
 "nbformat": 4,
 "nbformat_minor": 5
}
