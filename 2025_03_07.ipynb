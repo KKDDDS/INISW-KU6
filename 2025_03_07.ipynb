{
 "cells": [
  {
   "cell_type": "code",
   "execution_count": 1,
   "id": "82b79beb-d199-4f0b-a630-87f4e96a8c58",
   "metadata": {},
   "outputs": [],
   "source": [
    "a = (x for x in range(10))"
   ]
  },
  {
   "cell_type": "code",
   "execution_count": 7,
   "id": "37cb1e49-5625-43b7-b404-86eea78b129d",
   "metadata": {},
   "outputs": [],
   "source": [
    "b = next(a)"
   ]
  },
  {
   "cell_type": "code",
   "execution_count": 8,
   "id": "0728628b-a135-4e51-b455-766df021eab2",
   "metadata": {},
   "outputs": [
    {
     "data": {
      "text/plain": [
       "2"
      ]
     },
     "execution_count": 8,
     "metadata": {},
     "output_type": "execute_result"
    }
   ],
   "source": [
    "b"
   ]
  },
  {
   "cell_type": "markdown",
   "id": "4640c06d-aaed-4a5d-86fa-f3eddaf6fa62",
   "metadata": {},
   "source": [
    "## Iterable"
   ]
  },
  {
   "cell_type": "code",
   "execution_count": null,
   "id": "58fbff53-23eb-4ce3-a6e4-0772b3c3c5ef",
   "metadata": {},
   "outputs": [],
   "source": [
    "순서에 맞쳐서 한개씩 뽑을 수 있는 iterator가 될 수 있는 후보"
   ]
  },
  {
   "cell_type": "code",
   "execution_count": null,
   "id": "e0863cf4-e07f-4dae-a4fb-86ce967d97ed",
   "metadata": {},
   "outputs": [],
   "source": [
    "__iter__"
   ]
  },
  {
   "cell_type": "code",
   "execution_count": 10,
   "id": "70a776fc-5581-4f01-8be0-b6f47de5ccbb",
   "metadata": {},
   "outputs": [],
   "source": [
    "a = [1,2,3]"
   ]
  },
  {
   "cell_type": "code",
   "execution_count": 11,
   "id": "6157f5f1-815c-436e-900a-7bd29e920706",
   "metadata": {},
   "outputs": [
    {
     "data": {
      "text/plain": [
       "['__add__',\n",
       " '__class__',\n",
       " '__class_getitem__',\n",
       " '__contains__',\n",
       " '__delattr__',\n",
       " '__delitem__',\n",
       " '__dir__',\n",
       " '__doc__',\n",
       " '__eq__',\n",
       " '__format__',\n",
       " '__ge__',\n",
       " '__getattribute__',\n",
       " '__getitem__',\n",
       " '__gt__',\n",
       " '__hash__',\n",
       " '__iadd__',\n",
       " '__imul__',\n",
       " '__init__',\n",
       " '__init_subclass__',\n",
       " '__iter__',\n",
       " '__le__',\n",
       " '__len__',\n",
       " '__lt__',\n",
       " '__mul__',\n",
       " '__ne__',\n",
       " '__new__',\n",
       " '__reduce__',\n",
       " '__reduce_ex__',\n",
       " '__repr__',\n",
       " '__reversed__',\n",
       " '__rmul__',\n",
       " '__setattr__',\n",
       " '__setitem__',\n",
       " '__sizeof__',\n",
       " '__str__',\n",
       " '__subclasshook__',\n",
       " 'append',\n",
       " 'clear',\n",
       " 'copy',\n",
       " 'count',\n",
       " 'extend',\n",
       " 'index',\n",
       " 'insert',\n",
       " 'pop',\n",
       " 'remove',\n",
       " 'reverse',\n",
       " 'sort']"
      ]
     },
     "execution_count": 11,
     "metadata": {},
     "output_type": "execute_result"
    }
   ],
   "source": [
    "dir(a)"
   ]
  },
  {
   "cell_type": "code",
   "execution_count": 21,
   "id": "b4622386-1869-4c8b-bf96-0dcb4bcac207",
   "metadata": {},
   "outputs": [],
   "source": [
    "a = [1,2,3]"
   ]
  },
  {
   "cell_type": "code",
   "execution_count": 22,
   "id": "1921d9f0-59c0-436e-9535-4f9afa19fef8",
   "metadata": {},
   "outputs": [],
   "source": [
    "b = iter(a)"
   ]
  },
  {
   "cell_type": "code",
   "execution_count": 23,
   "id": "f0376b37-c728-4bd8-b8cf-9e5db618e1b0",
   "metadata": {},
   "outputs": [
    {
     "data": {
      "text/plain": [
       "<list_iterator at 0x1cc987c9a20>"
      ]
     },
     "execution_count": 23,
     "metadata": {},
     "output_type": "execute_result"
    }
   ],
   "source": [
    "b"
   ]
  },
  {
   "cell_type": "code",
   "execution_count": 24,
   "id": "4b9fa90e-f676-4ef2-9731-eb8596d98351",
   "metadata": {},
   "outputs": [
    {
     "data": {
      "text/plain": [
       "1"
      ]
     },
     "execution_count": 24,
     "metadata": {},
     "output_type": "execute_result"
    }
   ],
   "source": [
    "next(b)"
   ]
  },
  {
   "cell_type": "code",
   "execution_count": null,
   "id": "02263130-0536-4e92-a07a-2168e28cc013",
   "metadata": {},
   "outputs": [],
   "source": [
    "내부적으로 iterable 넣으면 먼저 iterator로 변신"
   ]
  },
  {
   "cell_type": "code",
   "execution_count": 13,
   "id": "9dceb01e-4d82-4366-ab89-4eed5c2cea6e",
   "metadata": {},
   "outputs": [
    {
     "data": {
      "text/plain": [
       "5"
      ]
     },
     "execution_count": 13,
     "metadata": {},
     "output_type": "execute_result"
    }
   ],
   "source": [
    "sum([1,2,3], start=-1)"
   ]
  },
  {
   "cell_type": "code",
   "execution_count": 27,
   "id": "1ad400fe-0894-49a5-bbed-0770a5aa0a2f",
   "metadata": {},
   "outputs": [
    {
     "data": {
      "text/plain": [
       "True"
      ]
     },
     "execution_count": 27,
     "metadata": {},
     "output_type": "execute_result"
    }
   ],
   "source": [
    "any([1,2,3])"
   ]
  },
  {
   "cell_type": "code",
   "execution_count": 28,
   "id": "f2d5a1ba-c1e3-4151-9ece-59744722c375",
   "metadata": {},
   "outputs": [
    {
     "name": "stdout",
     "output_type": "stream",
     "text": [
      "The \"for\" statement\n",
      "*******************\n",
      "\n",
      "The \"for\" statement is used to iterate over the elements of a sequence\n",
      "(such as a string, tuple or list) or other iterable object:\n",
      "\n",
      "   for_stmt ::= \"for\" target_list \"in\" expression_list \":\" suite\n",
      "                [\"else\" \":\" suite]\n",
      "\n",
      "The expression list is evaluated once; it should yield an iterable\n",
      "object.  An iterator is created for the result of the\n",
      "\"expression_list\".  The suite is then executed once for each item\n",
      "provided by the iterator, in the order returned by the iterator.  Each\n",
      "item in turn is assigned to the target list using the standard rules\n",
      "for assignments (see Assignment statements), and then the suite is\n",
      "executed.  When the items are exhausted (which is immediately when the\n",
      "sequence is empty or an iterator raises a \"StopIteration\" exception),\n",
      "the suite in the \"else\" clause, if present, is executed, and the loop\n",
      "terminates.\n",
      "\n",
      "A \"break\" statement executed in the first suite terminates the loop\n",
      "without executing the \"else\" clause’s suite.  A \"continue\" statement\n",
      "executed in the first suite skips the rest of the suite and continues\n",
      "with the next item, or with the \"else\" clause if there is no next\n",
      "item.\n",
      "\n",
      "The for-loop makes assignments to the variables in the target list.\n",
      "This overwrites all previous assignments to those variables including\n",
      "those made in the suite of the for-loop:\n",
      "\n",
      "   for i in range(10):\n",
      "       print(i)\n",
      "       i = 5             # this will not affect the for-loop\n",
      "                         # because i will be overwritten with the next\n",
      "                         # index in the range\n",
      "\n",
      "Names in the target list are not deleted when the loop is finished,\n",
      "but if the sequence is empty, they will not have been assigned to at\n",
      "all by the loop.  Hint: the built-in function \"range()\" returns an\n",
      "iterator of integers suitable to emulate the effect of Pascal’s \"for i\n",
      ":= a to b do\"; e.g., \"list(range(3))\" returns the list \"[0, 1, 2]\".\n",
      "\n",
      "Related help topics: break, continue, while\n",
      "\n"
     ]
    }
   ],
   "source": [
    "help('for')"
   ]
  },
  {
   "cell_type": "code",
   "execution_count": null,
   "id": "9529ce28-8d41-4cbb-8636-f59bfac438e5",
   "metadata": {},
   "outputs": [],
   "source": [
    "__iter__가 정의되어있으면 iterable"
   ]
  },
  {
   "cell_type": "code",
   "execution_count": 30,
   "id": "feb22ce8-5dcb-4935-9388-b6fc9bcaf6e6",
   "metadata": {},
   "outputs": [
    {
     "ename": "SyntaxError",
     "evalue": "invalid syntax (1988539967.py, line 1)",
     "output_type": "error",
     "traceback": [
      "\u001b[1;36m  Cell \u001b[1;32mIn[30], line 1\u001b[1;36m\u001b[0m\n\u001b[1;33m    'iter' in dir(1):\u001b[0m\n\u001b[1;37m                    ^\u001b[0m\n\u001b[1;31mSyntaxError\u001b[0m\u001b[1;31m:\u001b[0m invalid syntax\n"
     ]
    }
   ],
   "source": [
    "'iter' in dir(1):"
   ]
  },
  {
   "cell_type": "code",
   "execution_count": 31,
   "id": "9ac440a0-745c-4ced-b6a3-9f84819c9eb7",
   "metadata": {},
   "outputs": [
    {
     "ename": "TypeError",
     "evalue": "'int' object is not iterable",
     "output_type": "error",
     "traceback": [
      "\u001b[1;31m---------------------------------------------------------------------------\u001b[0m",
      "\u001b[1;31mTypeError\u001b[0m                                 Traceback (most recent call last)",
      "Cell \u001b[1;32mIn[31], line 1\u001b[0m\n\u001b[1;32m----> 1\u001b[0m \u001b[38;5;28;01mfor\u001b[39;00m i \u001b[38;5;129;01min\u001b[39;00m \u001b[38;5;241m1\u001b[39m:\n\u001b[0;32m      2\u001b[0m     \u001b[38;5;28mprint\u001b[39m(i)\n",
      "\u001b[1;31mTypeError\u001b[0m: 'int' object is not iterable"
     ]
    }
   ],
   "source": [
    "for i in 1:\n",
    "    print(i)"
   ]
  },
  {
   "cell_type": "code",
   "execution_count": 32,
   "id": "9371009d-2da3-4702-9d9e-697e158574bf",
   "metadata": {},
   "outputs": [],
   "source": [
    "a = [1,2,3]"
   ]
  },
  {
   "cell_type": "code",
   "execution_count": 33,
   "id": "d9bd1aab-1f75-438d-9ab6-7d2145c42db0",
   "metadata": {},
   "outputs": [],
   "source": [
    "b = iter(a)"
   ]
  },
  {
   "cell_type": "code",
   "execution_count": 34,
   "id": "da998e13-8455-491c-8b62-4290672c0fa9",
   "metadata": {},
   "outputs": [
    {
     "data": {
      "text/plain": [
       "1"
      ]
     },
     "execution_count": 34,
     "metadata": {},
     "output_type": "execute_result"
    }
   ],
   "source": [
    "next(b)"
   ]
  },
  {
   "cell_type": "code",
   "execution_count": 35,
   "id": "597fb4ce-6bfc-4c95-9c7d-ae950a8908b3",
   "metadata": {},
   "outputs": [
    {
     "ename": "TypeError",
     "evalue": "'list_iterator' object is not subscriptable",
     "output_type": "error",
     "traceback": [
      "\u001b[1;31m---------------------------------------------------------------------------\u001b[0m",
      "\u001b[1;31mTypeError\u001b[0m                                 Traceback (most recent call last)",
      "Cell \u001b[1;32mIn[35], line 1\u001b[0m\n\u001b[1;32m----> 1\u001b[0m \u001b[43mb\u001b[49m\u001b[43m[\u001b[49m\u001b[38;5;241;43m1\u001b[39;49m\u001b[43m]\u001b[49m\n",
      "\u001b[1;31mTypeError\u001b[0m: 'list_iterator' object is not subscriptable"
     ]
    }
   ],
   "source": [
    "b[1]"
   ]
  },
  {
   "cell_type": "code",
   "execution_count": 36,
   "id": "30257df5-09f0-49b1-9707-269a896029c0",
   "metadata": {},
   "outputs": [
    {
     "data": {
      "text/plain": [
       "2"
      ]
     },
     "execution_count": 36,
     "metadata": {},
     "output_type": "execute_result"
    }
   ],
   "source": [
    "next(b)"
   ]
  },
  {
   "cell_type": "code",
   "execution_count": null,
   "id": "4d9b7c3d-d654-42b9-a4b0-a90fe60b46a3",
   "metadata": {},
   "outputs": [],
   "source": [
    "generator는 친척: 만드는 방식만 다름 #aspect programming"
   ]
  },
  {
   "cell_type": "code",
   "execution_count": 40,
   "id": "2007ce7b-a5ab-47ea-a2be-457b9fda1dc4",
   "metadata": {},
   "outputs": [
    {
     "data": {
      "text/plain": [
       "<generator object <genexpr> at 0x000001CC985F3450>"
      ]
     },
     "execution_count": 40,
     "metadata": {},
     "output_type": "execute_result"
    }
   ],
   "source": [
    "(x for x in range(10)) #1"
   ]
  },
  {
   "cell_type": "code",
   "execution_count": 41,
   "id": "31fed7f4-4255-4b64-b6ec-015d4dbed8d5",
   "metadata": {},
   "outputs": [],
   "source": [
    "def a():\n",
    "    yield 1\n",
    "    yield 2"
   ]
  },
  {
   "cell_type": "code",
   "execution_count": 42,
   "id": "19b4f4f7-667d-4e2f-93e4-a67979110564",
   "metadata": {},
   "outputs": [],
   "source": [
    "b = a()"
   ]
  },
  {
   "cell_type": "code",
   "execution_count": 44,
   "id": "a8aa0be2-653c-4409-a0d0-2e2ae69225c4",
   "metadata": {},
   "outputs": [
    {
     "data": {
      "text/plain": [
       "<generator object a at 0x000001CC985F3610>"
      ]
     },
     "execution_count": 44,
     "metadata": {},
     "output_type": "execute_result"
    }
   ],
   "source": [
    "b #2"
   ]
  },
  {
   "cell_type": "code",
   "execution_count": 45,
   "id": "f05d1ef1-23ff-4cec-b633-3736e1f1be18",
   "metadata": {},
   "outputs": [
    {
     "data": {
      "text/plain": [
       "True"
      ]
     },
     "execution_count": 45,
     "metadata": {},
     "output_type": "execute_result"
    }
   ],
   "source": [
    "1 in [1,2,3]"
   ]
  },
  {
   "cell_type": "code",
   "execution_count": 48,
   "id": "80f1bc5c-f11d-4331-a716-2a5f2f251bd0",
   "metadata": {},
   "outputs": [
    {
     "name": "stdout",
     "output_type": "stream",
     "text": [
      "Membership test operations\n",
      "**************************\n",
      "\n",
      "The operators \"in\" and \"not in\" test for membership.  \"x in s\"\n",
      "evaluates to \"True\" if *x* is a member of *s*, and \"False\" otherwise.\n",
      "\"x not in s\" returns the negation of \"x in s\".  All built-in sequences\n",
      "and set types support this as well as dictionary, for which \"in\" tests\n",
      "whether the dictionary has a given key. For container types such as\n",
      "list, tuple, set, frozenset, dict, or collections.deque, the\n",
      "expression \"x in y\" is equivalent to \"any(x is e or x == e for e in\n",
      "y)\".\n",
      "\n",
      "For the string and bytes types, \"x in y\" is \"True\" if and only if *x*\n",
      "is a substring of *y*.  An equivalent test is \"y.find(x) != -1\".\n",
      "Empty strings are always considered to be a substring of any other\n",
      "string, so \"\"\" in \"abc\"\" will return \"True\".\n",
      "\n",
      "For user-defined classes which define the \"__contains__()\" method, \"x\n",
      "in y\" returns \"True\" if \"y.__contains__(x)\" returns a true value, and\n",
      "\"False\" otherwise.\n",
      "\n",
      "For user-defined classes which do not define \"__contains__()\" but do\n",
      "define \"__iter__()\", \"x in y\" is \"True\" if some value \"z\", for which\n",
      "the expression \"x is z or x == z\" is true, is produced while iterating\n",
      "over \"y\". If an exception is raised during the iteration, it is as if\n",
      "\"in\" raised that exception.\n",
      "\n",
      "Lastly, the old-style iteration protocol is tried: if a class defines\n",
      "\"__getitem__()\", \"x in y\" is \"True\" if and only if there is a non-\n",
      "negative integer index *i* such that \"x is y[i] or x == y[i]\", and no\n",
      "lower integer index raises the \"IndexError\" exception.  (If any other\n",
      "exception is raised, it is as if \"in\" raised that exception).\n",
      "\n",
      "The operator \"not in\" is defined to have the inverse truth value of\n",
      "\"in\".\n",
      "\n",
      "Related help topics: SEQUENCEMETHODS\n",
      "\n"
     ]
    }
   ],
   "source": [
    "help('in')"
   ]
  },
  {
   "cell_type": "code",
   "execution_count": 49,
   "id": "95cc92da-ef40-4808-b956-78d6323fc1e2",
   "metadata": {},
   "outputs": [
    {
     "data": {
      "text/plain": [
       "['a', 'b', 'c', 'd']"
      ]
     },
     "execution_count": 49,
     "metadata": {},
     "output_type": "execute_result"
    }
   ],
   "source": [
    "list('abcd')"
   ]
  },
  {
   "cell_type": "code",
   "execution_count": 50,
   "id": "448ff2bf-476f-489c-b54f-182c68da37a3",
   "metadata": {},
   "outputs": [],
   "source": [
    "import dis"
   ]
  },
  {
   "cell_type": "code",
   "execution_count": 51,
   "id": "b59269c7-161f-4b18-bb75-4a91680f32a9",
   "metadata": {},
   "outputs": [],
   "source": [
    "def x():\n",
    "    a = list('abcd')"
   ]
  },
  {
   "cell_type": "code",
   "execution_count": 52,
   "id": "3ff4b4f6-de4c-40c7-9e5d-0cf25e55ccd3",
   "metadata": {},
   "outputs": [
    {
     "name": "stdout",
     "output_type": "stream",
     "text": [
      "  2           0 LOAD_GLOBAL              0 (list)\n",
      "              2 LOAD_CONST               1 ('abcd')\n",
      "              4 CALL_FUNCTION            1\n",
      "              6 STORE_FAST               0 (a)\n",
      "              8 LOAD_CONST               0 (None)\n",
      "             10 RETURN_VALUE\n"
     ]
    }
   ],
   "source": [
    "dis.dis(x)"
   ]
  },
  {
   "cell_type": "code",
   "execution_count": 53,
   "id": "71e9cd26-a94a-459a-9541-816070cd2afd",
   "metadata": {},
   "outputs": [
    {
     "name": "stdout",
     "output_type": "stream",
     "text": [
      "Writing a.txt\n"
     ]
    }
   ],
   "source": [
    "%%writefile a.txt\n",
    "asdasdfasf\n",
    "asf asdf sadfsaf asfd\n",
    "sadf sdf asfd f"
   ]
  },
  {
   "cell_type": "code",
   "execution_count": 55,
   "id": "645d494b-d875-4eb8-90d5-6e811f032e73",
   "metadata": {},
   "outputs": [],
   "source": [
    "a = open('a.txt')"
   ]
  },
  {
   "cell_type": "code",
   "execution_count": 56,
   "id": "5786da50-3ef3-4130-b218-4bb3c14e44ed",
   "metadata": {},
   "outputs": [
    {
     "data": {
      "text/plain": [
       "'asdasdfasf\\n'"
      ]
     },
     "execution_count": 56,
     "metadata": {},
     "output_type": "execute_result"
    }
   ],
   "source": [
    "a.readline()"
   ]
  },
  {
   "cell_type": "code",
   "execution_count": 57,
   "id": "ef702625-7217-489c-8ed7-55a169981042",
   "metadata": {},
   "outputs": [
    {
     "data": {
      "text/plain": [
       "'asf asdf sadfsaf asfd\\n'"
      ]
     },
     "execution_count": 57,
     "metadata": {},
     "output_type": "execute_result"
    }
   ],
   "source": [
    "next(a)"
   ]
  },
  {
   "cell_type": "code",
   "execution_count": 58,
   "id": "d49a0f1e-fb5d-4b03-83e6-12218cfea272",
   "metadata": {},
   "outputs": [
    {
     "data": {
      "text/plain": [
       "<function dir>"
      ]
     },
     "execution_count": 58,
     "metadata": {},
     "output_type": "execute_result"
    }
   ],
   "source": [
    "dir"
   ]
  },
  {
   "cell_type": "code",
   "execution_count": null,
   "id": "c54ac349-247f-48cd-b255-719a3c8f3942",
   "metadata": {},
   "outputs": [],
   "source": [
    "__iter__: iterable\n",
    "__next__: iterator / generator (next)"
   ]
  },
  {
   "cell_type": "code",
   "execution_count": null,
   "id": "48dd08c2-9db6-4459-aca8-0ca81fb41554",
   "metadata": {},
   "outputs": [],
   "source": [
    "an+1 = an+2 a1 =0"
   ]
  },
  {
   "cell_type": "code",
   "execution_count": 59,
   "id": "3e02613d-f932-49d1-a2c7-8d699f035e4f",
   "metadata": {},
   "outputs": [],
   "source": [
    "def x(n):\n",
    "    if n==1:\n",
    "        return 0\n",
    "    return x(n-1) +2"
   ]
  },
  {
   "cell_type": "code",
   "execution_count": 60,
   "id": "c6230e73-7c8e-482f-937d-f3de62716847",
   "metadata": {},
   "outputs": [
    {
     "data": {
      "text/plain": [
       "4"
      ]
     },
     "execution_count": 60,
     "metadata": {},
     "output_type": "execute_result"
    }
   ],
   "source": [
    "x(3)"
   ]
  },
  {
   "cell_type": "code",
   "execution_count": 61,
   "id": "4d7280dd-cda3-44d2-bfc1-011720613fb7",
   "metadata": {},
   "outputs": [],
   "source": [
    "def fin(x):\n",
    "    if x in [1,2]:\n",
    "        return 1\n",
    "    return fin(x-1)+fin(x-2)"
   ]
  },
  {
   "cell_type": "code",
   "execution_count": 63,
   "id": "307c5b47-158c-4c40-a696-b3e8f4cbee37",
   "metadata": {},
   "outputs": [
    {
     "data": {
      "text/plain": [
       "55"
      ]
     },
     "execution_count": 63,
     "metadata": {},
     "output_type": "execute_result"
    }
   ],
   "source": [
    "fin(10)"
   ]
  },
  {
   "cell_type": "code",
   "execution_count": 64,
   "id": "49c6c784-27b8-4975-867d-1e334ad05e8e",
   "metadata": {},
   "outputs": [],
   "source": [
    "a = [1,2,3]"
   ]
  },
  {
   "cell_type": "code",
   "execution_count": 68,
   "id": "0659564b-1f96-42d8-8c47-db74d96c9b00",
   "metadata": {},
   "outputs": [],
   "source": [
    "a = lambda x: x+1"
   ]
  },
  {
   "cell_type": "code",
   "execution_count": 69,
   "id": "ee3c7a8c-5e3d-4129-ba8b-4994d89135f0",
   "metadata": {},
   "outputs": [
    {
     "data": {
      "text/plain": [
       "2"
      ]
     },
     "execution_count": 69,
     "metadata": {},
     "output_type": "execute_result"
    }
   ],
   "source": [
    "a(1)"
   ]
  },
  {
   "cell_type": "code",
   "execution_count": 77,
   "id": "8116040c-b3b2-41f0-9d73-464df1bc5257",
   "metadata": {},
   "outputs": [],
   "source": [
    "b = map(lambda x: x+1, [1,2,3,4])"
   ]
  },
  {
   "cell_type": "code",
   "execution_count": 78,
   "id": "1cb162e1-e520-4ee9-8923-a3ab62ddb90b",
   "metadata": {},
   "outputs": [
    {
     "data": {
      "text/plain": [
       "2"
      ]
     },
     "execution_count": 78,
     "metadata": {},
     "output_type": "execute_result"
    }
   ],
   "source": [
    "next(b)"
   ]
  },
  {
   "cell_type": "code",
   "execution_count": 79,
   "id": "810d4d29-e81b-4732-bb19-963d1183b668",
   "metadata": {},
   "outputs": [],
   "source": [
    "x = [1,2,3,4]"
   ]
  },
  {
   "cell_type": "code",
   "execution_count": 80,
   "id": "4132838e-2886-4d1d-842c-988e4e0e55a9",
   "metadata": {},
   "outputs": [],
   "source": [
    "temp = []\n",
    "for i in x:\n",
    "    temp.append(i+1)"
   ]
  },
  {
   "cell_type": "code",
   "execution_count": 81,
   "id": "75858d69-3cc2-4a5d-a444-d89c812e9ab8",
   "metadata": {},
   "outputs": [
    {
     "data": {
      "text/plain": [
       "[2, 3, 4, 5]"
      ]
     },
     "execution_count": 81,
     "metadata": {},
     "output_type": "execute_result"
    }
   ],
   "source": [
    "temp"
   ]
  },
  {
   "cell_type": "code",
   "execution_count": 82,
   "id": "d091283a-b615-4b27-bc5c-8341229ed02c",
   "metadata": {},
   "outputs": [
    {
     "data": {
      "text/plain": [
       "[2, 3, 4, 5]"
      ]
     },
     "execution_count": 82,
     "metadata": {},
     "output_type": "execute_result"
    }
   ],
   "source": [
    "[a+1 for a in x]"
   ]
  },
  {
   "cell_type": "code",
   "execution_count": 83,
   "id": "d11b0249-e3b1-4af0-a586-b013028d2ab8",
   "metadata": {},
   "outputs": [
    {
     "data": {
      "text/plain": [
       "[2, 3, 4, 5]"
      ]
     },
     "execution_count": 83,
     "metadata": {},
     "output_type": "execute_result"
    }
   ],
   "source": [
    "list(map(lambda x:x+1, [1,2,3,4]))"
   ]
  },
  {
   "cell_type": "markdown",
   "id": "65deead4-4a9c-4b5d-82ff-b5731fd2838b",
   "metadata": {},
   "source": [
    "# first class function"
   ]
  },
  {
   "cell_type": "markdown",
   "id": "75f3081f-5932-4dc6-bff8-b8ab7867a366",
   "metadata": {},
   "source": [
    "# higher order function\n",
    ": 함수를 인자로 받고, 리턴할 수 있는 함수"
   ]
  },
  {
   "cell_type": "code",
   "execution_count": 85,
   "id": "e45335f0-3bc1-4580-87b9-75be034fa23e",
   "metadata": {},
   "outputs": [],
   "source": [
    "def x():\n",
    "    def y():\n",
    "        return 1\n",
    "    return y"
   ]
  },
  {
   "cell_type": "code",
   "execution_count": 86,
   "id": "7f5742af-f089-49d3-967f-3c4e2db1fd4a",
   "metadata": {},
   "outputs": [
    {
     "data": {
      "text/plain": [
       "<function __main__.x.<locals>.y()>"
      ]
     },
     "execution_count": 86,
     "metadata": {},
     "output_type": "execute_result"
    }
   ],
   "source": [
    "x()"
   ]
  },
  {
   "cell_type": "code",
   "execution_count": 87,
   "id": "3cb52d0a-c844-4134-ac31-a2665f9b2ac0",
   "metadata": {},
   "outputs": [
    {
     "data": {
      "text/plain": [
       "1"
      ]
     },
     "execution_count": 87,
     "metadata": {},
     "output_type": "execute_result"
    }
   ],
   "source": [
    "x()()"
   ]
  },
  {
   "cell_type": "code",
   "execution_count": null,
   "id": "9c5730ca-627e-4817-8811-5dbd7670e763",
   "metadata": {},
   "outputs": [],
   "source": []
  }
 ],
 "metadata": {
  "kernelspec": {
   "display_name": "Python 3 (ipykernel)",
   "language": "python",
   "name": "python3"
  },
  "language_info": {
   "codemirror_mode": {
    "name": "ipython",
    "version": 3
   },
   "file_extension": ".py",
   "mimetype": "text/x-python",
   "name": "python",
   "nbconvert_exporter": "python",
   "pygments_lexer": "ipython3",
   "version": "3.10.4"
  }
 },
 "nbformat": 4,
 "nbformat_minor": 5
}
