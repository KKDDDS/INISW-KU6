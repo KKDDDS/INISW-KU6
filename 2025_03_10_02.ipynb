{
 "cells": [
  {
   "cell_type": "code",
   "execution_count": 51,
   "id": "82d60f20-369e-459d-9d3d-2aabf96a2259",
   "metadata": {},
   "outputs": [],
   "source": [
    "class A:\n",
    "    a = 1             # class 변수\n",
    "    def x(self):      # (instance) 메소드\n",
    "        self.b = 1    # b = instance 변수 : 인스턴스 메소드가 실행될 시점에 생성\n",
    "        print('x')\n",
    "    @classmethod\n",
    "    def yy(cls):      # class method\n",
    "        print('cls')"
   ]
  },
  {
   "cell_type": "code",
   "execution_count": 55,
   "id": "591b6608-7daf-4e9b-bc5c-df42779f0306",
   "metadata": {},
   "outputs": [
    {
     "name": "stdout",
     "output_type": "stream",
     "text": [
      "cls\n"
     ]
    }
   ],
   "source": [
    "A.yy()"
   ]
  },
  {
   "cell_type": "code",
   "execution_count": 61,
   "id": "38b35029-1c1a-4759-8f96-ec6d07f9badc",
   "metadata": {},
   "outputs": [
    {
     "name": "stdout",
     "output_type": "stream",
     "text": [
      "cls\n"
     ]
    }
   ],
   "source": [
    "A().yy()"
   ]
  },
  {
   "cell_type": "code",
   "execution_count": 12,
   "id": "77e06463-15ec-4c00-9de0-fdac30f3b502",
   "metadata": {},
   "outputs": [
    {
     "data": {
      "text/plain": [
       "1"
      ]
     },
     "execution_count": 12,
     "metadata": {},
     "output_type": "execute_result"
    }
   ],
   "source": [
    "A.a"
   ]
  },
  {
   "cell_type": "code",
   "execution_count": 13,
   "id": "79ead908-fdf8-496a-bbbd-8ce32fb6d6de",
   "metadata": {},
   "outputs": [
    {
     "ename": "AttributeError",
     "evalue": "type object 'A' has no attribute 'b'",
     "output_type": "error",
     "traceback": [
      "\u001b[1;31m---------------------------------------------------------------------------\u001b[0m",
      "\u001b[1;31mAttributeError\u001b[0m                            Traceback (most recent call last)",
      "Cell \u001b[1;32mIn[13], line 1\u001b[0m\n\u001b[1;32m----> 1\u001b[0m \u001b[43mA\u001b[49m\u001b[38;5;241;43m.\u001b[39;49m\u001b[43mb\u001b[49m\n",
      "\u001b[1;31mAttributeError\u001b[0m: type object 'A' has no attribute 'b'"
     ]
    }
   ],
   "source": [
    "A.b"
   ]
  },
  {
   "cell_type": "code",
   "execution_count": 14,
   "id": "4cb8fd0e-01e3-4b60-bcc2-2adc82becca1",
   "metadata": {},
   "outputs": [],
   "source": [
    "aa = A()"
   ]
  },
  {
   "cell_type": "code",
   "execution_count": 19,
   "id": "78b65401-2507-405e-b6f6-784ce313f391",
   "metadata": {},
   "outputs": [
    {
     "name": "stdout",
     "output_type": "stream",
     "text": [
      "x\n"
     ]
    }
   ],
   "source": [
    "aa.x()"
   ]
  },
  {
   "cell_type": "code",
   "execution_count": 21,
   "id": "e6b6c959-660b-44c5-8026-b24d11562fd8",
   "metadata": {
    "scrolled": true
   },
   "outputs": [
    {
     "data": {
      "text/plain": [
       "['__class__',\n",
       " '__delattr__',\n",
       " '__dict__',\n",
       " '__dir__',\n",
       " '__doc__',\n",
       " '__eq__',\n",
       " '__format__',\n",
       " '__ge__',\n",
       " '__getattribute__',\n",
       " '__gt__',\n",
       " '__hash__',\n",
       " '__init__',\n",
       " '__init_subclass__',\n",
       " '__le__',\n",
       " '__lt__',\n",
       " '__module__',\n",
       " '__ne__',\n",
       " '__new__',\n",
       " '__reduce__',\n",
       " '__reduce_ex__',\n",
       " '__repr__',\n",
       " '__setattr__',\n",
       " '__sizeof__',\n",
       " '__str__',\n",
       " '__subclasshook__',\n",
       " '__weakref__',\n",
       " 'a',\n",
       " 'b',\n",
       " 'x']"
      ]
     },
     "execution_count": 21,
     "metadata": {},
     "output_type": "execute_result"
    }
   ],
   "source": [
    "dir(aa)"
   ]
  },
  {
   "cell_type": "code",
   "execution_count": 28,
   "id": "637b02d6-3eab-4929-88b8-ed73f37fa028",
   "metadata": {},
   "outputs": [],
   "source": [
    "class A:\n",
    "    def __init__(self):\n",
    "        self.b = 1"
   ]
  },
  {
   "cell_type": "code",
   "execution_count": 30,
   "id": "c09841f1-90c3-498e-88d8-92bfdd56c235",
   "metadata": {},
   "outputs": [],
   "source": [
    "aaa = A()"
   ]
  },
  {
   "cell_type": "code",
   "execution_count": 31,
   "id": "f5b4c4ab-e40e-4ec3-9763-514c29e05278",
   "metadata": {},
   "outputs": [
    {
     "data": {
      "text/plain": [
       "{'b': 1}"
      ]
     },
     "execution_count": 31,
     "metadata": {},
     "output_type": "execute_result"
    }
   ],
   "source": [
    "vars(aaa)"
   ]
  },
  {
   "cell_type": "code",
   "execution_count": 33,
   "id": "6255d08d-9450-420e-9188-d477fbde8706",
   "metadata": {},
   "outputs": [],
   "source": [
    "class B:\n",
    "    bb = 1"
   ]
  },
  {
   "cell_type": "code",
   "execution_count": 35,
   "id": "fd72ea36-5ad2-4f0a-bd61-45a07aaa5cd2",
   "metadata": {},
   "outputs": [],
   "source": [
    "b = B()\n",
    "b.t = 1"
   ]
  },
  {
   "cell_type": "code",
   "execution_count": 36,
   "id": "5fbe3f4b-b0b4-478f-8427-67ca810f2544",
   "metadata": {},
   "outputs": [
    {
     "data": {
      "text/plain": [
       "{'t': 1}"
      ]
     },
     "execution_count": 36,
     "metadata": {},
     "output_type": "execute_result"
    }
   ],
   "source": [
    "vars(b)"
   ]
  },
  {
   "cell_type": "code",
   "execution_count": 37,
   "id": "c0335702-c5cd-470b-9e71-caa1c3e7317e",
   "metadata": {},
   "outputs": [],
   "source": [
    "c = B()"
   ]
  },
  {
   "cell_type": "code",
   "execution_count": 38,
   "id": "00b38b07-9dc7-4d1d-8bed-a09109890537",
   "metadata": {},
   "outputs": [
    {
     "data": {
      "text/plain": [
       "{}"
      ]
     },
     "execution_count": 38,
     "metadata": {},
     "output_type": "execute_result"
    }
   ],
   "source": [
    "vars(c)"
   ]
  },
  {
   "cell_type": "code",
   "execution_count": 39,
   "id": "ef5ead88-72fc-4923-b447-935b297a1b63",
   "metadata": {},
   "outputs": [
    {
     "data": {
      "text/plain": [
       "1"
      ]
     },
     "execution_count": 39,
     "metadata": {},
     "output_type": "execute_result"
    }
   ],
   "source": [
    "c.bb"
   ]
  },
  {
   "cell_type": "code",
   "execution_count": 40,
   "id": "262e7068-736f-4973-bcd9-a6847041126e",
   "metadata": {},
   "outputs": [],
   "source": [
    "c.bb = 3"
   ]
  },
  {
   "cell_type": "code",
   "execution_count": 41,
   "id": "9c4e8237-94e9-4978-8726-2a7c8cee15a1",
   "metadata": {},
   "outputs": [
    {
     "data": {
      "text/plain": [
       "3"
      ]
     },
     "execution_count": 41,
     "metadata": {},
     "output_type": "execute_result"
    }
   ],
   "source": [
    "c.bb"
   ]
  },
  {
   "cell_type": "code",
   "execution_count": 42,
   "id": "48100d06-cbf8-43a6-a900-ef65631e415f",
   "metadata": {},
   "outputs": [],
   "source": [
    "class X:\n",
    "    tt = 1"
   ]
  },
  {
   "cell_type": "code",
   "execution_count": 43,
   "id": "1fafa063-796b-4746-8fb9-567dd40bf012",
   "metadata": {},
   "outputs": [],
   "source": [
    "aa = X()\n",
    "bb = X()"
   ]
  },
  {
   "cell_type": "code",
   "execution_count": 44,
   "id": "9f449d04-968e-480e-8c6e-2b4d597b25a1",
   "metadata": {},
   "outputs": [],
   "source": [
    "aa.tt = 3"
   ]
  },
  {
   "cell_type": "code",
   "execution_count": 45,
   "id": "8c5d56c6-bf33-4413-9044-f8ef05ef0aba",
   "metadata": {},
   "outputs": [
    {
     "data": {
      "text/plain": [
       "{'tt': 3}"
      ]
     },
     "execution_count": 45,
     "metadata": {},
     "output_type": "execute_result"
    }
   ],
   "source": [
    "vars(aa)"
   ]
  },
  {
   "cell_type": "code",
   "execution_count": 46,
   "id": "ddb433d9-cc5d-4e25-b301-0644386177b2",
   "metadata": {},
   "outputs": [
    {
     "data": {
      "text/plain": [
       "1"
      ]
     },
     "execution_count": 46,
     "metadata": {},
     "output_type": "execute_result"
    }
   ],
   "source": [
    "bb.tt"
   ]
  },
  {
   "cell_type": "code",
   "execution_count": 47,
   "id": "ee1b4fb7-9d4d-42d7-a356-b281a3997b37",
   "metadata": {},
   "outputs": [],
   "source": [
    "X.tt = 'bc'"
   ]
  },
  {
   "cell_type": "code",
   "execution_count": 48,
   "id": "fa4ee98e-c7b2-4c50-864f-1f5870d2f5d8",
   "metadata": {},
   "outputs": [
    {
     "data": {
      "text/plain": [
       "'bc'"
      ]
     },
     "execution_count": 48,
     "metadata": {},
     "output_type": "execute_result"
    }
   ],
   "source": [
    "bb.tt"
   ]
  },
  {
   "cell_type": "code",
   "execution_count": 49,
   "id": "dceb4154-c535-4e90-93aa-da8ecdab40d3",
   "metadata": {},
   "outputs": [
    {
     "data": {
      "text/plain": [
       "3"
      ]
     },
     "execution_count": 49,
     "metadata": {},
     "output_type": "execute_result"
    }
   ],
   "source": [
    "aa.tt"
   ]
  },
  {
   "cell_type": "code",
   "execution_count": 63,
   "id": "0c677841-b140-4eab-a28f-cb8fc9badf52",
   "metadata": {},
   "outputs": [],
   "source": [
    "class Math: #이름이 네임스페이스\n",
    "    def sin(self, x):\n",
    "        print('sin')\n",
    "    def cos(self, x): ...\n",
    "\n",
    "    @staticmethod\n",
    "    def tan(x):\n",
    "        print('tan')"
   ]
  },
  {
   "cell_type": "code",
   "execution_count": 64,
   "id": "e7c20a06-1433-4929-8443-2aa24ed64796",
   "metadata": {},
   "outputs": [
    {
     "name": "stdout",
     "output_type": "stream",
     "text": [
      "tan\n"
     ]
    }
   ],
   "source": [
    "Math.tan(3)"
   ]
  },
  {
   "cell_type": "code",
   "execution_count": 65,
   "id": "96753358-a5b2-4944-891e-392f52263cc8",
   "metadata": {},
   "outputs": [],
   "source": [
    "a = Math()"
   ]
  },
  {
   "cell_type": "code",
   "execution_count": 66,
   "id": "1a5f37a9-d222-40d9-a56c-611db6c2c07c",
   "metadata": {},
   "outputs": [
    {
     "name": "stdout",
     "output_type": "stream",
     "text": [
      "tan\n"
     ]
    }
   ],
   "source": [
    "a.tan(3)"
   ]
  },
  {
   "cell_type": "code",
   "execution_count": null,
   "id": "6bfc312b-a343-438b-817b-d75c0814cae4",
   "metadata": {},
   "outputs": [],
   "source": []
  }
 ],
 "metadata": {
  "kernelspec": {
   "display_name": "Python 3 (ipykernel)",
   "language": "python",
   "name": "python3"
  },
  "language_info": {
   "codemirror_mode": {
    "name": "ipython",
    "version": 3
   },
   "file_extension": ".py",
   "mimetype": "text/x-python",
   "name": "python",
   "nbconvert_exporter": "python",
   "pygments_lexer": "ipython3",
   "version": "3.10.4"
  }
 },
 "nbformat": 4,
 "nbformat_minor": 5
}
