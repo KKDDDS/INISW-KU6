{
 "cells": [
  {
   "cell_type": "code",
   "execution_count": 65,
   "id": "3eff92f1-6843-4916-ad9e-68f1ada0e1c0",
   "metadata": {},
   "outputs": [],
   "source": [
    "def x(self):\n",
    "    print('a')"
   ]
  },
  {
   "cell_type": "code",
   "execution_count": 68,
   "id": "45c4a015-75ea-4a9a-8952-2458bd85b209",
   "metadata": {},
   "outputs": [
    {
     "name": "stdout",
     "output_type": "stream",
     "text": [
      "a\n"
     ]
    }
   ],
   "source": [
    "x(1) #함수는 파라미터 갯수에 맞춰서 작성"
   ]
  },
  {
   "cell_type": "code",
   "execution_count": null,
   "id": "4f2f2d1f-e613-4d8e-8591-be944c1fe092",
   "metadata": {},
   "outputs": [],
   "source": []
  },
  {
   "cell_type": "code",
   "execution_count": 69,
   "id": "078d6952-f343-41fc-9568-80f5866f64c4",
   "metadata": {},
   "outputs": [],
   "source": [
    "class A:\n",
    "    def x(self): #메소드는 첫번째 인자는 무조건 생략하고 작성\n",
    "        print('a')"
   ]
  },
  {
   "cell_type": "code",
   "execution_count": 70,
   "id": "3ea8ac84-dbc3-4979-8c31-b7dc970dc554",
   "metadata": {},
   "outputs": [],
   "source": [
    "a = A() #인스턴스, 인자 생략"
   ]
  },
  {
   "cell_type": "code",
   "execution_count": 71,
   "id": "e7571cad-dce1-415b-902e-b92cdaaeff58",
   "metadata": {},
   "outputs": [
    {
     "name": "stdout",
     "output_type": "stream",
     "text": [
      "a\n"
     ]
    }
   ],
   "source": [
    "a.x()"
   ]
  },
  {
   "cell_type": "code",
   "execution_count": 64,
   "id": "b06ec664-cb2e-4f9f-a319-4931dbfd60db",
   "metadata": {},
   "outputs": [
    {
     "data": {
      "text/plain": [
       "<function __main__.A.x(self)>"
      ]
     },
     "execution_count": 64,
     "metadata": {},
     "output_type": "execute_result"
    }
   ],
   "source": [
    "A.x"
   ]
  },
  {
   "cell_type": "code",
   "execution_count": 76,
   "id": "c68af30c-d0d1-4724-8317-f01ea802c98c",
   "metadata": {},
   "outputs": [
    {
     "name": "stdout",
     "output_type": "stream",
     "text": [
      "a\n"
     ]
    }
   ],
   "source": [
    "A().x() #메소드면 첫번째 인자 생략"
   ]
  },
  {
   "cell_type": "code",
   "execution_count": 77,
   "id": "68f3cabf-94b2-415c-98ad-025a208fa7d4",
   "metadata": {},
   "outputs": [
    {
     "name": "stdout",
     "output_type": "stream",
     "text": [
      "a\n"
     ]
    }
   ],
   "source": [
    "A.x(a) #함수 관점이라면 인자 필요"
   ]
  },
  {
   "cell_type": "code",
   "execution_count": 75,
   "id": "ee52983b-e2c6-4949-bcdd-6f70998c3981",
   "metadata": {
    "collapsed": true,
    "jupyter": {
     "outputs_hidden": true
    }
   },
   "outputs": [
    {
     "data": {
      "text/plain": [
       "['__class__',\n",
       " '__delattr__',\n",
       " '__dict__',\n",
       " '__dir__',\n",
       " '__doc__',\n",
       " '__eq__',\n",
       " '__format__',\n",
       " '__ge__',\n",
       " '__getattribute__',\n",
       " '__gt__',\n",
       " '__hash__',\n",
       " '__init__',\n",
       " '__init_subclass__',\n",
       " '__le__',\n",
       " '__lt__',\n",
       " '__module__',\n",
       " '__ne__',\n",
       " '__new__',\n",
       " '__reduce__',\n",
       " '__reduce_ex__',\n",
       " '__repr__',\n",
       " '__setattr__',\n",
       " '__sizeof__',\n",
       " '__str__',\n",
       " '__subclasshook__',\n",
       " '__weakref__',\n",
       " 'x']"
      ]
     },
     "execution_count": 75,
     "metadata": {},
     "output_type": "execute_result"
    }
   ],
   "source": [
    "dir(A)"
   ]
  },
  {
   "cell_type": "code",
   "execution_count": 80,
   "id": "e0b4c10d-d404-4af8-823a-aa8117afde07",
   "metadata": {},
   "outputs": [],
   "source": [
    "#########"
   ]
  },
  {
   "cell_type": "code",
   "execution_count": 42,
   "id": "59f40aa9-db03-4c75-9569-ec0a28065767",
   "metadata": {},
   "outputs": [],
   "source": [
    "a=1"
   ]
  },
  {
   "cell_type": "code",
   "execution_count": 2,
   "id": "d1a992ef-4b45-4153-be87-efcd8de689df",
   "metadata": {},
   "outputs": [
    {
     "data": {
      "text/plain": [
       "int"
      ]
     },
     "execution_count": 2,
     "metadata": {},
     "output_type": "execute_result"
    }
   ],
   "source": [
    "type(a)"
   ]
  },
  {
   "cell_type": "code",
   "execution_count": 7,
   "id": "e7f98300-7d0a-409a-bc8f-0761d8248ff2",
   "metadata": {},
   "outputs": [],
   "source": [
    "class A: #새로운 데이터 타입을 만든다는 의미\n",
    "    pass"
   ]
  },
  {
   "cell_type": "code",
   "execution_count": 4,
   "id": "b604f9a4-f4dd-4f7c-b589-edddf390e2ca",
   "metadata": {},
   "outputs": [],
   "source": [
    "a = A()"
   ]
  },
  {
   "cell_type": "code",
   "execution_count": 6,
   "id": "3d85a720-8822-46e5-a5dc-4052c7e70e9d",
   "metadata": {},
   "outputs": [
    {
     "data": {
      "text/plain": [
       "__main__.A"
      ]
     },
     "execution_count": 6,
     "metadata": {},
     "output_type": "execute_result"
    }
   ],
   "source": [
    "type(a) #현재 파일에 내가 정의했음을 의미"
   ]
  },
  {
   "cell_type": "code",
   "execution_count": 8,
   "id": "2f252d70-4d7c-48f3-a50c-3123912b57ce",
   "metadata": {},
   "outputs": [],
   "source": [
    "a = 1"
   ]
  },
  {
   "cell_type": "code",
   "execution_count": 9,
   "id": "71ea77ba-1cf6-4ad1-a851-15939321b5b1",
   "metadata": {},
   "outputs": [],
   "source": [
    "class A:\n",
    "    pass"
   ]
  },
  {
   "cell_type": "code",
   "execution_count": 10,
   "id": "b96afb81-1cb7-4c61-acb7-faaa4219c62b",
   "metadata": {},
   "outputs": [],
   "source": [
    "a = A()"
   ]
  },
  {
   "cell_type": "code",
   "execution_count": 11,
   "id": "8bf6525f-8b1b-4ae3-9183-fe08741872e3",
   "metadata": {},
   "outputs": [
    {
     "data": {
      "text/plain": [
       "['__class__',\n",
       " '__delattr__',\n",
       " '__dict__',\n",
       " '__dir__',\n",
       " '__doc__',\n",
       " '__eq__',\n",
       " '__format__',\n",
       " '__ge__',\n",
       " '__getattribute__',\n",
       " '__gt__',\n",
       " '__hash__',\n",
       " '__init__',\n",
       " '__init_subclass__',\n",
       " '__le__',\n",
       " '__lt__',\n",
       " '__module__',\n",
       " '__ne__',\n",
       " '__new__',\n",
       " '__reduce__',\n",
       " '__reduce_ex__',\n",
       " '__repr__',\n",
       " '__setattr__',\n",
       " '__sizeof__',\n",
       " '__str__',\n",
       " '__subclasshook__',\n",
       " '__weakref__']"
      ]
     },
     "execution_count": 11,
     "metadata": {},
     "output_type": "execute_result"
    }
   ],
   "source": [
    "dir(a)"
   ]
  },
  {
   "cell_type": "code",
   "execution_count": 12,
   "id": "f39b898f-e018-42cb-b268-321f2b22000e",
   "metadata": {},
   "outputs": [],
   "source": [
    "class A:\n",
    "    a = 1\n",
    "    c = 3"
   ]
  },
  {
   "cell_type": "code",
   "execution_count": 15,
   "id": "fbe0125b-25ef-43cc-9825-bed8fd758e14",
   "metadata": {},
   "outputs": [],
   "source": [
    "class B(A):\n",
    "    b = 2\n",
    "    c = 4"
   ]
  },
  {
   "cell_type": "code",
   "execution_count": 23,
   "id": "8da391fd-2418-4b88-ba0f-06519ec04fa6",
   "metadata": {},
   "outputs": [
    {
     "data": {
      "text/plain": [
       "1"
      ]
     },
     "execution_count": 23,
     "metadata": {},
     "output_type": "execute_result"
    }
   ],
   "source": [
    "B.a #오버로딩"
   ]
  },
  {
   "cell_type": "code",
   "execution_count": 24,
   "id": "d7a26961-3340-4894-8376-2fc4fbb136a8",
   "metadata": {},
   "outputs": [
    {
     "data": {
      "text/plain": [
       "4"
      ]
     },
     "execution_count": 24,
     "metadata": {},
     "output_type": "execute_result"
    }
   ],
   "source": [
    "B.c #오버라이딩"
   ]
  },
  {
   "cell_type": "code",
   "execution_count": 25,
   "id": "b753d1d2-8d90-4cdb-969d-911ab94d0320",
   "metadata": {},
   "outputs": [
    {
     "data": {
      "text/plain": [
       "1367062479088"
      ]
     },
     "execution_count": 25,
     "metadata": {},
     "output_type": "execute_result"
    }
   ],
   "source": [
    "id(B.a)"
   ]
  },
  {
   "cell_type": "code",
   "execution_count": 26,
   "id": "6ad4347b-b0f1-4d61-89dc-c78ddcdcee6d",
   "metadata": {},
   "outputs": [
    {
     "data": {
      "text/plain": [
       "1367062479088"
      ]
     },
     "execution_count": 26,
     "metadata": {},
     "output_type": "execute_result"
    }
   ],
   "source": [
    "id(A.a) #델리게이터"
   ]
  },
  {
   "cell_type": "code",
   "execution_count": 30,
   "id": "8226c382-0af9-4e72-af3d-c9099f22916b",
   "metadata": {},
   "outputs": [],
   "source": [
    "class C:\n",
    "    def __init__(self, a,b): #overriding\n",
    "        print(a,b)"
   ]
  },
  {
   "cell_type": "code",
   "execution_count": 31,
   "id": "7be77cfe-606d-464a-90ec-a1be8c6479ec",
   "metadata": {
    "scrolled": true
   },
   "outputs": [
    {
     "data": {
      "text/plain": [
       "['__class__',\n",
       " '__delattr__',\n",
       " '__dict__',\n",
       " '__dir__',\n",
       " '__doc__',\n",
       " '__eq__',\n",
       " '__format__',\n",
       " '__ge__',\n",
       " '__getattribute__',\n",
       " '__gt__',\n",
       " '__hash__',\n",
       " '__init__',\n",
       " '__init_subclass__',\n",
       " '__le__',\n",
       " '__lt__',\n",
       " '__module__',\n",
       " '__ne__',\n",
       " '__new__',\n",
       " '__reduce__',\n",
       " '__reduce_ex__',\n",
       " '__repr__',\n",
       " '__setattr__',\n",
       " '__sizeof__',\n",
       " '__str__',\n",
       " '__subclasshook__',\n",
       " '__weakref__']"
      ]
     },
     "execution_count": 31,
     "metadata": {},
     "output_type": "execute_result"
    }
   ],
   "source": [
    "dir(C)"
   ]
  },
  {
   "cell_type": "code",
   "execution_count": 32,
   "id": "95156c8f-2fcc-447e-b52c-dd09f92f0c4b",
   "metadata": {},
   "outputs": [
    {
     "name": "stdout",
     "output_type": "stream",
     "text": [
      "3 4\n"
     ]
    },
    {
     "data": {
      "text/plain": [
       "<__main__.C at 0x13e511cf910>"
      ]
     },
     "execution_count": 32,
     "metadata": {},
     "output_type": "execute_result"
    }
   ],
   "source": [
    "C(3,4)"
   ]
  },
  {
   "cell_type": "code",
   "execution_count": 33,
   "id": "a31a5179-f869-4d3e-8f64-e115847ae1a9",
   "metadata": {},
   "outputs": [],
   "source": [
    "#다중상속\n",
    "class AA:\n",
    "    x = 1"
   ]
  },
  {
   "cell_type": "code",
   "execution_count": 34,
   "id": "2ceeafec-a089-42e3-9baa-85dacd9b9777",
   "metadata": {},
   "outputs": [],
   "source": [
    "class BB:\n",
    "    x = 2"
   ]
  },
  {
   "cell_type": "code",
   "execution_count": 36,
   "id": "601ca4a0-9168-4e7c-8265-d5eafb9ba0dc",
   "metadata": {},
   "outputs": [],
   "source": [
    "class CC(AA):\n",
    "    pass"
   ]
  },
  {
   "cell_type": "code",
   "execution_count": 37,
   "id": "d46e1357-1acc-4de2-aba6-78d81a17042f",
   "metadata": {},
   "outputs": [],
   "source": [
    "class DD(CC, AA):\n",
    "    pass"
   ]
  },
  {
   "cell_type": "code",
   "execution_count": 41,
   "id": "adc1857f-b7f9-4bbd-b4b8-0c324d96cc0c",
   "metadata": {},
   "outputs": [
    {
     "data": {
      "text/plain": [
       "[__main__.DD, __main__.CC, __main__.AA, object]"
      ]
     },
     "execution_count": 41,
     "metadata": {},
     "output_type": "execute_result"
    }
   ],
   "source": [
    "DD.mro()"
   ]
  },
  {
   "cell_type": "code",
   "execution_count": 40,
   "id": "9f687c74-43a5-4d74-b8bc-efca68e39680",
   "metadata": {},
   "outputs": [
    {
     "ename": "TypeError",
     "evalue": "Cannot create a consistent method resolution\norder (MRO) for bases AA, DD",
     "output_type": "error",
     "traceback": [
      "\u001b[1;31m---------------------------------------------------------------------------\u001b[0m",
      "\u001b[1;31mTypeError\u001b[0m                                 Traceback (most recent call last)",
      "Cell \u001b[1;32mIn[40], line 1\u001b[0m\n\u001b[1;32m----> 1\u001b[0m \u001b[38;5;28;01mclass\u001b[39;00m \u001b[38;5;21;01mEE\u001b[39;00m(AA, DD):\n\u001b[0;32m      2\u001b[0m     \u001b[38;5;28;01mpass\u001b[39;00m\n",
      "\u001b[1;31mTypeError\u001b[0m: Cannot create a consistent method resolution\norder (MRO) for bases AA, DD"
     ]
    }
   ],
   "source": [
    "class EE(AA, DD):\n",
    "    pass"
   ]
  },
  {
   "cell_type": "markdown",
   "id": "f8ae4d8e-12cc-4fcd-a20a-2903cbcaeeeb",
   "metadata": {},
   "source": [
    "# MRO 지원"
   ]
  },
  {
   "cell_type": "code",
   "execution_count": null,
   "id": "d317d33f-a592-4098-b561-4604d53a2fe1",
   "metadata": {},
   "outputs": [],
   "source": []
  },
  {
   "cell_type": "code",
   "execution_count": null,
   "id": "099a2836-b982-428d-b69e-a5a426d09baa",
   "metadata": {},
   "outputs": [],
   "source": []
  }
 ],
 "metadata": {
  "kernelspec": {
   "display_name": "Python 3 (ipykernel)",
   "language": "python",
   "name": "python3"
  },
  "language_info": {
   "codemirror_mode": {
    "name": "ipython",
    "version": 3
   },
   "file_extension": ".py",
   "mimetype": "text/x-python",
   "name": "python",
   "nbconvert_exporter": "python",
   "pygments_lexer": "ipython3",
   "version": "3.10.4"
  }
 },
 "nbformat": 4,
 "nbformat_minor": 5
}
