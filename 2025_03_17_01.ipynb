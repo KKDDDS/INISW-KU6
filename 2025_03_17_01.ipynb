{
 "cells": [
  {
   "cell_type": "code",
   "execution_count": 1,
   "id": "c78e88a7-8345-46c5-9aaf-245ca883be14",
   "metadata": {},
   "outputs": [],
   "source": [
    "import tensorflow as tf"
   ]
  },
  {
   "cell_type": "code",
   "execution_count": 2,
   "id": "e2754296-14d5-44ea-8bd3-25b0297c06ac",
   "metadata": {},
   "outputs": [
    {
     "data": {
      "text/plain": [
       "<function keras.preprocessing.text.one_hot(input_text, n, filters='!\"#$%&()*+,-./:;<=>?@[\\\\]^_`{|}~\\t\\n', lower=True, split=' ', analyzer=None)>"
      ]
     },
     "execution_count": 2,
     "metadata": {},
     "output_type": "execute_result"
    }
   ],
   "source": [
    "tf.keras.preprocessing.text.one_hot"
   ]
  },
  {
   "cell_type": "code",
   "execution_count": 5,
   "id": "94a531e2-8b58-4c85-b831-40217ed27ec0",
   "metadata": {},
   "outputs": [],
   "source": [
    "class A:\n",
    "    def __enter__(self):\n",
    "        print('enter')\n",
    "\n",
    "    def __exit__(self, a,b,c):\n",
    "        print('exit')"
   ]
  },
  {
   "cell_type": "code",
   "execution_count": 6,
   "id": "312d4966-decc-458e-95de-643a63dc0753",
   "metadata": {},
   "outputs": [
    {
     "name": "stdout",
     "output_type": "stream",
     "text": [
      "enter\n",
      "with\n",
      "exit\n"
     ]
    }
   ],
   "source": [
    "with A():\n",
    "    print('with')"
   ]
  },
  {
   "cell_type": "code",
   "execution_count": 27,
   "id": "4e8d63fb-d06f-444e-b8f4-2f47b99be6aa",
   "metadata": {},
   "outputs": [],
   "source": [
    "def x(fun): #범용적으로 쓸 수 없음\n",
    "    def xx(*a, **b):\n",
    "        print('d')\n",
    "        fun(*a, **b) #*a, **b를 써주면 범용적인 decorator를 쓸 수 있음\n",
    "    return xx"
   ]
  },
  {
   "cell_type": "code",
   "execution_count": 21,
   "id": "555e48e1-2ca0-4f6b-a61c-ee25014c291b",
   "metadata": {},
   "outputs": [],
   "source": [
    "@x\n",
    "def t():\n",
    "    print('t')"
   ]
  },
  {
   "cell_type": "code",
   "execution_count": 22,
   "id": "cb904e66-cd9b-47b4-82c1-f5befe64a296",
   "metadata": {},
   "outputs": [],
   "source": [
    "@x\n",
    "def tt(a):\n",
    "    print('t')"
   ]
  },
  {
   "cell_type": "code",
   "execution_count": 23,
   "id": "d915fbb1-dd76-4641-b473-af8fc55bc9ae",
   "metadata": {},
   "outputs": [
    {
     "name": "stdout",
     "output_type": "stream",
     "text": [
      "d\n",
      "t\n"
     ]
    }
   ],
   "source": [
    "t()"
   ]
  },
  {
   "cell_type": "code",
   "execution_count": 25,
   "id": "9d063ddc-91b3-4c06-8d0b-deca6bdcf8e0",
   "metadata": {},
   "outputs": [
    {
     "name": "stdout",
     "output_type": "stream",
     "text": [
      "d\n",
      "t\n"
     ]
    }
   ],
   "source": [
    "tt(3)"
   ]
  },
  {
   "cell_type": "code",
   "execution_count": null,
   "id": "fcc6698b-b7ca-4bf5-8053-468f4878b0bc",
   "metadata": {},
   "outputs": [],
   "source": []
  }
 ],
 "metadata": {
  "kernelspec": {
   "display_name": "Python 3 (ipykernel)",
   "language": "python",
   "name": "python3"
  },
  "language_info": {
   "codemirror_mode": {
    "name": "ipython",
    "version": 3
   },
   "file_extension": ".py",
   "mimetype": "text/x-python",
   "name": "python",
   "nbconvert_exporter": "python",
   "pygments_lexer": "ipython3",
   "version": "3.10.4"
  }
 },
 "nbformat": 4,
 "nbformat_minor": 5
}
