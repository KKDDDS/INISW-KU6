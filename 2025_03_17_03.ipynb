{
 "cells": [
  {
   "cell_type": "code",
   "execution_count": 15,
   "id": "641e6c8f-e630-4d81-b0ff-32b832eaf235",
   "metadata": {},
   "outputs": [],
   "source": [
    "class A(object,metaclass=type): #괄호는 없어도 됨. metaclass는 class가 실행될떄 작동을 처리해줌\n",
    "    pass"
   ]
  },
  {
   "cell_type": "code",
   "execution_count": 3,
   "id": "0ba996b2-5683-419b-b46c-19be7c75686e",
   "metadata": {
    "collapsed": true,
    "jupyter": {
     "outputs_hidden": true
    }
   },
   "outputs": [
    {
     "data": {
      "text/plain": [
       "['__class__',\n",
       " '__delattr__',\n",
       " '__dict__',\n",
       " '__dir__',\n",
       " '__doc__',\n",
       " '__eq__',\n",
       " '__format__',\n",
       " '__ge__',\n",
       " '__getattribute__',\n",
       " '__gt__',\n",
       " '__hash__',\n",
       " '__init__',\n",
       " '__init_subclass__',\n",
       " '__le__',\n",
       " '__lt__',\n",
       " '__module__',\n",
       " '__ne__',\n",
       " '__new__',\n",
       " '__reduce__',\n",
       " '__reduce_ex__',\n",
       " '__repr__',\n",
       " '__setattr__',\n",
       " '__sizeof__',\n",
       " '__str__',\n",
       " '__subclasshook__',\n",
       " '__weakref__']"
      ]
     },
     "execution_count": 3,
     "metadata": {},
     "output_type": "execute_result"
    }
   ],
   "source": [
    "dir(A) #mro 없음"
   ]
  },
  {
   "cell_type": "code",
   "execution_count": 6,
   "id": "6f9bb5ac-cd7e-4407-b6e8-a1e6351e8dae",
   "metadata": {},
   "outputs": [
    {
     "data": {
      "text/plain": [
       "[__main__.A, object]"
      ]
     },
     "execution_count": 6,
     "metadata": {},
     "output_type": "execute_result"
    }
   ],
   "source": [
    "A.mro() #metaclass에 있기때문에 작동 가능"
   ]
  },
  {
   "cell_type": "code",
   "execution_count": 7,
   "id": "e6ca9a00-71ea-4d4e-b71b-123581d4e241",
   "metadata": {
    "collapsed": true,
    "jupyter": {
     "outputs_hidden": true
    },
    "scrolled": true
   },
   "outputs": [
    {
     "data": {
      "text/plain": [
       "['__abstractmethods__',\n",
       " '__annotations__',\n",
       " '__base__',\n",
       " '__bases__',\n",
       " '__basicsize__',\n",
       " '__call__',\n",
       " '__class__',\n",
       " '__delattr__',\n",
       " '__dict__',\n",
       " '__dictoffset__',\n",
       " '__dir__',\n",
       " '__doc__',\n",
       " '__eq__',\n",
       " '__flags__',\n",
       " '__format__',\n",
       " '__ge__',\n",
       " '__getattribute__',\n",
       " '__gt__',\n",
       " '__hash__',\n",
       " '__init__',\n",
       " '__init_subclass__',\n",
       " '__instancecheck__',\n",
       " '__itemsize__',\n",
       " '__le__',\n",
       " '__lt__',\n",
       " '__module__',\n",
       " '__mro__',\n",
       " '__name__',\n",
       " '__ne__',\n",
       " '__new__',\n",
       " '__or__',\n",
       " '__prepare__',\n",
       " '__qualname__',\n",
       " '__reduce__',\n",
       " '__reduce_ex__',\n",
       " '__repr__',\n",
       " '__ror__',\n",
       " '__setattr__',\n",
       " '__sizeof__',\n",
       " '__str__',\n",
       " '__subclasscheck__',\n",
       " '__subclasses__',\n",
       " '__subclasshook__',\n",
       " '__text_signature__',\n",
       " '__weakrefoffset__',\n",
       " 'mro']"
      ]
     },
     "execution_count": 7,
     "metadata": {},
     "output_type": "execute_result"
    }
   ],
   "source": [
    "dir(type)"
   ]
  },
  {
   "cell_type": "code",
   "execution_count": 8,
   "id": "37456200-ddc5-4b15-9369-378d268b76d6",
   "metadata": {},
   "outputs": [],
   "source": [
    "a = 1"
   ]
  },
  {
   "cell_type": "code",
   "execution_count": 9,
   "id": "5b157be8-5fdf-4447-bf00-bbcea45abbd2",
   "metadata": {},
   "outputs": [
    {
     "data": {
      "text/plain": [
       "int"
      ]
     },
     "execution_count": 9,
     "metadata": {},
     "output_type": "execute_result"
    }
   ],
   "source": [
    "type(a)"
   ]
  },
  {
   "cell_type": "code",
   "execution_count": 11,
   "id": "f6e57a6c-d4d0-4102-8c98-702c1fe78950",
   "metadata": {},
   "outputs": [
    {
     "data": {
      "text/plain": [
       "type"
      ]
     },
     "execution_count": 11,
     "metadata": {},
     "output_type": "execute_result"
    }
   ],
   "source": [
    "type(a)\n",
    "type(int)\n",
    "type(type)"
   ]
  },
  {
   "cell_type": "code",
   "execution_count": 12,
   "id": "c388457d-c5ef-4313-9aa6-e820bb9761d4",
   "metadata": {},
   "outputs": [],
   "source": [
    "int2 = type('int2', (int,), {})"
   ]
  },
  {
   "cell_type": "code",
   "execution_count": 14,
   "id": "0d5bd8f5-471c-4faf-8d66-a267377d6c01",
   "metadata": {},
   "outputs": [],
   "source": [
    "class int2(int):\n",
    "    pass #위의 코드와 같음"
   ]
  },
  {
   "cell_type": "code",
   "execution_count": 16,
   "id": "0d1cbc52-9197-43da-9da4-bc11c769362d",
   "metadata": {},
   "outputs": [],
   "source": [
    "#Singleton: instace를 하나밖에 못받기 때문에 싱글톤 방식으로 처리 (metaclass 활용)\n",
    "#metaclass: 클래스의 행동을 결정"
   ]
  },
  {
   "cell_type": "code",
   "execution_count": 17,
   "id": "1da90577-4773-4743-83a8-0055dcea3e92",
   "metadata": {},
   "outputs": [],
   "source": [
    "from abc import ABC, ABCMeta, abstractmethod"
   ]
  },
  {
   "cell_type": "code",
   "execution_count": 18,
   "id": "292193a7-aff0-4d99-b215-e148ba8d82e5",
   "metadata": {},
   "outputs": [],
   "source": [
    "class T(metaclass = ABCMeta):\n",
    "    @abstractmethod\n",
    "    def t(self):\n",
    "        pass"
   ]
  },
  {
   "cell_type": "code",
   "execution_count": 19,
   "id": "76f34006-a6d0-4a0c-a734-aeb6beb5a157",
   "metadata": {},
   "outputs": [],
   "source": [
    "class T(ABC):\n",
    "    @abstractmethod\n",
    "    def t(self):\n",
    "        pass"
   ]
  },
  {
   "cell_type": "code",
   "execution_count": null,
   "id": "64318c92-d100-49c3-bccf-e3e6af1fd80d",
   "metadata": {},
   "outputs": [],
   "source": []
  }
 ],
 "metadata": {
  "kernelspec": {
   "display_name": "Python 3 (ipykernel)",
   "language": "python",
   "name": "python3"
  },
  "language_info": {
   "codemirror_mode": {
    "name": "ipython",
    "version": 3
   },
   "file_extension": ".py",
   "mimetype": "text/x-python",
   "name": "python",
   "nbconvert_exporter": "python",
   "pygments_lexer": "ipython3",
   "version": "3.10.4"
  }
 },
 "nbformat": 4,
 "nbformat_minor": 5
}
