{
 "cells": [
  {
   "cell_type": "code",
   "execution_count": 1,
   "id": "e2e3c623-7a79-40db-bc1b-69a6678d1c97",
   "metadata": {},
   "outputs": [],
   "source": [
    "import sqlite3"
   ]
  },
  {
   "cell_type": "code",
   "execution_count": null,
   "id": "082e05fc-a830-4221-80d0-4842fea5378e",
   "metadata": {},
   "outputs": [],
   "source": [
    "  1              2                   3\n",
    "User           DBMS               Database\n",
    "Python       Sqlite3   <--SQL--->   FILE\n",
    "    connection\n",
    "      cursor            CREATE, INSERT, SELECT"
   ]
  },
  {
   "cell_type": "code",
   "execution_count": 2,
   "id": "bd6e2216-54f2-4bdc-919d-fd6dceedee54",
   "metadata": {
    "scrolled": true
   },
   "outputs": [],
   "source": [
    "con = sqlite3.connect(':memory:')"
   ]
  },
  {
   "cell_type": "code",
   "execution_count": 3,
   "id": "cdc3bbdf-0e40-457a-ad31-dbdbe5afc670",
   "metadata": {},
   "outputs": [],
   "source": [
    "cur = con.cursor()"
   ]
  },
  {
   "cell_type": "code",
   "execution_count": null,
   "id": "79184e6e-f341-42a7-b499-e84e26d2669b",
   "metadata": {},
   "outputs": [],
   "source": [
    "cur.execute => SQL 1개 실행\n",
    "cur.executemany => SQL 1개를 N번 반복 실행\n",
    "cur.executescript => (비표준) N개의 SQL문 실행"
   ]
  },
  {
   "cell_type": "code",
   "execution_count": 4,
   "id": "64276ae7-abd5-4188-83f4-db36c885a8bc",
   "metadata": {},
   "outputs": [
    {
     "data": {
      "text/plain": [
       "<sqlite3.Cursor at 0x1e213e345c0>"
      ]
     },
     "execution_count": 4,
     "metadata": {},
     "output_type": "execute_result"
    }
   ],
   "source": [
    "cur.execute('''\n",
    "    CREATE TABLE TEST (\n",
    "        ID INTEGER,\n",
    "        NAME CHAR(1)\n",
    "    );\n",
    "''')"
   ]
  },
  {
   "cell_type": "code",
   "execution_count": 5,
   "id": "0b9fd086-b1d8-409a-8cce-f5677a5acde1",
   "metadata": {},
   "outputs": [
    {
     "data": {
      "text/plain": [
       "<sqlite3.Cursor at 0x1e213e345c0>"
      ]
     },
     "execution_count": 5,
     "metadata": {},
     "output_type": "execute_result"
    }
   ],
   "source": [
    "cur.execute('''\n",
    "    INSERT INTO TEST (ID, NAME) VALUES (1, 'A');\n",
    "''')"
   ]
  },
  {
   "cell_type": "code",
   "execution_count": 6,
   "id": "0fea828c-8c39-4f29-beb0-7d6bcbac5609",
   "metadata": {},
   "outputs": [
    {
     "data": {
      "text/plain": [
       "<sqlite3.Cursor at 0x1e213e345c0>"
      ]
     },
     "execution_count": 6,
     "metadata": {},
     "output_type": "execute_result"
    }
   ],
   "source": [
    "cur.execute('SELECT * FROM TEST;')"
   ]
  },
  {
   "cell_type": "code",
   "execution_count": 7,
   "id": "d82299df-caa4-49a4-ac21-933e5e90ac39",
   "metadata": {},
   "outputs": [
    {
     "data": {
      "text/plain": [
       "<sqlite3.Cursor at 0x1e213e345c0>"
      ]
     },
     "execution_count": 7,
     "metadata": {},
     "output_type": "execute_result"
    }
   ],
   "source": [
    "cur.execute('''\n",
    "    INSERT INTO TEST (ID, NAME) VALUES (2, 'ABC');\n",
    "''')"
   ]
  },
  {
   "cell_type": "code",
   "execution_count": 8,
   "id": "178f016a-39b8-422e-afff-e63742484802",
   "metadata": {},
   "outputs": [
    {
     "data": {
      "text/plain": [
       "<sqlite3.Cursor at 0x1e213e345c0>"
      ]
     },
     "execution_count": 8,
     "metadata": {},
     "output_type": "execute_result"
    }
   ],
   "source": [
    "cur.execute('SELECT * FROM TEST;')"
   ]
  },
  {
   "cell_type": "code",
   "execution_count": 37,
   "id": "564cf553-54c8-4016-9608-5a683290cd73",
   "metadata": {},
   "outputs": [],
   "source": [
    "# cur.fetchone() => 1행\n",
    "# cur.fetchmany() => N행\n",
    "# cur.fetchall => 전체"
   ]
  },
  {
   "cell_type": "code",
   "execution_count": 9,
   "id": "aef72cd2-e2b2-4360-9d60-3613c3cabe78",
   "metadata": {},
   "outputs": [
    {
     "data": {
      "text/plain": [
       "[(1, 'A'), (2, 'ABC')]"
      ]
     },
     "execution_count": 9,
     "metadata": {},
     "output_type": "execute_result"
    }
   ],
   "source": [
    "cur.fetchall()"
   ]
  },
  {
   "cell_type": "code",
   "execution_count": 10,
   "id": "c89642a6-11ce-41b0-8b67-7731f258d0a4",
   "metadata": {},
   "outputs": [
    {
     "data": {
      "text/plain": [
       "<sqlite3.Cursor at 0x1e213e345c0>"
      ]
     },
     "execution_count": 10,
     "metadata": {},
     "output_type": "execute_result"
    }
   ],
   "source": [
    "cur.execute('INSERT INTO TEST VALUES (3, NULL);')"
   ]
  },
  {
   "cell_type": "code",
   "execution_count": 11,
   "id": "5818c078-7469-4b0f-8d8c-da8d4fa71a0a",
   "metadata": {},
   "outputs": [
    {
     "data": {
      "text/plain": [
       "[(1, 'A'), (2, 'ABC'), (3, None)]"
      ]
     },
     "execution_count": 11,
     "metadata": {},
     "output_type": "execute_result"
    }
   ],
   "source": [
    "cur.execute('SELECT * FROM TEST') # =>2\n",
    "cur.fetchall() # => 1"
   ]
  },
  {
   "cell_type": "code",
   "execution_count": 12,
   "id": "eafa0361-a22e-4b37-8e30-b8820bc42421",
   "metadata": {},
   "outputs": [],
   "source": [
    "con.close()"
   ]
  },
  {
   "cell_type": "code",
   "execution_count": 13,
   "id": "958168e7-3e98-45d9-ae8f-9250cc888d4b",
   "metadata": {},
   "outputs": [],
   "source": [
    "con = sqlite3.connect('coffee.db')\n",
    "cur = con.cursor()"
   ]
  },
  {
   "cell_type": "code",
   "execution_count": 19,
   "id": "2e4330a2-6ec4-419b-9710-508e458807ce",
   "metadata": {},
   "outputs": [
    {
     "data": {
      "text/plain": [
       "<sqlite3.Cursor at 0x1e213e34a40>"
      ]
     },
     "execution_count": 19,
     "metadata": {},
     "output_type": "execute_result"
    }
   ],
   "source": [
    "cur.execute('''\n",
    "    DROP TABLE IF EXISTS CITY\n",
    "''')"
   ]
  },
  {
   "cell_type": "code",
   "execution_count": 20,
   "id": "1d5aeb8e-6446-4c77-bd84-b6d844668a7e",
   "metadata": {},
   "outputs": [
    {
     "data": {
      "text/plain": [
       "<sqlite3.Cursor at 0x1e215218e40>"
      ]
     },
     "execution_count": 20,
     "metadata": {},
     "output_type": "execute_result"
    }
   ],
   "source": [
    "con.execute('''\n",
    "    CREATE TABLE CITY (\n",
    "        CNO INTEGER PRIMARY KEY,\n",
    "        NAME TEXT NOT NULL\n",
    "    );\n",
    "''')"
   ]
  },
  {
   "cell_type": "code",
   "execution_count": 22,
   "id": "8a0e9fdd-91b5-4ac3-8d1d-8c5d0ee7d764",
   "metadata": {},
   "outputs": [
    {
     "data": {
      "text/plain": [
       "<sqlite3.Cursor at 0x1e21521a0c0>"
      ]
     },
     "execution_count": 22,
     "metadata": {},
     "output_type": "execute_result"
    }
   ],
   "source": [
    "con.execute('''\n",
    "    INSERT INTO CITY (CNO, NAME) VALUES (1, '성북구');\n",
    "''')"
   ]
  },
  {
   "cell_type": "code",
   "execution_count": 23,
   "id": "8531f1b3-9888-4a99-a269-e9f6acd5f101",
   "metadata": {},
   "outputs": [
    {
     "data": {
      "text/plain": [
       "<sqlite3.Cursor at 0x1e21521a240>"
      ]
     },
     "execution_count": 23,
     "metadata": {},
     "output_type": "execute_result"
    }
   ],
   "source": [
    "con.execute('''\n",
    "    INSERT INTO CITY (NAME) VALUES ('강북구');\n",
    "''')"
   ]
  },
  {
   "cell_type": "code",
   "execution_count": 24,
   "id": "94f7d4e0-d8ae-4415-94f5-fcb65e7d4a14",
   "metadata": {},
   "outputs": [
    {
     "data": {
      "text/plain": [
       "<sqlite3.Cursor at 0x1e21521a640>"
      ]
     },
     "execution_count": 24,
     "metadata": {},
     "output_type": "execute_result"
    }
   ],
   "source": [
    "con.execute('''\n",
    "    INSERT INTO CITY VALUES (NULL, '동대문구');\n",
    "''')"
   ]
  },
  {
   "cell_type": "code",
   "execution_count": 25,
   "id": "57093444-9a53-4322-9539-6341848ed74c",
   "metadata": {},
   "outputs": [
    {
     "ename": "IntegrityError",
     "evalue": "NOT NULL constraint failed: CITY.NAME",
     "output_type": "error",
     "traceback": [
      "\u001b[1;31m---------------------------------------------------------------------------\u001b[0m",
      "\u001b[1;31mIntegrityError\u001b[0m                            Traceback (most recent call last)",
      "Cell \u001b[1;32mIn[25], line 2\u001b[0m\n\u001b[0;32m      1\u001b[0m \u001b[38;5;66;03m# 에러\u001b[39;00m\n\u001b[1;32m----> 2\u001b[0m \u001b[43mcon\u001b[49m\u001b[38;5;241;43m.\u001b[39;49m\u001b[43mexecute\u001b[49m\u001b[43m(\u001b[49m\u001b[38;5;124;43m'''\u001b[39;49m\n\u001b[0;32m      3\u001b[0m \u001b[38;5;124;43m    INSERT INTO CITY VALUES (NULL, NULL);\u001b[39;49m\n\u001b[0;32m      4\u001b[0m \u001b[38;5;124;43m'''\u001b[39;49m\u001b[43m)\u001b[49m\n\u001b[0;32m      5\u001b[0m con\u001b[38;5;241m.\u001b[39mexecute(\u001b[38;5;124m'''\u001b[39m\n\u001b[0;32m      6\u001b[0m \u001b[38;5;124m    INSERT INTO CITY VALUES (3, \u001b[39m\u001b[38;5;124m'\u001b[39m\u001b[38;5;124m노원구\u001b[39m\u001b[38;5;124m'\u001b[39m\u001b[38;5;124m);\u001b[39m\n\u001b[0;32m      7\u001b[0m \u001b[38;5;124m'''\u001b[39m)\n",
      "\u001b[1;31mIntegrityError\u001b[0m: NOT NULL constraint failed: CITY.NAME"
     ]
    }
   ],
   "source": [
    "# 에러\n",
    "con.execute('''\n",
    "    INSERT INTO CITY VALUES (NULL, NULL);\n",
    "''')\n",
    "con.execute('''\n",
    "    INSERT INTO CITY VALUES (3, '노원구');\n",
    "''')"
   ]
  },
  {
   "cell_type": "code",
   "execution_count": 26,
   "id": "f5335755-6db7-496b-a204-93daa8f8ab0b",
   "metadata": {},
   "outputs": [
    {
     "data": {
      "text/plain": [
       "[(1, '성북구'), (2, '강북구'), (3, '동대문구')]"
      ]
     },
     "execution_count": 26,
     "metadata": {},
     "output_type": "execute_result"
    }
   ],
   "source": [
    "cur.execute('SELECT * FROM CITY;')\n",
    "cur.fetchall()"
   ]
  },
  {
   "cell_type": "code",
   "execution_count": 81,
   "id": "2bfef2ca-a383-42d8-bd35-45fb40860757",
   "metadata": {},
   "outputs": [],
   "source": [
    "cur.execute('SELECT * FROM CITY;')\n",
    "cur.fetchall()"
   ]
  },
  {
   "cell_type": "code",
   "execution_count": 27,
   "id": "0cc1bbd5-16c5-478d-afc0-9c2e41ab0a3e",
   "metadata": {},
   "outputs": [
    {
     "data": {
      "text/plain": [
       "3"
      ]
     },
     "execution_count": 27,
     "metadata": {},
     "output_type": "execute_result"
    }
   ],
   "source": [
    "cur.lastrowid"
   ]
  },
  {
   "cell_type": "code",
   "execution_count": 91,
   "id": "0265af4e-3c19-412d-9434-9d785e63700d",
   "metadata": {},
   "outputs": [],
   "source": [
    "DB Browser for SQLite // 숙제\n",
    "=> Table 구조 뜨는거 확인하고, 이상한점 찾기 (데이터가 안들어가있음)"
   ]
  },
  {
   "cell_type": "code",
   "execution_count": null,
   "id": "f0006547-7490-4649-ba80-d09b98ee4d87",
   "metadata": {},
   "outputs": [],
   "source": [
    "    SQL\n",
    "DBMS => DB(?)\n",
    "----    --\n",
    "Transaction\n",
    "데이터가 추가/수정(갱신) => 변화가 있을 때\n",
    "Commit"
   ]
  },
  {
   "cell_type": "code",
   "execution_count": 28,
   "id": "a1d5447e-cc64-4360-b34f-6573c84f77be",
   "metadata": {},
   "outputs": [],
   "source": [
    "con.commit()"
   ]
  },
  {
   "cell_type": "code",
   "execution_count": 29,
   "id": "3b07337c-73c8-4ca7-8797-350ea7b76338",
   "metadata": {},
   "outputs": [
    {
     "data": {
      "text/plain": [
       "<sqlite3.Cursor at 0x1e21521a040>"
      ]
     },
     "execution_count": 29,
     "metadata": {},
     "output_type": "execute_result"
    }
   ],
   "source": [
    "# Parameter => ?qmark, :named\n",
    "con.execute('INSERT INTO CITY VALUES (NULL, ?);', ('중구',))"
   ]
  },
  {
   "cell_type": "code",
   "execution_count": 30,
   "id": "f0255baf-798d-4abb-8f41-00cda5a00bde",
   "metadata": {},
   "outputs": [
    {
     "data": {
      "text/plain": [
       "(str, str, tuple, list)"
      ]
     },
     "execution_count": 30,
     "metadata": {},
     "output_type": "execute_result"
    }
   ],
   "source": [
    "type('중구'), type(('중구')), type(('중구',)), type(['중구'])"
   ]
  },
  {
   "cell_type": "code",
   "execution_count": 31,
   "id": "4071d90b-c5ff-46b7-836e-c6aef4fabf31",
   "metadata": {},
   "outputs": [
    {
     "data": {
      "text/plain": [
       "[(1, '성북구'), (2, '강북구'), (3, '동대문구'), (4, '중구')]"
      ]
     },
     "execution_count": 31,
     "metadata": {},
     "output_type": "execute_result"
    }
   ],
   "source": [
    "cur.execute('SELECT * FROM CITY;')\n",
    "cur.fetchall()"
   ]
  },
  {
   "cell_type": "code",
   "execution_count": 32,
   "id": "f361939a-0be0-456a-93c2-ca5dd46a2e17",
   "metadata": {},
   "outputs": [
    {
     "data": {
      "text/plain": [
       "<sqlite3.Cursor at 0x1e215219840>"
      ]
     },
     "execution_count": 32,
     "metadata": {},
     "output_type": "execute_result"
    }
   ],
   "source": [
    "con.execute('INSERT INTO CITY VALUES (NULL, :name);', {'name':'중랑구'})"
   ]
  },
  {
   "cell_type": "code",
   "execution_count": 33,
   "id": "7f135aca-1c53-470e-8009-fdfe72ab07fe",
   "metadata": {},
   "outputs": [
    {
     "data": {
      "text/plain": [
       "[(1, '성북구'), (2, '강북구'), (3, '동대문구'), (4, '중구'), (5, '중랑구')]"
      ]
     },
     "execution_count": 33,
     "metadata": {},
     "output_type": "execute_result"
    }
   ],
   "source": [
    "cur.execute('SELECT * FROM CITY;')\n",
    "cur.fetchall()"
   ]
  },
  {
   "cell_type": "code",
   "execution_count": 34,
   "id": "fd10fdac-ddb0-4497-ab99-9815aced6816",
   "metadata": {},
   "outputs": [
    {
     "data": {
      "text/plain": [
       "<sqlite3.Cursor at 0x1e213e34a40>"
      ]
     },
     "execution_count": 34,
     "metadata": {},
     "output_type": "execute_result"
    }
   ],
   "source": [
    "cur.executemany('''\n",
    "INSERT INTO CITY (NAME) VALUES (?)\n",
    "''', (['노원구'], ['강남구'], ['서초구']))"
   ]
  },
  {
   "cell_type": "code",
   "execution_count": 35,
   "id": "4812b3c0-06d8-4575-834f-571bbdd520bf",
   "metadata": {},
   "outputs": [
    {
     "data": {
      "text/plain": [
       "(tuple, list)"
      ]
     },
     "execution_count": 35,
     "metadata": {},
     "output_type": "execute_result"
    }
   ],
   "source": [
    "type((['노원구'], ['강남구'], ['서초구'])), type((['노원구'], ['강남구'], ['서초구'])[0])"
   ]
  },
  {
   "cell_type": "code",
   "execution_count": 36,
   "id": "31fa2219-c468-4a52-8473-7bd496a58e3e",
   "metadata": {},
   "outputs": [
    {
     "data": {
      "text/plain": [
       "[(1, '성북구'),\n",
       " (2, '강북구'),\n",
       " (3, '동대문구'),\n",
       " (4, '중구'),\n",
       " (5, '중랑구'),\n",
       " (6, '노원구'),\n",
       " (7, '강남구'),\n",
       " (8, '서초구')]"
      ]
     },
     "execution_count": 36,
     "metadata": {},
     "output_type": "execute_result"
    }
   ],
   "source": [
    "cur.execute('SELECT * FROM CITY;')\n",
    "cur.fetchall()"
   ]
  },
  {
   "cell_type": "code",
   "execution_count": 37,
   "id": "cb0b33f2-bcf1-45ef-8411-828f356d833a",
   "metadata": {},
   "outputs": [
    {
     "data": {
      "text/plain": [
       "<sqlite3.Cursor at 0x1e213e34a40>"
      ]
     },
     "execution_count": 37,
     "metadata": {},
     "output_type": "execute_result"
    }
   ],
   "source": [
    "cur.executescript('''\n",
    "    DROP TABLE IF EXISTS SUPPLIER;\n",
    "    CREATE TABLE SUPPLIER (\n",
    "        SNO INTEGER PRIMARY KEY,\n",
    "        NAME VARCHAR(2),\n",
    "        CNO INTEGER NOT NULL\n",
    "    );\n",
    "\n",
    "    DROP TABLE IF EXISTS PART;\n",
    "    CREATE TABLE PART (\n",
    "        PNO INTEGER PRIMARY KEY,\n",
    "        NAME CHAR(1)\n",
    "    );\n",
    "''')"
   ]
  },
  {
   "cell_type": "code",
   "execution_count": 38,
   "id": "5f38ca0a-969f-4f8b-9bca-665df05ab0a9",
   "metadata": {},
   "outputs": [
    {
     "data": {
      "text/plain": [
       "<sqlite3.Cursor at 0x1e213e34a40>"
      ]
     },
     "execution_count": 38,
     "metadata": {},
     "output_type": "execute_result"
    }
   ],
   "source": [
    "p = [{'n':'아메리카노'}, {'n':'카페라테'}, {'n':'에스프레소'}, {'n':'아이스티'}]\n",
    "#   len(p) => 4, p[첫번째꺼]=> {'n':'아메리카노'}, p[첫번째꺼]['n'] = 아메리카노\n",
    "cur.executemany('INSERT INTO PART (NAME) VALUES (:n)', p) # 4번 반복, SQL문 1개, 각 반복마다 n키값에 대응되는 value"
   ]
  },
  {
   "cell_type": "code",
   "execution_count": 39,
   "id": "ff22f1d5-11c3-4f0f-b70e-3af3fb2c80e7",
   "metadata": {},
   "outputs": [
    {
     "data": {
      "text/plain": [
       "[(1, '아메리카노'), (2, '카페라테'), (3, '에스프레소'), (4, '아이스티')]"
      ]
     },
     "execution_count": 39,
     "metadata": {},
     "output_type": "execute_result"
    }
   ],
   "source": [
    "cur.execute('SELECT * FROM PART')\n",
    "cur.fetchall()"
   ]
  },
  {
   "cell_type": "code",
   "execution_count": null,
   "id": "66332ce1-7d11-419c-9fe2-0c3b79ec5119",
   "metadata": {},
   "outputs": [],
   "source": [
    "cursor.execute 함수들\n",
    "1. python 파라미터 2개 넘김(SQL, 변수) # <= 요기\n",
    "2. dbms SQL 해석\n",
    "3. db SQL 적용"
   ]
  },
  {
   "cell_type": "code",
   "execution_count": 41,
   "id": "eb40f98b-aaf6-442b-af02-9bf50718169c",
   "metadata": {},
   "outputs": [
    {
     "data": {
      "text/plain": [
       "[(1,)]"
      ]
     },
     "execution_count": 41,
     "metadata": {},
     "output_type": "execute_result"
    }
   ],
   "source": [
    "cur.execute('SELECT CNO FROM CITY WHERE NAME=?', ['성북구'])\n",
    "cur.fetchall()"
   ]
  },
  {
   "cell_type": "code",
   "execution_count": 42,
   "id": "256214e5-d8b2-4f3b-b0fb-0dcb05db76de",
   "metadata": {},
   "outputs": [
    {
     "data": {
      "text/plain": [
       "[(1,), (2,), (3,), (4,), (5,), (6,), (7,), (8,)]"
      ]
     },
     "execution_count": 42,
     "metadata": {},
     "output_type": "execute_result"
    }
   ],
   "source": [
    "cur.execute('SELECT CNO FROM CITY WHERE NAME LIKE ? ', ['%구'])\n",
    "cur.fetchall()"
   ]
  },
  {
   "cell_type": "code",
   "execution_count": 45,
   "id": "930c6fef-d759-4dfb-b22f-1c61437fa0f2",
   "metadata": {},
   "outputs": [
    {
     "data": {
      "text/plain": [
       "[(7, '강남구'),\n",
       " (2, '강북구'),\n",
       " (6, '노원구'),\n",
       " (3, '동대문구'),\n",
       " (8, '서초구'),\n",
       " (1, '성북구'),\n",
       " (4, '중구'),\n",
       " (5, '중랑구')]"
      ]
     },
     "execution_count": 45,
     "metadata": {},
     "output_type": "execute_result"
    }
   ],
   "source": [
    "cur.execute('''\n",
    "    SELECT * FROM CITY WHERE NAME LIKE ?\n",
    "    ORDER BY NAME, CNO\n",
    "''', ['%구'])\n",
    "cur.fetchall()"
   ]
  },
  {
   "cell_type": "code",
   "execution_count": 49,
   "id": "cd03dd67-7329-44b2-98bb-88cccbca599c",
   "metadata": {},
   "outputs": [
    {
     "data": {
      "text/plain": [
       "[(3, '동대문구'), (8, '서초구'), (1, '성북구'), (4, '중구'), (5, '중랑구')]"
      ]
     },
     "execution_count": 49,
     "metadata": {},
     "output_type": "execute_result"
    }
   ],
   "source": [
    "cur.execute('''\n",
    "    SELECT * FROM CITY WHERE NAME LIKE ?\n",
    "    ORDER BY NAME, CNO\n",
    "''', ['%구'])\n",
    "cur.fetchone() # 1개\n",
    "cur.fetchmany(2) # N개\n",
    "cur.fetchall() # 전체"
   ]
  },
  {
   "cell_type": "code",
   "execution_count": 50,
   "id": "a86baa46-b2a5-4db2-b8a3-98c36d29e7cc",
   "metadata": {},
   "outputs": [
    {
     "data": {
      "text/plain": [
       "[(7, '강남구')]"
      ]
     },
     "execution_count": 50,
     "metadata": {},
     "output_type": "execute_result"
    }
   ],
   "source": [
    "# DBMS\n",
    "# LIMIT 시작위치, 몇개\n",
    "cur.execute('''\n",
    "    SELECT * FROM CITY WHERE NAME LIKE ?\n",
    "    ORDER BY NAME, CNO\n",
    "    LIMIT 0, 1\n",
    "''', ['%구'])\n",
    "cur.fetchall()"
   ]
  },
  {
   "cell_type": "code",
   "execution_count": 54,
   "id": "3fe98501-a0ab-4508-94c8-e7d37f5d1b50",
   "metadata": {},
   "outputs": [
    {
     "ename": "TypeError",
     "evalue": "'NoneType' object is not subscriptable",
     "output_type": "error",
     "traceback": [
      "\u001b[1;31m---------------------------------------------------------------------------\u001b[0m",
      "\u001b[1;31mTypeError\u001b[0m                                 Traceback (most recent call last)",
      "Cell \u001b[1;32mIn[54], line 9\u001b[0m\n\u001b[0;32m      7\u001b[0m cur\u001b[38;5;241m.\u001b[39mfetchone() \u001b[38;5;66;03m# record/tuple/row 단위로 가져옴 => Python iterable 객채로 반환\u001b[39;00m\n\u001b[0;32m      8\u001b[0m \u001b[38;5;66;03m# Cursor 결과 => 읽어들임\u001b[39;00m\n\u001b[1;32m----> 9\u001b[0m \u001b[43mcur\u001b[49m\u001b[38;5;241;43m.\u001b[39;49m\u001b[43mfetchone\u001b[49m\u001b[43m(\u001b[49m\u001b[43m)\u001b[49m\u001b[43m[\u001b[49m\u001b[38;5;241;43m0\u001b[39;49m\u001b[43m]\u001b[49m\n\u001b[0;32m     10\u001b[0m \u001b[38;5;66;03m# Cursor 결과 X\u001b[39;00m\n",
      "\u001b[1;31mTypeError\u001b[0m: 'NoneType' object is not subscriptable"
     ]
    }
   ],
   "source": [
    "cur.execute('''\n",
    "    SELECT CNO FROM CITY WHERE NAME LIKE ?\n",
    "    ORDER BY NAME, CNO ASC\n",
    "    LIMIT 0, 1\n",
    "''', ['%성북구%'])\n",
    "# Curosr => DBMS <- DB\n",
    "cur.fetchone() # record/tuple/row 단위로 가져옴 => Python iterable 객채로 반환\n",
    "# Cursor 결과 => 읽어들임\n",
    "cur.fetchone()[0]\n",
    "# Cursor 결과 X"
   ]
  },
  {
   "cell_type": "code",
   "execution_count": 55,
   "id": "944ac549-9bb6-46ba-add3-e2ff2bf658df",
   "metadata": {},
   "outputs": [],
   "source": [
    "cur.execute('''\n",
    "    SELECT CNO FROM CITY WHERE NAME LIKE ?\n",
    "    ORDER BY NAME, CNO ASC\n",
    "    LIMIT 0, 1\n",
    "''', ['%성북구%'])\n",
    "cno = cur.fetchone()[0]"
   ]
  },
  {
   "cell_type": "code",
   "execution_count": 56,
   "id": "07bf9d5b-e9d8-4067-b4a5-0eaa9aa2efd4",
   "metadata": {},
   "outputs": [
    {
     "data": {
      "text/plain": [
       "<sqlite3.Cursor at 0x1e213e34a40>"
      ]
     },
     "execution_count": 56,
     "metadata": {},
     "output_type": "execute_result"
    }
   ],
   "source": [
    "cur.execute('INSERT INTO SUPPLIER (NAME, CNO) VALUES(?,?)', ('1호점', cno))\n",
    "cur.execute('INSERT INTO SUPPLIER (NAME, CNO) VALUES(?,?)', ('2호점', cno))\n",
    "cur.execute('INSERT INTO SUPPLIER (NAME, CNO) VALUES(?,?)', ('3호점', cno))"
   ]
  },
  {
   "cell_type": "code",
   "execution_count": 57,
   "id": "69b387bd-459c-4fa9-8203-c2cded9aed50",
   "metadata": {},
   "outputs": [
    {
     "data": {
      "text/plain": [
       "[(1, '1호점', 1), (2, '2호점', 1), (3, '3호점', 1)]"
      ]
     },
     "execution_count": 57,
     "metadata": {},
     "output_type": "execute_result"
    }
   ],
   "source": [
    "cur.execute('SELECT * FROM SUPPLIER')\n",
    "cur.fetchall()"
   ]
  },
  {
   "cell_type": "code",
   "execution_count": 58,
   "id": "c1ff570a-c409-4b06-b42a-0b95cb70c665",
   "metadata": {},
   "outputs": [
    {
     "data": {
      "text/plain": [
       "<sqlite3.Cursor at 0x1e213e34a40>"
      ]
     },
     "execution_count": 58,
     "metadata": {},
     "output_type": "execute_result"
    }
   ],
   "source": [
    "cur.execute('''\n",
    "    INSERT INTO SUPPLIER (NAME, CNO) VALUES (?, (\n",
    "        SELECT CNO FROM CITY WHERE NAME LIKE ?\n",
    "        ORDER BY NAME, CNO ASC\n",
    "        LIMIT 0, 1\n",
    "    ))\n",
    "''', ('1호점', '%강북구%'))\n",
    "    # INSERT INTO SUPPLIER (NAME, CNO) VALUES ('1호점', 2);\n",
    "    # INSERT INTO SUPPLIER (NAME, CNO) VALUES ('1호점', 2 = (\n",
    "    #     SELECT CNO FROM CITY WHERE NAME LIKE '%강북구%'\n",
    "    #     ORDER BY NAME, CNO ASC\n",
    "    #     LIMIT 0, 1\n",
    "    # ))"
   ]
  },
  {
   "cell_type": "code",
   "execution_count": 59,
   "id": "a7a9a909-b3d8-4347-a1fa-2c1f6a7acd7e",
   "metadata": {},
   "outputs": [
    {
     "data": {
      "text/plain": [
       "[(1, '1호점', 1), (2, '2호점', 1), (3, '3호점', 1), (4, '1호점', 2)]"
      ]
     },
     "execution_count": 59,
     "metadata": {},
     "output_type": "execute_result"
    }
   ],
   "source": [
    "cur.execute('SELECT * FROM SUPPLIER')\n",
    "cur.fetchall()"
   ]
  },
  {
   "cell_type": "code",
   "execution_count": 60,
   "id": "c6f0b1d0-fcda-4383-a328-350703a147b0",
   "metadata": {},
   "outputs": [],
   "source": [
    "cur.execute('SELECT NAME FROM CITY WHERE CNO > 2')\n",
    "c = cur.fetchall()\n",
    "\n",
    "for name in c:\n",
    "    name = '%'+name[0]+'%'\n",
    "\n",
    "    # for no in ['1호점','2호점','3호점']:\n",
    "    #     cur.execute('''\n",
    "    #         INSERT INTO SUPPLIER (NAME, CNO) VALUES (?, (\n",
    "    #             SELECT CNO FROM CITY WHERE NAME LIKE ?\n",
    "    #             ORDER BY NAME, CNO ASC\n",
    "    #             LIMIT 0, 1\n",
    "    #         ))\n",
    "    #     ''', (no, name))\n",
    "    params = [{'no':'1호점', 'name':name},{'no':'2호점', 'name':name},{'no':'3호점', 'name':name}]\n",
    "    cur.executemany('''\n",
    "        INSERT INTO SUPPLIER (NAME, CNO) VALUES (:no, (\n",
    "            SELECT CNO FROM CITY WHERE NAME LIKE :name\n",
    "            ORDER BY NAME, CNO ASC\n",
    "            LIMIT 0, 1\n",
    "        ))\n",
    "    ''', params)"
   ]
  },
  {
   "cell_type": "code",
   "execution_count": 61,
   "id": "cf8948f6-6c82-4cfd-af14-c5e86ce2a319",
   "metadata": {},
   "outputs": [
    {
     "data": {
      "text/plain": [
       "22"
      ]
     },
     "execution_count": 61,
     "metadata": {},
     "output_type": "execute_result"
    }
   ],
   "source": [
    "cur.execute('SELECT * FROM SUPPLIER')\n",
    "len(cur.fetchall())"
   ]
  },
  {
   "cell_type": "code",
   "execution_count": 62,
   "id": "6fe378bc-f22d-40f2-bad5-da2355d6ab07",
   "metadata": {},
   "outputs": [
    {
     "data": {
      "text/plain": [
       "4"
      ]
     },
     "execution_count": 62,
     "metadata": {},
     "output_type": "execute_result"
    }
   ],
   "source": [
    "cur.execute('SELECT COUNT(PNO) FROM PART')\n",
    "cur.fetchone()[0]"
   ]
  },
  {
   "cell_type": "code",
   "execution_count": 66,
   "id": "9380d0ef-bd0a-4309-8021-5d9a7cab3a08",
   "metadata": {},
   "outputs": [
    {
     "data": {
      "text/plain": [
       "<sqlite3.Cursor at 0x1e213e34a40>"
      ]
     },
     "execution_count": 66,
     "metadata": {},
     "output_type": "execute_result"
    }
   ],
   "source": [
    "cur.executescript('''\n",
    "    DROP TABLE IF EXISTS SELLS;\n",
    "    \n",
    "    CREATE TABLE SELLS(\n",
    "        SNO INTEGER NOT NULL,\n",
    "        PNO INTEGER NOT NULL,\n",
    "        PRICE INTEGER NOT NULL DEFAULT 0\n",
    "    )\n",
    "''')"
   ]
  },
  {
   "cell_type": "code",
   "execution_count": 67,
   "id": "bc1128fa-d9a8-4071-b611-9bb26821a27a",
   "metadata": {},
   "outputs": [
    {
     "data": {
      "text/plain": [
       "<sqlite3.Cursor at 0x1e213e34a40>"
      ]
     },
     "execution_count": 67,
     "metadata": {},
     "output_type": "execute_result"
    }
   ],
   "source": [
    "cur.executemany('INSERT INTO SELLS VALUES(?,?,?)',\n",
    "[(1,1,10),\n",
    "(2,1,10),\n",
    "(3,1,10),\n",
    "(5,1,10),\n",
    "(7,1,10),\n",
    "(9,1,10),\n",
    "(11,1,10),\n",
    "(1,2,15),\n",
    "(4,2,15),\n",
    "(6,2,15),\n",
    "(8,2,15),\n",
    "(10,2,15),\n",
    "(12,2,15),\n",
    "(14,2,15),\n",
    "(1,3,8),\n",
    "(18,3,8),\n",
    "(19,3,8),\n",
    "(22,4,8),\n",
    "(1,4,20),\n",
    "(2,4,20),\n",
    "(3,4,20)])"
   ]
  },
  {
   "cell_type": "code",
   "execution_count": 68,
   "id": "9d5c1689-1915-4184-ad1c-eb945d4237db",
   "metadata": {},
   "outputs": [],
   "source": [
    "con.commit()"
   ]
  },
  {
   "cell_type": "code",
   "execution_count": 69,
   "id": "ce459c99-fe2a-4c28-9639-28f6165e2991",
   "metadata": {},
   "outputs": [
    {
     "data": {
      "text/plain": [
       "[('성북구',),\n",
       " ('강북구',),\n",
       " ('동대문구',),\n",
       " ('중구',),\n",
       " ('중랑구',),\n",
       " ('노원구',),\n",
       " ('강남구',),\n",
       " ('서초구',)]"
      ]
     },
     "execution_count": 69,
     "metadata": {},
     "output_type": "execute_result"
    }
   ],
   "source": [
    "cur.execute('SELECT NAME FROM CITY')\n",
    "cur.fetchall()"
   ]
  },
  {
   "cell_type": "code",
   "execution_count": 70,
   "id": "ad6b0a10-2cd9-4503-86f4-f8faefb42363",
   "metadata": {},
   "outputs": [
    {
     "data": {
      "text/plain": [
       "<sqlite3.Cursor at 0x1e213e34a40>"
      ]
     },
     "execution_count": 70,
     "metadata": {},
     "output_type": "execute_result"
    }
   ],
   "source": [
    "cur.execute('INSERT INTO CITY (NAME) VALUES(\"광진구\");')"
   ]
  },
  {
   "cell_type": "code",
   "execution_count": 71,
   "id": "8cd1a309-84b4-4f28-987e-a87d98f6792e",
   "metadata": {},
   "outputs": [
    {
     "data": {
      "text/plain": [
       "<sqlite3.Cursor at 0x1e213e34a40>"
      ]
     },
     "execution_count": 71,
     "metadata": {},
     "output_type": "execute_result"
    }
   ],
   "source": [
    "cur.execute('''\n",
    "    SELECT CITY.NAME, SUPPLIER.NAME FROM CITY\n",
    "    INNER JOIN SUPPLIER\n",
    "    ON CITY.CNO=SUPPLIER.CNO\n",
    "''')\n",
    "len(cur.fetchall()) # 22개\n",
    "cur.execute('''\n",
    "    SELECT CITY.NAME, SUPPLIER.NAME FROM CITY\n",
    "    LEFT JOIN SUPPLIER\n",
    "    ON CITY.CNO=SUPPLIER.CNO\n",
    "''')\n",
    "# len(cur.fetchall()) # 23개\n",
    "# cur.fetchall()[-1]"
   ]
  },
  {
   "cell_type": "code",
   "execution_count": 72,
   "id": "7ec7d910-c8f8-490c-97a9-3311ae35f072",
   "metadata": {},
   "outputs": [
    {
     "data": {
      "text/plain": [
       "[('강남구', 3),\n",
       " ('강북구', 1),\n",
       " ('광진구', 0),\n",
       " ('노원구', 3),\n",
       " ('동대문구', 3),\n",
       " ('서초구', 3),\n",
       " ('성북구', 3),\n",
       " ('중구', 3),\n",
       " ('중랑구', 3)]"
      ]
     },
     "execution_count": 72,
     "metadata": {},
     "output_type": "execute_result"
    }
   ],
   "source": [
    "cur.execute('''\n",
    "    SELECT CITY.NAME, COUNT(SUPPLIER.NAME) FROM CITY\n",
    "    LEFT JOIN SUPPLIER\n",
    "    ON CITY.CNO=SUPPLIER.CNO\n",
    "    GROUP BY CITY.CNO\n",
    "    ORDER BY CITY.NAME ASC\n",
    "''')\n",
    "cur.fetchall()"
   ]
  },
  {
   "cell_type": "code",
   "execution_count": 73,
   "id": "c08e7f04-9aee-4b79-940c-7a62b27cb982",
   "metadata": {},
   "outputs": [
    {
     "data": {
      "text/plain": [
       "[('성북구', '1호점', 4, 53),\n",
       " ('성북구', '2호점', 2, 30),\n",
       " ('성북구', '3호점', 2, 30),\n",
       " ('강북구', '1호점', 1, 15),\n",
       " ('동대문구', '1호점', 1, 10),\n",
       " ('동대문구', '2호점', 1, 15),\n",
       " ('동대문구', '3호점', 1, 10),\n",
       " ('중구', '1호점', 1, 15),\n",
       " ('중구', '2호점', 1, 10),\n",
       " ('중구', '3호점', 1, 15),\n",
       " ('중랑구', '1호점', 1, 10),\n",
       " ('중랑구', '2호점', 1, 15),\n",
       " ('노원구', '1호점', 1, 15),\n",
       " ('강남구', '2호점', 1, 8),\n",
       " ('강남구', '3호점', 1, 8),\n",
       " ('서초구', '3호점', 1, 8)]"
      ]
     },
     "execution_count": 73,
     "metadata": {},
     "output_type": "execute_result"
    }
   ],
   "source": [
    "cur.execute('''\n",
    "    SELECT CITY.NAME, SUPPLIER.NAME, COUNT(SUPPLIER.NAME), SUM(SELLS.PRICE) FROM CITY\n",
    "    LEFT JOIN SUPPLIER\n",
    "    ON CITY.CNO=SUPPLIER.CNO\n",
    "    INNER JOIN SELLS\n",
    "    ON SUPPLIER.SNO=SELLS.SNO\n",
    "    GROUP BY CITY.NAME, SUPPLIER.NAME\n",
    "    ORDER BY CITY.CNO ASC\n",
    "''')\n",
    "cur.fetchall()"
   ]
  },
  {
   "cell_type": "code",
   "execution_count": null,
   "id": "caaaa5ad-c1f8-405f-9db5-c988d5bfe920",
   "metadata": {},
   "outputs": [],
   "source": [
    "# SQL중첩 시킴(SQL안에 SQL) => Procedure\n",
    "# JOIN(INNER=교집합, LEFT/RIGHT=기준테이블, OUTER)\n",
    "# GROUP BY"
   ]
  },
  {
   "cell_type": "code",
   "execution_count": 74,
   "id": "0a821a96-fc59-4874-a98a-9f2bdb25db0e",
   "metadata": {},
   "outputs": [
    {
     "name": "stdout",
     "output_type": "stream",
     "text": [
      "BEGIN TRANSACTION;\n",
      "CREATE TABLE CITY (\n",
      "        CNO INTEGER PRIMARY KEY,\n",
      "        NAME TEXT NOT NULL\n",
      "    );\n",
      "INSERT INTO \"CITY\" VALUES(1,'성북구');\n",
      "INSERT INTO \"CITY\" VALUES(2,'강북구');\n",
      "INSERT INTO \"CITY\" VALUES(3,'동대문구');\n",
      "INSERT INTO \"CITY\" VALUES(4,'중구');\n",
      "INSERT INTO \"CITY\" VALUES(5,'중랑구');\n",
      "INSERT INTO \"CITY\" VALUES(6,'노원구');\n",
      "INSERT INTO \"CITY\" VALUES(7,'강남구');\n",
      "INSERT INTO \"CITY\" VALUES(8,'서초구');\n",
      "INSERT INTO \"CITY\" VALUES(9,'광진구');\n",
      "CREATE TABLE PART (\n",
      "        PNO INTEGER PRIMARY KEY,\n",
      "        NAME CHAR(1)\n",
      "    );\n",
      "INSERT INTO \"PART\" VALUES(1,'아메리카노');\n",
      "INSERT INTO \"PART\" VALUES(2,'카페라테');\n",
      "INSERT INTO \"PART\" VALUES(3,'에스프레소');\n",
      "INSERT INTO \"PART\" VALUES(4,'아이스티');\n",
      "CREATE TABLE SELLS(\n",
      "        SNO INTEGER NOT NULL,\n",
      "        PNO INTEGER NOT NULL,\n",
      "        PRICE INTEGER NOT NULL DEFAULT 0\n",
      "    );\n",
      "INSERT INTO \"SELLS\" VALUES(1,1,10);\n",
      "INSERT INTO \"SELLS\" VALUES(2,1,10);\n",
      "INSERT INTO \"SELLS\" VALUES(3,1,10);\n",
      "INSERT INTO \"SELLS\" VALUES(5,1,10);\n",
      "INSERT INTO \"SELLS\" VALUES(7,1,10);\n",
      "INSERT INTO \"SELLS\" VALUES(9,1,10);\n",
      "INSERT INTO \"SELLS\" VALUES(11,1,10);\n",
      "INSERT INTO \"SELLS\" VALUES(1,2,15);\n",
      "INSERT INTO \"SELLS\" VALUES(4,2,15);\n",
      "INSERT INTO \"SELLS\" VALUES(6,2,15);\n",
      "INSERT INTO \"SELLS\" VALUES(8,2,15);\n",
      "INSERT INTO \"SELLS\" VALUES(10,2,15);\n",
      "INSERT INTO \"SELLS\" VALUES(12,2,15);\n",
      "INSERT INTO \"SELLS\" VALUES(14,2,15);\n",
      "INSERT INTO \"SELLS\" VALUES(1,3,8);\n",
      "INSERT INTO \"SELLS\" VALUES(18,3,8);\n",
      "INSERT INTO \"SELLS\" VALUES(19,3,8);\n",
      "INSERT INTO \"SELLS\" VALUES(22,4,8);\n",
      "INSERT INTO \"SELLS\" VALUES(1,4,20);\n",
      "INSERT INTO \"SELLS\" VALUES(2,4,20);\n",
      "INSERT INTO \"SELLS\" VALUES(3,4,20);\n",
      "CREATE TABLE SUPPLIER (\n",
      "        SNO INTEGER PRIMARY KEY,\n",
      "        NAME VARCHAR(2),\n",
      "        CNO INTEGER NOT NULL\n",
      "    );\n",
      "INSERT INTO \"SUPPLIER\" VALUES(1,'1호점',1);\n",
      "INSERT INTO \"SUPPLIER\" VALUES(2,'2호점',1);\n",
      "INSERT INTO \"SUPPLIER\" VALUES(3,'3호점',1);\n",
      "INSERT INTO \"SUPPLIER\" VALUES(4,'1호점',2);\n",
      "INSERT INTO \"SUPPLIER\" VALUES(5,'1호점',3);\n",
      "INSERT INTO \"SUPPLIER\" VALUES(6,'2호점',3);\n",
      "INSERT INTO \"SUPPLIER\" VALUES(7,'3호점',3);\n",
      "INSERT INTO \"SUPPLIER\" VALUES(8,'1호점',4);\n",
      "INSERT INTO \"SUPPLIER\" VALUES(9,'2호점',4);\n",
      "INSERT INTO \"SUPPLIER\" VALUES(10,'3호점',4);\n",
      "INSERT INTO \"SUPPLIER\" VALUES(11,'1호점',5);\n",
      "INSERT INTO \"SUPPLIER\" VALUES(12,'2호점',5);\n",
      "INSERT INTO \"SUPPLIER\" VALUES(13,'3호점',5);\n",
      "INSERT INTO \"SUPPLIER\" VALUES(14,'1호점',6);\n",
      "INSERT INTO \"SUPPLIER\" VALUES(15,'2호점',6);\n",
      "INSERT INTO \"SUPPLIER\" VALUES(16,'3호점',6);\n",
      "INSERT INTO \"SUPPLIER\" VALUES(17,'1호점',7);\n",
      "INSERT INTO \"SUPPLIER\" VALUES(18,'2호점',7);\n",
      "INSERT INTO \"SUPPLIER\" VALUES(19,'3호점',7);\n",
      "INSERT INTO \"SUPPLIER\" VALUES(20,'1호점',8);\n",
      "INSERT INTO \"SUPPLIER\" VALUES(21,'2호점',8);\n",
      "INSERT INTO \"SUPPLIER\" VALUES(22,'3호점',8);\n",
      "COMMIT;\n"
     ]
    }
   ],
   "source": [
    "for d in con.iterdump():\n",
    "    print(d)"
   ]
  }
 ],
 "metadata": {
  "kernelspec": {
   "display_name": "Python 3 (ipykernel)",
   "language": "python",
   "name": "python3"
  },
  "language_info": {
   "codemirror_mode": {
    "name": "ipython",
    "version": 3
   },
   "file_extension": ".py",
   "mimetype": "text/x-python",
   "name": "python",
   "nbconvert_exporter": "python",
   "pygments_lexer": "ipython3",
   "version": "3.10.4"
  }
 },
 "nbformat": 4,
 "nbformat_minor": 5
}
