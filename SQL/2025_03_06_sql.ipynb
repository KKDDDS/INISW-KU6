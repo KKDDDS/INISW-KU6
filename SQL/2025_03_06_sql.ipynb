{
 "cells": [
  {
   "cell_type": "code",
   "execution_count": null,
   "id": "d833e7af-c257-492b-b0d8-36a900c6e68d",
   "metadata": {},
   "outputs": [],
   "source": [
    "    *      Client              Server\n",
    "   ORM     Python              (R)DBMS     ----      Databse\n",
    "           sqlite3             SQLite                FILE\n",
    "                   connect\n",
    "                    cursor(SQL, Params)\n",
    "                   <-----------> Business Logic != Dev\n",
    "           => SNS(포스팅 등록, 수정)"
   ]
  },
  {
   "cell_type": "code",
   "execution_count": 93,
   "id": "b162e991-343f-41f5-92f6-1ccdfa8e1041",
   "metadata": {},
   "outputs": [],
   "source": [
    "import sqlite3"
   ]
  },
  {
   "cell_type": "code",
   "execution_count": 94,
   "id": "84cfcd01-7378-4675-aebc-1ef32a949139",
   "metadata": {},
   "outputs": [],
   "source": [
    "con = sqlite3.connect('sns.db')\n",
    "cur = con.cursor()"
   ]
  },
  {
   "cell_type": "code",
   "execution_count": 95,
   "id": "f4d3b0e2-2e0f-46a9-8fe8-114cbe2584fb",
   "metadata": {},
   "outputs": [
    {
     "data": {
      "text/plain": [
       "<sqlite3.Cursor at 0x17b00364f40>"
      ]
     },
     "execution_count": 95,
     "metadata": {},
     "output_type": "execute_result"
    }
   ],
   "source": [
    "#Table 3개\n",
    "# Post             Hashtag           PostHashtag(N:M)\n",
    "# PK, Content      PK, Tag, Cnt      P.PK, H.PK\n",
    "cur.executescript('''\n",
    "    DROP TABLE IF EXISTS POST;\n",
    "    DROP TABLE IF EXISTS HASHTAG;\n",
    "    DROP TABLE IF EXISTS PH;\n",
    "    \n",
    "    CREATE TABLE POST(\n",
    "        PNO INTEGER PRIMARY KEY,\n",
    "        CONTENT TEXT NOT NULL\n",
    "    );\n",
    "\n",
    "    CREATE TABLE HASHTAG(\n",
    "        HNO INTEGER PRIMARY KEY,\n",
    "        NAME TEXT NOT NULL,\n",
    "        CNT INTEGER NOT NULL DEFAULT 0\n",
    "    );\n",
    "\n",
    "    CREATE TABLE PH(\n",
    "        PNO INTEGER NOT NULL,\n",
    "        HNO INTEGER NOT NULL\n",
    "    );\n",
    "''')"
   ]
  },
  {
   "cell_type": "code",
   "execution_count": 96,
   "id": "b53b9bbe-c160-444f-b2a8-0e8e96c35487",
   "metadata": {},
   "outputs": [
    {
     "data": {
      "text/plain": [
       "0"
      ]
     },
     "execution_count": 96,
     "metadata": {},
     "output_type": "execute_result"
    }
   ],
   "source": [
    "# 새로운 게시물 등록 (내용, 해시태그들)\n",
    "# 해시태그; (1)태그풀에 존재하는 태그만, (2)존재하지 않으면 새롭게 추가\n",
    "def findTag(tag):\n",
    "    cur.execute('SELECT HNO FROM HASHTAG WHERE NAME=?', (tag,))\n",
    "    result = cur.fetchone() # fetchall => fetchone\n",
    "    if not result: # result가 None 일때\n",
    "        return 0\n",
    "    else: # None이 아닐 때, fetchone이니깐 tuple(열, 열, ...)\n",
    "        return result[0]\n",
    "\n",
    "def addTag(tag):\n",
    "    cur.execute('INSERT INTO HASHTAG(NAME) VALUES(?)', (tag,))\n",
    "    con.commit()\n",
    "    return cur.lastrowid\n",
    "    \n",
    "findTag('태그1')#, addTag('태그1')"
   ]
  },
  {
   "cell_type": "code",
   "execution_count": 97,
   "id": "7ccf9d21-7815-409e-8d63-5f2b31b70092",
   "metadata": {},
   "outputs": [],
   "source": [
    "def plusCount(hno):\n",
    "    cur.execute('UPDATE HASHTAG SET CNT = CNT + 1 WHERE HNO=?', (hno,))\n",
    "    con.commit()\n",
    "\n",
    "def minusCount(hno):\n",
    "    cur.execute('UPDATE HASHTAG SET CNT = CNT - 1 WHERE HNO=?', (hno,))\n",
    "    con.commit()"
   ]
  },
  {
   "cell_type": "code",
   "execution_count": 98,
   "id": "501e1abe-dcfa-4a9a-99d4-9529953526f4",
   "metadata": {},
   "outputs": [
    {
     "data": {
      "text/plain": [
       "(None, None, None)"
      ]
     },
     "execution_count": 98,
     "metadata": {},
     "output_type": "execute_result"
    }
   ],
   "source": [
    "plusCount(findTag('태그1')), plusCount(findTag('태그1')), plusCount(findTag('태그1'))"
   ]
  },
  {
   "cell_type": "code",
   "execution_count": 99,
   "id": "e0208e59-de12-423b-8022-93f690983c5c",
   "metadata": {},
   "outputs": [
    {
     "data": {
      "text/plain": [
       "(None, None)"
      ]
     },
     "execution_count": 99,
     "metadata": {},
     "output_type": "execute_result"
    }
   ],
   "source": [
    "plusCount(findTag('태그2')), plusCount(findTag('태그3'))"
   ]
  },
  {
   "cell_type": "code",
   "execution_count": 100,
   "id": "ecdf0a92-3b59-435f-aee6-ea635e7bc166",
   "metadata": {},
   "outputs": [],
   "source": [
    "def addPosting(content, opt=True, *tags):\n",
    "    cur.execute('INSERT INTO POST(CONTENT) VALUES(?)', (content,))\n",
    "    con.commit()\n",
    "    pno = cur.lastrowid\n",
    "    # if cur.lastrowid < 1:\n",
    "    #     return None\n",
    "\n",
    "    for tag in tags:\n",
    "        # (1) 태그풀에 존재하는 애들만\n",
    "        r = findTag(tag)\n",
    "        # (2) 태그풀에 존재하지 않으면, 추가\n",
    "        if r == 0 and opt == True:\n",
    "            r = addTag(tag) # 새로운 태그가 들어가면, return pk\n",
    "        if r > 0:\n",
    "            plusCount(r) # 사용된 태그에 +1\n",
    "            cur.execute('INSERT INTO PH VALUES(?,?)', (pno, r))\n",
    "            con.commit()\n",
    "            \n",
    "    return pno"
   ]
  },
  {
   "cell_type": "code",
   "execution_count": 101,
   "id": "9110dd78-940c-42c3-a1bc-aabfc05c85df",
   "metadata": {},
   "outputs": [
    {
     "data": {
      "text/plain": [
       "1"
      ]
     },
     "execution_count": 101,
     "metadata": {},
     "output_type": "execute_result"
    }
   ],
   "source": [
    "addPosting('내용1', False, '태그1', '태그2', '태그3')"
   ]
  },
  {
   "cell_type": "code",
   "execution_count": 102,
   "id": "990f55ed-bd6f-439a-b5de-67baee9105b2",
   "metadata": {},
   "outputs": [
    {
     "data": {
      "text/plain": [
       "2"
      ]
     },
     "execution_count": 102,
     "metadata": {},
     "output_type": "execute_result"
    }
   ],
   "source": [
    "addPosting('내용2', False, '태그1', '태그2', '태그3')"
   ]
  },
  {
   "cell_type": "code",
   "execution_count": null,
   "id": "ceddf6c0-f0b2-4c1f-be18-473edd798de1",
   "metadata": {},
   "outputs": [],
   "source": [
    "Post => 2개\n",
    "Hatshtag => 1개\n",
    "PH => 2개"
   ]
  },
  {
   "cell_type": "code",
   "execution_count": 103,
   "id": "1304003e-269b-40fb-aea1-59f7f3c4138e",
   "metadata": {},
   "outputs": [
    {
     "data": {
      "text/plain": [
       "[(1, '내용1'), (2, '내용2')]"
      ]
     },
     "execution_count": 103,
     "metadata": {},
     "output_type": "execute_result"
    }
   ],
   "source": [
    "cur.execute('SELECT * FROM POST')\n",
    "cur.fetchall()"
   ]
  },
  {
   "cell_type": "code",
   "execution_count": 110,
   "id": "7a714b06-216a-47e1-a909-3dca6e1dd07e",
   "metadata": {},
   "outputs": [
    {
     "data": {
      "text/plain": [
       "[(1, '태그1', 1), (2, '태그2', 1), (3, '태그3', 1)]"
      ]
     },
     "execution_count": 110,
     "metadata": {},
     "output_type": "execute_result"
    }
   ],
   "source": [
    "cur.execute('SELECT * FROM HASHTAG')\n",
    "cur.fetchall()"
   ]
  },
  {
   "cell_type": "code",
   "execution_count": 111,
   "id": "62e511f5-c288-419e-94bb-9a047cc22ddc",
   "metadata": {},
   "outputs": [
    {
     "data": {
      "text/plain": [
       "[(3, 1), (3, 2), (3, 3)]"
      ]
     },
     "execution_count": 111,
     "metadata": {},
     "output_type": "execute_result"
    }
   ],
   "source": [
    "cur.execute('SELECT * FROM PH')\n",
    "cur.fetchall()"
   ]
  },
  {
   "cell_type": "code",
   "execution_count": 112,
   "id": "73627cf1-546e-45fc-9b9d-95b5d94c6d0f",
   "metadata": {},
   "outputs": [
    {
     "data": {
      "text/plain": [
       "4"
      ]
     },
     "execution_count": 112,
     "metadata": {},
     "output_type": "execute_result"
    }
   ],
   "source": [
    "addPosting('내용3', True, '태그1', '태그2', '태그3')"
   ]
  },
  {
   "cell_type": "code",
   "execution_count": 113,
   "id": "6aec57f6-dfa7-4f3b-87cd-201b95d7d0ab",
   "metadata": {},
   "outputs": [
    {
     "data": {
      "text/plain": [
       "[(1, '내용1'), (2, '내용2'), (3, '내용3'), (4, '내용3')]"
      ]
     },
     "execution_count": 113,
     "metadata": {},
     "output_type": "execute_result"
    }
   ],
   "source": [
    "cur.execute('SELECT * FROM POST')\n",
    "cur.fetchall()"
   ]
  },
  {
   "cell_type": "code",
   "execution_count": 114,
   "id": "e9da5157-dcdc-49d3-a3d6-07e1ad73c4ee",
   "metadata": {},
   "outputs": [
    {
     "data": {
      "text/plain": [
       "[(1, '태그1', 2), (2, '태그2', 2), (3, '태그3', 2)]"
      ]
     },
     "execution_count": 114,
     "metadata": {},
     "output_type": "execute_result"
    }
   ],
   "source": [
    "cur.execute('SELECT * FROM HASHTAG')\n",
    "cur.fetchall()"
   ]
  },
  {
   "cell_type": "code",
   "execution_count": 115,
   "id": "54e09a83-7943-4c33-b874-26da9a4b2ec2",
   "metadata": {},
   "outputs": [
    {
     "data": {
      "text/plain": [
       "[(3, 1), (3, 2), (3, 3), (4, 1), (4, 2), (4, 3)]"
      ]
     },
     "execution_count": 115,
     "metadata": {},
     "output_type": "execute_result"
    }
   ],
   "source": [
    "cur.execute('SELECT * FROM PH')\n",
    "cur.fetchall()"
   ]
  },
  {
   "cell_type": "code",
   "execution_count": null,
   "id": "7d2f8d96-c6f4-40af-ba19-eee70e275de5",
   "metadata": {},
   "outputs": [],
   "source": []
  },
  {
   "cell_type": "code",
   "execution_count": null,
   "id": "cc72b679-2123-41de-9422-89a5c12e070d",
   "metadata": {},
   "outputs": [],
   "source": []
  },
  {
   "cell_type": "code",
   "execution_count": 63,
   "id": "ab8852e3-ac60-4dff-9067-59951e217859",
   "metadata": {},
   "outputs": [
    {
     "ename": "NameError",
     "evalue": "name 'search' is not defined",
     "output_type": "error",
     "traceback": [
      "\u001b[1;31m---------------------------------------------------------------------------\u001b[0m",
      "\u001b[1;31mNameError\u001b[0m                                 Traceback (most recent call last)",
      "Cell \u001b[1;32mIn[63], line 5\u001b[0m\n\u001b[0;32m      3\u001b[0m     cur\u001b[38;5;241m.\u001b[39mexecute(\u001b[38;5;124m'\u001b[39m\u001b[38;5;124mSELECT DISTINCT(CONTENT) FROM POST INNER JOIN PH ON PH.PNO=POST.PNO AND PH.HNO=?\u001b[39m\u001b[38;5;124m'\u001b[39m, (hno,))\n\u001b[0;32m      4\u001b[0m     \u001b[38;5;28mprint\u001b[39m(cur\u001b[38;5;241m.\u001b[39mfetchall())\n\u001b[1;32m----> 5\u001b[0m \u001b[43msearchPostByTag\u001b[49m\u001b[43m(\u001b[49m\u001b[38;5;124;43m'\u001b[39;49m\u001b[38;5;124;43m태그1\u001b[39;49m\u001b[38;5;124;43m'\u001b[39;49m\u001b[43m)\u001b[49m\n",
      "Cell \u001b[1;32mIn[63], line 2\u001b[0m, in \u001b[0;36msearchPostByTag\u001b[1;34m(tag)\u001b[0m\n\u001b[0;32m      1\u001b[0m \u001b[38;5;28;01mdef\u001b[39;00m \u001b[38;5;21msearchPostByTag\u001b[39m(tag):\n\u001b[1;32m----> 2\u001b[0m     hno \u001b[38;5;241m=\u001b[39m findTag(\u001b[43msearch\u001b[49m(tag)[\u001b[38;5;241m0\u001b[39m])\n\u001b[0;32m      3\u001b[0m     cur\u001b[38;5;241m.\u001b[39mexecute(\u001b[38;5;124m'\u001b[39m\u001b[38;5;124mSELECT DISTINCT(CONTENT) FROM POST INNER JOIN PH ON PH.PNO=POST.PNO AND PH.HNO=?\u001b[39m\u001b[38;5;124m'\u001b[39m, (hno,))\n\u001b[0;32m      4\u001b[0m     \u001b[38;5;28mprint\u001b[39m(cur\u001b[38;5;241m.\u001b[39mfetchall())\n",
      "\u001b[1;31mNameError\u001b[0m: name 'search' is not defined"
     ]
    }
   ],
   "source": [
    "def searchPostByTag(tag):\n",
    "    hno = findTag(search(tag)[0])\n",
    "    cur.execute('SELECT DISTINCT(CONTENT) FROM POST INNER JOIN PH ON PH.PNO=POST.PNO AND PH.HNO=?', (hno,))\n",
    "    print(cur.fetchall())\n",
    "searchPostByTag('태그1')"
   ]
  },
  {
   "cell_type": "code",
   "execution_count": 67,
   "id": "1724cd04-8977-4e9d-a075-3295a71bf904",
   "metadata": {},
   "outputs": [],
   "source": [
    "from sqlalchemy import create_engine, MetaData\n",
    "\n",
    "engine = create_engine(\"sqlite:///your_database.db\")  # Use your actual database URL\n",
    "meta = MetaData()\n",
    "meta.reflect(bind=engine)"
   ]
  },
  {
   "cell_type": "code",
   "execution_count": 69,
   "id": "ce8f0e7e-a425-41ac-b49c-b81980c962e7",
   "metadata": {},
   "outputs": [
    {
     "data": {
      "text/plain": [
       "FacadeDict({})"
      ]
     },
     "execution_count": 69,
     "metadata": {},
     "output_type": "execute_result"
    }
   ],
   "source": [
    "meta.tables"
   ]
  },
  {
   "cell_type": "code",
   "execution_count": 71,
   "id": "f3b33dab-5d47-4663-bb4d-1d0fbf725253",
   "metadata": {},
   "outputs": [
    {
     "ename": "SyntaxError",
     "evalue": "invalid syntax. Perhaps you forgot a comma? (3019756352.py, line 1)",
     "output_type": "error",
     "traceback": [
      "\u001b[1;36m  Cell \u001b[1;32mIn[71], line 1\u001b[1;36m\u001b[0m\n\u001b[1;33m    Table('USER', meta\u001b[0m\n\u001b[1;37m                  ^\u001b[0m\n\u001b[1;31mSyntaxError\u001b[0m\u001b[1;31m:\u001b[0m invalid syntax. Perhaps you forgot a comma?\n"
     ]
    }
   ],
   "source": [
    "Table('USER', meta\n",
    "      Column('PK', Integer, primary_key=True)\n",
    "      COlumn('NAME', Text, nullable = False)\n",
    "     )"
   ]
  },
  {
   "cell_type": "code",
   "execution_count": null,
   "id": "0ec336e6-cf11-4886-b104-959328ff0b58",
   "metadata": {},
   "outputs": [],
   "source": [
    "meat.create_all(engine)"
   ]
  },
  {
   "cell_type": "code",
   "execution_count": null,
   "id": "edbcf2fa-fa3a-4f5f-a7f5-0cc7d9b035fa",
   "metadata": {},
   "outputs": [],
   "source": []
  },
  {
   "cell_type": "code",
   "execution_count": 72,
   "id": "be9acc5f-eaa2-4767-87cb-bccf837943da",
   "metadata": {},
   "outputs": [],
   "source": [
    "from sqlalchemy.sql import select, insert, join"
   ]
  },
  {
   "cell_type": "code",
   "execution_count": 77,
   "id": "363f6925-a6be-42df-9660-c960fe6c6714",
   "metadata": {},
   "outputs": [
    {
     "name": "stdout",
     "output_type": "stream",
     "text": [
      "SELECT\n",
      "\n"
     ]
    },
    {
     "ename": "KeyError",
     "evalue": "'INFO'",
     "output_type": "error",
     "traceback": [
      "\u001b[1;31m---------------------------------------------------------------------------\u001b[0m",
      "\u001b[1;31mKeyError\u001b[0m                                  Traceback (most recent call last)",
      "Cell \u001b[1;32mIn[77], line 2\u001b[0m\n\u001b[0;32m      1\u001b[0m \u001b[38;5;28mprint\u001b[39m(select(), end\u001b[38;5;241m=\u001b[39m\u001b[38;5;124m'\u001b[39m\u001b[38;5;130;01m\\n\u001b[39;00m\u001b[38;5;130;01m\\n\u001b[39;00m\u001b[38;5;124m'\u001b[39m)\n\u001b[1;32m----> 2\u001b[0m \u001b[38;5;28mprint\u001b[39m(select(\u001b[43mmeta\u001b[49m\u001b[38;5;241;43m.\u001b[39;49m\u001b[43mtables\u001b[49m\u001b[43m[\u001b[49m\u001b[38;5;124;43m'\u001b[39;49m\u001b[38;5;124;43mINFO\u001b[39;49m\u001b[38;5;124;43m'\u001b[39;49m\u001b[43m]\u001b[49m), end\u001b[38;5;241m=\u001b[39m\u001b[38;5;124m'\u001b[39m\u001b[38;5;130;01m\\n\u001b[39;00m\u001b[38;5;130;01m\\n\u001b[39;00m\u001b[38;5;124m'\u001b[39m)\n\u001b[0;32m      3\u001b[0m \u001b[38;5;28mprint\u001b[39m(select(meta\u001b[38;5;241m.\u001b[39mtables[\u001b[38;5;124m'\u001b[39m\u001b[38;5;124mINFO\u001b[39m\u001b[38;5;124m'\u001b[39m])\u001b[38;5;241m.\u001b[39mwhere(meta\u001b[38;5;241m.\u001b[39mtables[\u001b[38;5;124m'\u001b[39m\u001b[38;5;124mINFO\u001b[39m\u001b[38;5;124m'\u001b[39m]\u001b[38;5;241m.\u001b[39mc[\u001b[38;5;124m'\u001b[39m\u001b[38;5;124mPK\u001b[39m\u001b[38;5;124m'\u001b[39m]\u001b[38;5;241m==\u001b[39m\u001b[38;5;241m1\u001b[39m))\n",
      "\u001b[1;31mKeyError\u001b[0m: 'INFO'"
     ]
    }
   ],
   "source": [
    "print(select(), end='\\n\\n')\n",
    "print(select(meta.tables['INFO']), end='\\n\\n')\n",
    "print(select(meta.tables['INFO']).where(meta.tables['INFO'].c['PK']==1))"
   ]
  },
  {
   "cell_type": "code",
   "execution_count": null,
   "id": "9dac5378-5ddc-44d6-9736-5b1311f23b57",
   "metadata": {},
   "outputs": [],
   "source": []
  },
  {
   "cell_type": "code",
   "execution_count": null,
   "id": "783f7151-ef93-4cba-a67e-6a7c0e5dfbe7",
   "metadata": {},
   "outputs": [],
   "source": []
  },
  {
   "cell_type": "code",
   "execution_count": 78,
   "id": "f58cf90c-642f-4ae2-a58f-3f148cf2d301",
   "metadata": {},
   "outputs": [
    {
     "ename": "KeyError",
     "evalue": "'USER'",
     "output_type": "error",
     "traceback": [
      "\u001b[1;31m---------------------------------------------------------------------------\u001b[0m",
      "\u001b[1;31mKeyError\u001b[0m                                  Traceback (most recent call last)",
      "Cell \u001b[1;32mIn[78], line 1\u001b[0m\n\u001b[1;32m----> 1\u001b[0m user \u001b[38;5;241m=\u001b[39m \u001b[43mmeta\u001b[49m\u001b[38;5;241;43m.\u001b[39;49m\u001b[43mtables\u001b[49m\u001b[43m[\u001b[49m\u001b[38;5;124;43m'\u001b[39;49m\u001b[38;5;124;43mUSER\u001b[39;49m\u001b[38;5;124;43m'\u001b[39;49m\u001b[43m]\u001b[49m\n\u001b[0;32m      2\u001b[0m info \u001b[38;5;241m=\u001b[39m meta\u001b[38;5;241m.\u001b[39mtables[\u001b[38;5;124m'\u001b[39m\u001b[38;5;124mINFO\u001b[39m\u001b[38;5;124m'\u001b[39m]\n",
      "\u001b[1;31mKeyError\u001b[0m: 'USER'"
     ]
    }
   ],
   "source": [
    "user = meta.tables['USER']\n",
    "info = meta.tables['INFO']"
   ]
  },
  {
   "cell_type": "code",
   "execution_count": null,
   "id": "bb9e2c7a-b08d-4daa-89a0-94edd510c698",
   "metadata": {},
   "outputs": [],
   "source": []
  },
  {
   "cell_type": "code",
   "execution_count": null,
   "id": "750c81f2-a521-4ea6-9719-c09720449aa2",
   "metadata": {},
   "outputs": [],
   "source": [
    "ORM: SQL X, Object 접근, 메모리 상에서 작업, DB와 작업환경을 분리\n",
    "\n",
    "                Client                  Server\n",
    "        ORM     Python     Sqlite       SqLite -------- Database(FILE)\n",
    "            engine 객체를 생성\n",
    "            DBMS 주소 전달 DBAPI://계정@주소:포트/데이터베이스\n",
    "                                    X     X    => sqlite:///FILE경로      DBMS 접속 X (Lazy)\n",
    "    Engine\n",
    "Connect   Dialect\n",
    "접속유지관리  객체 -> SQL로 해석\n",
    "            engine.connect()\n",
    "기존:                           execute      SQL\n",
    "이제: Meta -> Table 객체 등록 (생성, reflect)\n",
    "             [생성] Table 객체를 생성자로 만들어야 함(Params..., Column객체)\n",
    "      Meta.tables[table 객체들이 들어있음]\n",
    "             SQL 객체들로 호출(select, insert, ...)\n",
    "            engine.connect().execute(객체를 전달) -> dialect -> SQL 변환 -> engine.connect -> [DBMS -> DB]\n",
    "객체: Table, Column, SQL(select, insert, update, delete, join...)"
   ]
  },
  {
   "cell_type": "code",
   "execution_count": null,
   "id": "3c3f0b26-d7df-49f9-b2c4-b446d4609a2f",
   "metadata": {},
   "outputs": [],
   "source": []
  },
  {
   "cell_type": "code",
   "execution_count": null,
   "id": "d302d820-9c76-4b11-8337-323ba87314f6",
   "metadata": {},
   "outputs": [],
   "source": []
  },
  {
   "cell_type": "code",
   "execution_count": 79,
   "id": "6af6a5da-e9fc-4e9e-aee6-ba7e122b4ccc",
   "metadata": {},
   "outputs": [
    {
     "data": {
      "text/plain": [
       "['__annotations__',\n",
       " '__bool__',\n",
       " '__class__',\n",
       " '__class_getitem__',\n",
       " '__delattr__',\n",
       " '__dict__',\n",
       " '__dir__',\n",
       " '__doc__',\n",
       " '__eq__',\n",
       " '__format__',\n",
       " '__ge__',\n",
       " '__getattribute__',\n",
       " '__getstate__',\n",
       " '__gt__',\n",
       " '__hash__',\n",
       " '__init__',\n",
       " '__init_subclass__',\n",
       " '__invert__',\n",
       " '__le__',\n",
       " '__lt__',\n",
       " '__module__',\n",
       " '__ne__',\n",
       " '__new__',\n",
       " '__orig_bases__',\n",
       " '__parameters__',\n",
       " '__reduce__',\n",
       " '__reduce_ex__',\n",
       " '__repr__',\n",
       " '__setattr__',\n",
       " '__sizeof__',\n",
       " '__slots__',\n",
       " '__str__',\n",
       " '__subclasshook__',\n",
       " '__visit_name__',\n",
       " '__weakref__',\n",
       " '_add_context_option',\n",
       " '_all_selected_columns',\n",
       " '_annotate',\n",
       " '_annotations',\n",
       " '_annotations_cache_key',\n",
       " '_assert_no_memoizations',\n",
       " '_attributes',\n",
       " '_auto_correlate',\n",
       " '_cache_key_traversal',\n",
       " '_clone',\n",
       " '_clone_annotations_traverse_internals',\n",
       " '_cloned_set',\n",
       " '_compile_options',\n",
       " '_compile_state_factory',\n",
       " '_compile_state_plugin',\n",
       " '_compile_w_cache',\n",
       " '_compiler',\n",
       " '_compiler_dispatch',\n",
       " '_constructor',\n",
       " '_copy_internals',\n",
       " '_correlate',\n",
       " '_correlate_except',\n",
       " '_create_raw_select',\n",
       " '_de_clone',\n",
       " '_deannotate',\n",
       " '_distinct',\n",
       " '_distinct_on',\n",
       " '_effective_plugin_target',\n",
       " '_ensure_disambiguated_names',\n",
       " '_executable_traverse_internals',\n",
       " '_execute_on_connection',\n",
       " '_execute_on_scalar',\n",
       " '_execution_options',\n",
       " '_fetch_clause',\n",
       " '_fetch_clause_options',\n",
       " '_filter_by_zero',\n",
       " '_for_update_arg',\n",
       " '_from_obj',\n",
       " '_from_objects',\n",
       " '_gen_annotations_cache_key',\n",
       " '_gen_cache_key',\n",
       " '_gen_static_annotations_cache_key',\n",
       " '_generate',\n",
       " '_generate_cache_attrs',\n",
       " '_generate_cache_key',\n",
       " '_generate_cache_key_for_object',\n",
       " '_generate_columns_plus_names',\n",
       " '_generate_compiler_dispatch',\n",
       " '_generate_fromclause_column_proxies',\n",
       " '_get_embedded_bindparams',\n",
       " '_group_by_clause',\n",
       " '_group_by_clauses',\n",
       " '_has_ctes_traverse_internals',\n",
       " '_has_hints_traverse_internals',\n",
       " '_has_prefixes_traverse_internals',\n",
       " '_has_row_limiting_clause',\n",
       " '_has_suffixes_traverse_internals',\n",
       " '_having_criteria',\n",
       " '_hierarchy_supports_caching',\n",
       " '_hints',\n",
       " '_implicit_subquery',\n",
       " '_independent_ctes',\n",
       " '_independent_ctes_opts',\n",
       " '_is_bind_parameter',\n",
       " '_is_clause_list',\n",
       " '_is_clone_of',\n",
       " '_is_column_element',\n",
       " '_is_default_generator',\n",
       " '_is_from_clause',\n",
       " '_is_from_container',\n",
       " '_is_has_cache_key',\n",
       " '_is_immutable',\n",
       " '_is_keyed_column_element',\n",
       " '_is_lambda_element',\n",
       " '_is_lateral',\n",
       " '_is_protocol',\n",
       " '_is_returns_rows',\n",
       " '_is_select_base',\n",
       " '_is_select_container',\n",
       " '_is_select_statement',\n",
       " '_is_singleton_constant',\n",
       " '_is_star',\n",
       " '_is_table',\n",
       " '_is_text_clause',\n",
       " '_is_textual',\n",
       " '_iterate_from_elements',\n",
       " '_label_style',\n",
       " '_limit',\n",
       " '_limit_clause',\n",
       " '_memoized_keys',\n",
       " '_memoized_select_entities',\n",
       " '_needs_parens_for_grouping',\n",
       " '_negate',\n",
       " '_negate_in_binary',\n",
       " '_offset',\n",
       " '_offset_clause',\n",
       " '_offset_or_limit_clause',\n",
       " '_offset_or_limit_clause_asint',\n",
       " '_order_by_clause',\n",
       " '_order_by_clauses',\n",
       " '_order_by_label_element',\n",
       " '_original_compiler_dispatch',\n",
       " '_prefixes',\n",
       " '_propagate_attrs',\n",
       " '_raw_columns',\n",
       " '_refresh_for_new_column',\n",
       " '_replace_params',\n",
       " '_reset_memoizations',\n",
       " '_role_name',\n",
       " '_scalar_type',\n",
       " '_set_compile_options',\n",
       " '_set_entities',\n",
       " '_set_memoized_attribute',\n",
       " '_set_propagate_attrs',\n",
       " '_setup_joins',\n",
       " '_simple_int_clause',\n",
       " '_statement_hints',\n",
       " '_suffixes',\n",
       " '_traverse_internals',\n",
       " '_ungroup',\n",
       " '_update_compile_options',\n",
       " '_where_criteria',\n",
       " '_whereclause',\n",
       " '_with_annotations',\n",
       " '_with_binary_element_type',\n",
       " '_with_context_options',\n",
       " '_with_hint',\n",
       " '_with_options',\n",
       " 'add_columns',\n",
       " 'add_cte',\n",
       " 'alias',\n",
       " 'allows_lambda',\n",
       " 'as_scalar',\n",
       " 'c',\n",
       " 'column',\n",
       " 'column_descriptions',\n",
       " 'columns',\n",
       " 'columns_clause_froms',\n",
       " 'compare',\n",
       " 'compile',\n",
       " 'correlate',\n",
       " 'correlate_except',\n",
       " 'corresponding_column',\n",
       " 'cte',\n",
       " 'description',\n",
       " 'distinct',\n",
       " 'entity_namespace',\n",
       " 'except_',\n",
       " 'except_all',\n",
       " 'execution_options',\n",
       " 'exists',\n",
       " 'exported_columns',\n",
       " 'fetch',\n",
       " 'filter',\n",
       " 'filter_by',\n",
       " 'from_statement',\n",
       " 'froms',\n",
       " 'get_children',\n",
       " 'get_execution_options',\n",
       " 'get_final_froms',\n",
       " 'get_label_style',\n",
       " 'group_by',\n",
       " 'having',\n",
       " 'inherit_cache',\n",
       " 'inner_columns',\n",
       " 'intersect',\n",
       " 'intersect_all',\n",
       " 'is_clause_element',\n",
       " 'is_delete',\n",
       " 'is_derived_from',\n",
       " 'is_dml',\n",
       " 'is_insert',\n",
       " 'is_select',\n",
       " 'is_selectable',\n",
       " 'is_text',\n",
       " 'is_update',\n",
       " 'join',\n",
       " 'join_from',\n",
       " 'label',\n",
       " 'lateral',\n",
       " 'limit',\n",
       " 'memoized_attribute',\n",
       " 'memoized_instancemethod',\n",
       " 'offset',\n",
       " 'options',\n",
       " 'order_by',\n",
       " 'outerjoin',\n",
       " 'outerjoin_from',\n",
       " 'params',\n",
       " 'prefix_with',\n",
       " 'reduce_columns',\n",
       " 'replace_selectable',\n",
       " 'scalar_subquery',\n",
       " 'select',\n",
       " 'select_from',\n",
       " 'selectable',\n",
       " 'selected_columns',\n",
       " 'self_group',\n",
       " 'set_label_style',\n",
       " 'slice',\n",
       " 'stringify_dialect',\n",
       " 'subquery',\n",
       " 'suffix_with',\n",
       " 'supports_execution',\n",
       " 'union',\n",
       " 'union_all',\n",
       " 'unique_params',\n",
       " 'uses_inspection',\n",
       " 'where',\n",
       " 'whereclause',\n",
       " 'with_for_update',\n",
       " 'with_hint',\n",
       " 'with_only_columns',\n",
       " 'with_statement_hint']"
      ]
     },
     "execution_count": 79,
     "metadata": {},
     "output_type": "execute_result"
    }
   ],
   "source": [
    "dir(select())"
   ]
  },
  {
   "cell_type": "code",
   "execution_count": null,
   "id": "8ea0a404-0501-4233-9b93-6e953ce68ca2",
   "metadata": {},
   "outputs": [],
   "source": []
  },
  {
   "cell_type": "code",
   "execution_count": null,
   "id": "d753b765-dfad-47ca-8be7-52ced745d427",
   "metadata": {},
   "outputs": [],
   "source": []
  },
  {
   "cell_type": "code",
   "execution_count": null,
   "id": "2762246b-5266-4c1a-9ef1-904692882426",
   "metadata": {},
   "outputs": [],
   "source": []
  },
  {
   "cell_type": "code",
   "execution_count": 1,
   "id": "8a4dfd37-e890-4788-88c9-087bde746c05",
   "metadata": {},
   "outputs": [
    {
     "ename": "NameError",
     "evalue": "name 'meta' is not defined",
     "output_type": "error",
     "traceback": [
      "\u001b[1;31m---------------------------------------------------------------------------\u001b[0m",
      "\u001b[1;31mNameError\u001b[0m                                 Traceback (most recent call last)",
      "Cell \u001b[1;32mIn[1], line 1\u001b[0m\n\u001b[1;32m----> 1\u001b[0m \u001b[43mmeta\u001b[49m\u001b[38;5;241m.\u001b[39mclear()\n\u001b[0;32m      2\u001b[0m con\u001b[38;5;241m.\u001b[39mclose()\n",
      "\u001b[1;31mNameError\u001b[0m: name 'meta' is not defined"
     ]
    }
   ],
   "source": [
    "meta.clear()\n",
    "con.close()"
   ]
  },
  {
   "cell_type": "code",
   "execution_count": 4,
   "id": "a348680d-d9c1-4875-bbb4-4c6515a8a342",
   "metadata": {},
   "outputs": [
    {
     "ename": "NameError",
     "evalue": "name 'create_engine' is not defined",
     "output_type": "error",
     "traceback": [
      "\u001b[1;31m---------------------------------------------------------------------------\u001b[0m",
      "\u001b[1;31mNameError\u001b[0m                                 Traceback (most recent call last)",
      "Cell \u001b[1;32mIn[4], line 1\u001b[0m\n\u001b[1;32m----> 1\u001b[0m engine \u001b[38;5;241m=\u001b[39m \u001b[43mcreate_engine\u001b[49m(\u001b[38;5;124m'\u001b[39m\u001b[38;5;124msqlite:///coffee.db\u001b[39m\u001b[38;5;124m'\u001b[39m, echo \u001b[38;5;241m=\u001b[39m \u001b[38;5;28;01mTrue\u001b[39;00m)\n\u001b[0;32m      2\u001b[0m con \u001b[38;5;241m=\u001b[39m engine\u001b[38;5;241m.\u001b[39mconnect()\n",
      "\u001b[1;31mNameError\u001b[0m: name 'create_engine' is not defined"
     ]
    }
   ],
   "source": [
    "engine = create_engine('sqlite:///coffee.db', echo = True)\n",
    "con = engine.connect()"
   ]
  },
  {
   "cell_type": "code",
   "execution_count": null,
   "id": "c31429da-6273-4971-aea1-3cdf0866468d",
   "metadata": {},
   "outputs": [],
   "source": []
  },
  {
   "cell_type": "code",
   "execution_count": 3,
   "id": "404957af-9d03-4f62-a5ab-3c29da75caf5",
   "metadata": {},
   "outputs": [
    {
     "ename": "NameError",
     "evalue": "name 'meta' is not defined",
     "output_type": "error",
     "traceback": [
      "\u001b[1;31m---------------------------------------------------------------------------\u001b[0m",
      "\u001b[1;31mNameError\u001b[0m                                 Traceback (most recent call last)",
      "Cell \u001b[1;32mIn[3], line 1\u001b[0m\n\u001b[1;32m----> 1\u001b[0m \u001b[43mmeta\u001b[49m\u001b[38;5;241m.\u001b[39mtable\u001b[38;5;241m.\u001b[39mkeys()\n",
      "\u001b[1;31mNameError\u001b[0m: name 'meta' is not defined"
     ]
    }
   ],
   "source": [
    "meta.table.keys()"
   ]
  },
  {
   "cell_type": "code",
   "execution_count": null,
   "id": "d1bc784d-a2e0-4141-826c-01270b061dab",
   "metadata": {},
   "outputs": [],
   "source": []
  }
 ],
 "metadata": {
  "kernelspec": {
   "display_name": "Python 3 (ipykernel)",
   "language": "python",
   "name": "python3"
  },
  "language_info": {
   "codemirror_mode": {
    "name": "ipython",
    "version": 3
   },
   "file_extension": ".py",
   "mimetype": "text/x-python",
   "name": "python",
   "nbconvert_exporter": "python",
   "pygments_lexer": "ipython3",
   "version": "3.10.4"
  }
 },
 "nbformat": 4,
 "nbformat_minor": 5
}
