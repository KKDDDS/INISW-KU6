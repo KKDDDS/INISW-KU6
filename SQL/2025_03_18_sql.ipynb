{
 "cells": [
  {
   "cell_type": "code",
   "execution_count": null,
   "id": "b73fe113-389f-4b83-9f0e-891e0c707885",
   "metadata": {},
   "outputs": [],
   "source": [
    "크롤러: 크롤링 + 스크래핑\n",
    "        ----- (*) => 얼마나 많은 웹페이지를 탐색\n",
    "                ------- => 색인(어떤 정보가 어떤 페이지에 있었는지)\n",
    "크롤링: 하이퍼링크를 따라서 계속해서 웹 공간을 탐색\n",
    "        => 너비우선탐색, 깊이우선탐색, 한정된탐색(Focused) => depth, domain, element.tag, ... => 뉴스수집기\n",
    "스크래핑: 어떤 정보(데이터)가 있는지를 추출/분석\n",
    "          => HTML Parser(html.parser, lxml, html5lib)\n",
    "          => 속성(id, class, arrts ...) + 구조\n",
    "동적HTML(DHTML): 브라우저에 있는 DOM  //  네트워크.raw HTML 차이. 왜? 언제? 어떻게?"
   ]
  },
  {
   "cell_type": "code",
   "execution_count": 1,
   "id": "cd6d1995-f8be-4a64-ae85-843510c52d4d",
   "metadata": {},
   "outputs": [],
   "source": [
    "from requests import request\n",
    "from requests.compat import urljoin"
   ]
  },
  {
   "cell_type": "code",
   "execution_count": 8,
   "id": "0e08de7e-8c04-449a-a495-af1d3d2a7a21",
   "metadata": {},
   "outputs": [],
   "source": [
    "url = 'https://pythonscraping.com/pages/javascript/ajaxDemo.html'\n",
    "resp = request('get', url)\n",
    "# status_code, reason, headers"
   ]
  },
  {
   "cell_type": "code",
   "execution_count": 9,
   "id": "e2969ff4-4613-48ea-be51-6a926465b13b",
   "metadata": {},
   "outputs": [],
   "source": [
    "from bs4 import BeautifulSoup"
   ]
  },
  {
   "cell_type": "code",
   "execution_count": 10,
   "id": "2f4151c8-7f25-49a2-aae6-9bb07c23a416",
   "metadata": {},
   "outputs": [
    {
     "data": {
      "text/plain": [
       "<script>\n",
       "$.ajax({\n",
       "    type: \"GET\",\n",
       "    url: \"loadedContent.php\",\n",
       "    success: function(response){\n",
       "\n",
       "\tsetTimeout(function() {\n",
       "\t    $('#content').html(response);\n",
       "\t}, 2000);\n",
       "    }\n",
       "  });\n",
       "\n",
       "function ajax_delay(str){\n",
       " setTimeout(\"str\",2000);\n",
       "}\n",
       "</script>"
      ]
     },
     "execution_count": 10,
     "metadata": {},
     "output_type": "execute_result"
    }
   ],
   "source": [
    "dom = BeautifulSoup(resp.text, 'html.parser')\n",
    "dom.body.script"
   ]
  },
  {
   "cell_type": "code",
   "execution_count": 11,
   "id": "569bc81d-3cc5-4ebe-9e31-c2cf16b61b41",
   "metadata": {},
   "outputs": [
    {
     "data": {
      "text/plain": [
       "<div id=\"content\">\n",
       "This is some content that will appear on the page while it's loading. You don't care about scraping this.\n",
       "</div>"
      ]
     },
     "execution_count": 11,
     "metadata": {},
     "output_type": "execute_result"
    }
   ],
   "source": [
    "dom.select_one('#content')"
   ]
  },
  {
   "cell_type": "code",
   "execution_count": 12,
   "id": "865fba50-7805-4785-bf08-619a884260e5",
   "metadata": {},
   "outputs": [],
   "source": [
    "import re"
   ]
  },
  {
   "cell_type": "code",
   "execution_count": 13,
   "id": "be24acab-9ceb-4fda-bcbd-0c140e42475b",
   "metadata": {},
   "outputs": [],
   "source": [
    "ajax = re.search(r'url:\\s*\"(.+?)\"', dom.body.script.contents[0]).group(1)\n",
    "nurl = urljoin(url, ajax)"
   ]
  },
  {
   "cell_type": "code",
   "execution_count": 14,
   "id": "8ebf00a4-8b2e-46fe-9520-1ef7092d3373",
   "metadata": {},
   "outputs": [
    {
     "data": {
      "text/plain": [
       "(200,\n",
       " {'Server': 'nginx', 'Date': 'Tue, 18 Mar 2025 02:21:36 GMT', 'Content-Type': 'text/html; charset=UTF-8', 'Content-Length': '106', 'Connection': 'keep-alive', 'X-Powered-By': 'PHP/7.4.33, PleskLin', 'Vary': 'Accept-Encoding', 'Content-Encoding': 'gzip'})"
      ]
     },
     "execution_count": 14,
     "metadata": {},
     "output_type": "execute_result"
    }
   ],
   "source": [
    "resp = request('GET', nurl)\n",
    "resp.status_code, resp.headers"
   ]
  },
  {
   "cell_type": "code",
   "execution_count": 15,
   "id": "2f94dd66-6122-4b1d-991a-ca9acb61c4a9",
   "metadata": {},
   "outputs": [
    {
     "data": {
      "text/plain": [
       "'Here is some important text you want to retrieve! <p/><button id=\"loadedButton\">A button to click!</button>'"
      ]
     },
     "execution_count": 15,
     "metadata": {},
     "output_type": "execute_result"
    }
   ],
   "source": [
    "resp.text"
   ]
  },
  {
   "cell_type": "code",
   "execution_count": 16,
   "id": "4601c8c3-5c0d-4f7f-93e5-b9682dbbfe86",
   "metadata": {},
   "outputs": [
    {
     "data": {
      "text/plain": [
       "<head>\n",
       "<title>Some JavaScript-loaded content</title>\n",
       "<script src=\"../js/jquery-2.1.1.min.js\"></script>\n",
       "</head>"
      ]
     },
     "execution_count": 16,
     "metadata": {},
     "output_type": "execute_result"
    }
   ],
   "source": [
    "dom.head"
   ]
  },
  {
   "cell_type": "code",
   "execution_count": 17,
   "id": "7b664452-044d-43cf-88e2-51f8f921e4ed",
   "metadata": {},
   "outputs": [
    {
     "data": {
      "text/plain": [
       "<script>\n",
       "$.ajax({\n",
       "    type: \"GET\",\n",
       "    url: \"loadedContent.php\",\n",
       "    success: function(response){\n",
       "\n",
       "\tsetTimeout(function() {\n",
       "\t    $('#content').html(response);\n",
       "\t}, 2000);\n",
       "    }\n",
       "  });\n",
       "\n",
       "function ajax_delay(str){\n",
       " setTimeout(\"str\",2000);\n",
       "}\n",
       "</script>"
      ]
     },
     "execution_count": 17,
     "metadata": {},
     "output_type": "execute_result"
    }
   ],
   "source": [
    "dom.body.script"
   ]
  },
  {
   "cell_type": "code",
   "execution_count": 18,
   "id": "127dbd08-60de-4321-ad4f-73712d8a7e31",
   "metadata": {},
   "outputs": [
    {
     "data": {
      "text/plain": [
       "(200,\n",
       " {'Date': 'Tue, 18 Mar 2025 02:21:59 GMT', 'Content-Type': 'text/html;charset=utf-8', 'Transfer-Encoding': 'chunked', 'Connection': 'keep-alive', 'Vary': 'Accept-Encoding', 'Content-Language': 'en-US', 'Strict-Transport-Security': 'max-age=15724800; includeSubDomains', 'Content-Encoding': 'gzip'})"
      ]
     },
     "execution_count": 18,
     "metadata": {},
     "output_type": "execute_result"
    }
   ],
   "source": [
    "url = 'https://brunch.co.kr/search'\n",
    "params = {\n",
    "    'q':'카리나',\n",
    "    'type':'article'\n",
    "}\n",
    "headers = {\n",
    "    'user-agent':'Mozilla/5.0 (Macintosh; Intel Mac OS X 10_15_7) AppleWebKit/537.36 (KHTML, like Gecko) Chrome/124.0.0.0 Whale/3.26.244.21 Safari/537.36'\n",
    "}\n",
    "\n",
    "resp = request('GET', url, params=params, headers=headers)\n",
    "resp.status_code, resp.headers"
   ]
  },
  {
   "cell_type": "code",
   "execution_count": 19,
   "id": "5e4a23ba-7d8f-4100-a421-eac07ff4230b",
   "metadata": {},
   "outputs": [],
   "source": [
    "dom = BeautifulSoup(resp.text, 'html.parser')"
   ]
  },
  {
   "cell_type": "code",
   "execution_count": 20,
   "id": "61a4a6eb-0ed2-46fa-9030-7ed8607b2302",
   "metadata": {},
   "outputs": [
    {
     "data": {
      "text/plain": [
       "<div class=\"search_result\" id=\"resultArticle\"></div>"
      ]
     },
     "execution_count": 20,
     "metadata": {},
     "output_type": "execute_result"
    }
   ],
   "source": [
    "dom.select_one('#resultArticle')"
   ]
  },
  {
   "cell_type": "code",
   "execution_count": 21,
   "id": "2dd2a964-da07-41cd-a0c1-9a27a6b134a0",
   "metadata": {},
   "outputs": [
    {
     "data": {
      "text/plain": [
       "(200, 'application/json;charset=UTF-8')"
      ]
     },
     "execution_count": 21,
     "metadata": {},
     "output_type": "execute_result"
    }
   ],
   "source": [
    "url = 'https://api.brunch.co.kr/v1/search/article'\n",
    "params = {\n",
    "    'q':'카리나',\n",
    "    'page':'1',\n",
    "    'pageSize':'20',\n",
    "    'highlighter':'n',\n",
    "    'escape':'n',\n",
    "    'sortBy':'accu'\n",
    "}\n",
    "resp = request('GET', url, params=params, headers=headers)\n",
    "resp.status_code, resp.headers['content-type']"
   ]
  },
  {
   "cell_type": "code",
   "execution_count": 22,
   "id": "2067b798-5b3c-4869-ab0a-688e8d6f59c2",
   "metadata": {},
   "outputs": [
    {
     "data": {
      "text/plain": [
       "'https://api.brunch.co.kr/v1/search/article?q=%EC%B9%B4%EB%A6%AC%EB%82%98&page=1&pageSize=20&highlighter=n&escape=n&sortBy=accu'"
      ]
     },
     "execution_count": 22,
     "metadata": {},
     "output_type": "execute_result"
    }
   ],
   "source": [
    "resp.request.url"
   ]
  },
  {
   "cell_type": "code",
   "execution_count": 23,
   "id": "023c499a-52e1-4587-bb06-67accab2b35d",
   "metadata": {},
   "outputs": [],
   "source": [
    "result = resp.json()"
   ]
  },
  {
   "cell_type": "code",
   "execution_count": 24,
   "id": "580279eb-1bc9-4193-b3a3-c94a78e3a2cf",
   "metadata": {},
   "outputs": [
    {
     "data": {
      "text/plain": [
       "dict_keys(['recommendProfiles', 'recommendProfileKeywords', 'totalPage', 'nextPage', 'query', 'list', 'totalCount', 'moreList', 'currentPage'])"
      ]
     },
     "execution_count": 24,
     "metadata": {},
     "output_type": "execute_result"
    }
   ],
   "source": [
    "result['data'].keys()"
   ]
  },
  {
   "cell_type": "code",
   "execution_count": 25,
   "id": "aed663fa-5e46-4900-a7b9-504aa82be57a",
   "metadata": {},
   "outputs": [
    {
     "data": {
      "text/plain": [
       "{'id': None,\n",
       " 'version': None,\n",
       " 'no': 137,\n",
       " 'userId': 'eL95',\n",
       " 'userName': None,\n",
       " 'status': 'publish',\n",
       " 'magazineNo': 0,\n",
       " 'magazineAddress': None,\n",
       " 'magazineAddressUri': None,\n",
       " 'magazineArticleId': 0,\n",
       " 'magazineTitle': None,\n",
       " 'magazineStatus': None,\n",
       " 'magazineType': None,\n",
       " 'brunchbookSerialStatus': None,\n",
       " 'magazineCoverImage': None,\n",
       " 'commentWritable': False,\n",
       " 'commentCount': 2,\n",
       " 'donationCommentCount': 0,\n",
       " 'donationCommentNoJson': None,\n",
       " 'donationCommentList': None,\n",
       " 'donationTotalAmount': 0,\n",
       " 'likeCount': 0,\n",
       " 'title': '카리나가 전하는 매운맛의 혁명! 스프라이트 광고 공개',\n",
       " 'subTitle': None,\n",
       " 'contentSummary': '카리나가 전하는 매운맛의 혁명! 스프라이트 광고 공개 <사진=코카콜라> 코카콜라가 세계 1위 사이다 브랜드 스프라이트의 새로운 광고 영상을 공개했습니다. 이번 광고는 걸그룹 에스파(aespa)의 리더 카리나와 손잡고 매운 음식을 더욱 특별하게 즐기는...',\n",
       " 'contentHash': None,\n",
       " 'authorComment': '작가의 한마디가 나옵니다.',\n",
       " 'membershipContent': False,\n",
       " 'promotionEnabled': False,\n",
       " 'createTime': None,\n",
       " 'updateTime': None,\n",
       " 'publishTime': 1741094284000,\n",
       " 'publishTimestamp': 1741094284000,\n",
       " 'restrictTime': None,\n",
       " 'content': None,\n",
       " 'profileId': 'pnpagency',\n",
       " 'coverInfo': None,\n",
       " 'articleImageList': [{'type': 'image',\n",
       "   'userId': 'eL95',\n",
       "   'articleNo': 137,\n",
       "   'order': 1,\n",
       "   'url': 'http://t1.daumcdn.net/brunch/service/user/eL95/image/yE3nou99_GDyE_Gb5gpsdpYqCJE.jpg',\n",
       "   'width': 850,\n",
       "   'height': 1202,\n",
       "   'magazineNoList': None,\n",
       "   'magazineNo': None},\n",
       "  {'type': 'image',\n",
       "   'userId': 'eL95',\n",
       "   'articleNo': 137,\n",
       "   'order': 2,\n",
       "   'url': 'http://t1.daumcdn.net/brunch/service/user/eL95/image/sZYNv0-3TEke6R0N8P174IMDHLA.jpg',\n",
       "   'width': 966,\n",
       "   'height': 1330,\n",
       "   'magazineNoList': None,\n",
       "   'magazineNo': None}],\n",
       " 'socialShareTotalCount': 0,\n",
       " 'coverColor': None,\n",
       " 'articleKeywords': None,\n",
       " 'readSeconds': 0,\n",
       " 'fromTime': None,\n",
       " 'toTime': None,\n",
       " 'orderBy': None,\n",
       " 'chapterNo': 0,\n",
       " 'seq': 0,\n",
       " 'tempBrunchbookNo': 0,\n",
       " 'tempBrunchbookTitle': None,\n",
       " 'tempBrunchbookStatus': None,\n",
       " 'tempBrunchbookAddress': None,\n",
       " 'readTime': 0,\n",
       " 'flattenedSeq': 0,\n",
       " 'viewCount': 0,\n",
       " 'kakaoShareCount': 0,\n",
       " 'kakaoTalkShareCount': 0,\n",
       " 'facebookShareCount': 0,\n",
       " 'twitterShareCount': 0,\n",
       " 'contentIdParam': None,\n",
       " 'homeDataSourceType': None,\n",
       " 'arrivedLikeitCount': 0,\n",
       " 'articleReservation': None,\n",
       " 'profile': {'userId': 'pnpagency',\n",
       "  'userName': '피앤피에이전시 매거진',\n",
       "  'userImage': 'http://t1.daumcdn.net/brunch/service/user/eL95/image/O3vC6aQHE790oQeznCBdKpDY4IQ.jpg',\n",
       "  'profileId': None,\n",
       "  'description': '재테크, 건강, 부동산, 마케팅, 엔터테인먼트 등 다양한 분야의 지식을 통해 독자들에게 실용적인 정보와 인사이트를 제공합니다.'},\n",
       " 'private': False,\n",
       " 'published': True,\n",
       " 'notPublished': False,\n",
       " 'contentId': 'eL95_137',\n",
       " 'articleImageListForHome': [{'type': 'image',\n",
       "   'userId': 'eL95',\n",
       "   'articleNo': 137,\n",
       "   'order': 1,\n",
       "   'url': 'http://t1.daumcdn.net/brunch/service/user/eL95/image/yE3nou99_GDyE_Gb5gpsdpYqCJE.jpg',\n",
       "   'width': 850,\n",
       "   'height': 1202,\n",
       "   'magazineNoList': None,\n",
       "   'magazineNo': None}],\n",
       " 'articleImageForHome': 'http://t1.daumcdn.net/brunch/service/user/eL95/image/yE3nou99_GDyE_Gb5gpsdpYqCJE.jpg',\n",
       " 'magazineArticle': False,\n",
       " 'notEmptyTitle': True,\n",
       " 'articleImageListForBifrost': [{'type': 'image',\n",
       "   'userId': 'eL95',\n",
       "   'articleNo': 137,\n",
       "   'order': 1,\n",
       "   'url': 'http://t1.daumcdn.net/brunch/service/user/eL95/image/yE3nou99_GDyE_Gb5gpsdpYqCJE.jpg',\n",
       "   'width': 850,\n",
       "   'height': 1202,\n",
       "   'magazineNoList': None,\n",
       "   'magazineNo': None},\n",
       "  {'type': 'image',\n",
       "   'userId': 'eL95',\n",
       "   'articleNo': 137,\n",
       "   'order': 2,\n",
       "   'url': 'http://t1.daumcdn.net/brunch/service/user/eL95/image/sZYNv0-3TEke6R0N8P174IMDHLA.jpg',\n",
       "   'width': 966,\n",
       "   'height': 1330,\n",
       "   'magazineNoList': None,\n",
       "   'magazineNo': None}],\n",
       " 'firstPublish': False,\n",
       " 'articleImageForDiscover': 'http://t1.daumcdn.net/brunch/service/user/eL95/image/yE3nou99_GDyE_Gb5gpsdpYqCJE.jpg',\n",
       " 'articlePlanned': False,\n",
       " 'articleCoverColorForHome': None,\n",
       " 'reserved': False,\n",
       " 'articleKeywordNameAsCsv': None,\n",
       " 'pick': False,\n",
       " 'notReserved': True,\n",
       " 'articleKeywordNoAsCsv': None,\n",
       " 'nonMagazineArticle': True}"
      ]
     },
     "execution_count": 25,
     "metadata": {},
     "output_type": "execute_result"
    }
   ],
   "source": [
    "result['data']['list'][0]"
   ]
  },
  {
   "cell_type": "code",
   "execution_count": 27,
   "id": "44a26003-40db-4b5c-9cf2-16eb58115d99",
   "metadata": {},
   "outputs": [
    {
     "name": "stdout",
     "output_type": "stream",
     "text": [
      "카리나가 전하는 매운맛의 혁명! 스프라이트 광고 공개\n",
      "파스쿠찌 - 카리나가 모든 걸 해결해주진 않는다\n",
      "두 명의 카리나?! (ft. 파스쿠찌 x 카리나)\n",
      "카리나가 전하는 크리스마스\n",
      "이재욱, 입대 후 카리나와 결별 후유증?\n",
      "“카리나만큼 예쁘다”…SM 하츠투하츠, 2월24일 데뷔\n",
      "카리나 붕어빵\n",
      "새로운 산타가 카리나? 신선하다.\n",
      "공효진 절대 안 하는데, 카리나는 한다 \"건강에 최악\"\n",
      "안나카리나\n",
      "카리나\n",
      "4세대 맥주 ‘크러시’- 카리나로 매출 46% up\n",
      "안나카리나 장미 & 왁스핑크\n",
      "'주술회전' 열풍, 에스파 카리나가 좋아한다고?\n",
      "유지민 vs 카리나\n",
      "'카리나의 굴욕'과 군중심리\n",
      "카리나, 이강인, 류준열 그리고 대중\n",
      "카리나 연애 무엇이 문제인가\n"
     ]
    }
   ],
   "source": [
    "for row in result['data']['list']:\n",
    "    print(row['title'])"
   ]
  },
  {
   "cell_type": "code",
   "execution_count": 28,
   "id": "307404e0-2d8f-44aa-bce2-b3965d184147",
   "metadata": {},
   "outputs": [
    {
     "name": "stdout",
     "output_type": "stream",
     "text": [
      "카리나가 전하는 매운맛의 혁명! 스프라이트 광고 공개\n",
      "파스쿠찌 - 카리나가 모든 걸 해결해주진 않는다\n",
      "두 명의 카리나?! (ft. 파스쿠찌 x 카리나)\n",
      "카리나가 전하는 크리스마스\n",
      "이재욱, 입대 후 카리나와 결별 후유증?\n",
      "“카리나만큼 예쁘다”…SM 하츠투하츠, 2월24일 데뷔\n",
      "카리나 붕어빵\n",
      "새로운 산타가 카리나? 신선하다.\n",
      "공효진 절대 안 하는데, 카리나는 한다 \"건강에 최악\"\n",
      "안나카리나\n",
      "카리나\n",
      "4세대 맥주 ‘크러시’- 카리나로 매출 46% up\n",
      "안나카리나 장미 & 왁스핑크\n",
      "'주술회전' 열풍, 에스파 카리나가 좋아한다고?\n",
      "유지민 vs 카리나\n",
      "'카리나의 굴욕'과 군중심리\n",
      "카리나, 이강인, 류준열 그리고 대중\n",
      "카리나 연애 무엇이 문제인가\n",
      "\"결국 열애설 사과문 올렸다\" 카리나, 해외 팬들→비난\n",
      "카리나 열애설... 손가락질 받아야 할 대상은?\n",
      "\"어떻게든 만났을 운명\" 이재욱, ♥카리나와 여행예능?\n",
      "이재욱 카리나 열애설에 '환승연애설'까지\n",
      "차은우는 왜 차은우이고 카리나는 왜 카리나일까?\n",
      "[카리나]의 출연을 상상하며 만들어 보는 캐릭터\n",
      "누구나 설득되는 퇴사사유 3가지\n",
      "여전히 종이에 필기하시는 분 없나요\n",
      "카리나 3행시 할게요 #에스파 #aespa\n",
      "카리나 3행시 할게요 #에스파 #aespa\n",
      "카리나가 선택한 공항패션 - Weekly Celeb\n",
      "목도리가 지어줄 작은 집\n",
      "이것도 퇴사 사유가 되나요? (1) 거리\n",
      "주씨, 후레쉬 11\n",
      "남자들이 쉽게 꼬이는 여자들의 '공통된 행동' 7가지\n",
      "[10min Drop or Go] 3월 1주차\n",
      "귀신과 성관계, 인큐버스(incubus)와 무의식\n",
      "\"너 향기 되게 좋다\"…향수 제대로 뿌리는 방법 5가지\n",
      "나의 추구미는...\n",
      "14편 - 미스터리 수사단\n",
      "밀라노패션위크 2025 F/W – 프라다\n",
      "아이돌 덕질로 시작하는 운명 체인지 주문\n",
      "착하다는 상위 가치는 나의 착한 남자일 때 의미가 있죠\n",
      "지드래곤 TOO BAD는 TOO GOOD\n",
      "이제 TV 브랜드 광고의 시대는 갔다\n",
      "백화점 3사 크리스마스 마켓, 한번 비교해 봤습니다\n",
      "나는 어디서 왔나 오 에\n",
      "난 이 콘서트를 4번 해봤어요‼\n",
      "아이돌 좋아하세요?\n",
      "[트렌드 언박싱] 길이는 1/2, 스타일은 2배 UP\n",
      "아바타(Avatar)가 가지는 영향력\n",
      "지독하게 쇠맛 한 우물만 판 결과\n",
      "여전히 종이에 필기하시는 분 없나요\n",
      "뻔한 내용이라고? '팔선녀' 멤버만 바꿔도 즐거울 걸!\n",
      "라디오 방송 진행자를 꿈꾸는 작가\n",
      "평균치 맞추기\n",
      "무주상보시\n",
      "과거가 모여 있는 현재\n",
      "일단 질러\n",
      "곰살궂은 이야기 할머니\n",
      "뮤직이즈 마이라이쁘\n",
      "“무신사, 2030女 홀딱 반하다”\n",
      "텍스트힙의 시대, 우리가 책을 소비하는 방법\n",
      "대전 시네마테크 컬트 영화 프로그램(3) 96.10\n",
      "우찬아 산타는 있더라… 유쾌한 산타 마케팅 3\n",
      "수다쟁이 우디, 순둥이 명세, 멋대로 고다르\n",
      "격변의 유튜브 생태계에서 브랜드가 생존하려면\n",
      "[12월 3주차]마케터들이 많이 읽은 10개 아티클\n",
      "[Editor’s Pick] 헬로 뉴 현대판 산타\n",
      "“올영, 다이소 잡아라” 편의점까지 나선 뷰티 대전\n",
      "파사칼리아, 걷고 춤추고\n",
      "aespa의 <Next Level>\n",
      "\"이 시국에 지금 그게 중요해?\"\n",
      "힙합 아티스트들이 '옛 장르'를 재활용 하는 방법\n",
      "猪猪\n",
      "에스파 윈터, 핑크빛 열애 중…상대도 유명인\n",
      "계엄과 탄핵, 그 이후.\n",
      "3부. 주식, 코인, 그게 뭔가요?\n",
      "사랑이 당신 곁에 머무르지 않더라도\n",
      "2025년(을사년) 기해일주 핵심만 알아보세요.\n",
      "가을 끝, 커피 한 모금의 위로\n",
      "정말 '화끈'했던 무신사 뷰티 페스타\n",
      "극장을 떠난 이후의 빛\n",
      "무신사 on the '넥스트 뷰티'\n",
      "K팝과 럭셔리 브랜드의 결합\n",
      "\"귤 먹을 때 하얀 거 절대 버리지 마세요\" (+이유)\n",
      "술 안 먹는 Z세대는 왜 '술방'을 볼까?\n",
      "[28] Aespa 1집 'Armageddon'\n",
      "눈\n",
      "평범한 것이 가장 좋다\n",
      "우리 집 고딩 근황\n",
      "올리브영, 긴장 좀 하셔야겠습니다!\n",
      "그거 아세요?\n",
      "칸트와 리오타르로 읽는 에스파 '아마겟돈'\n",
      "I’m a Firefighter\n",
      "아이돌과 대상화\n",
      "호주에서 생긴 일\n",
      "완전 럭키비키잖아?\n",
      "소리 없는 변주의 미학\n",
      "성수동 프라다 행사장 700명 운집...\n"
     ]
    }
   ],
   "source": [
    "for i in range(1,6):\n",
    "    params['page'] = i\n",
    "    resp = request('get', url, params=params, headers=headers)\n",
    "    if re.search(r'application/json', resp.headers['content-type']):\n",
    "        # if 'data' in resp.json()\n",
    "        # if 'list' in resp.json()['data']\n",
    "        for row in resp.json()['data']['list']:\n",
    "            print(row['title'])"
   ]
  },
  {
   "cell_type": "code",
   "execution_count": 29,
   "id": "3862751c-6bd9-489f-b7f2-78b05a85324a",
   "metadata": {},
   "outputs": [],
   "source": [
    "url = 'https://brunch.co.kr/'\n",
    "resp = request('GET', url, headers=headers)\n",
    "dom = BeautifulSoup(resp.text, 'html.parser')"
   ]
  },
  {
   "cell_type": "code",
   "execution_count": 30,
   "id": "96ed4c02-54de-4c1d-a84f-0cbd6e3ba6af",
   "metadata": {},
   "outputs": [
    {
     "name": "stdout",
     "output_type": "stream",
     "text": [
      "q \n",
      "profileId \n"
     ]
    }
   ],
   "source": [
    "for el in dom.select('form input[name]'):\n",
    "    print(el.attrs['name'], el.attrs['value'])\n"
   ]
  },
  {
   "cell_type": "code",
   "execution_count": 31,
   "id": "c965fbae-3c7c-44d5-816a-1a7dfc5c9ef0",
   "metadata": {},
   "outputs": [
    {
     "data": {
      "text/plain": [
       "'카리나'"
      ]
     },
     "execution_count": 31,
     "metadata": {},
     "output_type": "execute_result"
    }
   ],
   "source": [
    "params['q']"
   ]
  },
  {
   "cell_type": "code",
   "execution_count": 32,
   "id": "cff77c36-8c14-402d-b36f-1e2eeb664362",
   "metadata": {},
   "outputs": [
    {
     "data": {
      "text/plain": [
       "{'action': '/search', 'method': 'get'}"
      ]
     },
     "execution_count": 32,
     "metadata": {},
     "output_type": "execute_result"
    }
   ],
   "source": [
    "dom.select_one('form').attrs"
   ]
  },
  {
   "cell_type": "code",
   "execution_count": 33,
   "id": "c234e417-e79f-4508-86b9-52cb4701a2f3",
   "metadata": {},
   "outputs": [],
   "source": [
    "url = 'https://api.brunch.co.kr/v1/search/article'"
   ]
  },
  {
   "cell_type": "code",
   "execution_count": 34,
   "id": "860ee06a-8327-4320-a932-f3b07350ddde",
   "metadata": {},
   "outputs": [],
   "source": [
    "url = 'https://brunch.co.kr/search'\n",
    "resp = request('GET', url, headers=headers)\n",
    "dom = BeautifulSoup(resp.text, 'html.parser')"
   ]
  },
  {
   "cell_type": "code",
   "execution_count": 35,
   "id": "b5ff050e-94b9-4940-b9e8-bbf39bc1f2ca",
   "metadata": {},
   "outputs": [
    {
     "name": "stdout",
     "output_type": "stream",
     "text": [
      "q \n",
      "profileId \n",
      "q \n",
      "type article\n"
     ]
    }
   ],
   "source": [
    "for el in dom.select('form > input[name]'):\n",
    "    print(el.attrs['name'], el.attrs['value'])"
   ]
  },
  {
   "cell_type": "code",
   "execution_count": 36,
   "id": "c39cceef-bcba-4c72-a3e3-a4cd144b669d",
   "metadata": {},
   "outputs": [
    {
     "data": {
      "text/plain": [
       "{'action': '/search', 'method': 'get'}"
      ]
     },
     "execution_count": 36,
     "metadata": {},
     "output_type": "execute_result"
    }
   ],
   "source": [
    "dom.select_one('form').attrs"
   ]
  },
  {
   "cell_type": "code",
   "execution_count": null,
   "id": "76762f2d-82a5-40b5-9a77-060f1fde73fb",
   "metadata": {},
   "outputs": [],
   "source": [
    "Client           /search           /api\n",
    "DOM\n",
    "[form]-----------> GET\n",
    " <input name='' value=''> => ?name=value\n",
    "                    JS ------------> GET\n",
    "                           AJAX\n",
    "                       <------------ JSON\n",
    "DHTML <-------------"
   ]
  },
  {
   "cell_type": "code",
   "execution_count": null,
   "id": "fc6042d6-75fb-417a-9141-81debb6ff821",
   "metadata": {},
   "outputs": [],
   "source": [
    "HTML ---(요청)---->\n",
    "     FORM   action=>주소\n",
    "     INPUT  name,value=>?name=value\n",
    "DOM  <------------\n",
    "\n",
    "<script src=\".js\">\n",
    "<script>\n",
    " $.ajax();\n",
    "</script>  => JS 해석 X, 브라우저(개발자도구)-네트워크탭\n",
    "\n",
    "JS(XHR) ---(요청)---> 서버\n",
    "        <----------- content-type\n",
    "Data(DOM을 새롭게 그리지 X) => 해석"
   ]
  },
  {
   "cell_type": "code",
   "execution_count": 37,
   "id": "6591dec9-469c-49fc-a9ed-d487591e0095",
   "metadata": {},
   "outputs": [
    {
     "name": "stdout",
     "output_type": "stream",
     "text": [
      "<b>카리나</b>가 전하는 매운맛의 혁명! 스프라이트 광고 공개\n",
      "<b>카리나</b>\n",
      "파스쿠찌 - <b>카리나</b>가 모든 걸 해결해주진 않는다\n",
      "두 명의 <b>카리나</b>?! (ft. 파스쿠찌 x <b>카리나</b>)\n",
      "<b>카리나</b>가 전하는 크리스마스\n",
      "이재욱, 입대 후 <b>카리나</b>와 결별 후유증?\n",
      "“<b>카리나</b>만큼 예쁘다”…SM 하츠투하츠, 2월24일 데뷔\n"
     ]
    }
   ],
   "source": [
    "url = 'https://api.brunch.co.kr/v1/search/live'\n",
    "params = {'q':None}\n",
    "params['q'] = '카리나'\n",
    "resp = request('get', url, params=params, headers=headers)\n",
    "for a in resp.json()['data']['article']:\n",
    "    print(a['title'])\n",
    "# 'magazine' in resp.json()['data'].keys()\n",
    "# 'article'\n",
    "# filter(lambda k:re.match('magazine|article'), resp.json()['data'].keys())"
   ]
  },
  {
   "cell_type": "code",
   "execution_count": null,
   "id": "b3d9e55f-05e1-441f-9d98-71d6bb81d0bb",
   "metadata": {},
   "outputs": [],
   "source": [
    "# 네이버 추천검색어\n",
    "url = 'https://ac.search.naver.com/nx/ac'\n",
    "params = {\n",
    "    'q':None,\n",
    "    'con':'0',\n",
    "    'frm':'nv',\n",
    "    'ans':'2',\n",
    "    'r_format':'json',\n",
    "    'r_enc':'UTF-8',\n",
    "    'r_unicode':'0',\n",
    "    't_koreng':'1',\n",
    "    'run':'2',\n",
    "    'rev':'4',\n",
    "    'q_enc':'UTF-8',\n",
    "    'st':'100'\n",
    "}\n",
    "\n",
    "while True:\n",
    "    query = input()\n",
    "    if query == 'q':\n",
    "        break\n",
    "\n",
    "    params['q'] = query\n",
    "    resp = request('GET', url, params=params, headers=headers)\n",
    "    if re.search(r'application/json', resp.headers['content-type']):\n",
    "        print(resp.json()['items'])"
   ]
  },
  {
   "cell_type": "code",
   "execution_count": null,
   "id": "fdadf8c7-80e8-4f63-90ed-511a6af8518e",
   "metadata": {},
   "outputs": [],
   "source": [
    "Client           Server\n",
    "      ----------->\n",
    "      <----------- callback1()\n",
    "$.ajax({success:func(response) 어떻게...})\n",
    "func callback1()\n",
    "func callback2()\n",
    "func callback3()"
   ]
  },
  {
   "cell_type": "code",
   "execution_count": null,
   "id": "63d7df5a-f6df-4c48-91a9-5f090195f2a7",
   "metadata": {},
   "outputs": [],
   "source": [
    "# 네이버웹툰\n",
    "1단계\n",
    "[WEB]  https://comic.naver.com/index ==> DOM1 (div#root)\n",
    "[AJAX] https://comic.naver.com/api/home/component?type=DAILY_WEBTOON&order=USER\n",
    "       titleList: \n",
    "         0: {titleId: 783053, titleName: \"김부장\", ...}\n",
    "\n",
    "2단계\n",
    "[WEB]  https://comic.naver.com/webtoon/list?titleId=783053 ==> DOM2 (div#root)\n",
    "[AJAX] https://comic.naver.com/api/article/list?titleId=783053&page=1&sort=DESC\n",
    "       articleList: \n",
    "         0: {no: 177, ...}\n",
    "3단계\n",
    "[WEB]  https://comic.naver.com/webtoon/detail?titleId=783053&no=177&week=tue ==> DOM3 (#sectionContWide)\n",
    "\n",
    "4단계\n",
    "[IMG]  url -> 저장"
   ]
  },
  {
   "cell_type": "code",
   "execution_count": null,
   "id": "120f8702-1798-4ead-834a-dbf66c30d734",
   "metadata": {},
   "outputs": [],
   "source": [
    "URLs = ['https://comic.naver.com/api/home/component?type=DAILY_WEBTOON&order=USER']\n",
    "Seens = []\n",
    "\n",
    "while URLs:\n",
    "    seed = URLs.pop(0)\n",
    "    Seens.append(seed)\n",
    "\n",
    "    resp = request('GET', seed, headers=headers)\n",
    "    if resp.status_code != 200:\n",
    "        continue\n",
    "\n",
    "    # 4단계\n",
    "    if re.search(r'image/jpeg', resp.headers['content-type']):\n",
    "        file = re.search(r'.+/(.+[.]jpg)$', seed).group(1)\n",
    "        with open(file, 'wb') as fp:\n",
    "            fp.write(resp.content)\n",
    "\n",
    "    # 3단계 \n",
    "    if re.search(r'text/html', resp.headers['content-type']):\n",
    "        dom = BeautifulSoup(resp.text, 'html.parser')\n",
    "        for img in dom.select('#sectionContWide img[src]'):\n",
    "            nurl = img.attrs['src']\n",
    "            if nurl not in URLs and nurl not in Seens:\n",
    "                URLs.append(nurl)\n",
    "\n",
    "    if not re.search(r'application/json', resp.headers['content-type']):\n",
    "        continue\n",
    "\n",
    "    result = resp.json()\n",
    "\n",
    "    # 웹툰별 목록\n",
    "    if 'titleList' in result.keys():\n",
    "        # 1단계\n",
    "        for r in result['titleList']:\n",
    "            url = 'https://comic.naver.com/api/article/list'\n",
    "            params = {\n",
    "                'titleId':r['titleId'],\n",
    "                'page':'1',\n",
    "                'sort':'DESC'\n",
    "            }\n",
    "            nurl = url+'?'+urlencode(params)\n",
    "            if nurl not in URLs and nurl not in Seens:\n",
    "                URLs.append(nurl)\n",
    "                break\n",
    "\n",
    "    # 특정 웹툰의 회차 목록\n",
    "    if 'articleList' in result.keys():\n",
    "        # 2단계\n",
    "        for r in result['articleList']:\n",
    "            url = 'https://comic.naver.com/webtoon/detail'\n",
    "            params = {\n",
    "                'titleId':re.search(r'titleId=(\\d+)&', seed).group(1),\n",
    "                'no':r['no'],\n",
    "                'week':'tue'\n",
    "            }\n",
    "            nurl = url+'?'+urlencode(params)\n",
    "            if nurl not in URLs and nurl not in Seens:\n",
    "                URLs.append(nurl)\n",
    "                break"
   ]
  },
  {
   "cell_type": "code",
   "execution_count": null,
   "id": "d192b863-595d-4552-b7eb-24442134c832",
   "metadata": {},
   "outputs": [],
   "source": [
    "from requests.compat import urlencode"
   ]
  },
  {
   "cell_type": "code",
   "execution_count": null,
   "id": "7ba90c97-4780-4943-81cb-f9969403b565",
   "metadata": {},
   "outputs": [],
   "source": []
  }
 ],
 "metadata": {
  "kernelspec": {
   "display_name": "Python 3 (ipykernel)",
   "language": "python",
   "name": "python3"
  },
  "language_info": {
   "codemirror_mode": {
    "name": "ipython",
    "version": 3
   },
   "file_extension": ".py",
   "mimetype": "text/x-python",
   "name": "python",
   "nbconvert_exporter": "python",
   "pygments_lexer": "ipython3",
   "version": "3.10.4"
  }
 },
 "nbformat": 4,
 "nbformat_minor": 5
}
