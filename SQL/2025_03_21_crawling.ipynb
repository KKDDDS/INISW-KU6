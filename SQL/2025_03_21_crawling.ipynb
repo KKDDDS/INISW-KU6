{
 "cells": [
  {
   "cell_type": "code",
   "execution_count": null,
   "id": "85d66ac4-c635-4863-8130-1fdcda1f2d5c",
   "metadata": {},
   "outputs": [],
   "source": [
    "Client           Server\n",
    "    --- Params ---\n",
    "Cookie           Session\n",
    "    --------------> Resquest\n",
    "    <-------------- Response.headers.set - cookie\n",
    "        Session\n",
    "    --------------> Request.headers.cookies\n",
    "    <-------------- 적절한 응답\n",
    "\n",
    "Cookie\n",
    "X-... =>\n",
    "CSRF Token =>"
   ]
  },
  {
   "cell_type": "markdown",
   "id": "140a9ccc-2113-4cf7-83ea-83cd8727aefe",
   "metadata": {},
   "source": [
    "'#PWD_INSTAGRAM_BROWSER:10:1742516385:AZxQAEMgP2qic0Lv+V/j0WPZXfXllKwlfbzWboolyX2QHckBWniSCdHyNuCMzYZTUEeZBWn65cA1V0d4i6mdSLH/5/i85kOQmjbY6KY6b5Ww8E399YUuWvLmT/acsSn/SOXZyPzTaQGP4ouGv7+8'.split(':')"
   ]
  },
  {
   "cell_type": "code",
   "execution_count": 14,
   "id": "d1be6a3b-91d8-419e-9f66-b9bb2b5a2b31",
   "metadata": {},
   "outputs": [
    {
     "data": {
      "text/plain": [
       "['#PWD_INSTAGRAM_BROWSER',\n",
       " '10',\n",
       " '1742516385',\n",
       " 'AZxQAEMgP2qic0Lv+V/j0WPZXfXllKwlfbzWboolyX2QHckBWniSCdHyNuCMzYZTUEeZBWn65cA1V0d4i6mdSLH/5/i85kOQmjbY6KY6b5Ww8E399YUuWvLmT/acsSn/SOXZyPzTaQGP4ouGv7+8']"
      ]
     },
     "execution_count": 14,
     "metadata": {},
     "output_type": "execute_result"
    }
   ],
   "source": [
    "'#PWD_INSTAGRAM_BROWSER:10:1742516385:AZxQAEMgP2qic0Lv+V/j0WPZXfXllKwlfbzWboolyX2QHckBWniSCdHyNuCMzYZTUEeZBWn65cA1V0d4i6mdSLH/5/i85kOQmjbY6KY6b5Ww8E399YUuWvLmT/acsSn/SOXZyPzTaQGP4ouGv7+8'.split(':')"
   ]
  },
  {
   "cell_type": "code",
   "execution_count": null,
   "id": "ab9fc2a8-3464-408b-8ef1-5f5e46e39741",
   "metadata": {},
   "outputs": [],
   "source": [
    "www.instagram.com\n",
    "\n",
    "b = Object.freeze({\n",
    "    FALLBACK_ENCRYPT: \"9\",\n",
    "    PLAINTEXT: \"0\",\n",
    "    ROTATED_ENCRYPT: \"6\"\n",
    "});\n",
    "\n",
    "function a(a, b, c) {\n",
    "    return [g, c, b, a].join(\":\")\n",
    "}"
   ]
  },
  {
   "cell_type": "code",
   "execution_count": 18,
   "id": "35f4870d-084e-48d5-9fc5-03763a88fa6b",
   "metadata": {},
   "outputs": [
    {
     "data": {
      "text/plain": [
       "(1742518516, 1742516385, 2131)"
      ]
     },
     "execution_count": 18,
     "metadata": {},
     "output_type": "execute_result"
    }
   ],
   "source": [
    "from datetime import datetime\n",
    "\n",
    "int(datetime.timestamp(datetime.now())), 1742516385,\\\n",
    "int(datetime.timestamp(datetime.now()))-1742516385"
   ]
  },
  {
   "cell_type": "code",
   "execution_count": 19,
   "id": "e1ce102a-bf30-46ed-a373-920a37ec689d",
   "metadata": {},
   "outputs": [
    {
     "data": {
      "text/plain": [
       "'#PWD_INSTAGRAM_BROWSER:0:1742518517:toinstagram'"
      ]
     },
     "execution_count": 19,
     "metadata": {},
     "output_type": "execute_result"
    }
   ],
   "source": [
    "':'.join(['#PWD_INSTAGRAM_BROWSER',\n",
    "          '0', # => 어떻게 암호화를 할지\n",
    "          str(int(datetime.timestamp(datetime.now()))), # => 현재시간\n",
    "          'toinstagram' # => 비밀번호\n",
    "         ])"
   ]
  },
  {
   "cell_type": "code",
   "execution_count": 20,
   "id": "019dc3ff-c730-423e-831f-1e1b10d5e4b8",
   "metadata": {},
   "outputs": [],
   "source": [
    "password = ':'.join(['#PWD_INSTAGRAM_BROWSER',\n",
    "                      '0', # => 어떻게 암호화를 할지\n",
    "                      str(int(datetime.timestamp(datetime.now()))), # => 현재시간\n",
    "                      'toinstagram' # => 비밀번호\n",
    "                     ])"
   ]
  },
  {
   "cell_type": "code",
   "execution_count": 21,
   "id": "91d250b8-c396-499f-9fc7-f7272b4943ae",
   "metadata": {},
   "outputs": [],
   "source": [
    "from urllib.parse import parse_qs, parse_qsl\n",
    "\n",
    "p = 'enc_password=%23PWD_INSTAGRAM_BROWSER%3A10%3A1742516385%3AAZxQAEMgP2qic0Lv%2BV%2Fj0WPZXfXllKwlfbzWboolyX2QHckBWniSCdHyNuCMzYZTUEeZBWn65cA1V0d4i6mdSLH%2F5%2Fi85kOQmjbY6KY6b5Ww8E399YUuWvLmT%2FacsSn%2FSOXZyPzTaQGP4ouGv7%2B8&caaF2DebugGroup=0&isPrivacyPortalReq=false&loginAttemptSubmissionCount=0&optIntoOneTap=false&queryParams=%7B%7D&trustedDeviceRecords=%7B%7D&username=gon0121%2Bdev%40gmail.com&jazoest=22210'\n",
    "params = {line[0]:line[1] for line in parse_qsl(p)}"
   ]
  },
  {
   "cell_type": "code",
   "execution_count": 22,
   "id": "dfc6dd0c-b49f-4c78-9429-e5c9b84e0572",
   "metadata": {},
   "outputs": [
    {
     "data": {
      "text/plain": [
       "{'enc_password': '#PWD_INSTAGRAM_BROWSER:0:1742518525:toinstagram',\n",
       " 'caaF2DebugGroup': '0',\n",
       " 'isPrivacyPortalReq': 'false',\n",
       " 'loginAttemptSubmissionCount': '0',\n",
       " 'optIntoOneTap': 'false',\n",
       " 'queryParams': '{}',\n",
       " 'trustedDeviceRecords': '{}',\n",
       " 'username': 'gon0121+dev@gmail.com',\n",
       " 'jazoest': '22210'}"
      ]
     },
     "execution_count": 22,
     "metadata": {},
     "output_type": "execute_result"
    }
   ],
   "source": [
    "params['enc_password'] = password\n",
    "params"
   ]
  },
  {
   "cell_type": "code",
   "execution_count": 23,
   "id": "d1007acf-e25e-41d7-ae34-8d4dd44bcd1c",
   "metadata": {},
   "outputs": [
    {
     "data": {
      "text/plain": [
       "(403,\n",
       " {'Content-Type': 'application/json; charset=utf-8', 'Date': 'Fri, 21 Mar 2025 00:55:42 GMT', 'Vary': 'Accept-Language, Cookie', 'Content-Language': 'en', 'Strict-Transport-Security': 'max-age=31536000', 'Cache-Control': 'private, no-cache, no-store, must-revalidate', 'Pragma': 'no-cache', 'Expires': 'Sat, 01 Jan 2000 00:00:00 GMT', 'X-Frame-Options': 'SAMEORIGIN', 'content-security-policy': \"report-uri https://www.instagram.com/security/csp_report/; default-src 'self' https://www.instagram.com; img-src data: blob: https://*.fbcdn.net https://*.instagram.com https://*.cdninstagram.com https://*.facebook.com https://*.fbsbx.com https://*.threads.net https://*.threads.com https://*.giphy.com; font-src data: https://*.fbcdn.net https://*.instagram.com https://*.cdninstagram.com; media-src 'self' blob: https://www.instagram.com https://*.cdninstagram.com https://*.fbcdn.net; manifest-src 'self' https://www.instagram.com; script-src 'self' https://instagram.com https://www.instagram.com https://*.www.instagram.com https://*.cdninstagram.com wss://www.instagram.com https://*.facebook.com https://*.fbcdn.net https://*.facebook.net 'unsafe-inline' 'unsafe-eval' blob:; style-src 'self' https://*.www.instagram.com https://www.instagram.com 'unsafe-inline'; connect-src 'self' https://instagram.com https://www.instagram.com https://*.www.instagram.com https://graph.instagram.com https://*.graph.instagram.com https://i.instagram.com/graphql_www https://graphql.instagram.com https://*.cdninstagram.com https://api.instagram.com https://i.instagram.com https://*.i.instagram.com https://*.od.instagram.com https://i.threads.net https://i.threads.com https://*.od.threads.net https://*.od.threads.com wss://www.instagram.com wss://edge-chat.instagram.com https://*.facebook.com https://*.fbcdn.net https://*.facebook.net chrome-extension://boadgeojelhgndaghljhdicfkmllpafd blob:; worker-src 'self' blob: https://www.instagram.com; frame-src 'self' https://instagram.com https://www.instagram.com https://*.instagram.com https://staticxx.facebook.com https://www.facebook.com https://web.facebook.com https://connect.facebook.net https://m.facebook.com https://*.fbsbx.com; object-src 'none'; upgrade-insecure-requests\", 'cross-origin-embedder-policy-report-only': 'require-corp;report-to=\"coep\"', 'report-to': '{\"group\": \"coep\", \"max_age\": 86400, \"endpoints\": [{\"url\": \"/security/coep_report/\"}]},{\"group\": \"coop\", \"max_age\": 86400, \"endpoints\": [{\"url\": \"/security/coop_report/\"}]}', 'cross-origin-resource-policy': 'cross-origin', 'cross-origin-opener-policy': 'same-origin-allow-popups;report-to=\"coop\"', 'X-Content-Type-Options': 'nosniff', 'X-XSS-Protection': '0', 'x-ig-push-state': 'c2', 'x-ig-cache-control': 'no-cache', 'x-aed': '376', 'x-ig-request-elapsed-time-ms': '97', 'x-ig-peak-v2': '0', 'x-ig-peak-time': '1', 'x-stack': 'distillery', 'x-perf-stats': '29267021;25119;88739', 'Set-Cookie': 'csrftoken=Fcyjvd8XuLONkd8D1IoxKMpZOwrP4tG3; Domain=.instagram.com; expires=Fri, 20-Mar-2026 00:55:42 GMT; Max-Age=31449600; Path=/; Secure, mid=Z9y5DgAEAAGO0vmXDVbsw68Zrwn1; Domain=.instagram.com; expires=Sat, 25-Apr-2026 00:55:42 GMT; Max-Age=34560000; Path=/; Secure, ig_did=187AE217-69B5-4F9A-A372-60D73A2629DD; Domain=.instagram.com; expires=Sat, 21-Mar-2026 00:55:42 GMT; HttpOnly; Max-Age=31536000; Path=/; Secure, ig_nrcb=1; Domain=.instagram.com; expires=Sat, 21-Mar-2026 00:55:42 GMT; Max-Age=31536000; Path=/; Secure', 'x-ig-origin-region': 'hil', 'Proxy-Status': 'http_request_error; e_fb_responsebytes=\"AcIpTbosnO3PrZABoqTw5XzkgH2oH44VBUB2GDvCedfh_LSOJTBxWrzKrkQ\"; e_fb_requesttime=\"AcJrgQQ4-1fT5FwLDwNnylkETy2GRJQMl4HNZ-E5U4XxqBI4M05cREM6unqcZBQv4xHhT2Vysw\"; e_proxy=\"AcLCSAJnc1VIXCoNY1FyP0LVnWlmGv_aT9J9_2lHKYxnjD-jGxnx76Jrr6RmrCfPh0ZA9NvqXtAaucSU7XE\"; e_fb_twtaskhandle=\"AcJVjfS7ba2DDbY_4fRgSmlohxx6zz1URl1mDAjrgQetaLbX9dZI25ivRHsZ61D7mldZzwdwVlCa3txVwis8Qa17fPJMlUeS_4lzSHcy\"; e_fb_requestsequencenumber=\"AcLpLApMBLsz_XXFXXlae_bJhkAz8NF1vpvpybhZrun6qfAZrfhi-uC2sPFc\"; e_upip=\"AcIKMXAvSTP9S34BdC2pkwaVcf37JNO8tPcvSuJtzMOBepXlsLHc4RcF2z3zLe3OljMQubeVtvC2_16PowOa83hqhQHX_LfO\"; e_fb_zone=\"AcIP1MCIKuekZQVjoe8C6VKX0-VLvkRYZ5Hy0zUty9hepSZpSlSovbW3Bk3VJt84\"; e_fb_binaryversion=\"AcIONLqC72yixtQHTiih5Wmw0WpAZvvQx8w3boUQnn2SAoHtZ73US3zPX6YMInUl7CVjQ1Bzw295R5DVIYJt1tvnL4IaSkyn5qY\"; e_fb_httpversion=\"AcK4GSCXkmGaE-rJ0mpYrJ9lCEUk2nTT1poLe1PyM-8iZ7EioCoDQJ-JB7n0\"; e_fb_requesthandler=\"AcL3vl6MzRQvhG-9Hn_3EVRBwM1Tf_MC9tNElewMrnjrhJ1Q43r5FAbEYFwNqlhN-66z1SsbVL9zUDYkLg\"; e_fb_configversion=\"AcJzlVR2M9TGq_TJSptH0XuYso5J1CQyoX9594FjcadcIXlko62uKbsHGyIhHg\"; e_fb_vipaddr=\"AcJubf_o8d_qKjn-GC7aB92Rn9A-19krjsqBpQE8Hn50zUP7kTvzSXdpGSH7U66cqdy4sjA-EMJzOoKq2tKC57JuMY_dfOM1Hn3dzw\"; e_fb_hostheader=\"AcLTCghbtWwq7WGc08guXOffziLlAnqSTx0nSx95vf3SU4pwZpPQ-11B5F-TgmooT1VC_UEaZ8AbxpA\"; e_fb_builduser=\"AcKL4PWw6RMSSr7vUbdU6xgef-04iEl9wqvK4zFJ-36Y4CmMr60Q5uRNwoxnSS2W2Yo\"; e_fb_vipport=\"AcKRIZAlvlaJCmn2SslXyjae9cLLVHoyk9vo7_-L5tb5le4U5n9JKT98XoGl\"; e_clientaddr=\"AcIsMqLhw2KOkS8Ftoh-VEX6wcoMXt1k6tkMDabctAH5h2c1szJleR_Q5mSkiuUk3TlTHiilyv9SWWFdeMcvh5PLuB3xqRoHz6PjjiQmzd_oCkYQfQ\", http_request_error; e_fb_responsebytes=\"AcLmV62Qdwc5K_bMgcklfUKSHC9VpDoyX80b1oT5UjzRkpWjgxTfMHcaUDo\"; e_fb_requesttime=\"AcJ_i2Br9EaEdSfmmc-WafLpbm0KaAAkKgrZKksBWsGLfbYBM5cQERjC1IQpP5pUlekBOV9Vgg\"; e_proxy=\"AcKF4ZqlS1Ey59_CqmCcNy2ow4_U8u82PgPKWXPJyjty8PNI3J2GvEFwJZWiX3-2pS5YTtO3e-I4go8\"; e_fb_twtaskhandle=\"AcI-honcWau-_lICWWvaOI0XN1NrO_o3fogCba9_Qi5m6bN2ydbT7WKws3WfBYrtW2ubfnws7BB0xcms64KP56NBqJNL2a4ie0AD\"; e_fb_requestsequencenumber=\"AcK-J6rKp55YebTKV9bPVdbGyRFIseBXrkd34k-J38v_fsG9NdOuEH_4IQ\"; e_upip=\"AcKKBneew2O1CBfrRr4J9bNTKyYTK_VMhLD_uRI_tMETLqfJCYF5dLtF9qhv4i3hdMICm3dPrlUT3e9KBK23T60HRquxtJxdKKmiLQ\"; e_fb_zone=\"AcJuyq6D_WNiQPyG2yV8U4xlofB9rTcns4a76C_YBGIAcwvEvpqAde4wSwJDAg\"; e_fb_binaryversion=\"AcLAx5WEdTrJk2O89s0sTCNZzKKvfLMyZhdrxP0BCJKjiDBTqVDJLFBrq_iA2E4gJ0hBhmodYP-aZbewlv4xAcjgH9p0GMXncec\"; e_fb_httpversion=\"AcJCDSSYpkxCHo44W95eP4ifxKIsm-vlOB2hKf-m5wxJSE0OJ6rMPQkn5DHN\"; e_fb_requesthandler=\"AcJ634mibJC2gn50iRHj4N1AS3N7ZKzKpNB0yMivMop3WObH-B8quIqUkTHeoCL5wkzBJCRdSIW-uw\"; e_fb_configversion=\"AcLupLpF09xV9dfYb8-NwjSOyXFdwgfvOXEcCA9o7zLgQkKMSzl68MRr_ntUMg\"; e_fb_vipaddr=\"AcIoENB0KE2sLXGLiV8rL5U4m5FEFwkF0ElU1IrVdp-FTf1WSRAvFtLwejFtcNZB2ZwJtCnzLEs\"; e_fb_hostheader=\"AcKB8PKlydCiz5C5HwSjAR04qSIQ879R_6BH5k8h0H3I2jQh9PhlVM1h9wOxEHv_f0p7Y9X5BVesY4o\"; e_fb_builduser=\"AcJ0bTOHq7koUKFyju_39kIS1zA4uie_SANcNQ8mz4_faWTZXvu7eVeYr4bP4eHY1Sc\"; e_fb_vipport=\"AcK6OzSBSENAcEo6u3tf3_uYdFRqhLjqJrweLofHh-yFLpQVyfQfjgQWc-G7\"; e_clientaddr=\"AcLKHgSJQud2QiOYBr6uuSu5QENf1-89zALkq1JrLTEsGlMtEyomZowIRZPK84yEm_h7KeB0UOsNdxp2cw\"', 'Alt-Svc': 'h3=\":443\"; ma=86400', 'X-FB-Connection-Quality': 'GOOD; q=0.7, rtt=53, rtx=0, c=14, mss=1382, tbw=3692, tp=-1, tpl=-1, uplat=225, ullat=0', 'Connection': 'keep-alive', 'Content-Length': '61'})"
      ]
     },
     "execution_count": 23,
     "metadata": {},
     "output_type": "execute_result"
    }
   ],
   "source": [
    "from requests import post\n",
    "\n",
    "url = 'https://www.instagram.com/api/v1/web/accounts/login/ajax/'\n",
    "resp = post(url, data=params)\n",
    "resp.status_code, resp.headers"
   ]
  },
  {
   "cell_type": "code",
   "execution_count": 24,
   "id": "d1ddc12b-04ef-4750-b21d-09aeb1ab7dd8",
   "metadata": {},
   "outputs": [
    {
     "data": {
      "text/plain": [
       "{'message': 'CSRF token missing or incorrect', 'status': 'fail'}"
      ]
     },
     "execution_count": 24,
     "metadata": {},
     "output_type": "execute_result"
    }
   ],
   "source": [
    "resp.json()"
   ]
  },
  {
   "cell_type": "code",
   "execution_count": null,
   "id": "5829dcf7-958f-442b-a0a8-46c6239478b9",
   "metadata": {},
   "outputs": [],
   "source": [
    "Client          Server (CSRF-Token)\n",
    "      ----------> 정상적인 요청(CSRF)\n",
    "      <---------  정상적인 서버로부터의 응답(CSRF)"
   ]
  },
  {
   "cell_type": "code",
   "execution_count": 25,
   "id": "ac32f0dc-209c-4549-b181-0eadb03a3963",
   "metadata": {},
   "outputs": [],
   "source": [
    "from requests import get\n",
    "\n",
    "url = 'https://www.instagram.com'\n",
    "resp = get(url)"
   ]
  },
  {
   "cell_type": "code",
   "execution_count": 26,
   "id": "32c1cb6d-751c-49a6-a159-00c1e123ef15",
   "metadata": {},
   "outputs": [],
   "source": [
    "import re\n",
    "\n",
    "CSRF = re.search(r'csrf_token\":\"(.+?)\"', resp.text).group(1)"
   ]
  },
  {
   "cell_type": "code",
   "execution_count": 27,
   "id": "61b619c6-27f5-4649-9302-703994e69de9",
   "metadata": {},
   "outputs": [],
   "source": [
    "# APPID = resp.text"
   ]
  },
  {
   "cell_type": "code",
   "execution_count": 32,
   "id": "10eba914-117d-49d7-b78b-1fb827b03fa5",
   "metadata": {},
   "outputs": [
    {
     "data": {
      "text/plain": [
       "400"
      ]
     },
     "execution_count": 32,
     "metadata": {},
     "output_type": "execute_result"
    }
   ],
   "source": [
    "password = ':'.join(['#PWD_INSTAGRAM_BROWSER',\n",
    "                      '0', # => 어떻게 암호화를 할지\n",
    "                      str(int(datetime.timestamp(datetime.now()))), # => 현재시간\n",
    "                      'toinstagram' # => 비밀번호\n",
    "                     ])\n",
    "\n",
    "headers = {'x-csrftoken':CSRF}\n",
    "\n",
    "url = 'https://www.instagram.com/api/v1/web/accounts/login/ajax/'\n",
    "resp = post(url, data=params, headers=headers)\n",
    "resp.status_code"
   ]
  },
  {
   "cell_type": "code",
   "execution_count": 30,
   "id": "bff7479b-3b33-44ca-b58a-d624e48c1ed8",
   "metadata": {},
   "outputs": [
    {
     "data": {
      "text/plain": [
       "{'message': '', 'status': 'fail'}"
      ]
     },
     "execution_count": 30,
     "metadata": {},
     "output_type": "execute_result"
    }
   ],
   "source": [
    "resp.json()"
   ]
  },
  {
   "cell_type": "code",
   "execution_count": 31,
   "id": "2459af38-1f72-4500-9c0a-77eb98632d2a",
   "metadata": {},
   "outputs": [
    {
     "data": {
      "text/plain": [
       "'csrftoken=7Eqie_j9eStnd556PXRub6; Domain=.instagram.com; expires=Fri, 20-Mar-2026 00:56:47 GMT; Max-Age=31449600; Path=/; Secure, mid=Z9y5TAAEAAE5wYBi79E6uJZ7lehA; Domain=.instagram.com; expires=Sat, 25-Apr-2026 00:56:47 GMT; Max-Age=34560000; Path=/; Secure, ig_did=C88B6F4F-2811-4ACE-9074-34B4BC47FA8A; Domain=.instagram.com; expires=Sat, 21-Mar-2026 00:56:47 GMT; HttpOnly; Max-Age=31536000; Path=/; Secure, ig_nrcb=1; Domain=.instagram.com; expires=Sat, 21-Mar-2026 00:56:47 GMT; Max-Age=31536000; Path=/; Secure'"
      ]
     },
     "execution_count": 31,
     "metadata": {},
     "output_type": "execute_result"
    }
   ],
   "source": [
    "resp.headers['set-cookie']\n",
    "# session 이용"
   ]
  },
  {
   "cell_type": "code",
   "execution_count": 53,
   "id": "7595be14-42ff-4d1f-a531-7f728ba8301d",
   "metadata": {},
   "outputs": [],
   "source": [
    "from selenium.webdriver import Chrome"
   ]
  },
  {
   "cell_type": "code",
   "execution_count": 54,
   "id": "19a98162-f907-41aa-9de9-ee25bc33335a",
   "metadata": {},
   "outputs": [],
   "source": [
    "from selenium import webdriver\n",
    "chrome_driver_path = \"C:/chromedriver/chromedriver.exe\"\n",
    "service = Service(chrome_driver_path)\n",
    "driver = webdriver.Chrome(service=service)"
   ]
  },
  {
   "cell_type": "code",
   "execution_count": 55,
   "id": "c88fd984-f801-4381-a852-885ee4aebaf4",
   "metadata": {},
   "outputs": [
    {
     "data": {
      "text/plain": [
       "['F13F31AE8333843931154C2A58A40B11']"
      ]
     },
     "execution_count": 55,
     "metadata": {},
     "output_type": "execute_result"
    }
   ],
   "source": [
    "driver.window_handles"
   ]
  },
  {
   "cell_type": "code",
   "execution_count": 56,
   "id": "349e6fd3-52f1-42be-a232-f66666a07bf9",
   "metadata": {},
   "outputs": [],
   "source": [
    "# 브라우저 우리가 하는 행동\n",
    "# 클릭, 키보드 입력\n",
    "# GET"
   ]
  },
  {
   "cell_type": "code",
   "execution_count": 57,
   "id": "e12d6437-876d-4a0d-92b8-b9bbf4ac8c88",
   "metadata": {},
   "outputs": [
    {
     "ename": "TypeError",
     "evalue": "WebDriver.add_cookie() missing 1 required positional argument: 'cookie_dict'",
     "output_type": "error",
     "traceback": [
      "\u001b[1;31m---------------------------------------------------------------------------\u001b[0m",
      "\u001b[1;31mTypeError\u001b[0m                                 Traceback (most recent call last)",
      "Cell \u001b[1;32mIn[57], line 2\u001b[0m\n\u001b[0;32m      1\u001b[0m driver\u001b[38;5;241m.\u001b[39mget_cookies()\n\u001b[1;32m----> 2\u001b[0m \u001b[43mdriver\u001b[49m\u001b[38;5;241;43m.\u001b[39;49m\u001b[43madd_cookie\u001b[49m\u001b[43m(\u001b[49m\u001b[43m)\u001b[49m\n",
      "\u001b[1;31mTypeError\u001b[0m: WebDriver.add_cookie() missing 1 required positional argument: 'cookie_dict'"
     ]
    }
   ],
   "source": [
    "driver.get_cookies()\n",
    "driver.add_cookie()"
   ]
  },
  {
   "cell_type": "code",
   "execution_count": 58,
   "id": "5345ebf9-347d-46ba-987e-cb243a663386",
   "metadata": {},
   "outputs": [],
   "source": [
    "driver.get('https://naver.com')"
   ]
  },
  {
   "cell_type": "code",
   "execution_count": null,
   "id": "ffb7cb64-ca3d-4b48-a6a3-3270d59f2dbb",
   "metadata": {},
   "outputs": [],
   "source": []
  },
  {
   "cell_type": "code",
   "execution_count": null,
   "id": "3acf4287-38f7-4377-9273-7a85a2fe7fb7",
   "metadata": {},
   "outputs": [],
   "source": []
  },
  {
   "cell_type": "code",
   "execution_count": null,
   "id": "a81301b6-a8f4-45fa-a415-33cac005f9f9",
   "metadata": {},
   "outputs": [],
   "source": []
  },
  {
   "cell_type": "code",
   "execution_count": 59,
   "id": "99e468e2-15a7-4b60-bff9-20fd015d200d",
   "metadata": {},
   "outputs": [],
   "source": [
    "c = dict()"
   ]
  },
  {
   "cell_type": "code",
   "execution_count": null,
   "id": "62ca70ab-782c-44ad-8e9c-b55e1538e4c6",
   "metadata": {},
   "outputs": [],
   "source": []
  },
  {
   "cell_type": "code",
   "execution_count": null,
   "id": "8f5dc9c7-5290-4cf3-abbd-e56c6559d7fc",
   "metadata": {},
   "outputs": [],
   "source": []
  },
  {
   "cell_type": "code",
   "execution_count": 60,
   "id": "932a6403-8652-492d-91a6-e5886254f182",
   "metadata": {},
   "outputs": [],
   "source": [
    "driver.get('https://mail.naver.com')"
   ]
  },
  {
   "cell_type": "code",
   "execution_count": null,
   "id": "79dcff09-d654-4956-af55-18d53d1a6ede",
   "metadata": {},
   "outputs": [],
   "source": [
    "ㅠ"
   ]
  },
  {
   "cell_type": "code",
   "execution_count": null,
   "id": "7a885c6a-d35c-4866-8731-c23ed68d3446",
   "metadata": {},
   "outputs": [],
   "source": []
  },
  {
   "cell_type": "code",
   "execution_count": null,
   "id": "3e53cd27-1a48-4b20-aec9-f28ae055e149",
   "metadata": {},
   "outputs": [],
   "source": []
  },
  {
   "cell_type": "code",
   "execution_count": null,
   "id": "299e12bc-50d5-468e-8cc2-5ae4b18b8ce4",
   "metadata": {},
   "outputs": [],
   "source": []
  },
  {
   "cell_type": "code",
   "execution_count": null,
   "id": "c8bd795e-9d84-48f9-8807-a10ec162b611",
   "metadata": {},
   "outputs": [],
   "source": []
  },
  {
   "cell_type": "code",
   "execution_count": null,
   "id": "f590335d-0db3-4c67-9553-780eef02eae3",
   "metadata": {},
   "outputs": [],
   "source": []
  }
 ],
 "metadata": {
  "kernelspec": {
   "display_name": "Python 3 (ipykernel)",
   "language": "python",
   "name": "python3"
  },
  "language_info": {
   "codemirror_mode": {
    "name": "ipython",
    "version": 3
   },
   "file_extension": ".py",
   "mimetype": "text/x-python",
   "name": "python",
   "nbconvert_exporter": "python",
   "pygments_lexer": "ipython3",
   "version": "3.10.4"
  }
 },
 "nbformat": 4,
 "nbformat_minor": 5
}
