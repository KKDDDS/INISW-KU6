{
 "cells": [
  {
   "cell_type": "code",
   "execution_count": 1,
   "id": "7399634d-34b7-4bdb-838e-a67a1b5c947d",
   "metadata": {},
   "outputs": [
    {
     "name": "stdout",
     "output_type": "stream",
     "text": [
      "Writing a.txt\n"
     ]
    }
   ],
   "source": [
    "%%writefile a.txt\n",
    "12345\n",
    "[1,2,3]\n",
    "asdff"
   ]
  },
  {
   "cell_type": "code",
   "execution_count": 2,
   "id": "cfd7e741-3470-498e-a528-6061864d32bc",
   "metadata": {},
   "outputs": [
    {
     "name": "stdout",
     "output_type": "stream",
     "text": [
      "['12345\\n', '[1,2,3]\\n', 'asdff\\n']\n"
     ]
    }
   ],
   "source": [
    "with open('a.txt') as f:\n",
    "    print(f.readlines())"
   ]
  },
  {
   "cell_type": "code",
   "execution_count": 3,
   "id": "9afe9cc9-9085-45e5-b741-919a7b26e141",
   "metadata": {},
   "outputs": [],
   "source": [
    "a = [1,2,3]"
   ]
  },
  {
   "cell_type": "code",
   "execution_count": 4,
   "id": "6faecfa3-6731-49f9-b7a7-7c3fbfdb9f87",
   "metadata": {},
   "outputs": [],
   "source": [
    "with open('b.txt', 'w') as f:\n",
    "    f.writelines(str(a))"
   ]
  },
  {
   "cell_type": "code",
   "execution_count": 5,
   "id": "daa1ff0c-04aa-4f66-b4e5-6bc6d58c79d8",
   "metadata": {},
   "outputs": [
    {
     "data": {
      "text/plain": [
       "'[1, 2, 3]'"
      ]
     },
     "execution_count": 5,
     "metadata": {},
     "output_type": "execute_result"
    }
   ],
   "source": [
    "str(a)"
   ]
  },
  {
   "cell_type": "code",
   "execution_count": 6,
   "id": "524b8d99-3f44-4ae2-a9bc-510779ecd71d",
   "metadata": {},
   "outputs": [],
   "source": [
    "import pickle"
   ]
  },
  {
   "cell_type": "code",
   "execution_count": 7,
   "id": "5be3ca79-14b8-4f3c-8cc6-1276e4542982",
   "metadata": {},
   "outputs": [],
   "source": [
    "with open('aa.p','wb') as f:\n",
    "    pickle.dump(a, f)"
   ]
  },
  {
   "cell_type": "code",
   "execution_count": 8,
   "id": "c0cd9726-de74-4eba-a321-409dd3f24790",
   "metadata": {},
   "outputs": [],
   "source": [
    "with open('aa.p','rb') as f:\n",
    "    xx = pickle.load(f)"
   ]
  },
  {
   "cell_type": "code",
   "execution_count": 9,
   "id": "6919fbe6-bd76-4dc5-af4f-7a5259bc881c",
   "metadata": {},
   "outputs": [
    {
     "data": {
      "text/plain": [
       "[1, 2, 3]"
      ]
     },
     "execution_count": 9,
     "metadata": {},
     "output_type": "execute_result"
    }
   ],
   "source": [
    "xx"
   ]
  },
  {
   "cell_type": "code",
   "execution_count": 10,
   "id": "a0cd09f0-7163-41fe-89c6-45723a58d2c4",
   "metadata": {},
   "outputs": [
    {
     "data": {
      "text/plain": [
       "list"
      ]
     },
     "execution_count": 10,
     "metadata": {},
     "output_type": "execute_result"
    }
   ],
   "source": [
    "type(xx)"
   ]
  },
  {
   "cell_type": "code",
   "execution_count": 11,
   "id": "b5faf32b-9a53-4f39-af1f-b3e4623891c2",
   "metadata": {},
   "outputs": [],
   "source": [
    "import pandas as pd"
   ]
  },
  {
   "cell_type": "code",
   "execution_count": 32,
   "id": "77659b13-e570-42cb-a9b9-40422302cd7c",
   "metadata": {},
   "outputs": [],
   "source": [
    "data = pd.read_csv(r'C:\\Users\\USER\\Desktop\\seoul.csv')"
   ]
  },
  {
   "cell_type": "code",
   "execution_count": 37,
   "id": "914d43db-bbd9-4ae8-9698-3b34a0b53e9c",
   "metadata": {},
   "outputs": [
    {
     "data": {
      "text/html": [
       "<div>\n",
       "<style scoped>\n",
       "    .dataframe tbody tr th:only-of-type {\n",
       "        vertical-align: middle;\n",
       "    }\n",
       "\n",
       "    .dataframe tbody tr th {\n",
       "        vertical-align: top;\n",
       "    }\n",
       "\n",
       "    .dataframe thead th {\n",
       "        text-align: right;\n",
       "    }\n",
       "</style>\n",
       "<table border=\"1\" class=\"dataframe\">\n",
       "  <thead>\n",
       "    <tr style=\"text-align: right;\">\n",
       "      <th></th>\n",
       "      <th>상가업소번호</th>\n",
       "      <th>상호명</th>\n",
       "      <th>지점명</th>\n",
       "      <th>상권업종대분류코드</th>\n",
       "      <th>상권업종대분류명</th>\n",
       "      <th>상권업종중분류코드</th>\n",
       "      <th>상권업종중분류명</th>\n",
       "      <th>상권업종소분류코드</th>\n",
       "      <th>상권업종소분류명</th>\n",
       "      <th>표준산업분류코드</th>\n",
       "      <th>...</th>\n",
       "      <th>건물관리번호</th>\n",
       "      <th>건물명</th>\n",
       "      <th>도로명주소</th>\n",
       "      <th>구우편번호</th>\n",
       "      <th>신우편번호</th>\n",
       "      <th>동정보</th>\n",
       "      <th>층정보</th>\n",
       "      <th>호정보</th>\n",
       "      <th>경도</th>\n",
       "      <th>위도</th>\n",
       "    </tr>\n",
       "  </thead>\n",
       "  <tbody>\n",
       "    <tr>\n",
       "      <th>0</th>\n",
       "      <td>MA010120220700009628</td>\n",
       "      <td>홈처치스쿨</td>\n",
       "      <td>NaN</td>\n",
       "      <td>P1</td>\n",
       "      <td>교육</td>\n",
       "      <td>P107</td>\n",
       "      <td>교육 지원</td>\n",
       "      <td>P10799</td>\n",
       "      <td>기타 교육지원 서비스업</td>\n",
       "      <td>P85709</td>\n",
       "      <td>...</td>\n",
       "      <td>1123011000102560217000901</td>\n",
       "      <td>NaN</td>\n",
       "      <td>서울특별시 동대문구 신이문로8길 5</td>\n",
       "      <td>130827</td>\n",
       "      <td>2411</td>\n",
       "      <td>NaN</td>\n",
       "      <td>NaN</td>\n",
       "      <td>NaN</td>\n",
       "      <td>127.063553</td>\n",
       "      <td>37.602687</td>\n",
       "    </tr>\n",
       "    <tr>\n",
       "      <th>1</th>\n",
       "      <td>MA010120220800000033</td>\n",
       "      <td>부동산임대김은숙</td>\n",
       "      <td>NaN</td>\n",
       "      <td>I2</td>\n",
       "      <td>음식</td>\n",
       "      <td>I212</td>\n",
       "      <td>비알코올</td>\n",
       "      <td>I21201</td>\n",
       "      <td>카페</td>\n",
       "      <td>I56229</td>\n",
       "      <td>...</td>\n",
       "      <td>1111014000100280021026727</td>\n",
       "      <td>NaN</td>\n",
       "      <td>서울특별시 종로구 삼청로 122-1</td>\n",
       "      <td>110230</td>\n",
       "      <td>3053</td>\n",
       "      <td>NaN</td>\n",
       "      <td>NaN</td>\n",
       "      <td>NaN</td>\n",
       "      <td>126.981840</td>\n",
       "      <td>37.586250</td>\n",
       "    </tr>\n",
       "    <tr>\n",
       "      <th>2</th>\n",
       "      <td>MA010120220800000036</td>\n",
       "      <td>한국황토건축연구소</td>\n",
       "      <td>NaN</td>\n",
       "      <td>L1</td>\n",
       "      <td>부동산</td>\n",
       "      <td>L102</td>\n",
       "      <td>부동산 서비스</td>\n",
       "      <td>L10203</td>\n",
       "      <td>부동산 중개/대리업</td>\n",
       "      <td>L68221</td>\n",
       "      <td>...</td>\n",
       "      <td>1165010800113080025020133</td>\n",
       "      <td>강남오피스텔</td>\n",
       "      <td>서울특별시 서초구 서초대로73길 40</td>\n",
       "      <td>137856</td>\n",
       "      <td>6612</td>\n",
       "      <td>NaN</td>\n",
       "      <td>11</td>\n",
       "      <td>NaN</td>\n",
       "      <td>127.024563</td>\n",
       "      <td>37.500924</td>\n",
       "    </tr>\n",
       "    <tr>\n",
       "      <th>3</th>\n",
       "      <td>MA010120220800000077</td>\n",
       "      <td>소망공인중개사사무소</td>\n",
       "      <td>NaN</td>\n",
       "      <td>L1</td>\n",
       "      <td>부동산</td>\n",
       "      <td>L102</td>\n",
       "      <td>부동산 서비스</td>\n",
       "      <td>L10203</td>\n",
       "      <td>부동산 중개/대리업</td>\n",
       "      <td>L68221</td>\n",
       "      <td>...</td>\n",
       "      <td>1120012200100040011000899</td>\n",
       "      <td>NaN</td>\n",
       "      <td>서울특별시 성동구 용답중앙15길 18</td>\n",
       "      <td>133847</td>\n",
       "      <td>4805</td>\n",
       "      <td>NaN</td>\n",
       "      <td>1</td>\n",
       "      <td>NaN</td>\n",
       "      <td>127.054262</td>\n",
       "      <td>37.564786</td>\n",
       "    </tr>\n",
       "    <tr>\n",
       "      <th>4</th>\n",
       "      <td>MA010120220800000084</td>\n",
       "      <td>고향집</td>\n",
       "      <td>NaN</td>\n",
       "      <td>I2</td>\n",
       "      <td>음식</td>\n",
       "      <td>I201</td>\n",
       "      <td>한식</td>\n",
       "      <td>I20101</td>\n",
       "      <td>백반/한정식</td>\n",
       "      <td>I56111</td>\n",
       "      <td>...</td>\n",
       "      <td>1111015400100800000000001</td>\n",
       "      <td>NaN</td>\n",
       "      <td>서울특별시 종로구 돈화문로4길 30</td>\n",
       "      <td>110430</td>\n",
       "      <td>3193</td>\n",
       "      <td>NaN</td>\n",
       "      <td>NaN</td>\n",
       "      <td>NaN</td>\n",
       "      <td>126.993820</td>\n",
       "      <td>37.570025</td>\n",
       "    </tr>\n",
       "    <tr>\n",
       "      <th>...</th>\n",
       "      <td>...</td>\n",
       "      <td>...</td>\n",
       "      <td>...</td>\n",
       "      <td>...</td>\n",
       "      <td>...</td>\n",
       "      <td>...</td>\n",
       "      <td>...</td>\n",
       "      <td>...</td>\n",
       "      <td>...</td>\n",
       "      <td>...</td>\n",
       "      <td>...</td>\n",
       "      <td>...</td>\n",
       "      <td>...</td>\n",
       "      <td>...</td>\n",
       "      <td>...</td>\n",
       "      <td>...</td>\n",
       "      <td>...</td>\n",
       "      <td>...</td>\n",
       "      <td>...</td>\n",
       "      <td>...</td>\n",
       "      <td>...</td>\n",
       "    </tr>\n",
       "    <tr>\n",
       "      <th>553530</th>\n",
       "      <td>MA0106202201A1649562</td>\n",
       "      <td>환명상원</td>\n",
       "      <td>NaN</td>\n",
       "      <td>S2</td>\n",
       "      <td>수리·개인</td>\n",
       "      <td>S207</td>\n",
       "      <td>이용·미용</td>\n",
       "      <td>S20701</td>\n",
       "      <td>미용실</td>\n",
       "      <td>S96112</td>\n",
       "      <td>...</td>\n",
       "      <td>1111017000100770000008442</td>\n",
       "      <td>NaN</td>\n",
       "      <td>서울특별시 종로구 성균관로 44</td>\n",
       "      <td>110530</td>\n",
       "      <td>3069</td>\n",
       "      <td>NaN</td>\n",
       "      <td>NaN</td>\n",
       "      <td>NaN</td>\n",
       "      <td>126.996819</td>\n",
       "      <td>37.586603</td>\n",
       "    </tr>\n",
       "    <tr>\n",
       "      <th>553531</th>\n",
       "      <td>MA0106202201A0125744</td>\n",
       "      <td>올리스푼</td>\n",
       "      <td>NaN</td>\n",
       "      <td>G2</td>\n",
       "      <td>소매</td>\n",
       "      <td>G221</td>\n",
       "      <td>기타 상품 소매</td>\n",
       "      <td>G22199</td>\n",
       "      <td>그 외 기타 상품 전문 소매업</td>\n",
       "      <td>G47859</td>\n",
       "      <td>...</td>\n",
       "      <td>1150010300107890019020562</td>\n",
       "      <td>NaN</td>\n",
       "      <td>서울특별시 강서구 곰달래로60가길 46</td>\n",
       "      <td>157897</td>\n",
       "      <td>7785</td>\n",
       "      <td>NaN</td>\n",
       "      <td>NaN</td>\n",
       "      <td>NaN</td>\n",
       "      <td>126.860663</td>\n",
       "      <td>37.530082</td>\n",
       "    </tr>\n",
       "    <tr>\n",
       "      <th>553532</th>\n",
       "      <td>MA010120220808362513</td>\n",
       "      <td>스튜디오익센트릭</td>\n",
       "      <td>NaN</td>\n",
       "      <td>M1</td>\n",
       "      <td>과학·기술</td>\n",
       "      <td>M112</td>\n",
       "      <td>전문 디자인</td>\n",
       "      <td>M11203</td>\n",
       "      <td>시각 디자인업</td>\n",
       "      <td>M73203</td>\n",
       "      <td>...</td>\n",
       "      <td>1168010800102180017027140</td>\n",
       "      <td>NaN</td>\n",
       "      <td>서울특별시 강남구 언주로121길 4-5</td>\n",
       "      <td>135829</td>\n",
       "      <td>6106</td>\n",
       "      <td>NaN</td>\n",
       "      <td>2</td>\n",
       "      <td>NaN</td>\n",
       "      <td>127.035007</td>\n",
       "      <td>37.512004</td>\n",
       "    </tr>\n",
       "    <tr>\n",
       "      <th>553533</th>\n",
       "      <td>MA010120220804126513</td>\n",
       "      <td>두찜강남</td>\n",
       "      <td>논현점</td>\n",
       "      <td>I2</td>\n",
       "      <td>음식</td>\n",
       "      <td>I201</td>\n",
       "      <td>한식</td>\n",
       "      <td>I20101</td>\n",
       "      <td>백반/한정식</td>\n",
       "      <td>I56111</td>\n",
       "      <td>...</td>\n",
       "      <td>1168010800102180017027140</td>\n",
       "      <td>NaN</td>\n",
       "      <td>서울특별시 강남구 언주로121길 4-5</td>\n",
       "      <td>135829</td>\n",
       "      <td>6106</td>\n",
       "      <td>NaN</td>\n",
       "      <td>1</td>\n",
       "      <td>NaN</td>\n",
       "      <td>127.035007</td>\n",
       "      <td>37.512004</td>\n",
       "    </tr>\n",
       "    <tr>\n",
       "      <th>553534</th>\n",
       "      <td>MA0106202311A0600261</td>\n",
       "      <td>두찜강남</td>\n",
       "      <td>논현점</td>\n",
       "      <td>I2</td>\n",
       "      <td>음식</td>\n",
       "      <td>I201</td>\n",
       "      <td>한식</td>\n",
       "      <td>I20101</td>\n",
       "      <td>백반/한정식</td>\n",
       "      <td>I56111</td>\n",
       "      <td>...</td>\n",
       "      <td>1168010800102190033007613</td>\n",
       "      <td>NaN</td>\n",
       "      <td>서울특별시 강남구 언주로121길 10</td>\n",
       "      <td>135829</td>\n",
       "      <td>6106</td>\n",
       "      <td>NaN</td>\n",
       "      <td>2</td>\n",
       "      <td>NaN</td>\n",
       "      <td>127.034769</td>\n",
       "      <td>37.511608</td>\n",
       "    </tr>\n",
       "  </tbody>\n",
       "</table>\n",
       "<p>553535 rows × 39 columns</p>\n",
       "</div>"
      ],
      "text/plain": [
       "                      상가업소번호         상호명  지점명 상권업종대분류코드 상권업종대분류명 상권업종중분류코드  \\\n",
       "0       MA010120220700009628       홈처치스쿨  NaN        P1       교육      P107   \n",
       "1       MA010120220800000033    부동산임대김은숙  NaN        I2       음식      I212   \n",
       "2       MA010120220800000036   한국황토건축연구소  NaN        L1      부동산      L102   \n",
       "3       MA010120220800000077  소망공인중개사사무소  NaN        L1      부동산      L102   \n",
       "4       MA010120220800000084         고향집  NaN        I2       음식      I201   \n",
       "...                      ...         ...  ...       ...      ...       ...   \n",
       "553530  MA0106202201A1649562        환명상원  NaN        S2    수리·개인      S207   \n",
       "553531  MA0106202201A0125744        올리스푼  NaN        G2       소매      G221   \n",
       "553532  MA010120220808362513    스튜디오익센트릭  NaN        M1    과학·기술      M112   \n",
       "553533  MA010120220804126513        두찜강남  논현점        I2       음식      I201   \n",
       "553534  MA0106202311A0600261        두찜강남  논현점        I2       음식      I201   \n",
       "\n",
       "        상권업종중분류명 상권업종소분류코드          상권업종소분류명 표준산업분류코드  ...  \\\n",
       "0          교육 지원    P10799      기타 교육지원 서비스업   P85709  ...   \n",
       "1          비알코올     I21201                카페   I56229  ...   \n",
       "2        부동산 서비스    L10203        부동산 중개/대리업   L68221  ...   \n",
       "3        부동산 서비스    L10203        부동산 중개/대리업   L68221  ...   \n",
       "4             한식    I20101            백반/한정식   I56111  ...   \n",
       "...          ...       ...               ...      ...  ...   \n",
       "553530     이용·미용    S20701               미용실   S96112  ...   \n",
       "553531  기타 상품 소매    G22199  그 외 기타 상품 전문 소매업   G47859  ...   \n",
       "553532    전문 디자인    M11203           시각 디자인업   M73203  ...   \n",
       "553533        한식    I20101            백반/한정식   I56111  ...   \n",
       "553534        한식    I20101            백반/한정식   I56111  ...   \n",
       "\n",
       "                           건물관리번호     건물명                  도로명주소   구우편번호  \\\n",
       "0       1123011000102560217000901     NaN    서울특별시 동대문구 신이문로8길 5  130827   \n",
       "1       1111014000100280021026727     NaN    서울특별시 종로구 삼청로 122-1  110230   \n",
       "2       1165010800113080025020133  강남오피스텔   서울특별시 서초구 서초대로73길 40  137856   \n",
       "3       1120012200100040011000899     NaN   서울특별시 성동구 용답중앙15길 18  133847   \n",
       "4       1111015400100800000000001     NaN    서울특별시 종로구 돈화문로4길 30  110430   \n",
       "...                           ...     ...                    ...     ...   \n",
       "553530  1111017000100770000008442     NaN      서울특별시 종로구 성균관로 44  110530   \n",
       "553531  1150010300107890019020562     NaN  서울특별시 강서구 곰달래로60가길 46  157897   \n",
       "553532  1168010800102180017027140     NaN  서울특별시 강남구 언주로121길 4-5  135829   \n",
       "553533  1168010800102180017027140     NaN  서울특별시 강남구 언주로121길 4-5  135829   \n",
       "553534  1168010800102190033007613     NaN   서울특별시 강남구 언주로121길 10  135829   \n",
       "\n",
       "       신우편번호  동정보  층정보  호정보          경도         위도  \n",
       "0       2411  NaN  NaN  NaN  127.063553  37.602687  \n",
       "1       3053  NaN  NaN  NaN  126.981840  37.586250  \n",
       "2       6612  NaN   11  NaN  127.024563  37.500924  \n",
       "3       4805  NaN    1  NaN  127.054262  37.564786  \n",
       "4       3193  NaN  NaN  NaN  126.993820  37.570025  \n",
       "...      ...  ...  ...  ...         ...        ...  \n",
       "553530  3069  NaN  NaN  NaN  126.996819  37.586603  \n",
       "553531  7785  NaN  NaN  NaN  126.860663  37.530082  \n",
       "553532  6106  NaN    2  NaN  127.035007  37.512004  \n",
       "553533  6106  NaN    1  NaN  127.035007  37.512004  \n",
       "553534  6106  NaN    2  NaN  127.034769  37.511608  \n",
       "\n",
       "[553535 rows x 39 columns]"
      ]
     },
     "execution_count": 37,
     "metadata": {},
     "output_type": "execute_result"
    }
   ],
   "source": [
    "data"
   ]
  },
  {
   "cell_type": "code",
   "execution_count": 39,
   "id": "07425011-2998-4b53-9dbc-3f182696d95b",
   "metadata": {},
   "outputs": [
    {
     "data": {
      "text/plain": [
       "<Axes: >"
      ]
     },
     "execution_count": 39,
     "metadata": {},
     "output_type": "execute_result"
    },
    {
     "data": {
      "image/png": "[encoded data removed]",
      "text/plain": [
       "<Figure size 640x480 with 1 Axes>"
      ]
     },
     "metadata": {},
     "output_type": "display_data"
    }
   ],
   "source": [
    "data['상권업종대분류코드'].value_counts().plot.bar()"
   ]
  },
  {
   "cell_type": "code",
   "execution_count": 40,
   "id": "8eea936f-2ea7-4115-9152-69eb2c2927c6",
   "metadata": {},
   "outputs": [
    {
     "data": {
      "text/plain": [
       "array(['G2', 'I1', 'I2', 'L1', 'M1', 'N1', 'P1', 'Q1', 'R1', 'S2'],\n",
       "      dtype=object)"
      ]
     },
     "execution_count": 40,
     "metadata": {},
     "output_type": "execute_result"
    }
   ],
   "source": [
    "np.unique(data['상권업종대분류코드'])"
   ]
  },
  {
   "cell_type": "code",
   "execution_count": 41,
   "id": "e9dd5a87-c38e-4508-a3cd-ddb2d071a50d",
   "metadata": {
    "scrolled": true
   },
   "outputs": [
    {
     "data": {
      "text/plain": [
       "I2    144885\n",
       "G2    118697\n",
       "M1     94499\n",
       "S2     53048\n",
       "P1     44525\n",
       "L1     25189\n",
       "N1     24801\n",
       "R1     20902\n",
       "Q1     18743\n",
       "I1      8246\n",
       "Name: 상권업종대분류코드, dtype: int64"
      ]
     },
     "execution_count": 41,
     "metadata": {},
     "output_type": "execute_result"
    }
   ],
   "source": [
    "data['상권업종대분류코드'].value_counts()"
   ]
  },
  {
   "cell_type": "code",
   "execution_count": 42,
   "id": "13c4b750-57db-421a-b4eb-16af2cc892f9",
   "metadata": {},
   "outputs": [
    {
     "data": {
      "text/plain": [
       "array(['G2', 'I1', 'I2', 'L1', 'M1', 'N1', 'P1', 'Q1', 'R1', 'S2'],\n",
       "      dtype=object)"
      ]
     },
     "execution_count": 42,
     "metadata": {},
     "output_type": "execute_result"
    }
   ],
   "source": [
    "np.unique(data['상권업종대분류코드'])"
   ]
  },
  {
   "cell_type": "code",
   "execution_count": 43,
   "id": "873845f8-048a-442f-a094-bd372fed4ae2",
   "metadata": {},
   "outputs": [
    {
     "data": {
      "text/plain": [
       "array(['P1', 'I2', 'L1', 'G2', 'S2', 'M1', 'N1', 'R1', 'I1', 'Q1'],\n",
       "      dtype=object)"
      ]
     },
     "execution_count": 43,
     "metadata": {},
     "output_type": "execute_result"
    }
   ],
   "source": [
    "data['상권업종대분류코드'].unique()"
   ]
  },
  {
   "cell_type": "code",
   "execution_count": 44,
   "id": "10b32f0a-7788-4a4d-8f09-f58e3f82172e",
   "metadata": {},
   "outputs": [
    {
     "name": "stdout",
     "output_type": "stream",
     "text": [
      "<class 'pandas.core.frame.DataFrame'>\n",
      "RangeIndex: 553535 entries, 0 to 553534\n",
      "Data columns (total 39 columns):\n",
      " #   Column     Non-Null Count   Dtype  \n",
      "---  ------     --------------   -----  \n",
      " 0   상가업소번호     553535 non-null  object \n",
      " 1   상호명        553535 non-null  object \n",
      " 2   지점명        49419 non-null   object \n",
      " 3   상권업종대분류코드  553535 non-null  object \n",
      " 4   상권업종대분류명   553535 non-null  object \n",
      " 5   상권업종중분류코드  553535 non-null  object \n",
      " 6   상권업종중분류명   553535 non-null  object \n",
      " 7   상권업종소분류코드  553535 non-null  object \n",
      " 8   상권업종소분류명   553535 non-null  object \n",
      " 9   표준산업분류코드   553343 non-null  object \n",
      " 10  표준산업분류명    553343 non-null  object \n",
      " 11  시도코드       553535 non-null  int64  \n",
      " 12  시도명        553535 non-null  object \n",
      " 13  시군구코드      553535 non-null  int64  \n",
      " 14  시군구명       553535 non-null  object \n",
      " 15  행정동코드      553535 non-null  int64  \n",
      " 16  행정동명       553535 non-null  object \n",
      " 17  법정동코드      553535 non-null  int64  \n",
      " 18  법정동명       553535 non-null  object \n",
      " 19  지번코드       553535 non-null  int64  \n",
      " 20  대지구분코드     553535 non-null  int64  \n",
      " 21  대지구분명      553535 non-null  object \n",
      " 22  지번본번지      553475 non-null  float64\n",
      " 23  지번부번지      459577 non-null  float64\n",
      " 24  지번주소       553535 non-null  object \n",
      " 25  도로명코드      553535 non-null  int64  \n",
      " 26  도로명        553535 non-null  object \n",
      " 27  건물본번지      553525 non-null  float64\n",
      " 28  건물부번지      71782 non-null   float64\n",
      " 29  건물관리번호     552046 non-null  object \n",
      " 30  건물명        269332 non-null  object \n",
      " 31  도로명주소      553535 non-null  object \n",
      " 32  구우편번호      553535 non-null  int64  \n",
      " 33  신우편번호      553535 non-null  int64  \n",
      " 34  동정보        0 non-null       float64\n",
      " 35  층정보        378106 non-null  object \n",
      " 36  호정보        0 non-null       float64\n",
      " 37  경도         553535 non-null  float64\n",
      " 38  위도         553535 non-null  float64\n",
      "dtypes: float64(8), int64(9), object(22)\n",
      "memory usage: 164.7+ MB\n"
     ]
    }
   ],
   "source": [
    "data.info()"
   ]
  },
  {
   "cell_type": "code",
   "execution_count": null,
   "id": "841546b4-4e35-4656-ab34-1b4f61e80651",
   "metadata": {},
   "outputs": [],
   "source": []
  },
  {
   "cell_type": "code",
   "execution_count": null,
   "id": "82e7f5ae-c5f9-4323-acfa-e2ec4f4ff76b",
   "metadata": {},
   "outputs": [],
   "source": []
  },
  {
   "cell_type": "code",
   "execution_count": null,
   "id": "df72e151-1ca0-4251-b8f9-98955613bceb",
   "metadata": {},
   "outputs": [],
   "source": []
  },
  {
   "cell_type": "code",
   "execution_count": null,
   "id": "9c952ac1-93ce-404f-8381-c32f81fce85e",
   "metadata": {},
   "outputs": [],
   "source": []
  },
  {
   "cell_type": "code",
   "execution_count": null,
   "id": "28b50f13-2fe2-4a6f-82ba-8aedb7340311",
   "metadata": {},
   "outputs": [],
   "source": []
  },
  {
   "cell_type": "code",
   "execution_count": null,
   "id": "ee38629b-1014-480a-b44d-35cde338801e",
   "metadata": {},
   "outputs": [],
   "source": []
  },
  {
   "cell_type": "code",
   "execution_count": 14,
   "id": "26280a69-03e0-47b7-b0e5-eec8450f6cc6",
   "metadata": {},
   "outputs": [],
   "source": [
    "import numpy as np"
   ]
  },
  {
   "cell_type": "code",
   "execution_count": 15,
   "id": "d19465e3-68bb-4426-abd2-4dbf9ce2bf17",
   "metadata": {},
   "outputs": [],
   "source": [
    "import tensorflow as tf"
   ]
  },
  {
   "cell_type": "code",
   "execution_count": 16,
   "id": "56168678-3e2b-44ff-bed3-b633dcef3916",
   "metadata": {},
   "outputs": [],
   "source": [
    "import inspect"
   ]
  },
  {
   "cell_type": "code",
   "execution_count": 17,
   "id": "3438546e-5da1-43f6-bc91-6682746d79ee",
   "metadata": {},
   "outputs": [
    {
     "name": "stdout",
     "output_type": "stream",
     "text": [
      "@keras_export(\"keras.datasets.mnist.load_data\")\n",
      "def load_data(path=\"mnist.npz\"):\n",
      "    \"\"\"Loads the MNIST dataset.\n",
      "\n",
      "    This is a dataset of 60,000 28x28 grayscale images of the 10 digits,\n",
      "    along with a test set of 10,000 images.\n",
      "    More info can be found at the\n",
      "    [MNIST homepage](http://yann.lecun.com/exdb/mnist/).\n",
      "\n",
      "    Args:\n",
      "      path: path where to cache the dataset locally\n",
      "        (relative to `~/.keras/datasets`).\n",
      "\n",
      "    Returns:\n",
      "      Tuple of NumPy arrays: `(x_train, y_train), (x_test, y_test)`.\n",
      "\n",
      "    **x_train**: uint8 NumPy array of grayscale image data with shapes\n",
      "      `(60000, 28, 28)`, containing the training data. Pixel values range\n",
      "      from 0 to 255.\n",
      "\n",
      "    **y_train**: uint8 NumPy array of digit labels (integers in range 0-9)\n",
      "      with shape `(60000,)` for the training data.\n",
      "\n",
      "    **x_test**: uint8 NumPy array of grayscale image data with shapes\n",
      "      (10000, 28, 28), containing the test data. Pixel values range\n",
      "      from 0 to 255.\n",
      "\n",
      "    **y_test**: uint8 NumPy array of digit labels (integers in range 0-9)\n",
      "      with shape `(10000,)` for the test data.\n",
      "\n",
      "    Example:\n",
      "\n",
      "    ```python\n",
      "    (x_train, y_train), (x_test, y_test) = keras.datasets.mnist.load_data()\n",
      "    assert x_train.shape == (60000, 28, 28)\n",
      "    assert x_test.shape == (10000, 28, 28)\n",
      "    assert y_train.shape == (60000,)\n",
      "    assert y_test.shape == (10000,)\n",
      "    ```\n",
      "\n",
      "    License:\n",
      "      Yann LeCun and Corinna Cortes hold the copyright of MNIST dataset,\n",
      "      which is a derivative work from original NIST datasets.\n",
      "      MNIST dataset is made available under the terms of the\n",
      "      [Creative Commons Attribution-Share Alike 3.0 license.](\n",
      "      https://creativecommons.org/licenses/by-sa/3.0/)\n",
      "    \"\"\"\n",
      "    origin_folder = (\n",
      "        \"https://storage.googleapis.com/tensorflow/tf-keras-datasets/\"\n",
      "    )\n",
      "    path = get_file(\n",
      "        path,\n",
      "        origin=origin_folder + \"mnist.npz\",\n",
      "        file_hash=(  # noqa: E501\n",
      "            \"731c5ac602752760c8e48fbffcf8c3b850d9dc2a2aedcf2cc48468fc17b673d1\"\n",
      "        ),\n",
      "    )\n",
      "    with np.load(path, allow_pickle=True) as f:\n",
      "        x_train, y_train = f[\"x_train\"], f[\"y_train\"]\n",
      "        x_test, y_test = f[\"x_test\"], f[\"y_test\"]\n",
      "\n",
      "        return (x_train, y_train), (x_test, y_test)\n",
      "\n"
     ]
    }
   ],
   "source": [
    "print(inspect.getsource(tf.keras.datasets.mnist.load_data))"
   ]
  },
  {
   "cell_type": "code",
   "execution_count": 18,
   "id": "5040eeb8-ff71-45eb-b645-a4e37e9cac77",
   "metadata": {},
   "outputs": [],
   "source": [
    "a = np.arange(10)"
   ]
  },
  {
   "cell_type": "code",
   "execution_count": 19,
   "id": "092f5981-b1c7-44e1-b4e8-5db014e3b454",
   "metadata": {},
   "outputs": [
    {
     "data": {
      "text/plain": [
       "array([0, 1, 2, 3, 4, 5, 6, 7, 8, 9])"
      ]
     },
     "execution_count": 19,
     "metadata": {},
     "output_type": "execute_result"
    }
   ],
   "source": [
    "a"
   ]
  },
  {
   "cell_type": "code",
   "execution_count": 20,
   "id": "06021633-5a00-4f0a-9470-9ad14f82d7da",
   "metadata": {},
   "outputs": [
    {
     "data": {
      "text/plain": [
       "<function numpy.savez(file, *args, **kwds)>"
      ]
     },
     "execution_count": 20,
     "metadata": {},
     "output_type": "execute_result"
    }
   ],
   "source": [
    "np.savez"
   ]
  },
  {
   "cell_type": "code",
   "execution_count": 63,
   "id": "9e258f00-d003-447a-83d6-3bf0ca06cf38",
   "metadata": {},
   "outputs": [],
   "source": [
    "import seaborn as sns"
   ]
  },
  {
   "cell_type": "code",
   "execution_count": 64,
   "id": "5fd1efb5-9ff2-42c0-a965-9abefaf3093d",
   "metadata": {},
   "outputs": [],
   "source": [
    "tips = sns.load_dataset('tips')"
   ]
  },
  {
   "cell_type": "code",
   "execution_count": 65,
   "id": "1598b2c4-784f-47ec-ac06-cfbd6652cf7c",
   "metadata": {},
   "outputs": [
    {
     "data": {
      "text/html": [
       "<div>\n",
       "<style scoped>\n",
       "    .dataframe tbody tr th:only-of-type {\n",
       "        vertical-align: middle;\n",
       "    }\n",
       "\n",
       "    .dataframe tbody tr th {\n",
       "        vertical-align: top;\n",
       "    }\n",
       "\n",
       "    .dataframe thead th {\n",
       "        text-align: right;\n",
       "    }\n",
       "</style>\n",
       "<table border=\"1\" class=\"dataframe\">\n",
       "  <thead>\n",
       "    <tr style=\"text-align: right;\">\n",
       "      <th></th>\n",
       "      <th>total_bill</th>\n",
       "      <th>tip</th>\n",
       "      <th>sex</th>\n",
       "      <th>smoker</th>\n",
       "      <th>day</th>\n",
       "      <th>time</th>\n",
       "      <th>size_</th>\n",
       "    </tr>\n",
       "  </thead>\n",
       "  <tbody>\n",
       "    <tr>\n",
       "      <th>0</th>\n",
       "      <td>16.99</td>\n",
       "      <td>1.01</td>\n",
       "      <td>Female</td>\n",
       "      <td>No</td>\n",
       "      <td>Sun</td>\n",
       "      <td>Dinner</td>\n",
       "      <td>2</td>\n",
       "    </tr>\n",
       "    <tr>\n",
       "      <th>1</th>\n",
       "      <td>10.34</td>\n",
       "      <td>1.66</td>\n",
       "      <td>Male</td>\n",
       "      <td>No</td>\n",
       "      <td>Sun</td>\n",
       "      <td>Dinner</td>\n",
       "      <td>3</td>\n",
       "    </tr>\n",
       "    <tr>\n",
       "      <th>2</th>\n",
       "      <td>21.01</td>\n",
       "      <td>3.50</td>\n",
       "      <td>Male</td>\n",
       "      <td>No</td>\n",
       "      <td>Sun</td>\n",
       "      <td>Dinner</td>\n",
       "      <td>3</td>\n",
       "    </tr>\n",
       "    <tr>\n",
       "      <th>3</th>\n",
       "      <td>23.68</td>\n",
       "      <td>3.31</td>\n",
       "      <td>Male</td>\n",
       "      <td>No</td>\n",
       "      <td>Sun</td>\n",
       "      <td>Dinner</td>\n",
       "      <td>2</td>\n",
       "    </tr>\n",
       "    <tr>\n",
       "      <th>4</th>\n",
       "      <td>24.59</td>\n",
       "      <td>3.61</td>\n",
       "      <td>Female</td>\n",
       "      <td>No</td>\n",
       "      <td>Sun</td>\n",
       "      <td>Dinner</td>\n",
       "      <td>4</td>\n",
       "    </tr>\n",
       "    <tr>\n",
       "      <th>...</th>\n",
       "      <td>...</td>\n",
       "      <td>...</td>\n",
       "      <td>...</td>\n",
       "      <td>...</td>\n",
       "      <td>...</td>\n",
       "      <td>...</td>\n",
       "      <td>...</td>\n",
       "    </tr>\n",
       "    <tr>\n",
       "      <th>239</th>\n",
       "      <td>29.03</td>\n",
       "      <td>5.92</td>\n",
       "      <td>Male</td>\n",
       "      <td>No</td>\n",
       "      <td>Sat</td>\n",
       "      <td>Dinner</td>\n",
       "      <td>3</td>\n",
       "    </tr>\n",
       "    <tr>\n",
       "      <th>240</th>\n",
       "      <td>27.18</td>\n",
       "      <td>2.00</td>\n",
       "      <td>Female</td>\n",
       "      <td>Yes</td>\n",
       "      <td>Sat</td>\n",
       "      <td>Dinner</td>\n",
       "      <td>2</td>\n",
       "    </tr>\n",
       "    <tr>\n",
       "      <th>241</th>\n",
       "      <td>22.67</td>\n",
       "      <td>2.00</td>\n",
       "      <td>Male</td>\n",
       "      <td>Yes</td>\n",
       "      <td>Sat</td>\n",
       "      <td>Dinner</td>\n",
       "      <td>2</td>\n",
       "    </tr>\n",
       "    <tr>\n",
       "      <th>242</th>\n",
       "      <td>17.82</td>\n",
       "      <td>1.75</td>\n",
       "      <td>Male</td>\n",
       "      <td>No</td>\n",
       "      <td>Sat</td>\n",
       "      <td>Dinner</td>\n",
       "      <td>2</td>\n",
       "    </tr>\n",
       "    <tr>\n",
       "      <th>243</th>\n",
       "      <td>18.78</td>\n",
       "      <td>3.00</td>\n",
       "      <td>Female</td>\n",
       "      <td>No</td>\n",
       "      <td>Thur</td>\n",
       "      <td>Dinner</td>\n",
       "      <td>2</td>\n",
       "    </tr>\n",
       "  </tbody>\n",
       "</table>\n",
       "<p>244 rows × 7 columns</p>\n",
       "</div>"
      ],
      "text/plain": [
       "     total_bill   tip     sex smoker   day    time  size_\n",
       "0         16.99  1.01  Female     No   Sun  Dinner      2\n",
       "1         10.34  1.66    Male     No   Sun  Dinner      3\n",
       "2         21.01  3.50    Male     No   Sun  Dinner      3\n",
       "3         23.68  3.31    Male     No   Sun  Dinner      2\n",
       "4         24.59  3.61  Female     No   Sun  Dinner      4\n",
       "..          ...   ...     ...    ...   ...     ...    ...\n",
       "239       29.03  5.92    Male     No   Sat  Dinner      3\n",
       "240       27.18  2.00  Female    Yes   Sat  Dinner      2\n",
       "241       22.67  2.00    Male    Yes   Sat  Dinner      2\n",
       "242       17.82  1.75    Male     No   Sat  Dinner      2\n",
       "243       18.78  3.00  Female     No  Thur  Dinner      2\n",
       "\n",
       "[244 rows x 7 columns]"
      ]
     },
     "execution_count": 65,
     "metadata": {},
     "output_type": "execute_result"
    }
   ],
   "source": [
    "tips.rename({'size':'size_'}, axis=1) #axis = 1: header(column열), axis=0: (index 행) 변화"
   ]
  },
  {
   "cell_type": "code",
   "execution_count": 67,
   "id": "07d064cb-dd0e-4e53-94b0-84245e4985eb",
   "metadata": {},
   "outputs": [],
   "source": [
    "tips.rename(columns={\"size\":\"size_\"}, inplace='True') #재할당 하는 것처럼 변화된 상태로 저장시킴"
   ]
  },
  {
   "cell_type": "code",
   "execution_count": 68,
   "id": "7cb1204a-c039-43ae-b848-d2daf93966fb",
   "metadata": {},
   "outputs": [
    {
     "data": {
      "text/html": [
       "<div>\n",
       "<style scoped>\n",
       "    .dataframe tbody tr th:only-of-type {\n",
       "        vertical-align: middle;\n",
       "    }\n",
       "\n",
       "    .dataframe tbody tr th {\n",
       "        vertical-align: top;\n",
       "    }\n",
       "\n",
       "    .dataframe thead th {\n",
       "        text-align: right;\n",
       "    }\n",
       "</style>\n",
       "<table border=\"1\" class=\"dataframe\">\n",
       "  <thead>\n",
       "    <tr style=\"text-align: right;\">\n",
       "      <th></th>\n",
       "      <th>total_bill</th>\n",
       "      <th>tip</th>\n",
       "      <th>sex</th>\n",
       "      <th>smoker</th>\n",
       "      <th>day</th>\n",
       "      <th>time</th>\n",
       "      <th>size_</th>\n",
       "    </tr>\n",
       "  </thead>\n",
       "  <tbody>\n",
       "    <tr>\n",
       "      <th>0</th>\n",
       "      <td>16.99</td>\n",
       "      <td>1.01</td>\n",
       "      <td>Female</td>\n",
       "      <td>No</td>\n",
       "      <td>Sun</td>\n",
       "      <td>Dinner</td>\n",
       "      <td>2</td>\n",
       "    </tr>\n",
       "    <tr>\n",
       "      <th>1</th>\n",
       "      <td>10.34</td>\n",
       "      <td>1.66</td>\n",
       "      <td>Male</td>\n",
       "      <td>No</td>\n",
       "      <td>Sun</td>\n",
       "      <td>Dinner</td>\n",
       "      <td>3</td>\n",
       "    </tr>\n",
       "    <tr>\n",
       "      <th>2</th>\n",
       "      <td>21.01</td>\n",
       "      <td>3.50</td>\n",
       "      <td>Male</td>\n",
       "      <td>No</td>\n",
       "      <td>Sun</td>\n",
       "      <td>Dinner</td>\n",
       "      <td>3</td>\n",
       "    </tr>\n",
       "    <tr>\n",
       "      <th>3</th>\n",
       "      <td>23.68</td>\n",
       "      <td>3.31</td>\n",
       "      <td>Male</td>\n",
       "      <td>No</td>\n",
       "      <td>Sun</td>\n",
       "      <td>Dinner</td>\n",
       "      <td>2</td>\n",
       "    </tr>\n",
       "    <tr>\n",
       "      <th>4</th>\n",
       "      <td>24.59</td>\n",
       "      <td>3.61</td>\n",
       "      <td>Female</td>\n",
       "      <td>No</td>\n",
       "      <td>Sun</td>\n",
       "      <td>Dinner</td>\n",
       "      <td>4</td>\n",
       "    </tr>\n",
       "    <tr>\n",
       "      <th>...</th>\n",
       "      <td>...</td>\n",
       "      <td>...</td>\n",
       "      <td>...</td>\n",
       "      <td>...</td>\n",
       "      <td>...</td>\n",
       "      <td>...</td>\n",
       "      <td>...</td>\n",
       "    </tr>\n",
       "    <tr>\n",
       "      <th>239</th>\n",
       "      <td>29.03</td>\n",
       "      <td>5.92</td>\n",
       "      <td>Male</td>\n",
       "      <td>No</td>\n",
       "      <td>Sat</td>\n",
       "      <td>Dinner</td>\n",
       "      <td>3</td>\n",
       "    </tr>\n",
       "    <tr>\n",
       "      <th>240</th>\n",
       "      <td>27.18</td>\n",
       "      <td>2.00</td>\n",
       "      <td>Female</td>\n",
       "      <td>Yes</td>\n",
       "      <td>Sat</td>\n",
       "      <td>Dinner</td>\n",
       "      <td>2</td>\n",
       "    </tr>\n",
       "    <tr>\n",
       "      <th>241</th>\n",
       "      <td>22.67</td>\n",
       "      <td>2.00</td>\n",
       "      <td>Male</td>\n",
       "      <td>Yes</td>\n",
       "      <td>Sat</td>\n",
       "      <td>Dinner</td>\n",
       "      <td>2</td>\n",
       "    </tr>\n",
       "    <tr>\n",
       "      <th>242</th>\n",
       "      <td>17.82</td>\n",
       "      <td>1.75</td>\n",
       "      <td>Male</td>\n",
       "      <td>No</td>\n",
       "      <td>Sat</td>\n",
       "      <td>Dinner</td>\n",
       "      <td>2</td>\n",
       "    </tr>\n",
       "    <tr>\n",
       "      <th>243</th>\n",
       "      <td>18.78</td>\n",
       "      <td>3.00</td>\n",
       "      <td>Female</td>\n",
       "      <td>No</td>\n",
       "      <td>Thur</td>\n",
       "      <td>Dinner</td>\n",
       "      <td>2</td>\n",
       "    </tr>\n",
       "  </tbody>\n",
       "</table>\n",
       "<p>244 rows × 7 columns</p>\n",
       "</div>"
      ],
      "text/plain": [
       "     total_bill   tip     sex smoker   day    time  size_\n",
       "0         16.99  1.01  Female     No   Sun  Dinner      2\n",
       "1         10.34  1.66    Male     No   Sun  Dinner      3\n",
       "2         21.01  3.50    Male     No   Sun  Dinner      3\n",
       "3         23.68  3.31    Male     No   Sun  Dinner      2\n",
       "4         24.59  3.61  Female     No   Sun  Dinner      4\n",
       "..          ...   ...     ...    ...   ...     ...    ...\n",
       "239       29.03  5.92    Male     No   Sat  Dinner      3\n",
       "240       27.18  2.00  Female    Yes   Sat  Dinner      2\n",
       "241       22.67  2.00    Male    Yes   Sat  Dinner      2\n",
       "242       17.82  1.75    Male     No   Sat  Dinner      2\n",
       "243       18.78  3.00  Female     No  Thur  Dinner      2\n",
       "\n",
       "[244 rows x 7 columns]"
      ]
     },
     "execution_count": 68,
     "metadata": {},
     "output_type": "execute_result"
    }
   ],
   "source": [
    "tips"
   ]
  },
  {
   "cell_type": "code",
   "execution_count": 69,
   "id": "20089cf8-a804-4b3d-885b-a023795559b2",
   "metadata": {},
   "outputs": [
    {
     "data": {
      "text/plain": [
       "<Axes: >"
      ]
     },
     "execution_count": 69,
     "metadata": {},
     "output_type": "execute_result"
    },
    {
     "data": {
      "image/png": "[encoded data removed]",
      "text/plain": [
       "<Figure size 640x480 with 1 Axes>"
      ]
     },
     "metadata": {},
     "output_type": "display_data"
    }
   ],
   "source": [
    "tips.boxplot()"
   ]
  },
  {
   "cell_type": "code",
   "execution_count": null,
   "id": "a16cf06d-3d99-414a-ba79-7228698a2517",
   "metadata": {},
   "outputs": [],
   "source": []
  }
 ],
 "metadata": {
  "kernelspec": {
   "display_name": "Python 3 (ipykernel)",
   "language": "python",
   "name": "python3"
  },
  "language_info": {
   "codemirror_mode": {
    "name": "ipython",
    "version": 3
   },
   "file_extension": ".py",
   "mimetype": "text/x-python",
   "name": "python",
   "nbconvert_exporter": "python",
   "pygments_lexer": "ipython3",
   "version": "3.10.4"
  }
 },
 "nbformat": 4,
 "nbformat_minor": 5
}
