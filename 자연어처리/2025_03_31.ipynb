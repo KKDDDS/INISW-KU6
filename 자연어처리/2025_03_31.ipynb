{
 "cells": [
  {
   "cell_type": "code",
   "execution_count": 7,
   "id": "bc81c916-42e9-43a1-9b5d-65f10349f552",
   "metadata": {},
   "outputs": [
    {
     "data": {
      "text/plain": [
       "(['아', '버', '지', '가', '방', '에', '들', '어', '가', '신', '다'],\n",
       " ['아버', '버지', '지가', '가방', '방에', '에들', '들어', '어가', '가신', '신다'])"
      ]
     },
     "execution_count": 7,
     "metadata": {},
     "output_type": "execute_result"
    }
   ],
   "source": [
    "def ngram(text, n=2):\n",
    "    result = []\n",
    "    for i in range(len(text)-(n-1)):\n",
    "        result.append(text[i:i+n])\n",
    "    return result\n",
    "ngram('아버지가방에들어가신다',1), ngram('아버지가방에들어가신다',2)"
   ]
  },
  {
   "cell_type": "code",
   "execution_count": 8,
   "id": "3174d33f-aaba-404a-a529-0a7fddea8a18",
   "metadata": {},
   "outputs": [],
   "source": [
    "q = '대한민국헌법'\n"
   ]
  },
  {
   "cell_type": "code",
   "execution_count": null,
   "id": "d76552e1-6445-4011-9878-26e9f7020ec7",
   "metadata": {},
   "outputs": [],
   "source": []
  }
 ],
 "metadata": {
  "kernelspec": {
   "display_name": "Python 3 (ipykernel)",
   "language": "python",
   "name": "python3"
  },
  "language_info": {
   "codemirror_mode": {
    "name": "ipython",
    "version": 3
   },
   "file_extension": ".py",
   "mimetype": "text/x-python",
   "name": "python",
   "nbconvert_exporter": "python",
   "pygments_lexer": "ipython3",
   "version": "3.10.4"
  }
 },
 "nbformat": 4,
 "nbformat_minor": 5
}
