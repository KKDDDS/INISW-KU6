{
 "cells": [
  {
   "cell_type": "code",
   "execution_count": null,
   "id": "fc4c440a-7510-4e4b-bfa0-d2d3fde04cb3",
   "metadata": {},
   "outputs": [],
   "source": [
    "Tokenizing - 컴퓨터가 이해할 수 있는 단위\n",
    "- sent_tokenize(구두점)\n",
    "- word_tokenize(구두점), regexp_tokenize, TweetTokenize\n",
    "- Stemming(어간분리): stem+y,s,ed,...\n",
    "- Lemmatization(어근추출): 접사+어근+접사\n",
    "- Morpheme Analyze(형태소분석) + POS Tagger(품사부착)\n",
    "- Entropy, Perplexity\n",
    "- BPE(빈도) => WPM(확률-PMI) => SPM\n",
    "\n",
    "Normalization - 일반화 + 불용어\n",
    "\n",
    "오탈자 - Edit distance(편집거리), 초중종=1음절\n",
    "\n",
    "=> 데이터분석 + 모델링"
   ]
  },
  {
   "cell_type": "code",
   "execution_count": 1,
   "id": "08056dcc-d63e-4e2c-9c6e-3415ffa6e812",
   "metadata": {},
   "outputs": [],
   "source": [
    "from nltk.stem import PorterStemmer"
   ]
  },
  {
   "cell_type": "code",
   "execution_count": 2,
   "id": "6e25a3a0-067c-4512-83ae-908585551834",
   "metadata": {},
   "outputs": [],
   "source": [
    "stemmer = PorterStemmer()"
   ]
  },
  {
   "cell_type": "code",
   "execution_count": 3,
   "id": "daa8d41a-e27b-4c9c-a33f-9c6625e7bf66",
   "metadata": {},
   "outputs": [
    {
     "data": {
      "text/plain": [
       "'study studi'"
      ]
     },
     "execution_count": 3,
     "metadata": {},
     "output_type": "execute_result"
    }
   ],
   "source": [
    "stemmer.stem('study studied')"
   ]
  },
  {
   "cell_type": "code",
   "execution_count": null,
   "id": "d627e653-8676-40d8-a886-fca4123d360a",
   "metadata": {},
   "outputs": [],
   "source": [
    "# BPE; 자주 나오는 표현에 짧은 코드를 부여하자 => 자주 나오는 표현(쌍)을 하나의 토큰처럼 사용하자\n",
    "1. 데이터셋 => 단어:빈도, 단어 => split 대상(대한민국 => '대 한 민 국')\n",
    "2. 쌍 중에 최고빈도 쌍 찾기 => 하나의 토큰으로 병합할 대상\n",
    "3. 데이터셋 적용\n",
    "4. 2번으로 다시(적절한 토큰수가 될때까지)\n",
    "   100만 => 10만개"
   ]
  },
  {
   "cell_type": "code",
   "execution_count": 4,
   "id": "4ad65fab-da86-44c9-bbfa-d08015604d9d",
   "metadata": {},
   "outputs": [],
   "source": [
    "data = '''\n",
    "low low low low low\n",
    "lowest lowest\n",
    "newer newer newer newer newer newer\n",
    "wider wider wider\n",
    "'''"
   ]
  },
  {
   "cell_type": "code",
   "execution_count": 5,
   "id": "a244eec2-67c9-4c5e-abbd-9a690cb811c3",
   "metadata": {},
   "outputs": [],
   "source": [
    "def preprocessing(c):\n",
    "    result = {}\n",
    "    \n",
    "    for t in c.split():\n",
    "        t = ' '.join(t)+' </w>'\n",
    "        if t not in result:\n",
    "            result[t] = 0\n",
    "        result[t] += 1\n",
    "\n",
    "    return result"
   ]
  },
  {
   "cell_type": "code",
   "execution_count": 6,
   "id": "fa54550c-b733-45ed-9a0e-51c0a7659ff8",
   "metadata": {},
   "outputs": [],
   "source": [
    "def findpair(tokens, n=2):\n",
    "    result = {}\n",
    "    for k,v in tokens.items():\n",
    "        k = k.split()\n",
    "        for i in range(len(k)-(n-1)):\n",
    "            p = ' '.join(k[i:i+n])\n",
    "            if p not in result:\n",
    "                result[p] = 0\n",
    "            result[p] += v\n",
    "    return result"
   ]
  },
  {
   "cell_type": "code",
   "execution_count": 7,
   "id": "dfd6e509-2da3-4e2d-a0d3-0ec763c7a888",
   "metadata": {},
   "outputs": [],
   "source": [
    "def findbest(pairs):\n",
    "    return max(pairs, key=pairs.get)"
   ]
  },
  {
   "cell_type": "code",
   "execution_count": 8,
   "id": "ae1a5f96-ed73-4180-99c1-6a8b80d27882",
   "metadata": {},
   "outputs": [],
   "source": [
    "import re\n",
    "\n",
    "def mergepair(tokens, best):\n",
    "    result = {}\n",
    "    for k,v in tokens.items():\n",
    "        nk = re.sub(re.escape(best), ''.join(best.split()), k)\n",
    "        #            . => 아무문자, 문자 취급위해 re.escape\n",
    "        result[nk] = v\n",
    "    return result"
   ]
  },
  {
   "cell_type": "code",
   "execution_count": 9,
   "id": "38d82e4a-8218-447a-8522-c210baf2704a",
   "metadata": {},
   "outputs": [],
   "source": [
    "def tokencount(tokens):\n",
    "    tlist = []\n",
    "    for t in tokens.keys():\n",
    "        tlist.extend(re.sub(r'</w>', '', t).split())\n",
    "    return list(set(tlist))"
   ]
  },
  {
   "cell_type": "code",
   "execution_count": 10,
   "id": "345a3420-9a39-4728-a257-e88d16e59ff0",
   "metadata": {},
   "outputs": [
    {
     "data": {
      "text/plain": [
       "{'low</w>': 5, 'low e s t </w>': 2, 'newer</w>': 6, 'wid er</w>': 3}"
      ]
     },
     "execution_count": 10,
     "metadata": {},
     "output_type": "execute_result"
    }
   ],
   "source": [
    "tokens = preprocessing(data)\n",
    "\n",
    "for i in range(100):\n",
    "    pairs = findpair(tokens)\n",
    "    best = findbest(pairs)\n",
    "    tokens = mergepair(tokens, best)\n",
    "    \n",
    "    if len(tokencount(tokens)) < 8:\n",
    "        break\n",
    "tokens"
   ]
  },
  {
   "cell_type": "code",
   "execution_count": 11,
   "id": "c3ecba25-1314-4338-bf13-12086a0600a5",
   "metadata": {},
   "outputs": [],
   "source": [
    "from konlpy.corpus import kolaw\n",
    "corpus = kolaw.open(kolaw.fileids()[0]).read()"
   ]
  },
  {
   "cell_type": "code",
   "execution_count": 12,
   "id": "55a6ceb9-a5b2-42ab-861b-e1eab0c5b9fb",
   "metadata": {},
   "outputs": [
    {
     "data": {
      "text/plain": [
       "378"
      ]
     },
     "execution_count": 12,
     "metadata": {},
     "output_type": "execute_result"
    }
   ],
   "source": [
    "tokens = preprocessing(corpus)\n",
    "len(tokencount(tokens))"
   ]
  },
  {
   "cell_type": "code",
   "execution_count": 13,
   "id": "5e0f9f82-e23e-4b26-883a-ab8691c56701",
   "metadata": {},
   "outputs": [],
   "source": [
    "tokens = preprocessing(corpus)\n",
    "bestpairs = list()\n",
    "\n",
    "for i in range(100):\n",
    "    pairs = findpair(tokens)\n",
    "    best = findbest(pairs)\n",
    "    tokens = mergepair(tokens, best)\n",
    "\n",
    "    bestpairs.append(best)\n",
    "    \n",
    "    if len(tokencount(tokens)) < 370:\n",
    "        break"
   ]
  },
  {
   "cell_type": "code",
   "execution_count": 14,
   "id": "905d3671-0f5b-46f4-8f13-bc1c2a18c8a8",
   "metadata": {},
   "outputs": [
    {
     "data": {
      "text/plain": [
       "444"
      ]
     },
     "execution_count": 14,
     "metadata": {},
     "output_type": "execute_result"
    }
   ],
   "source": [
    "len(tokencount(tokens)) #[t for t in filter(lambda t:len(t)>1, tokencount(tokens))]"
   ]
  },
  {
   "cell_type": "code",
   "execution_count": 15,
   "id": "8e0dbf64-3c52-4bf2-a267-8aeab6fe7f7b",
   "metadata": {},
   "outputs": [],
   "source": [
    "from string import punctuation"
   ]
  },
  {
   "cell_type": "code",
   "execution_count": null,
   "id": "bd6e8bff-98b0-495a-80b7-67398d263834",
   "metadata": {},
   "outputs": [],
   "source": [
    "from nltk.tokenize import word_tokenize\n",
    "\n",
    "s = \"i'd like to learn more somthing. i like to learn more somthing. Finland's capital\"\n",
    "\n",
    "list(set(s.split())), len(list(set(s.split()))), \\\n",
    "list(set(re.sub('[{}]'.format(re.escape(punctuation)), '', s).split())), len(list(set(re.sub('[{}]'.format(re.escape(punctuation)), '', s).split()))), \\\n",
    "list(set(re.sub('[{}]'.format(re.escape(punctuation)), ' ', s).split())), len(list(set(re.sub('[{}]'.format(re.escape(punctuation)), ' ', s).split()))), \\\n",
    "list(set(word_tokenize(s))), len(list(set(word_tokenize(s))))"
   ]
  },
  {
   "cell_type": "code",
   "execution_count": 16,
   "id": "cc5b5f75-75c9-45d0-9892-8f9f35267b38",
   "metadata": {},
   "outputs": [],
   "source": [
    "from nltk.corpus import stopwords\n",
    "stop = stopwords.open('english').read()"
   ]
  },
  {
   "cell_type": "code",
   "execution_count": 17,
   "id": "a9786763-eaf6-4ed2-81b0-bfcd2e91c2ab",
   "metadata": {},
   "outputs": [
    {
     "data": {
      "text/plain": [
       "('To be or not to be', '')"
      ]
     },
     "execution_count": 17,
     "metadata": {},
     "output_type": "execute_result"
    }
   ],
   "source": [
    "s = 'I like you!'\n",
    "s = 'To be or not to be' # 불용어 => 조심해야 하는 이유\n",
    "r = []\n",
    "for t in re.sub('[{}]'.format(re.escape(punctuation)), ' ', s.lower()).split():\n",
    "         # lower, remove punctuation => normalizing, split => tokenizing\n",
    "    if t not in stop:\n",
    "        r.append(t)\n",
    "s, ' '.join(r)"
   ]
  },
  {
   "cell_type": "code",
   "execution_count": null,
   "id": "3ad32bde-c631-48c2-be51-69c9fef68e32",
   "metadata": {},
   "outputs": [],
   "source": [
    "Zipf 고빈도 어휘 => i, you, to, ..."
   ]
  },
  {
   "cell_type": "code",
   "execution_count": 18,
   "id": "893d6eaa-3b9b-4a40-ae7f-8c17543d61c4",
   "metadata": {},
   "outputs": [
    {
     "data": {
      "text/plain": [
       "'어머님 자장면 싫다 하셨어'"
      ]
     },
     "execution_count": 18,
     "metadata": {},
     "output_type": "execute_result"
    }
   ],
   "source": [
    "# 형태소 분서기 => 코드 O, 패키지 O, konlpy O\n",
    "korStop = '은, 는, 이, 가, 께, 을, 를, 고, 께서, 게, 에게'\n",
    "cleanWords = list()\n",
    "for term in '어머님 은 자장면 이 싫다 고 하셨어'.split():\n",
    "    if term not in korStop:\n",
    "        cleanWords.append(term)\n",
    "' '.join(cleanWords)"
   ]
  },
  {
   "cell_type": "code",
   "execution_count": 19,
   "id": "bf75f8b5-b9ef-465e-8439-1cffdeb0aa02",
   "metadata": {},
   "outputs": [
    {
     "data": {
      "text/plain": [
       "['어머님', '싫다', '하셨어', '자장면', '고', '은', '이']"
      ]
     },
     "execution_count": 19,
     "metadata": {},
     "output_type": "execute_result"
    }
   ],
   "source": [
    "list(set('어머님 은 자장면 이 싫다 고 하셨어'.split())) # => 7"
   ]
  },
  {
   "cell_type": "code",
   "execution_count": 20,
   "id": "5381163c-968c-454a-ba5e-e48a8c483719",
   "metadata": {},
   "outputs": [
    {
     "data": {
      "text/plain": [
       "['하셨어', '자장면', '어머님', '싫다']"
      ]
     },
     "execution_count": 20,
     "metadata": {},
     "output_type": "execute_result"
    }
   ],
   "source": [
    "list(set('어머님 자장면 싫다 하셨어'.split())) # => 4"
   ]
  },
  {
   "cell_type": "code",
   "execution_count": 21,
   "id": "4d2279a8-c687-4971-a099-20e405ce258a",
   "metadata": {},
   "outputs": [],
   "source": [
    "import jpype"
   ]
  },
  {
   "cell_type": "code",
   "execution_count": 22,
   "id": "0cf6cfe0-c795-42f4-a693-10a6dea962a5",
   "metadata": {},
   "outputs": [],
   "source": [
    "from konlpy.tag import Komoran"
   ]
  },
  {
   "cell_type": "code",
   "execution_count": 24,
   "id": "d6524f7d-6cf0-4b68-aac8-aef6335cf94f",
   "metadata": {},
   "outputs": [
    {
     "ename": "JVMNotFoundException",
     "evalue": "No JVM shared library file (jvm.dll) found. Try setting up the JAVA_HOME environment variable properly.",
     "output_type": "error",
     "traceback": [
      "\u001b[1;31m---------------------------------------------------------------------------\u001b[0m",
      "\u001b[1;31mJVMNotFoundException\u001b[0m                      Traceback (most recent call last)",
      "Cell \u001b[1;32mIn[24], line 1\u001b[0m\n\u001b[1;32m----> 1\u001b[0m ma \u001b[38;5;241m=\u001b[39m \u001b[43mKomoran\u001b[49m\u001b[43m(\u001b[49m\u001b[43m)\u001b[49m\n",
      "File \u001b[1;32m~\\Documents\\INISW_NLP\\venv\\lib\\site-packages\\konlpy\\tag\\_komoran.py:56\u001b[0m, in \u001b[0;36mKomoran.__init__\u001b[1;34m(self, jvmpath, userdic, modelpath, max_heap_size)\u001b[0m\n\u001b[0;32m     54\u001b[0m \u001b[38;5;28;01mdef\u001b[39;00m\u001b[38;5;250m \u001b[39m\u001b[38;5;21m__init__\u001b[39m(\u001b[38;5;28mself\u001b[39m, jvmpath\u001b[38;5;241m=\u001b[39m\u001b[38;5;28;01mNone\u001b[39;00m, userdic\u001b[38;5;241m=\u001b[39m\u001b[38;5;28;01mNone\u001b[39;00m, modelpath\u001b[38;5;241m=\u001b[39m\u001b[38;5;28;01mNone\u001b[39;00m, max_heap_size\u001b[38;5;241m=\u001b[39m\u001b[38;5;241m1024\u001b[39m):\n\u001b[0;32m     55\u001b[0m     \u001b[38;5;28;01mif\u001b[39;00m \u001b[38;5;129;01mnot\u001b[39;00m jpype\u001b[38;5;241m.\u001b[39misJVMStarted():\n\u001b[1;32m---> 56\u001b[0m         \u001b[43mjvm\u001b[49m\u001b[38;5;241;43m.\u001b[39;49m\u001b[43minit_jvm\u001b[49m\u001b[43m(\u001b[49m\u001b[43mjvmpath\u001b[49m\u001b[43m,\u001b[49m\u001b[43m \u001b[49m\u001b[43mmax_heap_size\u001b[49m\u001b[43m)\u001b[49m\n\u001b[0;32m     58\u001b[0m     \u001b[38;5;28;01mif\u001b[39;00m modelpath:\n\u001b[0;32m     59\u001b[0m         \u001b[38;5;28mself\u001b[39m\u001b[38;5;241m.\u001b[39mmodelpath \u001b[38;5;241m=\u001b[39m modelpath\n",
      "File \u001b[1;32m~\\Documents\\INISW_NLP\\venv\\lib\\site-packages\\konlpy\\jvm.py:55\u001b[0m, in \u001b[0;36minit_jvm\u001b[1;34m(jvmpath, max_heap_size)\u001b[0m\n\u001b[0;32m     52\u001b[0m args \u001b[38;5;241m=\u001b[39m [javadir, os\u001b[38;5;241m.\u001b[39msep]\n\u001b[0;32m     53\u001b[0m classpath \u001b[38;5;241m=\u001b[39m [f\u001b[38;5;241m.\u001b[39mformat(\u001b[38;5;241m*\u001b[39margs) \u001b[38;5;28;01mfor\u001b[39;00m f \u001b[38;5;129;01min\u001b[39;00m folder_suffix]\n\u001b[1;32m---> 55\u001b[0m jvmpath \u001b[38;5;241m=\u001b[39m jvmpath \u001b[38;5;129;01mor\u001b[39;00m \u001b[43mjpype\u001b[49m\u001b[38;5;241;43m.\u001b[39;49m\u001b[43mgetDefaultJVMPath\u001b[49m\u001b[43m(\u001b[49m\u001b[43m)\u001b[49m\n\u001b[0;32m     57\u001b[0m \u001b[38;5;66;03m# NOTE: Temporary patch for Issue #76. Erase when possible.\u001b[39;00m\n\u001b[0;32m     58\u001b[0m \u001b[38;5;28;01mif\u001b[39;00m sys\u001b[38;5;241m.\u001b[39mplatform \u001b[38;5;241m==\u001b[39m \u001b[38;5;124m'\u001b[39m\u001b[38;5;124mdarwin\u001b[39m\u001b[38;5;124m'\u001b[39m\\\n\u001b[0;32m     59\u001b[0m         \u001b[38;5;129;01mand\u001b[39;00m jvmpath\u001b[38;5;241m.\u001b[39mfind(\u001b[38;5;124m'\u001b[39m\u001b[38;5;124m1.8.0\u001b[39m\u001b[38;5;124m'\u001b[39m) \u001b[38;5;241m>\u001b[39m \u001b[38;5;241m0\u001b[39m\\\n\u001b[0;32m     60\u001b[0m         \u001b[38;5;129;01mand\u001b[39;00m jvmpath\u001b[38;5;241m.\u001b[39mendswith(\u001b[38;5;124m'\u001b[39m\u001b[38;5;124mlibjvm.dylib\u001b[39m\u001b[38;5;124m'\u001b[39m):\n",
      "File \u001b[1;32m~\\Documents\\INISW_NLP\\venv\\lib\\site-packages\\jpype\\_jvmfinder.py:70\u001b[0m, in \u001b[0;36mgetDefaultJVMPath\u001b[1;34m()\u001b[0m\n\u001b[0;32m     68\u001b[0m \u001b[38;5;28;01melse\u001b[39;00m:\n\u001b[0;32m     69\u001b[0m     finder \u001b[38;5;241m=\u001b[39m LinuxJVMFinder()\n\u001b[1;32m---> 70\u001b[0m \u001b[38;5;28;01mreturn\u001b[39;00m \u001b[43mfinder\u001b[49m\u001b[38;5;241;43m.\u001b[39;49m\u001b[43mget_jvm_path\u001b[49m\u001b[43m(\u001b[49m\u001b[43m)\u001b[49m\n",
      "File \u001b[1;32m~\\Documents\\INISW_NLP\\venv\\lib\\site-packages\\jpype\\_jvmfinder.py:204\u001b[0m, in \u001b[0;36mJVMFinder.get_jvm_path\u001b[1;34m(self)\u001b[0m\n\u001b[0;32m    202\u001b[0m \u001b[38;5;28;01mif\u001b[39;00m jvm_notsupport_ext \u001b[38;5;129;01mis\u001b[39;00m \u001b[38;5;129;01mnot\u001b[39;00m \u001b[38;5;28;01mNone\u001b[39;00m:\n\u001b[0;32m    203\u001b[0m     \u001b[38;5;28;01mraise\u001b[39;00m jvm_notsupport_ext\n\u001b[1;32m--> 204\u001b[0m \u001b[38;5;28;01mraise\u001b[39;00m JVMNotFoundException(\u001b[38;5;124m\"\u001b[39m\u001b[38;5;124mNo JVM shared library file (\u001b[39m\u001b[38;5;132;01m{0}\u001b[39;00m\u001b[38;5;124m) \u001b[39m\u001b[38;5;124m\"\u001b[39m\n\u001b[0;32m    205\u001b[0m                            \u001b[38;5;124m\"\u001b[39m\u001b[38;5;124mfound. Try setting up the JAVA_HOME \u001b[39m\u001b[38;5;124m\"\u001b[39m\n\u001b[0;32m    206\u001b[0m                            \u001b[38;5;124m\"\u001b[39m\u001b[38;5;124menvironment variable properly.\u001b[39m\u001b[38;5;124m\"\u001b[39m\n\u001b[0;32m    207\u001b[0m                            \u001b[38;5;241m.\u001b[39mformat(\u001b[38;5;28mself\u001b[39m\u001b[38;5;241m.\u001b[39m_libfile))\n",
      "\u001b[1;31mJVMNotFoundException\u001b[0m: No JVM shared library file (jvm.dll) found. Try setting up the JAVA_HOME environment variable properly."
     ]
    }
   ],
   "source": [
    "ma = Komoran()"
   ]
  },
  {
   "cell_type": "code",
   "execution_count": 26,
   "id": "6b56d774-b10d-40c1-90f1-138656dc5640",
   "metadata": {},
   "outputs": [
    {
     "ename": "NameError",
     "evalue": "name 'ma' is not defined",
     "output_type": "error",
     "traceback": [
      "\u001b[1;31m---------------------------------------------------------------------------\u001b[0m",
      "\u001b[1;31mNameError\u001b[0m                                 Traceback (most recent call last)",
      "Cell \u001b[1;32mIn[26], line 4\u001b[0m\n\u001b[0;32m      2\u001b[0m s \u001b[38;5;241m=\u001b[39m \u001b[38;5;124m'\u001b[39m\u001b[38;5;124m어머님은 자장면이 싫다고 하셨어\u001b[39m\u001b[38;5;124m'\u001b[39m\n\u001b[0;32m      3\u001b[0m r \u001b[38;5;241m=\u001b[39m []\n\u001b[1;32m----> 4\u001b[0m \u001b[38;5;28;01mfor\u001b[39;00m t \u001b[38;5;129;01min\u001b[39;00m \u001b[43mma\u001b[49m\u001b[38;5;241m.\u001b[39mmorphs(s):\n\u001b[0;32m      5\u001b[0m     \u001b[38;5;28;01mif\u001b[39;00m t \u001b[38;5;129;01mnot\u001b[39;00m \u001b[38;5;129;01min\u001b[39;00m korStop:\n\u001b[0;32m      6\u001b[0m         r\u001b[38;5;241m.\u001b[39mappend(t)\n",
      "\u001b[1;31mNameError\u001b[0m: name 'ma' is not defined"
     ]
    }
   ],
   "source": [
    "korStop = '은, 는, 이, 가, 께, 을, 를, 고, 께서, 게, 에게'\n",
    "s = '어머님은 자장면이 싫다고 하셨어'\n",
    "r = []\n",
    "for t in ma.morphs(s):\n",
    "    if t not in korStop:\n",
    "        r.append(t)\n",
    "r"
   ]
  },
  {
   "cell_type": "code",
   "execution_count": 27,
   "id": "b11816f4-ccc6-4152-9dac-03f772389689",
   "metadata": {},
   "outputs": [
    {
     "ename": "NameError",
     "evalue": "name 'ma' is not defined",
     "output_type": "error",
     "traceback": [
      "\u001b[1;31m---------------------------------------------------------------------------\u001b[0m",
      "\u001b[1;31mNameError\u001b[0m                                 Traceback (most recent call last)",
      "Cell \u001b[1;32mIn[27], line 5\u001b[0m\n\u001b[0;32m      3\u001b[0m s \u001b[38;5;241m=\u001b[39m \u001b[38;5;124m'\u001b[39m\u001b[38;5;124m어머님은 자장면이 싫다고 하셨어\u001b[39m\u001b[38;5;124m'\u001b[39m\n\u001b[0;32m      4\u001b[0m r \u001b[38;5;241m=\u001b[39m []\n\u001b[1;32m----> 5\u001b[0m \u001b[38;5;28;01mfor\u001b[39;00m t \u001b[38;5;129;01min\u001b[39;00m \u001b[43mma\u001b[49m\u001b[38;5;241m.\u001b[39mpos(s):\n\u001b[0;32m      6\u001b[0m     \u001b[38;5;66;03m# if not t[1].startswith('J'):\u001b[39;00m\n\u001b[0;32m      7\u001b[0m     \u001b[38;5;28;01mif\u001b[39;00m \u001b[38;5;129;01mnot\u001b[39;00m re\u001b[38;5;241m.\u001b[39mmatch(\u001b[38;5;124m'\u001b[39m\u001b[38;5;124mJ|E\u001b[39m\u001b[38;5;124m'\u001b[39m, t[\u001b[38;5;241m1\u001b[39m]) \u001b[38;5;129;01mand\u001b[39;00m \u001b[38;5;28mlen\u001b[39m(t[\u001b[38;5;241m0\u001b[39m]) \u001b[38;5;241m>\u001b[39m \u001b[38;5;241m1\u001b[39m:\n\u001b[0;32m      8\u001b[0m         r\u001b[38;5;241m.\u001b[39mappend(t[\u001b[38;5;241m0\u001b[39m])\n",
      "\u001b[1;31mNameError\u001b[0m: name 'ma' is not defined"
     ]
    }
   ],
   "source": [
    "import re\n",
    "\n",
    "s = '어머님은 자장면이 싫다고 하셨어'\n",
    "r = []\n",
    "for t in ma.pos(s):\n",
    "    # if not t[1].startswith('J'):\n",
    "    if not re.match('J|E', t[1]) and len(t[0]) > 1:\n",
    "        r.append(t[0])\n",
    "r"
   ]
  },
  {
   "cell_type": "code",
   "execution_count": null,
   "id": "0153cf68-bf5a-453d-8404-42041eb7dd12",
   "metadata": {},
   "outputs": [],
   "source": [
    "Lemmatization => 원형복원 | Morpheme Analyzer\n",
    "POS => 형식, 의존\n",
    "음절수 => 1음절('수' => )\n",
    "Statistical => unigram(모두 독립 => 같은 '수')\n",
    "LangaugeModel => sequence('수' => 문맥에 따라 다른 '수')"
   ]
  },
  {
   "cell_type": "code",
   "execution_count": null,
   "id": "e0aef5e5-ab37-4997-834c-adb96a1024e8",
   "metadata": {},
   "outputs": [],
   "source": [
    "불용어 사전 X"
   ]
  },
  {
   "cell_type": "code",
   "execution_count": null,
   "id": "65f032ff-2be0-49ab-9e26-d89d933a7bcb",
   "metadata": {},
   "outputs": [],
   "source": [
    "whitelist = ['선물 포장']\n",
    "'선물포장', '선.물.포.장'"
   ]
  },
  {
   "cell_type": "code",
   "execution_count": 28,
   "id": "f036413b-136d-4526-b1da-6fd08b14d80e",
   "metadata": {},
   "outputs": [
    {
     "data": {
      "text/plain": [
       "'이런 ** ** ** ** ㅅ1발 시이이이이발'"
      ]
     },
     "execution_count": 28,
     "metadata": {},
     "output_type": "execute_result"
    }
   ],
   "source": [
    "from string import punctuation\n",
    "# 사전베이스 + 정규식\n",
    "dic = ['씨발', '시발'] # 끊임없이 관리 => 누가:인턴\n",
    "s = '이런 씨발 시발 시.발. 시~발! ㅅ1발 시이이이이발'\n",
    "r = []\n",
    "for t in re.sub('[{}]'.format(re.escape(punctuation)), '', s).split():\n",
    "    if t in dic:\n",
    "        r.append('*'*len(t))\n",
    "    else:\n",
    "        r.append(t)\n",
    "' '.join(r)"
   ]
  },
  {
   "cell_type": "code",
   "execution_count": 29,
   "id": "14351da2-f0c3-4b52-bb5e-67011f521472",
   "metadata": {},
   "outputs": [],
   "source": [
    "def preprocessing(c):\n",
    "    result = {}\n",
    "    \n",
    "    for t in c.split():\n",
    "        t = '<w> '+' '.join(t)+' </w>'\n",
    "        if t not in result:\n",
    "            result[t] = 0\n",
    "        result[t] += 1\n",
    "\n",
    "    return result"
   ]
  },
  {
   "cell_type": "code",
   "execution_count": 30,
   "id": "a1a275a4-a0f8-4dd4-ad09-8bacb3c55052",
   "metadata": {},
   "outputs": [],
   "source": [
    "data = '''\n",
    "씨발 씨발 씨발 씨발 씨발\n",
    "시발 시발 시발 시발 시발 시.발. 시~발! ㅅ1발 시이이이이발\n",
    "'''"
   ]
  },
  {
   "cell_type": "code",
   "execution_count": 31,
   "id": "5a594fa9-deb0-4bb5-aaf4-65d8949df2d3",
   "metadata": {},
   "outputs": [
    {
     "data": {
      "text/plain": [
       "{'<w> 씨 발 </w>': 5,\n",
       " '<w> 시 발 </w>': 7,\n",
       " '<w> ㅅ 1 발 </w>': 1,\n",
       " '<w> 시 이 이 이 이 발 </w>': 1}"
      ]
     },
     "execution_count": 31,
     "metadata": {},
     "output_type": "execute_result"
    }
   ],
   "source": [
    "tokens = preprocessing(re.sub('[{}]'.format(re.escape(punctuation)), '', data))\n",
    "tokens"
   ]
  },
  {
   "cell_type": "code",
   "execution_count": 32,
   "id": "95a138f3-bf29-49d9-bed7-21407327fd98",
   "metadata": {},
   "outputs": [
    {
     "data": {
      "text/plain": [
       "{'<w>씨 발</w>': 5, '<w>시발</w>': 7, '<w> ㅅ 1 발</w>': 1, '<w>시 이 이 이 이 발</w>': 1}"
      ]
     },
     "execution_count": 32,
     "metadata": {},
     "output_type": "execute_result"
    }
   ],
   "source": [
    "tokens = preprocessing(re.sub('[{}]'.format(re.escape(punctuation)), '', data))\n",
    "bestList = []\n",
    "for i in range(4):\n",
    "    pairs = findpair(tokens)\n",
    "    best = findbest(pairs)\n",
    "    tokens = mergepair(tokens, best)\n",
    "    bestList.append(best)\n",
    "    # if len(tokencount(tokens)) < 8:\n",
    "    #     break\n",
    "tokens"
   ]
  },
  {
   "cell_type": "code",
   "execution_count": 33,
   "id": "a964f6a4-6870-4b49-b64c-1cd6b64faff6",
   "metadata": {},
   "outputs": [
    {
     "data": {
      "text/plain": [
       "['발 </w>', '<w> 시', '<w>시 발</w>', '<w> 씨']"
      ]
     },
     "execution_count": 33,
     "metadata": {},
     "output_type": "execute_result"
    }
   ],
   "source": [
    "bestList"
   ]
  },
  {
   "cell_type": "code",
   "execution_count": 34,
   "id": "0afcc543-acb2-401b-8b0e-e6ac384d51ad",
   "metadata": {},
   "outputs": [],
   "source": [
    "s = [re.sub(r'^<w> ', '', b) for b in filter(lambda b:re.search(r'^<w>[^>]+$', b), bestList)]\n",
    "# s = [b for b in map(lambda b:''.join([t for t in b.split() if t != '<w>']), \n",
    "#      filter(lambda b:re.search(r'^<w>[^>]+$', b), bestList))]\n",
    "e = [re.sub(r' </w>$', '', b) for b in filter(lambda b:re.search(r'^[^<]+</w>$', b), bestList)]\n",
    "dic = [re.sub(r'</?w>|[ ]', '', b) for b in filter(lambda b:re.search(r'^<w>.+?</w>$', b), bestList)]"
   ]
  },
  {
   "cell_type": "code",
   "execution_count": 35,
   "id": "9098fe84-5d53-4d0c-9dbb-d44a1dd1ce02",
   "metadata": {},
   "outputs": [
    {
     "data": {
      "text/plain": [
       "[re.compile(r'^시.*?발$', re.UNICODE),\n",
       " re.compile(r'^씨.*?발$', re.UNICODE),\n",
       " re.compile(r'.*?시발.*?', re.UNICODE)]"
      ]
     },
     "execution_count": 35,
     "metadata": {},
     "output_type": "execute_result"
    }
   ],
   "source": [
    "p = list()\n",
    "for sop in s:\n",
    "    for eop in e:\n",
    "        p.append(re.compile(r'^{}.*?{}$'.format(sop, eop)))\n",
    "for r in dic:\n",
    "    p.append(re.compile(r'.*?{}.*?'.format(r)))\n",
    "p"
   ]
  },
  {
   "cell_type": "code",
   "execution_count": 36,
   "id": "630c6f7f-d27d-4bee-b1a6-44eb41afbf9c",
   "metadata": {},
   "outputs": [
    {
     "data": {
      "text/plain": [
       "'** ** ** ** ** ** ** ** ** ** ** ** ******'"
      ]
     },
     "execution_count": 36,
     "metadata": {},
     "output_type": "execute_result"
    }
   ],
   "source": [
    "d = re.sub(r'[{}]'.format(re.escape(punctuation)), '', data).split()\n",
    "r = []\n",
    "for t in d:\n",
    "    for pattern in p:\n",
    "        if pattern.search(t):\n",
    "            r.append(pattern.sub('*'*len(t), t))\n",
    "            break\n",
    "' '.join(r)"
   ]
  },
  {
   "cell_type": "code",
   "execution_count": null,
   "id": "e95e631c-62a2-4777-8faf-e93c114e869d",
   "metadata": {},
   "outputs": [],
   "source": []
  },
  {
   "cell_type": "code",
   "execution_count": null,
   "id": "d6aa8923-452a-4232-bc14-0adf78cc9ce1",
   "metadata": {},
   "outputs": [],
   "source": []
  },
  {
   "cell_type": "code",
   "execution_count": null,
   "id": "0fb1e4e6-46be-4cf9-80e1-ef7931d7bb46",
   "metadata": {},
   "outputs": [],
   "source": []
  },
  {
   "cell_type": "code",
   "execution_count": null,
   "id": "257f5198-64f5-4832-8a8d-2e174fc913b8",
   "metadata": {},
   "outputs": [],
   "source": []
  },
  {
   "cell_type": "code",
   "execution_count": null,
   "id": "ef6377c8-20ff-4590-9a47-4ae621db62bb",
   "metadata": {},
   "outputs": [],
   "source": []
  },
  {
   "cell_type": "code",
   "execution_count": null,
   "id": "7de4e3fb-f91e-4824-93cf-032496b4cf44",
   "metadata": {},
   "outputs": [],
   "source": []
  },
  {
   "cell_type": "code",
   "execution_count": null,
   "id": "5ad25be0-e573-4a85-b917-80faea05963d",
   "metadata": {},
   "outputs": [],
   "source": []
  },
  {
   "cell_type": "code",
   "execution_count": null,
   "id": "d8583ff4-79fa-4845-a36c-25116f5fd249",
   "metadata": {},
   "outputs": [],
   "source": []
  },
  {
   "cell_type": "code",
   "execution_count": null,
   "id": "ac08786d-a8a1-4475-9674-5bfb02c569fc",
   "metadata": {},
   "outputs": [],
   "source": []
  },
  {
   "cell_type": "code",
   "execution_count": null,
   "id": "c9075439-7be6-46fe-b1cb-51c94285fb46",
   "metadata": {},
   "outputs": [],
   "source": []
  },
  {
   "cell_type": "code",
   "execution_count": null,
   "id": "6716ec6f-14ff-4391-9eeb-8109ddbf28c6",
   "metadata": {},
   "outputs": [],
   "source": []
  },
  {
   "cell_type": "code",
   "execution_count": null,
   "id": "95a8778a-c827-4c4b-bac8-cf3ae24fda31",
   "metadata": {},
   "outputs": [],
   "source": []
  },
  {
   "cell_type": "code",
   "execution_count": null,
   "id": "4e3e7fe8-2c7e-4557-a533-9d08e2d3b076",
   "metadata": {},
   "outputs": [],
   "source": []
  },
  {
   "cell_type": "code",
   "execution_count": null,
   "id": "fb23fb83-cd99-4465-94c3-7026ad47160b",
   "metadata": {},
   "outputs": [],
   "source": []
  }
 ],
 "metadata": {
  "kernelspec": {
   "display_name": "Python 3 (ipykernel)",
   "language": "python",
   "name": "python3"
  },
  "language_info": {
   "codemirror_mode": {
    "name": "ipython",
    "version": 3
   },
   "file_extension": ".py",
   "mimetype": "text/x-python",
   "name": "python",
   "nbconvert_exporter": "python",
   "pygments_lexer": "ipython3",
   "version": "3.10.4"
  },
  "widgets": {
   "application/vnd.jupyter.widget-state+json": {
    "state": {},
    "version_major": 2,
    "version_minor": 0
   }
  }
 },
 "nbformat": 4,
 "nbformat_minor": 5
}
